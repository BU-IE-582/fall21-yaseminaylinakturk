{
 "cells": [
  {
   "cell_type": "markdown",
   "id": "35923dac",
   "metadata": {},
   "source": [
    "# IE582 HW4-Yasemin Aylin Akturk"
   ]
  },
  {
   "cell_type": "markdown",
   "id": "ac19ebd1",
   "metadata": {},
   "source": [
    "For the codes and R-files please check: https://github.com/BU-IE-582/fall21-yaseminaylinakturk/tree/gh-pages/HW4"
   ]
  },
  {
   "cell_type": "code",
   "execution_count": null,
   "id": "4275531e",
   "metadata": {},
   "outputs": [],
   "source": [
    "library(\"randomForest\")\n",
    "library(\"dplyr\")\n",
    "library(\"mice\") \n",
    "library('skimr')\n",
    "library('ggplot2')\n",
    "library(\"data.table\")\n",
    "library(\"factoextra\")\n",
    "library(\"cluster\")\n",
    "library(\"caret\")\n",
    "library(\"rpart\")\n",
    "library(\"rattle\")\n",
    "library(\"glmnet\")\n",
    "library(\"ranger\")"
   ]
  },
  {
   "cell_type": "markdown",
   "id": "ed5bf83f",
   "metadata": {},
   "source": [
    "## Data"
   ]
  },
  {
   "cell_type": "code",
   "execution_count": 2,
   "id": "9399a3c4",
   "metadata": {},
   "outputs": [
    {
     "data": {
      "text/html": [
       "<table>\n",
       "<thead><tr><th scope=col>V1</th><th scope=col>V2</th><th scope=col>V3</th><th scope=col>V4</th><th scope=col>V5</th><th scope=col>V6</th><th scope=col>V7</th><th scope=col>V8</th><th scope=col>V9</th><th scope=col>V10</th><th scope=col>...</th><th scope=col>V159</th><th scope=col>V160</th><th scope=col>V161</th><th scope=col>V162</th><th scope=col>V163</th><th scope=col>V164</th><th scope=col>V165</th><th scope=col>V166</th><th scope=col>V167</th><th scope=col>V168</th></tr></thead>\n",
       "<tbody>\n",
       "\t<tr><td>1   </td><td>1   </td><td>42  </td><td>-198</td><td>-109</td><td>-75 </td><td>-117</td><td>11  </td><td>23  </td><td> -88</td><td>... </td><td>-238</td><td> -74</td><td>-129</td><td>-120</td><td>-38 </td><td> 30 </td><td>48  </td><td>-37 </td><td> 6  </td><td>30  </td></tr>\n",
       "\t<tr><td>1   </td><td>1   </td><td>42  </td><td>-191</td><td>-142</td><td>-65 </td><td>-117</td><td>55  </td><td>49  </td><td>-170</td><td>... </td><td>-238</td><td>-302</td><td>  60</td><td>-120</td><td>-39 </td><td> 31 </td><td>48  </td><td>-37 </td><td> 5  </td><td>30  </td></tr>\n",
       "\t<tr><td>1   </td><td>1   </td><td>42  </td><td>-191</td><td>-142</td><td>-75 </td><td>-117</td><td>11  </td><td>49  </td><td>-161</td><td>... </td><td>-238</td><td> -73</td><td>-127</td><td>-120</td><td>-38 </td><td> 30 </td><td>48  </td><td>-37 </td><td> 5  </td><td>31  </td></tr>\n",
       "\t<tr><td>1   </td><td>1   </td><td>42  </td><td>-198</td><td>-110</td><td>-65 </td><td>-117</td><td>55  </td><td>23  </td><td> -95</td><td>... </td><td>-238</td><td>-302</td><td>  60</td><td>-120</td><td>-39 </td><td> 30 </td><td>48  </td><td>-37 </td><td> 6  </td><td>30  </td></tr>\n",
       "\t<tr><td>1   </td><td>2   </td><td>42  </td><td>-198</td><td>-102</td><td>-75 </td><td>-117</td><td>10  </td><td>24  </td><td> -87</td><td>... </td><td>-238</td><td> -73</td><td>-127</td><td>  51</td><td>128 </td><td>144 </td><td>43  </td><td>-30 </td><td>14  </td><td>26  </td></tr>\n",
       "\t<tr><td>1   </td><td>2   </td><td>42  </td><td>-191</td><td>-142</td><td>-65 </td><td>-117</td><td>55  </td><td>49  </td><td>-170</td><td>... </td><td>-238</td><td>-300</td><td>  61</td><td>  51</td><td>127 </td><td>143 </td><td>42  </td><td>-31 </td><td>14  </td><td>26  </td></tr>\n",
       "</tbody>\n",
       "</table>\n"
      ],
      "text/latex": [
       "\\begin{tabular}{r|llllllllllllllllllllllllllllllllllllllllllllllllllllllllllllllllllllllllllllllllllllllllllllllllllllllllllllllllllllllllllllllllllllllllllllllllllllllllllllllllllllllll}\n",
       " V1 & V2 & V3 & V4 & V5 & V6 & V7 & V8 & V9 & V10 & ... & V159 & V160 & V161 & V162 & V163 & V164 & V165 & V166 & V167 & V168\\\\\n",
       "\\hline\n",
       "\t 1    & 1    & 42   & -198 & -109 & -75  & -117 & 11   & 23   &  -88 & ...  & -238 &  -74 & -129 & -120 & -38  &  30  & 48   & -37  &  6   & 30  \\\\\n",
       "\t 1    & 1    & 42   & -191 & -142 & -65  & -117 & 55   & 49   & -170 & ...  & -238 & -302 &   60 & -120 & -39  &  31  & 48   & -37  &  5   & 30  \\\\\n",
       "\t 1    & 1    & 42   & -191 & -142 & -75  & -117 & 11   & 49   & -161 & ...  & -238 &  -73 & -127 & -120 & -38  &  30  & 48   & -37  &  5   & 31  \\\\\n",
       "\t 1    & 1    & 42   & -198 & -110 & -65  & -117 & 55   & 23   &  -95 & ...  & -238 & -302 &   60 & -120 & -39  &  30  & 48   & -37  &  6   & 30  \\\\\n",
       "\t 1    & 2    & 42   & -198 & -102 & -75  & -117 & 10   & 24   &  -87 & ...  & -238 &  -73 & -127 &   51 & 128  & 144  & 43   & -30  & 14   & 26  \\\\\n",
       "\t 1    & 2    & 42   & -191 & -142 & -65  & -117 & 55   & 49   & -170 & ...  & -238 & -300 &   61 &   51 & 127  & 143  & 42   & -31  & 14   & 26  \\\\\n",
       "\\end{tabular}\n"
      ],
      "text/markdown": [
       "\n",
       "| V1 | V2 | V3 | V4 | V5 | V6 | V7 | V8 | V9 | V10 | ... | V159 | V160 | V161 | V162 | V163 | V164 | V165 | V166 | V167 | V168 |\n",
       "|---|---|---|---|---|---|---|---|---|---|---|---|---|---|---|---|---|---|---|---|---|\n",
       "| 1    | 1    | 42   | -198 | -109 | -75  | -117 | 11   | 23   |  -88 | ...  | -238 |  -74 | -129 | -120 | -38  |  30  | 48   | -37  |  6   | 30   |\n",
       "| 1    | 1    | 42   | -191 | -142 | -65  | -117 | 55   | 49   | -170 | ...  | -238 | -302 |   60 | -120 | -39  |  31  | 48   | -37  |  5   | 30   |\n",
       "| 1    | 1    | 42   | -191 | -142 | -75  | -117 | 11   | 49   | -161 | ...  | -238 |  -73 | -127 | -120 | -38  |  30  | 48   | -37  |  5   | 31   |\n",
       "| 1    | 1    | 42   | -198 | -110 | -65  | -117 | 55   | 23   |  -95 | ...  | -238 | -302 |   60 | -120 | -39  |  30  | 48   | -37  |  6   | 30   |\n",
       "| 1    | 2    | 42   | -198 | -102 | -75  | -117 | 10   | 24   |  -87 | ...  | -238 |  -73 | -127 |   51 | 128  | 144  | 43   | -30  | 14   | 26   |\n",
       "| 1    | 2    | 42   | -191 | -142 | -65  | -117 | 55   | 49   | -170 | ...  | -238 | -300 |   61 |   51 | 127  | 143  | 42   | -31  | 14   | 26   |\n",
       "\n"
      ],
      "text/plain": [
       "  V1 V2 V3 V4   V5   V6  V7   V8 V9 V10  ... V159 V160 V161 V162 V163 V164 V165\n",
       "1 1  1  42 -198 -109 -75 -117 11 23  -88 ... -238  -74 -129 -120 -38   30  48  \n",
       "2 1  1  42 -191 -142 -65 -117 55 49 -170 ... -238 -302   60 -120 -39   31  48  \n",
       "3 1  1  42 -191 -142 -75 -117 11 49 -161 ... -238  -73 -127 -120 -38   30  48  \n",
       "4 1  1  42 -198 -110 -65 -117 55 23  -95 ... -238 -302   60 -120 -39   30  48  \n",
       "5 1  2  42 -198 -102 -75 -117 10 24  -87 ... -238  -73 -127   51 128  144  43  \n",
       "6 1  2  42 -191 -142 -65 -117 55 49 -170 ... -238 -300   61   51 127  143  42  \n",
       "  V166 V167 V168\n",
       "1 -37   6   30  \n",
       "2 -37   5   30  \n",
       "3 -37   5   31  \n",
       "4 -37   6   30  \n",
       "5 -30  14   26  \n",
       "6 -31  14   26  "
      ]
     },
     "metadata": {},
     "output_type": "display_data"
    }
   ],
   "source": [
    "klasor =  \"C:/Users/y.akturk/Documents/\"\n",
    "setwd(klasor)\n",
    "\n",
    "mymusk <- read.csv(\"Musk1.csv\", header = F)\n",
    "\n",
    "head(mymusk)\n",
    "colnames(mymusk)[1:2] <- c(\"Bag_Class\",\"Bag_Id\")"
   ]
  },
  {
   "cell_type": "code",
   "execution_count": 3,
   "id": "2138b2b3",
   "metadata": {
    "scrolled": true
   },
   "outputs": [
    {
     "data": {
      "text/html": [
       "<table>\n",
       "<thead><tr><th scope=col>Bag_Class</th><th scope=col>Bag_Id</th><th scope=col>V3</th><th scope=col>V4</th><th scope=col>V5</th><th scope=col>V6</th><th scope=col>V7</th><th scope=col>V8</th><th scope=col>V9</th><th scope=col>V10</th><th scope=col>...</th><th scope=col>V159</th><th scope=col>V160</th><th scope=col>V161</th><th scope=col>V162</th><th scope=col>V163</th><th scope=col>V164</th><th scope=col>V165</th><th scope=col>V166</th><th scope=col>V167</th><th scope=col>V168</th></tr></thead>\n",
       "<tbody>\n",
       "\t<tr><td>1   </td><td>1   </td><td>42  </td><td>-198</td><td>-109</td><td>-75 </td><td>-117</td><td>11  </td><td>23  </td><td> -88</td><td>... </td><td>-238</td><td> -74</td><td>-129</td><td>-120</td><td>-38 </td><td> 30 </td><td>48  </td><td>-37 </td><td> 6  </td><td>30  </td></tr>\n",
       "\t<tr><td>1   </td><td>1   </td><td>42  </td><td>-191</td><td>-142</td><td>-65 </td><td>-117</td><td>55  </td><td>49  </td><td>-170</td><td>... </td><td>-238</td><td>-302</td><td>  60</td><td>-120</td><td>-39 </td><td> 31 </td><td>48  </td><td>-37 </td><td> 5  </td><td>30  </td></tr>\n",
       "\t<tr><td>1   </td><td>1   </td><td>42  </td><td>-191</td><td>-142</td><td>-75 </td><td>-117</td><td>11  </td><td>49  </td><td>-161</td><td>... </td><td>-238</td><td> -73</td><td>-127</td><td>-120</td><td>-38 </td><td> 30 </td><td>48  </td><td>-37 </td><td> 5  </td><td>31  </td></tr>\n",
       "\t<tr><td>1   </td><td>1   </td><td>42  </td><td>-198</td><td>-110</td><td>-65 </td><td>-117</td><td>55  </td><td>23  </td><td> -95</td><td>... </td><td>-238</td><td>-302</td><td>  60</td><td>-120</td><td>-39 </td><td> 30 </td><td>48  </td><td>-37 </td><td> 6  </td><td>30  </td></tr>\n",
       "\t<tr><td>1   </td><td>2   </td><td>42  </td><td>-198</td><td>-102</td><td>-75 </td><td>-117</td><td>10  </td><td>24  </td><td> -87</td><td>... </td><td>-238</td><td> -73</td><td>-127</td><td>  51</td><td>128 </td><td>144 </td><td>43  </td><td>-30 </td><td>14  </td><td>26  </td></tr>\n",
       "\t<tr><td>1   </td><td>2   </td><td>42  </td><td>-191</td><td>-142</td><td>-65 </td><td>-117</td><td>55  </td><td>49  </td><td>-170</td><td>... </td><td>-238</td><td>-300</td><td>  61</td><td>  51</td><td>127 </td><td>143 </td><td>42  </td><td>-31 </td><td>14  </td><td>26  </td></tr>\n",
       "</tbody>\n",
       "</table>\n"
      ],
      "text/latex": [
       "\\begin{tabular}{r|llllllllllllllllllllllllllllllllllllllllllllllllllllllllllllllllllllllllllllllllllllllllllllllllllllllllllllllllllllllllllllllllllllllllllllllllllllllllllllllllllllllll}\n",
       " Bag\\_Class & Bag\\_Id & V3 & V4 & V5 & V6 & V7 & V8 & V9 & V10 & ... & V159 & V160 & V161 & V162 & V163 & V164 & V165 & V166 & V167 & V168\\\\\n",
       "\\hline\n",
       "\t 1    & 1    & 42   & -198 & -109 & -75  & -117 & 11   & 23   &  -88 & ...  & -238 &  -74 & -129 & -120 & -38  &  30  & 48   & -37  &  6   & 30  \\\\\n",
       "\t 1    & 1    & 42   & -191 & -142 & -65  & -117 & 55   & 49   & -170 & ...  & -238 & -302 &   60 & -120 & -39  &  31  & 48   & -37  &  5   & 30  \\\\\n",
       "\t 1    & 1    & 42   & -191 & -142 & -75  & -117 & 11   & 49   & -161 & ...  & -238 &  -73 & -127 & -120 & -38  &  30  & 48   & -37  &  5   & 31  \\\\\n",
       "\t 1    & 1    & 42   & -198 & -110 & -65  & -117 & 55   & 23   &  -95 & ...  & -238 & -302 &   60 & -120 & -39  &  30  & 48   & -37  &  6   & 30  \\\\\n",
       "\t 1    & 2    & 42   & -198 & -102 & -75  & -117 & 10   & 24   &  -87 & ...  & -238 &  -73 & -127 &   51 & 128  & 144  & 43   & -30  & 14   & 26  \\\\\n",
       "\t 1    & 2    & 42   & -191 & -142 & -65  & -117 & 55   & 49   & -170 & ...  & -238 & -300 &   61 &   51 & 127  & 143  & 42   & -31  & 14   & 26  \\\\\n",
       "\\end{tabular}\n"
      ],
      "text/markdown": [
       "\n",
       "| Bag_Class | Bag_Id | V3 | V4 | V5 | V6 | V7 | V8 | V9 | V10 | ... | V159 | V160 | V161 | V162 | V163 | V164 | V165 | V166 | V167 | V168 |\n",
       "|---|---|---|---|---|---|---|---|---|---|---|---|---|---|---|---|---|---|---|---|---|\n",
       "| 1    | 1    | 42   | -198 | -109 | -75  | -117 | 11   | 23   |  -88 | ...  | -238 |  -74 | -129 | -120 | -38  |  30  | 48   | -37  |  6   | 30   |\n",
       "| 1    | 1    | 42   | -191 | -142 | -65  | -117 | 55   | 49   | -170 | ...  | -238 | -302 |   60 | -120 | -39  |  31  | 48   | -37  |  5   | 30   |\n",
       "| 1    | 1    | 42   | -191 | -142 | -75  | -117 | 11   | 49   | -161 | ...  | -238 |  -73 | -127 | -120 | -38  |  30  | 48   | -37  |  5   | 31   |\n",
       "| 1    | 1    | 42   | -198 | -110 | -65  | -117 | 55   | 23   |  -95 | ...  | -238 | -302 |   60 | -120 | -39  |  30  | 48   | -37  |  6   | 30   |\n",
       "| 1    | 2    | 42   | -198 | -102 | -75  | -117 | 10   | 24   |  -87 | ...  | -238 |  -73 | -127 |   51 | 128  | 144  | 43   | -30  | 14   | 26   |\n",
       "| 1    | 2    | 42   | -191 | -142 | -65  | -117 | 55   | 49   | -170 | ...  | -238 | -300 |   61 |   51 | 127  | 143  | 42   | -31  | 14   | 26   |\n",
       "\n"
      ],
      "text/plain": [
       "  Bag_Class Bag_Id V3 V4   V5   V6  V7   V8 V9 V10  ... V159 V160 V161 V162\n",
       "1 1         1      42 -198 -109 -75 -117 11 23  -88 ... -238  -74 -129 -120\n",
       "2 1         1      42 -191 -142 -65 -117 55 49 -170 ... -238 -302   60 -120\n",
       "3 1         1      42 -191 -142 -75 -117 11 49 -161 ... -238  -73 -127 -120\n",
       "4 1         1      42 -198 -110 -65 -117 55 23  -95 ... -238 -302   60 -120\n",
       "5 1         2      42 -198 -102 -75 -117 10 24  -87 ... -238  -73 -127   51\n",
       "6 1         2      42 -191 -142 -65 -117 55 49 -170 ... -238 -300   61   51\n",
       "  V163 V164 V165 V166 V167 V168\n",
       "1 -38   30  48   -37   6   30  \n",
       "2 -39   31  48   -37   5   30  \n",
       "3 -38   30  48   -37   5   31  \n",
       "4 -39   30  48   -37   6   30  \n",
       "5 128  144  43   -30  14   26  \n",
       "6 127  143  42   -31  14   26  "
      ]
     },
     "metadata": {},
     "output_type": "display_data"
    }
   ],
   "source": [
    "colnames(mymusk)[1:2] <- c(\"Bag_Class\",\"Bag_Id\")\n",
    "head(mymusk)"
   ]
  },
  {
   "cell_type": "code",
   "execution_count": 4,
   "id": "c7fd67e9",
   "metadata": {
    "scrolled": true
   },
   "outputs": [
    {
     "name": "stdout",
     "output_type": "stream",
     "text": [
      "'data.frame':\t476 obs. of  168 variables:\n",
      " $ Bag_Class: int  1 1 1 1 1 1 1 1 1 1 ...\n",
      " $ Bag_Id   : int  1 1 1 1 2 2 2 2 3 3 ...\n",
      " $ V3       : int  42 42 42 42 42 42 42 42 40 44 ...\n",
      " $ V4       : int  -198 -191 -191 -198 -198 -191 -190 -199 -173 -159 ...\n",
      " $ V5       : int  -109 -142 -142 -110 -102 -142 -142 -102 -142 -63 ...\n",
      " $ V6       : int  -75 -65 -75 -65 -75 -65 -75 -65 13 -74 ...\n",
      " $ V7       : int  -117 -117 -117 -117 -117 -117 -117 -117 -116 -117 ...\n",
      " $ V8       : int  11 55 11 55 10 55 12 55 -7 17 ...\n",
      " $ V9       : int  23 49 49 23 24 49 49 23 50 5 ...\n",
      " $ V10      : int  -88 -170 -161 -95 -87 -170 -161 -94 -171 -114 ...\n",
      " $ V11      : int  -28 -45 -45 -28 -28 -45 -45 -29 -44 -31 ...\n",
      " $ V12      : int  -27 5 -28 5 -28 6 -29 6 -103 -33 ...\n",
      " $ V13      : int  -232 -325 -278 -301 -233 -324 -277 -299 -321 -287 ...\n",
      " $ V14      : int  -212 -115 -115 -212 -212 -114 -114 -212 -117 -243 ...\n",
      " $ V15      : int  -66 -107 -67 -107 -67 -106 -68 -106 -242 -73 ...\n",
      " $ V16      : int  -286 -281 -274 -280 -286 -280 -274 -280 -286 -314 ...\n",
      " $ V17      : int  -287 -257 -285 -284 -286 -257 -285 -283 -282 -280 ...\n",
      " $ V18      : int  -300 -303 -303 -301 -299 -302 -302 -300 -302 -296 ...\n",
      " $ V19      : int  -57 54 53 -56 -57 54 54 -56 56 28 ...\n",
      " $ V20      : int  -75 -154 -154 -74 -74 -153 -153 -74 -156 -188 ...\n",
      " $ V21      : int  -192 -101 -100 -192 -191 -100 -100 -191 -103 -178 ...\n",
      " $ V22      : int  -184 -47 -183 -46 -182 -47 -182 -47 -171 -178 ...\n",
      " $ V23      : int  -66 -31 -31 -66 -66 -30 -31 -66 -30 -128 ...\n",
      " $ V24      : int  -18 -28 -28 -19 -18 -28 -28 -18 -26 -28 ...\n",
      " $ V25      : int  -50 1 1 -50 -50 1 0 -50 2 -22 ...\n",
      " $ V26      : int  111 191 110 191 109 190 108 190 38 98 ...\n",
      " $ V27      : int  110 72 110 73 111 73 110 73 44 109 ...\n",
      " $ V28      : int  18 -38 -38 18 18 -38 -38 18 -39 14 ...\n",
      " $ V29      : int  -18 50 51 -19 -18 49 50 -19 52 31 ...\n",
      " $ V30      : int  -127 -64 -64 -128 -128 -64 -65 -128 -70 -147 ...\n",
      " $ V31      : int  25 -63 25 -63 25 -64 26 -64 23 30 ...\n",
      " $ V32      : int  63 98 63 98 63 97 64 98 88 67 ...\n",
      " $ V33      : int  -117 -117 -117 -117 -117 -117 -117 -117 -117 -117 ...\n",
      " $ V34      : int  -114 -113 -113 -113 55 56 61 56 96 -100 ...\n",
      " $ V35      : int  -47 -46 -47 -46 -28 -28 -31 -27 -26 -10 ...\n",
      " $ V36      : int  9 2 10 3 10 3 11 3 40 19 ...\n",
      " $ V37      : int  -135 -135 -135 -135 -131 -132 -131 -131 -64 -153 ...\n",
      " $ V38      : int  26 25 26 25 66 65 64 66 63 128 ...\n",
      " $ V39      : int  -175 -159 -175 -159 -175 -159 -175 -159 -166 -175 ...\n",
      " $ V40      : int  73 1 2 73 73 1 1 72 3 53 ...\n",
      " $ V41      : int  -143 -143 -143 -143 -128 -137 -138 -128 -144 -47 ...\n",
      " $ V42      : int  71 38 38 70 71 37 38 70 42 49 ...\n",
      " $ V43      : int  -177 -169 -168 -177 -177 -160 -158 -177 -146 -49 ...\n",
      " $ V44      : int  -85 -85 -85 -86 102 103 104 102 110 14 ...\n",
      " $ V45      : int  -30 -31 -31 -31 -31 -30 -31 -30 -196 -36 ...\n",
      " $ V46      : int  -282 -323 -293 -286 -283 -322 -292 -285 -321 -318 ...\n",
      " $ V47      : int  -280 -234 -246 -280 -280 -233 -244 -279 -246 -292 ...\n",
      " $ V48      : int  -249 -334 -326 -330 -249 -333 -325 -330 -331 -279 ...\n",
      " $ V49      : int  -135 -88 -89 -135 -135 -88 -88 -135 -87 -100 ...\n",
      " $ V50      : int  -11 -73 -73 -11 -11 -72 -73 -11 -71 -61 ...\n",
      " $ V51      : int  -139 -109 -108 -138 -137 -109 -108 -136 -112 -140 ...\n",
      " $ V52      : int  -105 -4 -105 -4 -105 -4 -106 -4 -117 -110 ...\n",
      " $ V53      : int  -142 -75 -75 -143 -143 -74 -74 -143 -75 -201 ...\n",
      " $ V54      : int  -32 -31 -31 -32 -32 -31 -31 -32 -30 -34 ...\n",
      " $ V55      : int  -9 -14 -14 -9 -9 -15 -15 -9 -12 12 ...\n",
      " $ V56      : int  -48 -137 -117 -136 -48 -137 -118 -136 -132 -94 ...\n",
      " $ V57      : int  147 105 148 105 148 106 148 106 120 149 ...\n",
      " $ V58      : int  1 -94 -93 1 1 -94 -94 1 -94 -15 ...\n",
      " $ V59      : int  40 90 90 40 41 90 90 40 92 -1 ...\n",
      " $ V60      : int  -170 -132 -132 -170 -170 -133 -133 -170 -133 -145 ...\n",
      " $ V61      : int  35 3 35 2 34 3 36 3 18 40 ...\n",
      " $ V62      : int  33 7 33 6 33 7 33 7 9 34 ...\n",
      " $ V63      : int  -101 -101 -101 -101 -101 -101 -101 -101 -76 -100 ...\n",
      " $ V64      : int  -195 -195 -195 -195 -156 -155 -145 -156 20 -152 ...\n",
      " $ V65      : int  26 26 26 26 24 24 23 24 4 32 ...\n",
      " $ V66      : int  -5 109 -5 109 -5 109 -4 110 67 4 ...\n",
      " $ V67      : int  -144 -130 -144 -130 -144 -130 -144 -130 -7 -145 ...\n",
      " $ V68      : int  48 48 49 48 58 57 57 57 59 68 ...\n",
      " $ V69      : int  -165 -165 -165 -165 -165 -165 -165 -165 -165 -165 ...\n",
      " $ V70      : int  18 -80 -80 18 17 -81 -81 17 -77 16 ...\n",
      " $ V71      : int  -133 -133 -133 -133 -123 -116 -120 -124 -133 44 ...\n",
      " $ V72      : int  15 -50 -50 15 15 -51 -51 14 -46 7 ...\n",
      " $ V73      : int  -146 -153 -153 -146 -140 -154 -154 -140 -151 -59 ...\n",
      " $ V74      : int  -148 -148 -148 -148 -113 -129 -128 -113 -124 -47 ...\n",
      " $ V75      : int  -146 -297 -148 -263 -148 -296 -149 -261 -291 -162 ...\n",
      " $ V76      : int  -246 -194 -194 -246 -246 -193 -193 -245 -198 -288 ...\n",
      " $ V77      : int  -216 -96 -217 -96 -217 -96 -218 -96 -259 -222 ...\n",
      " $ V78      : int  -181 -181 -181 -181 -181 -180 -181 -180 -181 -178 ...\n",
      " $ V79      : int  -37 -5 -5 -37 -37 -5 -5 -37 -5 -2 ...\n",
      " $ V80      : int  -212 -289 -278 -230 -212 -288 -277 -229 -287 -275 ...\n",
      " $ V81      : int  -216 -107 -107 -216 -215 -106 -106 -215 -109 -214 ...\n",
      " $ V82      : int  -174 -179 -163 -162 -173 -180 -162 -162 -177 -178 ...\n",
      " $ V83      : int  -20 -21 -21 -20 -20 -21 -21 -20 -19 -68 ...\n",
      " $ V84      : int  8 4 4 8 8 4 4 8 6 -10 ...\n",
      " $ V85      : int  -120 -34 -34 -120 -120 -33 -33 -120 -33 -112 ...\n",
      " $ V86      : int  -38 115 -37 116 -38 115 -38 115 133 -42 ...\n",
      " $ V87      : int  -7 15 -8 14 -8 15 -8 15 -10 -7 ...\n",
      " $ V88      : int  11 15 15 10 10 15 16 10 15 16 ...\n",
      " $ V89      : int  -156 -74 -74 -156 -156 -74 -74 -156 -68 -33 ...\n",
      " $ V90      : int  -39 -164 -164 -40 -40 -164 -164 -40 -167 -109 ...\n",
      " $ V91      : int  -7 -73 -7 -72 -7 -73 -6 -73 7 -2 ...\n",
      " $ V92      : int  82 131 81 131 81 131 82 131 76 84 ...\n",
      " $ V93      : int  -202 -202 -202 -202 -202 -202 -202 -202 -197 -202 ...\n",
      " $ V94      : int  -15 -15 -15 -15 70 70 73 71 92 25 ...\n",
      " $ V95      : int  -115 -115 -115 -115 -114 -114 -114 -113 17 -106 ...\n",
      " $ V96      : int  -46 -308 -46 -308 -46 -307 -45 -307 -118 -42 ...\n",
      " $ V97      : int  26 26 26 26 28 28 28 28 26 -9 ...\n",
      " $ V98      : int  -49 -50 -49 -50 -34 -37 -44 -37 -42 165 ...\n",
      " $ V99      : int  -166 -33 -166 -34 -167 -32 -166 -32 -25 -164 ...\n",
      "  [list output truncated]\n"
     ]
    },
    {
     "data": {
      "text/html": [
       "476"
      ],
      "text/latex": [
       "476"
      ],
      "text/markdown": [
       "476"
      ],
      "text/plain": [
       "[1] 476"
      ]
     },
     "metadata": {},
     "output_type": "display_data"
    },
    {
     "data": {
      "text/html": [
       "168"
      ],
      "text/latex": [
       "168"
      ],
      "text/markdown": [
       "168"
      ],
      "text/plain": [
       "[1] 168"
      ]
     },
     "metadata": {},
     "output_type": "display_data"
    }
   ],
   "source": [
    "#show structure\n",
    "str(mymusk)\n",
    "\n",
    "nrow(mymusk)\n",
    "ncol(mymusk)"
   ]
  },
  {
   "cell_type": "code",
   "execution_count": 5,
   "id": "d47aebd3",
   "metadata": {
    "scrolled": true
   },
   "outputs": [
    {
     "name": "stdout",
     "output_type": "stream",
     "text": [
      " /\\     /\\\n",
      "{  `---'  }\n",
      "{  O   O  }\n",
      "==>  V <==  No need for mice. This data set is completely observed.\n",
      " \\  \\|/  /\n",
      "  `-----'\n",
      "\n"
     ]
    },
    {
     "data": {
      "text/html": [
       "<table>\n",
       "<thead><tr><th></th><th scope=col>Bag_Class</th><th scope=col>Bag_Id</th><th scope=col>V3</th><th scope=col>V4</th><th scope=col>V5</th><th scope=col>V6</th><th scope=col>V7</th><th scope=col>V8</th><th scope=col>V9</th><th scope=col>V10</th><th scope=col>...</th><th scope=col>V160</th><th scope=col>V161</th><th scope=col>V162</th><th scope=col>V163</th><th scope=col>V164</th><th scope=col>V165</th><th scope=col>V166</th><th scope=col>V167</th><th scope=col>V168</th><th scope=col></th></tr></thead>\n",
       "<tbody>\n",
       "\t<tr><th scope=row>476</th><td>1  </td><td>1  </td><td>1  </td><td>1  </td><td>1  </td><td>1  </td><td>1  </td><td>1  </td><td>1  </td><td>1  </td><td>...</td><td>1  </td><td>1  </td><td>1  </td><td>1  </td><td>1  </td><td>1  </td><td>1  </td><td>1  </td><td>1  </td><td>0  </td></tr>\n",
       "\t<tr><th scope=row></th><td>0  </td><td>0  </td><td>0  </td><td>0  </td><td>0  </td><td>0  </td><td>0  </td><td>0  </td><td>0  </td><td>0  </td><td>...</td><td>0  </td><td>0  </td><td>0  </td><td>0  </td><td>0  </td><td>0  </td><td>0  </td><td>0  </td><td>0  </td><td>0  </td></tr>\n",
       "</tbody>\n",
       "</table>\n"
      ],
      "text/latex": [
       "\\begin{tabular}{r|lllllllllllllllllllllllllllllllllllllllllllllllllllllllllllllllllllllllllllllllllllllllllllllllllllllllllllllllllllllllllllllllllllllllllllllllllllllllllllllllllllllllll}\n",
       "  & Bag\\_Class & Bag\\_Id & V3 & V4 & V5 & V6 & V7 & V8 & V9 & V10 & ... & V160 & V161 & V162 & V163 & V164 & V165 & V166 & V167 & V168 & \\\\\n",
       "\\hline\n",
       "\t476 & 1   & 1   & 1   & 1   & 1   & 1   & 1   & 1   & 1   & 1   & ... & 1   & 1   & 1   & 1   & 1   & 1   & 1   & 1   & 1   & 0  \\\\\n",
       "\t & 0   & 0   & 0   & 0   & 0   & 0   & 0   & 0   & 0   & 0   & ... & 0   & 0   & 0   & 0   & 0   & 0   & 0   & 0   & 0   & 0  \\\\\n",
       "\\end{tabular}\n"
      ],
      "text/markdown": [
       "\n",
       "| <!--/--> | Bag_Class | Bag_Id | V3 | V4 | V5 | V6 | V7 | V8 | V9 | V10 | ... | V160 | V161 | V162 | V163 | V164 | V165 | V166 | V167 | V168 |  |\n",
       "|---|---|---|---|---|---|---|---|---|---|---|---|---|---|---|---|---|---|---|---|---|---|\n",
       "| 476 | 1   | 1   | 1   | 1   | 1   | 1   | 1   | 1   | 1   | 1   | ... | 1   | 1   | 1   | 1   | 1   | 1   | 1   | 1   | 1   | 0   |\n",
       "|  | 0   | 0   | 0   | 0   | 0   | 0   | 0   | 0   | 0   | 0   | ... | 0   | 0   | 0   | 0   | 0   | 0   | 0   | 0   | 0   | 0   |\n",
       "\n"
      ],
      "text/plain": [
       "    Bag_Class Bag_Id V3 V4 V5 V6 V7 V8 V9 V10 ... V160 V161 V162 V163 V164 V165\n",
       "476 1         1      1  1  1  1  1  1  1  1   ... 1    1    1    1    1    1   \n",
       "    0         0      0  0  0  0  0  0  0  0   ... 0    0    0    0    0    0   \n",
       "    V166 V167 V168  \n",
       "476 1    1    1    0\n",
       "    0    0    0    0"
      ]
     },
     "metadata": {},
     "output_type": "display_data"
    },
    {
     "data": {
      "image/png": "[encoded data removed]",
      "text/plain": [
       "plot without title"
      ]
     },
     "metadata": {},
     "output_type": "display_data"
    }
   ],
   "source": [
    "#check NA\n",
    "md.pattern(mymusk)\n",
    "\n",
    "#non of them has N/A values."
   ]
  },
  {
   "cell_type": "code",
   "execution_count": 6,
   "id": "2675f6fc",
   "metadata": {},
   "outputs": [
    {
     "data": {
      "text/html": [
       "0"
      ],
      "text/latex": [
       "0"
      ],
      "text/markdown": [
       "0"
      ],
      "text/plain": [
       "[1] 0"
      ]
     },
     "metadata": {},
     "output_type": "display_data"
    }
   ],
   "source": [
    "#duplicated?\n",
    "sum(duplicated(mymusk))\n",
    "#no dublicated instances"
   ]
  },
  {
   "cell_type": "code",
   "execution_count": 7,
   "id": "dad12518",
   "metadata": {},
   "outputs": [
    {
     "name": "stdout",
     "output_type": "stream",
     "text": [
      "-- Data Summary ------------------------\n",
      "                           Values\n",
      "Name                       mymusk\n",
      "Number of rows             476   \n",
      "Number of columns          168   \n",
      "_______________________          \n",
      "Column type frequency:           \n",
      "  numeric                  168   \n",
      "________________________         \n",
      "Group variables            None  \n",
      "\n",
      "-- Variable type: numeric ------------------------------------------------------\n",
      "# A tibble: 168 x 11\n",
      "    skim_variable n_missing complete_rate     mean      sd    p0     p25    p50\n",
      "  * <chr>             <int>         <dbl>    <dbl>   <dbl> <dbl>   <dbl>  <dbl>\n",
      "  1 Bag_Class             0             1    0.435   0.496     0    0       0  \n",
      "  2 Bag_Id                0             1   52.4    26.9       1   29      56.5\n",
      "  3 V3                    0             1   38.7    18.1      -9   31      42  \n",
      "  4 V4                    0             1 -120.     88.3    -199 -193    -144. \n",
      "  5 V5                    0             1  -79.2    69.2    -166 -144    -108  \n",
      "  6 V6                    0             1   15.9    75.5    -115  -53      28  \n",
      "  7 V7                    0             1 -112.     28.7    -117 -117    -117  \n",
      "  8 V8                    0             1   -9.76   92.0    -184  -89      11  \n",
      "  9 V9                    0             1  -16.6   107.     -170 -159      41  \n",
      " 10 V10                   0             1    7.76   75.8    -231   -9.25   18  \n",
      " 11 V11                   0             1  -91.0    96.3    -242 -215     -41  \n",
      " 12 V12                   0             1  -76.1    72.5    -284 -118.    -73.5\n",
      " 13 V13                   0             1  -94.3    89.7    -327 -112     -57  \n",
      " 14 V14                   0             1  -70.1    83.0    -326 -104     -69.5\n",
      " 15 V15                   0             1  -71.6    66.3    -302  -86     -62  \n",
      " 16 V16                   0             1 -115.     83.2    -348 -125.    -97  \n",
      " 17 V17                   0             1 -107.     76.3    -292 -109     -94  \n",
      " 18 V18                   0             1 -265.     63.9    -318 -296.   -286. \n",
      " 19 V19                   0             1  -41.3   116.     -225 -168.     28  \n",
      " 20 V20                   0             1  -71.5    65.4    -312  -88     -69.5\n",
      " 21 V21                   0             1  -38.7    81.6    -291  -73.2   -31  \n",
      " 22 V22                   0             1  -48.4    69.2    -243  -61     -39  \n",
      " 23 V23                   0             1  -73.2    77.8    -298 -106.    -66.5\n",
      " 24 V24                   0             1  -63.6    87.5    -187 -179     -22  \n",
      " 25 V25                   0             1  -57.5    93.5    -255 -143     -36.5\n",
      " 26 V26                   0             1   33.9   117.      -70  -61     -44  \n",
      " 27 V27                   0             1  -18.3    93.8    -102  -97     -88  \n",
      " 28 V28                   0             1  -73.6    89.4    -243 -173     -38  \n",
      " 29 V29                   0             1  -15.6    92.4    -205 -114.     27  \n",
      " 30 V30                   0             1  -98.6    63.8    -164 -150.   -118. \n",
      " 31 V31                   0             1    2.61   58.1    -140  -31.2     7  \n",
      " 32 V32                   0             1  -40.5   118.     -154 -142    -127  \n",
      " 33 V33                   0             1 -100.     46.7    -118 -117    -117  \n",
      " 34 V34                   0             1  -12.8    93.9    -149 -101     -38  \n",
      " 35 V35                   0             1   -8.98   62.5    -124  -39     -20  \n",
      " 36 V36                   0             1 -128.    111.     -278 -224    -182  \n",
      " 37 V37                   0             1  -47.6    79.6    -156 -129.    -35  \n",
      " 38 V38                   0             1   79.0    40.9      16   47      73  \n",
      " 39 V39                   0             1 -109.    114.     -175 -174    -168  \n",
      " 40 V40                   0             1  -31.9    81.5    -192 -110.     -1.5\n",
      " 41 V41                   0             1  -76.0    72.0    -145 -142    -110. \n",
      " 42 V42                   0             1   -6.88   80.9    -181  -72.2    20  \n",
      " 43 V43                   0             1  -95.8    84.9    -190 -174    -124. \n",
      " 44 V44                   0             1    8.72   77.3    -151  -43      17  \n",
      " 45 V45                   0             1  -68.0    64.3    -291  -80.5   -58  \n",
      " 46 V46                   0             1 -102.     88.9    -343  -99.2   -75  \n",
      " 47 V47                   0             1 -109.     79.5    -315 -125     -99  \n",
      " 48 V48                   0             1 -148.     88.9    -338 -183    -122. \n",
      " 49 V49                   0             1  -89.5    67.1    -157 -147    -103  \n",
      " 50 V50                   0             1  -93.9    71.2    -294 -123.    -75  \n",
      " 51 V51                   0             1  -18.6    74.3    -269  -44     -13  \n",
      " 52 V52                   0             1  -75.8    66.4    -273 -106     -86  \n",
      " 53 V53                   0             1  -81.8    77.6    -329 -111     -87  \n",
      " 54 V54                   0             1  -73.5    90.9    -205 -196     -30  \n",
      " 55 V55                   0             1  -59.5    94.2    -206 -178     -20  \n",
      " 56 V56                   0             1   29.3    82.8    -143   -8.5    51  \n",
      " 57 V57                   0             1   34.1    87.8    -113  -50      20  \n",
      " 58 V58                   0             1  -67.6    62.5    -282  -82.2   -58  \n",
      " 59 V59                   0             1    5.85  111.     -168 -125      56.5\n",
      " 60 V60                   0             1 -108.     79.5    -178 -155.   -139  \n",
      " 61 V61                   0             1    9.06   66.5    -173  -20       5  \n",
      " 62 V62                   0             1  -82.6    91.8    -254 -162    -112. \n",
      " 63 V63                   0             1   -8.09   99.3    -102  -98     -22.5\n",
      " 64 V64                   0             1  -82.6   111.     -195 -192    -130  \n",
      " 65 V65                   0             1   10.9    27.9     -69  -13.2    20  \n",
      " 66 V66                   0             1  -63.9   133.     -197 -188    -132. \n",
      " 67 V67                   0             1  -37.5    81.6    -159 -121     -17  \n",
      " 68 V68                   0             1   54.0    22.0       6   42      57  \n",
      " 69 V69                   0             1 -161.     24.1    -166 -165    -165  \n",
      " 70 V70                   0             1  -40.8    58.0    -196  -68.2   -41  \n",
      " 71 V71                   0             1  -32.4    97.5    -134 -133     -33  \n",
      " 72 V72                   0             1  -28.6    62.2    -192  -61     -35  \n",
      " 73 V73                   0             1  -86.5    77.7    -174 -158    -121  \n",
      " 74 V74                   0             1  -83.0    65.3    -150 -146    -121  \n",
      " 75 V75                   0             1  -85.7    80.0    -322 -104     -68  \n",
      " 76 V76                   0             1  -92.7    81.9    -338 -116.    -83  \n",
      " 77 V77                   0             1  -73.4    71.4    -272  -92     -63.5\n",
      " 78 V78                   0             1 -177.     12.0    -191 -182    -180  \n",
      " 79 V79                   0             1  -81.9   114.     -255 -235.    -15  \n",
      " 80 V80                   0             1  -77.8    85.3    -318  -93     -56  \n",
      " 81 V81                   0             1  -56.4    84.4    -310  -93     -51  \n",
      " 82 V82                   0             1   16.9    82.9    -197    5.75   47  \n",
      " 83 V83                   0             1  -74.4    87.4    -258 -143.    -53.5\n",
      " 84 V84                   0             1  -42.1    94.6    -176 -167       2  \n",
      " 85 V85                   0             1  -62.8    79.4    -301 -114     -58  \n",
      " 86 V86                   0             1   51.8    97.5     -98  -37      63.5\n",
      " 87 V87                   0             1  -89.8    98.7    -222 -174    -146  \n",
      " 88 V88                   0             1  -43.1   106.     -200 -184      11.5\n",
      " 89 V89                   0             1  -58.9    79.3    -208 -106     -74  \n",
      " 90 V90                   0             1  -99.1    68.8    -213 -149    -112  \n",
      " 91 V91                   0             1    5.33   59.8    -111  -46      16  \n",
      " 92 V92                   0             1  -23.1   128.     -159 -146     -96.5\n",
      " 93 V93                   0             1 -149.     86.0    -202 -202    -198  \n",
      " 94 V94                   0             1   44.7    46.4     -20   11      28  \n",
      " 95 V95                   0             1  -14.3    84.1    -121 -107       5  \n",
      " 96 V96                   0             1 -123.     75.3    -326 -135    -113  \n",
      " 97 V97                   0             1    8.43   32.6     -77   -9       4  \n",
      " 98 V98                   0             1   34.2    99.3     -70  -47     -25  \n",
      " 99 V99                   0             1  -46.5    97.9    -191 -108     -67  \n",
      "100 V100                  0             1  -41.1   102.     -191 -177       9  \n",
      "101 V101                  0             1  -92.3    64.8    -155 -153    -141  \n",
      "102 V102                  0             1    2.51  104.     -155 -124      40  \n",
      "103 V103                  0             1 -109.     91.4    -210 -194    -120  \n",
      "104 V104                  0             1   76.7    47.3     -37   33      73  \n",
      "105 V105                  0             1  -88.4    78.2    -296 -103     -66  \n",
      "106 V106                  0             1  -98.3    85.9    -320 -112     -68.5\n",
      "107 V107                  0             1 -118.     80.6    -319 -117    -104. \n",
      "108 V108                  0             1  -95.8    80.2    -287 -135     -92  \n",
      "109 V109                  0             1 -135.     61.1    -194 -174    -162  \n",
      "110 V110                  0             1 -111.     75.3    -293 -158     -92  \n",
      "111 V111                  0             1  -68.9    77.0    -250  -77     -66  \n",
      "112 V112                  0             1 -113.     74.5    -295 -126    -107  \n",
      "113 V113                  0             1  -70.0    73.0    -252  -69     -61  \n",
      "114 V114                  0             1  -54.4    88.9    -268 -120.    -43  \n",
      "115 V115                  0             1  -62.8    98.0    -223 -180.    -33  \n",
      "116 V116                  0             1  -58.6    96.2    -206 -181.    -24.5\n",
      "117 V117                  0             1  -83.8    97.9    -251 -166    -129  \n",
      "118 V118                  0             1  -36.3    64.9    -252  -63.2   -24  \n",
      "119 V119                  0             1   11.0   120.     -104  -91     -81  \n",
      "120 V120                  0             1  -36.5   106.     -209 -152.      7.5\n",
      "121 V121                  0             1   -7.79  118.     -193 -153.     66  \n",
      "122 V122                  0             1  -38.1    94.6    -201 -150       1  \n",
      "123 V123                  0             1  -29.4   102.     -123 -114    -107  \n",
      "124 V124                  0             1   16.3    87.8    -118  -67      -2  \n",
      "125 V125                  0             1    3.35  106.     -131 -101     -28.5\n",
      "126 V126                  0             1   -2.33   72.4    -121  -69       9  \n",
      "127 V127                  0             1  -49.0    97.5    -145 -131     -99  \n",
      "128 V128                  0             1   25.6    34.5     -44   -4      17.5\n",
      "129 V129                  0             1  -84.8    78.2    -285 -142.    -88  \n",
      "130 V130                  0             1  -73.8   124.     -219 -183    -146  \n",
      "131 V131                  0             1  -93.4    71.7    -305 -123     -82  \n",
      "132 V132                  0             1  -68.2    96.9    -188 -185     -49  \n",
      "133 V133                  0             1   11.9    52.8     -94  -20      23  \n",
      "134 V134                  0             1  -50.2    87.2    -140 -120    -103  \n",
      "135 V135                  0             1  -82.8    65.7    -322  -97     -83  \n",
      "136 V136                  0             1  -86.2    75.6    -341 -120     -86  \n",
      "137 V137                  0             1  -89.7    78.8    -342 -112     -84  \n",
      "138 V138                  0             1  -45.8    62.5    -197  -91     -36  \n",
      "139 V139                  0             1  -19.8    98.3    -201 -126      20  \n",
      "140 V140                  0             1  -39.0    77.1    -200  -91     -43.5\n",
      "141 V141                  0             1  -70.7    86.6    -246 -141.    -45  \n",
      "142 V142                  0             1  -54.4    65.4    -286  -69     -51.5\n",
      "143 V143                  0             1  -56.0    76.0    -294  -91     -55  \n",
      "144 V144                  0             1  -24.3    77.4    -186  -90      -0.5\n",
      "145 V145                  0             1  -14.1    97.6    -158 -142.     29  \n",
      "146 V146                  0             1  -37.5    93.1    -173 -164      11  \n",
      "147 V147                  0             1 -174.     24.8    -179 -178    -178  \n",
      "148 V148                  0             1  -83.6    62.2    -107 -103    -102  \n",
      "149 V149                  0             1 -114.     14.0    -131 -121    -118  \n",
      "150 V150                  0             1  -32.8    67.2    -201  -75.2   -33  \n",
      "151 V151                  0             1  -46.0    74.2    -215  -93     -54  \n",
      "152 V152                  0             1   -3.24   86.1    -191  -77.5    34  \n",
      "153 V153                  0             1  -24.1    70.2    -126  -91     -24  \n",
      "154 V154                  0             1  -37.5    69.0    -125 -120     -16  \n",
      "155 V155                  0             1  -29.8    66.6    -112 -110      -1.5\n",
      "156 V156                  0             1  -83.2    71.6    -171 -166     -58  \n",
      "157 V157                  0             1   16.2    78.5    -145  -50.2     3  \n",
      "158 V158                  0             1  -78.9    94.3    -197 -188     -83  \n",
      "159 V159                  0             1 -222.     63.0    -252 -240    -236  \n",
      "160 V160                  0             1 -204.     89.6    -324 -264    -236  \n",
      "161 V161                  0             1 -108.    122.     -217 -208    -190. \n",
      "162 V162                  0             1  -25.2    65.6    -135  -91     -15  \n",
      "163 V163                  0             1   37.4    87.3    -126  -39.2    31.5\n",
      "164 V164                  0             1   79.8    49.3     -78   33      84  \n",
      "165 V165                  0             1   85.4    47.5      35   54      69  \n",
      "166 V166                  0             1  -34.1    16.0    -132  -42.2   -36  \n",
      "167 V167                  0             1  -26.2    58.0    -258  -28     -11  \n",
      "168 V168                  0             1   33.7    54.2     -72  -12      35  \n",
      "        p75  p100 hist \n",
      "  *   <dbl> <dbl> <chr>\n",
      "  1    1        1 <U+2587><U+2581><U+2581><U+2581><U+2586>\n",
      "  2   81       92 <U+2583><U+2585><U+2585><U+2585><U+2587>\n",
      "  3   50      130 <U+2582><U+2587><U+2585><U+2581><U+2581>\n",
      "  4 -101       98 <U+2587><U+2585><U+2581><U+2581><U+2582>\n",
      "  5  -21       83 <U+2587><U+2582><U+2585><U+2582><U+2581>\n",
      "  6   38      157 <U+2585><U+2583><U+2587><U+2581><U+2585>\n",
      "  7 -117      238 <U+2587><U+2581><U+2581><U+2581><U+2581>\n",
      "  8   70.2    200 <U+2583><U+2586><U+2585><U+2587><U+2581>\n",
      "  9   51      214 <U+2586><U+2581><U+2587><U+2583><U+2581>\n",
      " 10   57      188 <U+2581><U+2582><U+2586><U+2587><U+2581>\n",
      " 11  -30      135 <U+2585><U+2581><U+2587><U+2581><U+2581>\n",
      " 12  -28      218 <U+2581><U+2586><U+2587><U+2581><U+2581>\n",
      " 13  -46      104 <U+2582><U+2581><U+2583><U+2587><U+2581>\n",
      " 14  -29      196 <U+2581><U+2582><U+2587><U+2581><U+2581>\n",
      " 15  -42      117 <U+2581><U+2581><U+2587><U+2585><U+2581>\n",
      " 16  -82       72 <U+2582><U+2581><U+2587><U+2587><U+2581>\n",
      " 17  -77       77 <U+2582><U+2581><U+2587><U+2581><U+2581>\n",
      " 18 -267.      13 <U+2587><U+2581><U+2581><U+2581><U+2581>\n",
      " 19   50      125 <U+2585><U+2582><U+2581><U+2587><U+2583>\n",
      " 20  -46.8    139 <U+2581><U+2581><U+2587><U+2582><U+2581>\n",
      " 21    5.25   214 <U+2581><U+2582><U+2587><U+2581><U+2581>\n",
      " 22  -18      273 <U+2582><U+2587><U+2587><U+2581><U+2581>\n",
      " 23  -40.8    196 <U+2581><U+2583><U+2587><U+2582><U+2581>\n",
      " 24  -14      147 <U+2585><U+2581><U+2587><U+2581><U+2581>\n",
      " 25   13.2    187 <U+2585><U+2583><U+2587><U+2586><U+2581>\n",
      " 26  155.     312 <U+2587><U+2581><U+2582><U+2582><U+2581>\n",
      " 27   77      254 <U+2587><U+2581><U+2585><U+2581><U+2581>\n",
      " 28   -6.75   162 <U+2585><U+2581><U+2587><U+2583><U+2581>\n",
      " 29   53      157 <U+2583><U+2581><U+2582><U+2587><U+2581>\n",
      " 30  -63      147 <U+2587><U+2585><U+2581><U+2581><U+2581>\n",
      " 31   25      181 <U+2581><U+2583><U+2587><U+2582><U+2581>\n",
      " 32   91      258 <U+2587><U+2581><U+2582><U+2583><U+2581>\n",
      " 33 -116.     190 <U+2587><U+2581><U+2581><U+2581><U+2581>\n",
      " 34   97.8    143 <U+2587><U+2585><U+2585><U+2582><U+2586>\n",
      " 35   17.2    219 <U+2582><U+2587><U+2582><U+2582><U+2581>\n",
      " 36   -5.75   163 <U+2587><U+2582><U+2582><U+2585><U+2581>\n",
      " 37   -0.75   227 <U+2587><U+2587><U+2583><U+2582><U+2581>\n",
      " 38   95      291 <U+2587><U+2586><U+2583><U+2581><U+2581>\n",
      " 39 -153      224 <U+2587><U+2581><U+2581><U+2582><U+2581>\n",
      " 40   25      165 <U+2585><U+2582><U+2587><U+2585><U+2581>\n",
      " 41  -23      105 <U+2587><U+2581><U+2585><U+2581><U+2581>\n",
      " 42   48      189 <U+2585><U+2582><U+2587><U+2585><U+2581>\n",
      " 43  -49       82 <U+2587><U+2582><U+2585><U+2581><U+2582>\n",
      " 44   75      201 <U+2585><U+2586><U+2587><U+2587><U+2581>\n",
      " 45  -34      168 <U+2581><U+2581><U+2587><U+2581><U+2581>\n",
      " 46  -64       81 <U+2582><U+2581><U+2582><U+2587><U+2581>\n",
      " 47  -82       65 <U+2582><U+2581><U+2587><U+2583><U+2582>\n",
      " 48 -101      115 <U+2582><U+2582><U+2587><U+2581><U+2581>\n",
      " 49  -83      110 <U+2587><U+2585><U+2581><U+2582><U+2581>\n",
      " 50  -55.8     99 <U+2581><U+2582><U+2587><U+2583><U+2581>\n",
      " 51   25      180 <U+2581><U+2582><U+2587><U+2587><U+2581>\n",
      " 52  -32      214 <U+2581><U+2587><U+2586><U+2581><U+2581>\n",
      " 53  -65      218 <U+2581><U+2583><U+2587><U+2582><U+2581>\n",
      " 54  -18      148 <U+2585><U+2581><U+2587><U+2581><U+2581>\n",
      " 55   -1      159 <U+2585><U+2581><U+2587><U+2582><U+2581>\n",
      " 56   72      286 <U+2582><U+2583><U+2587><U+2581><U+2581>\n",
      " 57  112      259 <U+2587><U+2583><U+2585><U+2586><U+2581>\n",
      " 58  -40      199 <U+2581><U+2582><U+2587><U+2581><U+2581>\n",
      " 59   91.2    231 <U+2585><U+2582><U+2583><U+2587><U+2581>\n",
      " 60 -114.     111 <U+2587><U+2581><U+2581><U+2581><U+2581>\n",
      " 61   49      181 <U+2581><U+2582><U+2587><U+2583><U+2581>\n",
      " 62    7.25   178 <U+2585><U+2587><U+2583><U+2586><U+2581>\n",
      " 63   46.2    243 <U+2587><U+2585><U+2581><U+2582><U+2582>\n",
      " 64   51      173 <U+2587><U+2581><U+2581><U+2585><U+2581>\n",
      " 65   30      110 <U+2581><U+2583><U+2587><U+2581><U+2581>\n",
      " 66   95.2    220 <U+2587><U+2582><U+2581><U+2585><U+2581>\n",
      " 67   -7      108 <U+2586><U+2581><U+2587><U+2581><U+2583>\n",
      " 68   63      197 <U+2583><U+2587><U+2581><U+2581><U+2581>\n",
      " 69 -164      262 <U+2587><U+2581><U+2581><U+2581><U+2581>\n",
      " 70  -16.8    157 <U+2581><U+2585><U+2587><U+2582><U+2581>\n",
      " 71   64.8    205 <U+2587><U+2582><U+2583><U+2583><U+2581>\n",
      " 72    2.25   168 <U+2581><U+2585><U+2587><U+2582><U+2581>\n",
      " 73  -33.8     83 <U+2587><U+2581><U+2585><U+2581><U+2582>\n",
      " 74  -35       98 <U+2587><U+2581><U+2585><U+2581><U+2581>\n",
      " 75  -43      133 <U+2582><U+2582><U+2587><U+2586><U+2581>\n",
      " 76  -60      112 <U+2581><U+2582><U+2587><U+2585><U+2582>\n",
      " 77  -40      132 <U+2581><U+2581><U+2587><U+2582><U+2581>\n",
      " 78 -177      -65 <U+2587><U+2581><U+2581><U+2581><U+2581>\n",
      " 79    0      154 <U+2586><U+2581><U+2583><U+2587><U+2581>\n",
      " 80  -30      158 <U+2582><U+2581><U+2587><U+2583><U+2581>\n",
      " 81  -13      185 <U+2581><U+2581><U+2587><U+2582><U+2581>\n",
      " 82   57      233 <U+2582><U+2581><U+2587><U+2582><U+2581>\n",
      " 83  -10      183 <U+2583><U+2582><U+2587><U+2582><U+2581>\n",
      " 84   16.2    192 <U+2585><U+2581><U+2587><U+2581><U+2581>\n",
      " 85  -45      208 <U+2581><U+2585><U+2587><U+2582><U+2581>\n",
      " 86  137      251 <U+2587><U+2586><U+2583><U+2587><U+2583>\n",
      " 87   14      183 <U+2587><U+2582><U+2582><U+2583><U+2581>\n",
      " 88   28      189 <U+2585><U+2581><U+2587><U+2581><U+2581>\n",
      " 89  -41.2    113 <U+2582><U+2587><U+2587><U+2581><U+2583>\n",
      " 90  -56      105 <U+2585><U+2587><U+2585><U+2581><U+2582>\n",
      " 91   30      163 <U+2585><U+2583><U+2587><U+2582><U+2581>\n",
      " 92  123      272 <U+2587><U+2581><U+2582><U+2583><U+2581>\n",
      " 93 -115.     168 <U+2587><U+2581><U+2581><U+2581><U+2581>\n",
      " 94   95      167 <U+2587><U+2587><U+2582><U+2583><U+2582>\n",
      " 95   19      233 <U+2587><U+2587><U+2582><U+2583><U+2581>\n",
      " 96  -92      178 <U+2582><U+2583><U+2587><U+2581><U+2581>\n",
      " 97   28      149 <U+2582><U+2587><U+2586><U+2581><U+2581>\n",
      " 98  118      336 <U+2587><U+2582><U+2582><U+2582><U+2581>\n",
      " 99    3      171 <U+2586><U+2587><U+2586><U+2582><U+2583>\n",
      "100   35      194 <U+2585><U+2581><U+2587><U+2582><U+2581>\n",
      "101  -26       48 <U+2587><U+2581><U+2582><U+2583><U+2581>\n",
      "102   80      235 <U+2586><U+2581><U+2587><U+2585><U+2581>\n",
      "103  -70       88 <U+2587><U+2583><U+2585><U+2581><U+2582>\n",
      "104  129      265 <U+2583><U+2587><U+2587><U+2581><U+2581>\n",
      "105  -47.8     96 <U+2582><U+2581><U+2587><U+2587><U+2581>\n",
      "106  -57       95 <U+2582><U+2581><U+2585><U+2587><U+2581>\n",
      "107  -91       72 <U+2582><U+2581><U+2587><U+2582><U+2581>\n",
      "108  -44      179 <U+2582><U+2585><U+2587><U+2582><U+2581>\n",
      "109 -112.     144 <U+2587><U+2582><U+2581><U+2581><U+2581>\n",
      "110  -56       52 <U+2582><U+2583><U+2587><U+2587><U+2582>\n",
      "111  -18      183 <U+2582><U+2582><U+2587><U+2581><U+2581>\n",
      "112  -91       53 <U+2582><U+2581><U+2587><U+2582><U+2581>\n",
      "113  -47      117 <U+2582><U+2581><U+2587><U+2581><U+2581>\n",
      "114    0      211 <U+2582><U+2583><U+2587><U+2581><U+2581>\n",
      "115   16      188 <U+2586><U+2583><U+2587><U+2583><U+2581>\n",
      "116   17.2    160 <U+2587><U+2582><U+2587><U+2586><U+2581>\n",
      "117   19.2    201 <U+2587><U+2587><U+2583><U+2586><U+2581>\n",
      "118   -2      187 <U+2581><U+2582><U+2587><U+2582><U+2581>\n",
      "119  154      315 <U+2587><U+2581><U+2581><U+2583><U+2581>\n",
      "120   53      137 <U+2585><U+2582><U+2582><U+2587><U+2581>\n",
      "121   81      215 <U+2585><U+2581><U+2581><U+2587><U+2581>\n",
      "122   30      152 <U+2586><U+2581><U+2586><U+2587><U+2581>\n",
      "123   78      254 <U+2587><U+2581><U+2585><U+2581><U+2581>\n",
      "124   91.2    270 <U+2587><U+2582><U+2586><U+2583><U+2581>\n",
      "125  110      279 <U+2587><U+2581><U+2583><U+2583><U+2581>\n",
      "126   49      200 <U+2587><U+2583><U+2587><U+2583><U+2581>\n",
      "127   51      149 <U+2587><U+2582><U+2581><U+2582><U+2582>\n",
      "128   55      137 <U+2583><U+2587><U+2586><U+2582><U+2581>\n",
      "129  -22      123 <U+2581><U+2587><U+2587><U+2587><U+2581>\n",
      "130   65.2    238 <U+2587><U+2581><U+2582><U+2583><U+2581>\n",
      "131  -51      159 <U+2581><U+2583><U+2587><U+2582><U+2581>\n",
      "132  -16      152 <U+2587><U+2582><U+2587><U+2582><U+2582>\n",
      "133   40      140 <U+2583><U+2583><U+2587><U+2582><U+2582>\n",
      "134   16      170 <U+2587><U+2581><U+2582><U+2582><U+2581>\n",
      "135  -61      176 <U+2581><U+2581><U+2587><U+2581><U+2581>\n",
      "136  -51      187 <U+2581><U+2581><U+2587><U+2582><U+2581>\n",
      "137  -42      111 <U+2581><U+2582><U+2587><U+2587><U+2581>\n",
      "138  -23      137 <U+2582><U+2585><U+2587><U+2582><U+2581>\n",
      "139   52      186 <U+2585><U+2581><U+2583><U+2587><U+2581>\n",
      "140  -19      127 <U+2581><U+2585><U+2587><U+2581><U+2583>\n",
      "141   -7      138 <U+2585><U+2583><U+2587><U+2586><U+2581>\n",
      "142  -34      207 <U+2581><U+2582><U+2587><U+2582><U+2581>\n",
      "143  -39      238 <U+2581><U+2583><U+2587><U+2582><U+2581>\n",
      "144   27.2    177 <U+2583><U+2582><U+2587><U+2583><U+2581>\n",
      "145   58      213 <U+2586><U+2581><U+2587><U+2582><U+2581>\n",
      "146   23      158 <U+2586><U+2581><U+2587><U+2583><U+2581>\n",
      "147 -177      178 <U+2587><U+2581><U+2581><U+2581><U+2581>\n",
      "148 -101      240 <U+2587><U+2581><U+2581><U+2581><U+2581>\n",
      "149 -115       -3 <U+2587><U+2581><U+2581><U+2581><U+2581>\n",
      "150   -3      134 <U+2581><U+2585><U+2587><U+2582><U+2582>\n",
      "151  -27      121 <U+2581><U+2585><U+2587><U+2581><U+2582>\n",
      "152   58      174 <U+2583><U+2582><U+2583><U+2587><U+2581>\n",
      "153   30      243 <U+2587><U+2587><U+2583><U+2582><U+2581>\n",
      "154    3      154 <U+2587><U+2583><U+2587><U+2583><U+2581>\n",
      "155   13      207 <U+2587><U+2587><U+2585><U+2581><U+2581>\n",
      "156  -46       84 <U+2587><U+2581><U+2587><U+2581><U+2582>\n",
      "157  104.     161 <U+2582><U+2587><U+2586><U+2582><U+2587>\n",
      "158   23      113 <U+2587><U+2585><U+2582><U+2587><U+2581>\n",
      "159 -232      141 <U+2587><U+2581><U+2581><U+2581><U+2581>\n",
      "160 -155.      72 <U+2587><U+2585><U+2582><U+2582><U+2581>\n",
      "161   30      173 <U+2587><U+2581><U+2581><U+2583><U+2581>\n",
      "162   22      185 <U+2586><U+2587><U+2587><U+2581><U+2581>\n",
      "163  128      253 <U+2585><U+2587><U+2586><U+2587><U+2581>\n",
      "164  119      291 <U+2581><U+2585><U+2587><U+2581><U+2581>\n",
      "165   99      302 <U+2587><U+2582><U+2581><U+2581><U+2581>\n",
      "166  -28       24 <U+2581><U+2581><U+2583><U+2587><U+2581>\n",
      "167    7       82 <U+2581><U+2581><U+2581><U+2587><U+2581>\n",
      "168   74      235 <U+2586><U+2587><U+2587><U+2581><U+2581>\n"
     ]
    }
   ],
   "source": [
    "#quick look\n",
    "skim(mymusk)\n"
   ]
  },
  {
   "cell_type": "code",
   "execution_count": 8,
   "id": "aed37e9e",
   "metadata": {},
   "outputs": [
    {
     "data": {
      "text/plain": [
       "   Bag_Class          Bag_Id            V3               V4        \n",
       " Min.   :0.0000   Min.   : 1.00   Min.   : -9.00   Min.   :-199.0  \n",
       " 1st Qu.:0.0000   1st Qu.:29.00   1st Qu.: 31.00   1st Qu.:-193.0  \n",
       " Median :0.0000   Median :56.50   Median : 42.00   Median :-144.5  \n",
       " Mean   :0.4349   Mean   :52.39   Mean   : 38.73   Mean   :-120.1  \n",
       " 3rd Qu.:1.0000   3rd Qu.:81.00   3rd Qu.: 50.00   3rd Qu.:-101.0  \n",
       " Max.   :1.0000   Max.   :92.00   Max.   :130.00   Max.   :  98.0  \n",
       "       V5                V6               V7               V8          \n",
       " Min.   :-166.00   Min.   :-115.0   Min.   :-117.0   Min.   :-184.000  \n",
       " 1st Qu.:-144.00   1st Qu.: -53.0   1st Qu.:-117.0   1st Qu.: -89.000  \n",
       " Median :-108.00   Median :  28.0   Median :-117.0   Median :  11.000  \n",
       " Mean   : -79.24   Mean   :  15.9   Mean   :-112.3   Mean   :  -9.761  \n",
       " 3rd Qu.: -21.00   3rd Qu.:  38.0   3rd Qu.:-117.0   3rd Qu.:  70.250  \n",
       " Max.   :  83.00   Max.   : 157.0   Max.   : 238.0   Max.   : 200.000  \n",
       "       V9               V10                V11               V12         \n",
       " Min.   :-170.00   Min.   :-231.000   Min.   :-242.00   Min.   :-284.00  \n",
       " 1st Qu.:-159.00   1st Qu.:  -9.250   1st Qu.:-215.00   1st Qu.:-118.25  \n",
       " Median :  41.00   Median :  18.000   Median : -41.00   Median : -73.50  \n",
       " Mean   : -16.63   Mean   :   7.763   Mean   : -91.05   Mean   : -76.08  \n",
       " 3rd Qu.:  51.00   3rd Qu.:  57.000   3rd Qu.: -30.00   3rd Qu.: -28.00  \n",
       " Max.   : 214.00   Max.   : 188.000   Max.   : 135.00   Max.   : 218.00  \n",
       "      V13               V14               V15               V16        \n",
       " Min.   :-327.00   Min.   :-326.00   Min.   :-302.00   Min.   :-348.0  \n",
       " 1st Qu.:-112.00   1st Qu.:-104.00   1st Qu.: -86.00   1st Qu.:-125.2  \n",
       " Median : -57.00   Median : -69.50   Median : -62.00   Median : -97.0  \n",
       " Mean   : -94.34   Mean   : -70.08   Mean   : -71.63   Mean   :-114.7  \n",
       " 3rd Qu.: -46.00   3rd Qu.: -29.00   3rd Qu.: -42.00   3rd Qu.: -82.0  \n",
       " Max.   : 104.00   Max.   : 196.00   Max.   : 117.00   Max.   :  72.0  \n",
       "      V17              V18              V19               V20         \n",
       " Min.   :-292.0   Min.   :-318.0   Min.   :-225.00   Min.   :-312.00  \n",
       " 1st Qu.:-109.0   1st Qu.:-296.2   1st Qu.:-168.25   1st Qu.: -88.00  \n",
       " Median : -94.0   Median :-285.5   Median :  28.00   Median : -69.50  \n",
       " Mean   :-106.6   Mean   :-265.1   Mean   : -41.32   Mean   : -71.46  \n",
       " 3rd Qu.: -77.0   3rd Qu.:-266.8   3rd Qu.:  50.00   3rd Qu.: -46.75  \n",
       " Max.   :  77.0   Max.   :  13.0   Max.   : 125.00   Max.   : 139.00  \n",
       "      V21               V22               V23               V24         \n",
       " Min.   :-291.00   Min.   :-243.00   Min.   :-298.00   Min.   :-187.00  \n",
       " 1st Qu.: -73.25   1st Qu.: -61.00   1st Qu.:-106.25   1st Qu.:-179.00  \n",
       " Median : -31.00   Median : -39.00   Median : -66.50   Median : -22.00  \n",
       " Mean   : -38.69   Mean   : -48.36   Mean   : -73.22   Mean   : -63.57  \n",
       " 3rd Qu.:   5.25   3rd Qu.: -18.00   3rd Qu.: -40.75   3rd Qu.: -14.00  \n",
       " Max.   : 214.00   Max.   : 273.00   Max.   : 196.00   Max.   : 147.00  \n",
       "      V25               V26              V27               V28         \n",
       " Min.   :-255.00   Min.   :-70.00   Min.   :-102.00   Min.   :-243.00  \n",
       " 1st Qu.:-143.00   1st Qu.:-61.00   1st Qu.: -97.00   1st Qu.:-173.00  \n",
       " Median : -36.50   Median :-44.00   Median : -88.00   Median : -38.00  \n",
       " Mean   : -57.50   Mean   : 33.93   Mean   : -18.29   Mean   : -73.64  \n",
       " 3rd Qu.:  13.25   3rd Qu.:154.75   3rd Qu.:  77.00   3rd Qu.:  -6.75  \n",
       " Max.   : 187.00   Max.   :312.00   Max.   : 254.00   Max.   : 162.00  \n",
       "      V29               V30               V31                V32         \n",
       " Min.   :-205.00   Min.   :-164.00   Min.   :-140.000   Min.   :-154.00  \n",
       " 1st Qu.:-114.25   1st Qu.:-150.25   1st Qu.: -31.250   1st Qu.:-142.00  \n",
       " Median :  27.00   Median :-117.50   Median :   7.000   Median :-127.00  \n",
       " Mean   : -15.57   Mean   : -98.58   Mean   :   2.611   Mean   : -40.53  \n",
       " 3rd Qu.:  53.00   3rd Qu.: -63.00   3rd Qu.:  25.000   3rd Qu.:  91.00  \n",
       " Max.   : 157.00   Max.   : 147.00   Max.   : 181.000   Max.   : 258.00  \n",
       "      V33              V34               V35                V36         \n",
       " Min.   :-118.0   Min.   :-149.00   Min.   :-124.000   Min.   :-278.00  \n",
       " 1st Qu.:-117.0   1st Qu.:-101.00   1st Qu.: -39.000   1st Qu.:-224.00  \n",
       " Median :-117.0   Median : -38.00   Median : -20.000   Median :-182.00  \n",
       " Mean   :-100.0   Mean   : -12.79   Mean   :  -8.981   Mean   :-127.89  \n",
       " 3rd Qu.:-115.8   3rd Qu.:  97.75   3rd Qu.:  17.250   3rd Qu.:  -5.75  \n",
       " Max.   : 190.0   Max.   : 143.00   Max.   : 219.000   Max.   : 163.00  \n",
       "      V37               V38              V39              V40         \n",
       " Min.   :-156.00   Min.   : 16.00   Min.   :-175.0   Min.   :-192.00  \n",
       " 1st Qu.:-129.25   1st Qu.: 47.00   1st Qu.:-174.0   1st Qu.:-110.25  \n",
       " Median : -35.00   Median : 73.00   Median :-168.0   Median :  -1.50  \n",
       " Mean   : -47.59   Mean   : 78.96   Mean   :-109.1   Mean   : -31.93  \n",
       " 3rd Qu.:  -0.75   3rd Qu.: 95.00   3rd Qu.:-153.0   3rd Qu.:  25.00  \n",
       " Max.   : 227.00   Max.   :291.00   Max.   : 224.0   Max.   : 165.00  \n",
       "      V41               V42                V43               V44          \n",
       " Min.   :-145.00   Min.   :-181.000   Min.   :-190.00   Min.   :-151.000  \n",
       " 1st Qu.:-142.00   1st Qu.: -72.250   1st Qu.:-174.00   1st Qu.: -43.000  \n",
       " Median :-110.50   Median :  20.000   Median :-124.50   Median :  17.000  \n",
       " Mean   : -75.96   Mean   :  -6.876   Mean   : -95.76   Mean   :   8.716  \n",
       " 3rd Qu.: -23.00   3rd Qu.:  48.000   3rd Qu.: -49.00   3rd Qu.:  75.000  \n",
       " Max.   : 105.00   Max.   : 189.000   Max.   :  82.00   Max.   : 201.000  \n",
       "      V45               V46               V47              V48        \n",
       " Min.   :-291.00   Min.   :-343.00   Min.   :-315.0   Min.   :-338.0  \n",
       " 1st Qu.: -80.50   1st Qu.: -99.25   1st Qu.:-125.0   1st Qu.:-183.0  \n",
       " Median : -58.00   Median : -75.00   Median : -99.0   Median :-121.5  \n",
       " Mean   : -67.97   Mean   :-101.63   Mean   :-108.7   Mean   :-148.0  \n",
       " 3rd Qu.: -34.00   3rd Qu.: -64.00   3rd Qu.: -82.0   3rd Qu.:-101.0  \n",
       " Max.   : 168.00   Max.   :  81.00   Max.   :  65.0   Max.   : 115.0  \n",
       "      V49              V50               V51               V52         \n",
       " Min.   :-157.0   Min.   :-294.00   Min.   :-269.00   Min.   :-273.00  \n",
       " 1st Qu.:-147.0   1st Qu.:-123.25   1st Qu.: -44.00   1st Qu.:-106.00  \n",
       " Median :-103.0   Median : -75.00   Median : -13.00   Median : -86.00  \n",
       " Mean   : -89.5   Mean   : -93.91   Mean   : -18.62   Mean   : -75.82  \n",
       " 3rd Qu.: -83.0   3rd Qu.: -55.75   3rd Qu.:  25.00   3rd Qu.: -32.00  \n",
       " Max.   : 110.0   Max.   :  99.00   Max.   : 180.00   Max.   : 214.00  \n",
       "      V53               V54               V55               V56         \n",
       " Min.   :-329.00   Min.   :-205.00   Min.   :-206.00   Min.   :-143.00  \n",
       " 1st Qu.:-111.00   1st Qu.:-196.00   1st Qu.:-178.00   1st Qu.:  -8.50  \n",
       " Median : -87.00   Median : -30.00   Median : -20.00   Median :  51.00  \n",
       " Mean   : -81.79   Mean   : -73.46   Mean   : -59.53   Mean   :  29.28  \n",
       " 3rd Qu.: -65.00   3rd Qu.: -18.00   3rd Qu.:  -1.00   3rd Qu.:  72.00  \n",
       " Max.   : 218.00   Max.   : 148.00   Max.   : 159.00   Max.   : 286.00  \n",
       "      V57               V58               V59                V60        \n",
       " Min.   :-113.00   Min.   :-282.00   Min.   :-168.000   Min.   :-178.0  \n",
       " 1st Qu.: -50.00   1st Qu.: -82.25   1st Qu.:-125.000   1st Qu.:-155.2  \n",
       " Median :  20.00   Median : -58.00   Median :  56.500   Median :-139.0  \n",
       " Mean   :  34.06   Mean   : -67.60   Mean   :   5.853   Mean   :-108.3  \n",
       " 3rd Qu.: 112.00   3rd Qu.: -40.00   3rd Qu.:  91.250   3rd Qu.:-113.8  \n",
       " Max.   : 259.00   Max.   : 199.00   Max.   : 231.000   Max.   : 111.0  \n",
       "      V61                V62               V63                V64         \n",
       " Min.   :-173.000   Min.   :-254.00   Min.   :-102.000   Min.   :-195.00  \n",
       " 1st Qu.: -20.000   1st Qu.:-162.00   1st Qu.: -98.000   1st Qu.:-192.00  \n",
       " Median :   5.000   Median :-112.50   Median : -22.500   Median :-130.00  \n",
       " Mean   :   9.057   Mean   : -82.60   Mean   :  -8.086   Mean   : -82.59  \n",
       " 3rd Qu.:  49.000   3rd Qu.:   7.25   3rd Qu.:  46.250   3rd Qu.:  51.00  \n",
       " Max.   : 181.000   Max.   : 178.00   Max.   : 243.000   Max.   : 173.00  \n",
       "      V65              V66               V67               V68        \n",
       " Min.   :-69.00   Min.   :-197.00   Min.   :-159.00   Min.   :  6.00  \n",
       " 1st Qu.:-13.25   1st Qu.:-188.00   1st Qu.:-121.00   1st Qu.: 42.00  \n",
       " Median : 20.00   Median :-131.50   Median : -17.00   Median : 57.00  \n",
       " Mean   : 10.91   Mean   : -63.91   Mean   : -37.55   Mean   : 53.99  \n",
       " 3rd Qu.: 30.00   3rd Qu.:  95.25   3rd Qu.:  -7.00   3rd Qu.: 63.00  \n",
       " Max.   :110.00   Max.   : 220.00   Max.   : 108.00   Max.   :197.00  \n",
       "      V69              V70               V71               V72         \n",
       " Min.   :-166.0   Min.   :-196.00   Min.   :-134.00   Min.   :-192.00  \n",
       " 1st Qu.:-165.0   1st Qu.: -68.25   1st Qu.:-133.00   1st Qu.: -61.00  \n",
       " Median :-165.0   Median : -41.00   Median : -33.00   Median : -35.00  \n",
       " Mean   :-161.5   Mean   : -40.79   Mean   : -32.36   Mean   : -28.59  \n",
       " 3rd Qu.:-164.0   3rd Qu.: -16.75   3rd Qu.:  64.75   3rd Qu.:   2.25  \n",
       " Max.   : 262.0   Max.   : 157.00   Max.   : 205.00   Max.   : 168.00  \n",
       "      V73               V74               V75              V76         \n",
       " Min.   :-174.00   Min.   :-150.00   Min.   :-322.0   Min.   :-338.00  \n",
       " 1st Qu.:-158.00   1st Qu.:-146.00   1st Qu.:-104.0   1st Qu.:-116.25  \n",
       " Median :-121.00   Median :-121.00   Median : -68.0   Median : -83.00  \n",
       " Mean   : -86.52   Mean   : -82.99   Mean   : -85.7   Mean   : -92.66  \n",
       " 3rd Qu.: -33.75   3rd Qu.: -35.00   3rd Qu.: -43.0   3rd Qu.: -60.00  \n",
       " Max.   :  83.00   Max.   :  98.00   Max.   : 133.0   Max.   : 112.00  \n",
       "      V77               V78              V79               V80         \n",
       " Min.   :-272.00   Min.   :-191.0   Min.   :-255.00   Min.   :-318.00  \n",
       " 1st Qu.: -92.00   1st Qu.:-182.0   1st Qu.:-235.25   1st Qu.: -93.00  \n",
       " Median : -63.50   Median :-180.0   Median : -15.00   Median : -56.00  \n",
       " Mean   : -73.35   Mean   :-176.8   Mean   : -81.88   Mean   : -77.77  \n",
       " 3rd Qu.: -40.00   3rd Qu.:-177.0   3rd Qu.:   0.00   3rd Qu.: -30.00  \n",
       " Max.   : 132.00   Max.   : -65.0   Max.   : 154.00   Max.   : 158.00  \n",
       "      V81               V82               V83               V84         \n",
       " Min.   :-310.00   Min.   :-197.00   Min.   :-258.00   Min.   :-176.00  \n",
       " 1st Qu.: -93.00   1st Qu.:   5.75   1st Qu.:-143.25   1st Qu.:-167.00  \n",
       " Median : -51.00   Median :  47.00   Median : -53.50   Median :   2.00  \n",
       " Mean   : -56.39   Mean   :  16.95   Mean   : -74.42   Mean   : -42.08  \n",
       " 3rd Qu.: -13.00   3rd Qu.:  57.00   3rd Qu.: -10.00   3rd Qu.:  16.25  \n",
       " Max.   : 185.00   Max.   : 233.00   Max.   : 183.00   Max.   : 192.00  \n",
       "      V85               V86              V87               V88         \n",
       " Min.   :-301.00   Min.   :-98.00   Min.   :-222.00   Min.   :-200.00  \n",
       " 1st Qu.:-114.00   1st Qu.:-37.00   1st Qu.:-174.00   1st Qu.:-184.00  \n",
       " Median : -58.00   Median : 63.50   Median :-146.00   Median :  11.50  \n",
       " Mean   : -62.78   Mean   : 51.76   Mean   : -89.85   Mean   : -43.11  \n",
       " 3rd Qu.: -45.00   3rd Qu.:137.00   3rd Qu.:  14.00   3rd Qu.:  28.00  \n",
       " Max.   : 208.00   Max.   :251.00   Max.   : 183.00   Max.   : 189.00  \n",
       "      V89               V90               V91                V92         \n",
       " Min.   :-208.00   Min.   :-213.00   Min.   :-111.000   Min.   :-159.00  \n",
       " 1st Qu.:-106.00   1st Qu.:-149.00   1st Qu.: -46.000   1st Qu.:-146.00  \n",
       " Median : -74.00   Median :-112.00   Median :  16.000   Median : -96.50  \n",
       " Mean   : -58.93   Mean   : -99.08   Mean   :   5.328   Mean   : -23.07  \n",
       " 3rd Qu.: -41.25   3rd Qu.: -56.00   3rd Qu.:  30.000   3rd Qu.: 123.00  \n",
       " Max.   : 113.00   Max.   : 105.00   Max.   : 163.000   Max.   : 272.00  \n",
       "      V93              V94              V95              V96        \n",
       " Min.   :-202.0   Min.   :-20.00   Min.   :-121.0   Min.   :-326.0  \n",
       " 1st Qu.:-202.0   1st Qu.: 11.00   1st Qu.:-107.0   1st Qu.:-135.0  \n",
       " Median :-198.0   Median : 28.00   Median :   5.0   Median :-113.0  \n",
       " Mean   :-148.6   Mean   : 44.68   Mean   : -14.3   Mean   :-122.9  \n",
       " 3rd Qu.:-114.8   3rd Qu.: 95.00   3rd Qu.:  19.0   3rd Qu.: -92.0  \n",
       " Max.   : 168.0   Max.   :167.00   Max.   : 233.0   Max.   : 178.0  \n",
       "      V97               V98              V99               V100        \n",
       " Min.   :-77.000   Min.   :-70.00   Min.   :-191.00   Min.   :-191.00  \n",
       " 1st Qu.: -9.000   1st Qu.:-47.00   1st Qu.:-108.00   1st Qu.:-177.00  \n",
       " Median :  4.000   Median :-25.00   Median : -67.00   Median :   9.00  \n",
       " Mean   :  8.429   Mean   : 34.22   Mean   : -46.54   Mean   : -41.11  \n",
       " 3rd Qu.: 28.000   3rd Qu.:118.00   3rd Qu.:   3.00   3rd Qu.:  35.00  \n",
       " Max.   :149.000   Max.   :336.00   Max.   : 171.00   Max.   : 194.00  \n",
       "      V101             V102               V103           V104       \n",
       " Min.   :-155.0   Min.   :-155.000   Min.   :-210   Min.   :-37.00  \n",
       " 1st Qu.:-153.0   1st Qu.:-124.000   1st Qu.:-194   1st Qu.: 33.00  \n",
       " Median :-141.0   Median :  40.000   Median :-120   Median : 73.00  \n",
       " Mean   : -92.3   Mean   :   2.506   Mean   :-109   Mean   : 76.74  \n",
       " 3rd Qu.: -26.0   3rd Qu.:  80.000   3rd Qu.: -70   3rd Qu.:129.00  \n",
       " Max.   :  48.0   Max.   : 235.000   Max.   :  88   Max.   :265.00  \n",
       "      V105              V106              V107             V108        \n",
       " Min.   :-296.00   Min.   :-320.00   Min.   :-319.0   Min.   :-287.00  \n",
       " 1st Qu.:-103.00   1st Qu.:-112.00   1st Qu.:-117.0   1st Qu.:-135.00  \n",
       " Median : -66.00   Median : -68.50   Median :-104.5   Median : -92.00  \n",
       " Mean   : -88.44   Mean   : -98.32   Mean   :-118.2   Mean   : -95.77  \n",
       " 3rd Qu.: -47.75   3rd Qu.: -57.00   3rd Qu.: -91.0   3rd Qu.: -44.00  \n",
       " Max.   :  96.00   Max.   :  95.00   Max.   :  72.0   Max.   : 179.00  \n",
       "      V109             V110             V111              V112       \n",
       " Min.   :-194.0   Min.   :-293.0   Min.   :-250.00   Min.   :-295.0  \n",
       " 1st Qu.:-174.0   1st Qu.:-158.0   1st Qu.: -77.00   1st Qu.:-126.0  \n",
       " Median :-162.0   Median : -92.0   Median : -66.00   Median :-107.0  \n",
       " Mean   :-134.9   Mean   :-110.9   Mean   : -68.86   Mean   :-112.8  \n",
       " 3rd Qu.:-111.5   3rd Qu.: -56.0   3rd Qu.: -18.00   3rd Qu.: -91.0  \n",
       " Max.   : 144.0   Max.   :  52.0   Max.   : 183.00   Max.   :  53.0  \n",
       "      V113              V114             V115              V116        \n",
       " Min.   :-252.00   Min.   :-268.0   Min.   :-223.00   Min.   :-206.00  \n",
       " 1st Qu.: -69.00   1st Qu.:-120.2   1st Qu.:-179.50   1st Qu.:-181.25  \n",
       " Median : -61.00   Median : -43.0   Median : -33.00   Median : -24.50  \n",
       " Mean   : -70.03   Mean   : -54.4   Mean   : -62.78   Mean   : -58.64  \n",
       " 3rd Qu.: -47.00   3rd Qu.:   0.0   3rd Qu.:  16.00   3rd Qu.:  17.25  \n",
       " Max.   : 117.00   Max.   : 211.0   Max.   : 188.00   Max.   : 160.00  \n",
       "      V117              V118              V119              V120        \n",
       " Min.   :-251.00   Min.   :-252.00   Min.   :-104.00   Min.   :-209.00  \n",
       " 1st Qu.:-166.00   1st Qu.: -63.25   1st Qu.: -91.00   1st Qu.:-151.75  \n",
       " Median :-129.00   Median : -24.00   Median : -81.00   Median :   7.50  \n",
       " Mean   : -83.79   Mean   : -36.25   Mean   :  11.03   Mean   : -36.54  \n",
       " 3rd Qu.:  19.25   3rd Qu.:  -2.00   3rd Qu.: 154.00   3rd Qu.:  53.00  \n",
       " Max.   : 201.00   Max.   : 187.00   Max.   : 315.00   Max.   : 137.00  \n",
       "      V121              V122              V123              V124        \n",
       " Min.   :-193.00   Min.   :-201.00   Min.   :-123.00   Min.   :-118.00  \n",
       " 1st Qu.:-153.25   1st Qu.:-150.00   1st Qu.:-114.00   1st Qu.: -67.00  \n",
       " Median :  66.00   Median :   1.00   Median :-107.00   Median :  -2.00  \n",
       " Mean   :  -7.79   Mean   : -38.07   Mean   : -29.36   Mean   :  16.32  \n",
       " 3rd Qu.:  81.00   3rd Qu.:  30.00   3rd Qu.:  78.00   3rd Qu.:  91.25  \n",
       " Max.   : 215.00   Max.   : 152.00   Max.   : 254.00   Max.   : 270.00  \n",
       "      V125               V126              V127              V128       \n",
       " Min.   :-131.000   Min.   :-121.00   Min.   :-145.00   Min.   :-44.00  \n",
       " 1st Qu.:-101.000   1st Qu.: -69.00   1st Qu.:-131.00   1st Qu.: -4.00  \n",
       " Median : -28.500   Median :   9.00   Median : -99.00   Median : 17.50  \n",
       " Mean   :   3.353   Mean   :  -2.33   Mean   : -49.01   Mean   : 25.63  \n",
       " 3rd Qu.: 110.000   3rd Qu.:  49.00   3rd Qu.:  51.00   3rd Qu.: 55.00  \n",
       " Max.   : 279.000   Max.   : 200.00   Max.   : 149.00   Max.   :137.00  \n",
       "      V129             V130              V131              V132        \n",
       " Min.   :-285.0   Min.   :-219.00   Min.   :-305.00   Min.   :-188.00  \n",
       " 1st Qu.:-142.2   1st Qu.:-183.00   1st Qu.:-123.00   1st Qu.:-185.00  \n",
       " Median : -88.0   Median :-146.00   Median : -82.00   Median : -49.00  \n",
       " Mean   : -84.8   Mean   : -73.85   Mean   : -93.42   Mean   : -68.17  \n",
       " 3rd Qu.: -22.0   3rd Qu.:  65.25   3rd Qu.: -51.00   3rd Qu.: -16.00  \n",
       " Max.   : 123.0   Max.   : 238.00   Max.   : 159.00   Max.   : 152.00  \n",
       "      V133             V134              V135              V136        \n",
       " Min.   :-94.00   Min.   :-140.00   Min.   :-322.00   Min.   :-341.00  \n",
       " 1st Qu.:-20.00   1st Qu.:-120.00   1st Qu.: -97.00   1st Qu.:-120.00  \n",
       " Median : 23.00   Median :-103.00   Median : -83.00   Median : -86.00  \n",
       " Mean   : 11.94   Mean   : -50.21   Mean   : -82.76   Mean   : -86.15  \n",
       " 3rd Qu.: 40.00   3rd Qu.:  16.00   3rd Qu.: -61.00   3rd Qu.: -51.00  \n",
       " Max.   :140.00   Max.   : 170.00   Max.   : 176.00   Max.   : 187.00  \n",
       "      V137              V138              V139              V140        \n",
       " Min.   :-342.00   Min.   :-197.00   Min.   :-201.00   Min.   :-200.00  \n",
       " 1st Qu.:-112.00   1st Qu.: -91.00   1st Qu.:-126.00   1st Qu.: -91.00  \n",
       " Median : -84.00   Median : -36.00   Median :  20.00   Median : -43.50  \n",
       " Mean   : -89.71   Mean   : -45.76   Mean   : -19.79   Mean   : -39.03  \n",
       " 3rd Qu.: -42.00   3rd Qu.: -23.00   3rd Qu.:  52.00   3rd Qu.: -19.00  \n",
       " Max.   : 111.00   Max.   : 137.00   Max.   : 186.00   Max.   : 127.00  \n",
       "      V141              V142              V143              V144        \n",
       " Min.   :-246.00   Min.   :-286.00   Min.   :-294.00   Min.   :-186.00  \n",
       " 1st Qu.:-141.25   1st Qu.: -69.00   1st Qu.: -91.00   1st Qu.: -90.00  \n",
       " Median : -45.00   Median : -51.50   Median : -55.00   Median :  -0.50  \n",
       " Mean   : -70.73   Mean   : -54.39   Mean   : -56.02   Mean   : -24.26  \n",
       " 3rd Qu.:  -7.00   3rd Qu.: -34.00   3rd Qu.: -39.00   3rd Qu.:  27.25  \n",
       " Max.   : 138.00   Max.   : 207.00   Max.   : 238.00   Max.   : 177.00  \n",
       "      V145              V146              V147             V148        \n",
       " Min.   :-158.00   Min.   :-173.00   Min.   :-179.0   Min.   :-107.00  \n",
       " 1st Qu.:-142.25   1st Qu.:-164.00   1st Qu.:-178.0   1st Qu.:-103.00  \n",
       " Median :  29.00   Median :  11.00   Median :-178.0   Median :-102.00  \n",
       " Mean   : -14.14   Mean   : -37.47   Mean   :-174.2   Mean   : -83.62  \n",
       " 3rd Qu.:  58.00   3rd Qu.:  23.00   3rd Qu.:-177.0   3rd Qu.:-101.00  \n",
       " Max.   : 213.00   Max.   : 158.00   Max.   : 178.0   Max.   : 240.00  \n",
       "      V149             V150              V151              V152         \n",
       " Min.   :-131.0   Min.   :-201.00   Min.   :-215.00   Min.   :-191.000  \n",
       " 1st Qu.:-121.0   1st Qu.: -75.25   1st Qu.: -93.00   1st Qu.: -77.500  \n",
       " Median :-118.0   Median : -33.00   Median : -54.00   Median :  34.000  \n",
       " Mean   :-113.9   Mean   : -32.79   Mean   : -46.04   Mean   :  -3.244  \n",
       " 3rd Qu.:-115.0   3rd Qu.:  -3.00   3rd Qu.: -27.00   3rd Qu.:  58.000  \n",
       " Max.   :  -3.0   Max.   : 134.00   Max.   : 121.00   Max.   : 174.000  \n",
       "      V153             V154              V155              V156        \n",
       " Min.   :-126.0   Min.   :-125.00   Min.   :-112.00   Min.   :-171.00  \n",
       " 1st Qu.: -91.0   1st Qu.:-120.00   1st Qu.:-110.00   1st Qu.:-166.00  \n",
       " Median : -24.0   Median : -16.00   Median :  -1.50   Median : -58.00  \n",
       " Mean   : -24.1   Mean   : -37.48   Mean   : -29.83   Mean   : -83.16  \n",
       " 3rd Qu.:  30.0   3rd Qu.:   3.00   3rd Qu.:  13.00   3rd Qu.: -46.00  \n",
       " Max.   : 243.0   Max.   : 154.00   Max.   : 207.00   Max.   :  84.00  \n",
       "      V157              V158              V159             V160       \n",
       " Min.   :-145.00   Min.   :-197.00   Min.   :-252.0   Min.   :-324.0  \n",
       " 1st Qu.: -50.25   1st Qu.:-188.00   1st Qu.:-240.0   1st Qu.:-264.0  \n",
       " Median :   3.00   Median : -83.00   Median :-236.0   Median :-236.0  \n",
       " Mean   :  16.22   Mean   : -78.94   Mean   :-221.7   Mean   :-204.4  \n",
       " 3rd Qu.: 104.50   3rd Qu.:  23.00   3rd Qu.:-232.0   3rd Qu.:-154.8  \n",
       " Max.   : 161.00   Max.   : 113.00   Max.   : 141.0   Max.   :  72.0  \n",
       "      V161             V162              V163              V164       \n",
       " Min.   :-217.0   Min.   :-135.00   Min.   :-126.00   Min.   :-78.00  \n",
       " 1st Qu.:-208.0   1st Qu.: -91.00   1st Qu.: -39.25   1st Qu.: 33.00  \n",
       " Median :-189.5   Median : -15.00   Median :  31.50   Median : 84.00  \n",
       " Mean   :-108.3   Mean   : -25.23   Mean   :  37.43   Mean   : 79.75  \n",
       " 3rd Qu.:  30.0   3rd Qu.:  22.00   3rd Qu.: 128.00   3rd Qu.:119.00  \n",
       " Max.   : 173.0   Max.   : 185.00   Max.   : 253.00   Max.   :291.00  \n",
       "      V165             V166              V167              V168       \n",
       " Min.   : 35.00   Min.   :-132.00   Min.   :-258.00   Min.   :-72.00  \n",
       " 1st Qu.: 54.00   1st Qu.: -42.25   1st Qu.: -28.00   1st Qu.:-12.00  \n",
       " Median : 69.00   Median : -36.00   Median : -11.00   Median : 35.00  \n",
       " Mean   : 85.36   Mean   : -34.13   Mean   : -26.24   Mean   : 33.71  \n",
       " 3rd Qu.: 99.00   3rd Qu.: -28.00   3rd Qu.:   7.00   3rd Qu.: 74.00  \n",
       " Max.   :302.00   Max.   :  24.00   Max.   :  82.00   Max.   :235.00  "
      ]
     },
     "metadata": {},
     "output_type": "display_data"
    }
   ],
   "source": [
    "#quick look\n",
    "summary(mymusk)\n"
   ]
  },
  {
   "cell_type": "code",
   "execution_count": 9,
   "id": "6725fd71",
   "metadata": {
    "scrolled": false
   },
   "outputs": [
    {
     "data": {
      "text/html": [
       "476"
      ],
      "text/latex": [
       "476"
      ],
      "text/markdown": [
       "476"
      ],
      "text/plain": [
       "[1] 476"
      ]
     },
     "metadata": {},
     "output_type": "display_data"
    },
    {
     "data": {
      "text/html": [
       "207"
      ],
      "text/latex": [
       "207"
      ],
      "text/markdown": [
       "207"
      ],
      "text/plain": [
       "[1] 207"
      ]
     },
     "metadata": {},
     "output_type": "display_data"
    },
    {
     "data": {
      "text/html": [
       "269"
      ],
      "text/latex": [
       "269"
      ],
      "text/markdown": [
       "269"
      ],
      "text/plain": [
       "[1] 269"
      ]
     },
     "metadata": {},
     "output_type": "display_data"
    },
    {
     "data": {
      "text/html": [
       "0.434873949579832"
      ],
      "text/latex": [
       "0.434873949579832"
      ],
      "text/markdown": [
       "0.434873949579832"
      ],
      "text/plain": [
       "[1] 0.4348739"
      ]
     },
     "metadata": {},
     "output_type": "display_data"
    },
    {
     "data": {
      "image/png": "[encoded data removed]",
      "text/plain": [
       "Plot with title \"Histogram of mymusk$Bag_Class\""
      ]
     },
     "metadata": {},
     "output_type": "display_data"
    }
   ],
   "source": [
    "#no of class1 bags\n",
    "hist(mymusk$Bag_Class)\n",
    "#total\n",
    "nrow(mymusk)\n",
    "class1 = sum(mymusk$Bag_Class)\n",
    "class1 \n",
    "#class0= total-class1\n",
    "class0=  nrow(mymusk) - class1 \n",
    "class0\n",
    "ratio = class1/nrow(mymusk)\n",
    "ratio"
   ]
  },
  {
   "cell_type": "code",
   "execution_count": 10,
   "id": "d80fe942",
   "metadata": {},
   "outputs": [
    {
     "data": {
      "image/png": "[encoded data removed]",
      "text/plain": [
       "plot without title"
      ]
     },
     "metadata": {},
     "output_type": "display_data"
    }
   ],
   "source": [
    "plot(mymusk$Bag_Id,mymusk$Bag_Class)"
   ]
  },
  {
   "cell_type": "markdown",
   "id": "91c4e650",
   "metadata": {},
   "source": [
    "Roughly, the first half  is class1 and the rest is class0."
   ]
  },
  {
   "cell_type": "code",
   "execution_count": 11,
   "id": "580d2278",
   "metadata": {},
   "outputs": [
    {
     "data": {
      "image/png": "[encoded data removed]",
      "text/plain": [
       "plot without title"
      ]
     },
     "metadata": {},
     "output_type": "display_data"
    }
   ],
   "source": [
    "#plot \n",
    " \n",
    "ggplot(mymusk, aes(x = as.factor(Bag_Class), y = as.factor (Bag_Id), color = Bag_Class)) +\n",
    "   geom_jitter() +\n",
    "   theme_minimal() +\n",
    "   theme(legend.position = \"none\") +\n",
    "   labs(title = \" Bag Class vs Bag Id\",\n",
    "        x = \"Bag Class\",\n",
    "        y = \"Bag Id\")\n"
   ]
  },
  {
   "cell_type": "markdown",
   "id": "42a63193",
   "metadata": {},
   "source": [
    "The bag id instance vs the bag class is scattered above."
   ]
  },
  {
   "cell_type": "markdown",
   "id": "0008a1f2",
   "metadata": {},
   "source": [
    "## Representations"
   ]
  },
  {
   "cell_type": "markdown",
   "id": "c6c667a1",
   "metadata": {},
   "source": [
    " #### k-medoids will be used with euclidean distance (representation#1) and manhattan distance (representation#2)  for representing the problem.\n",
    "\n",
    "From Wikipedia: The k-medoids problem, like the k-means problem (https://doi.org/10.1016/j.ins.2018.08.020), is a clustering problem. Both the k-means and k-medoids methods are partitional (they divide the dataset into groups) and aim to reduce the distance between points identified as belonging to a cluster and a point designated as its center. Unlike the k-means algorithm, k-medoids selects actual data points as cluster centers, allowing for more interpretability of cluster centers than k-means, which does not require the cluster center to be one of the input data points (it is the average between the points in the cluster).\n",
    "\n",
    "Furthermore, unlike k-means which requires Euclidean distance for effective solutions, k-medoids can be utilized with any dissimilarity measure. K-medoids is more resilient to noise and outliers than k-means since it minimizes a sum of pairwise dissimilarities rather than a total of squared Euclidean distances. A cluster's medoid is defined as the object in the cluster with the least average dissimilarity to all other objects in the cluster, i.e., it is the cluster's most centrally situated point.  (https://en.wikipedia.org/wiki/K-medoids)\n",
    "\n",
    "Since k-medoids allows different distance metrics; euclidean and manhattan distances are going to be used for 2 different representations.\n",
    "\n",
    "The number of clusters needs to be determined and tuned accordingly.Where the biggest drop happens in the Within Sum of Squares (WSS) happens considered as the optimal number of clusters. This is shown graphically and also numerically. \n"
   ]
  },
  {
   "cell_type": "markdown",
   "id": "6ac815f2",
   "metadata": {},
   "source": [
    "Since the representations will be distance based scaling of the features are needed.\n"
   ]
  },
  {
   "cell_type": "code",
   "execution_count": 12,
   "id": "1e9d8b22",
   "metadata": {},
   "outputs": [
    {
     "data": {
      "text/html": [
       "<table>\n",
       "<thead><tr><th scope=col>V3</th><th scope=col>V4</th><th scope=col>V5</th><th scope=col>V6</th><th scope=col>V7</th><th scope=col>V8</th><th scope=col>V9</th><th scope=col>V10</th><th scope=col>V11</th><th scope=col>V12</th><th scope=col>...</th><th scope=col>V159</th><th scope=col>V160</th><th scope=col>V161</th><th scope=col>V162</th><th scope=col>V163</th><th scope=col>V164</th><th scope=col>V165</th><th scope=col>V166</th><th scope=col>V167</th><th scope=col>V168</th></tr></thead>\n",
       "<tbody>\n",
       "\t<tr><td>0.180723   </td><td>-0.8815999 </td><td>-0.4301752 </td><td>-1.203764  </td><td>-0.1637934 </td><td>0.2255951  </td><td>0.3718827  </td><td>-1.263585  </td><td>0.6545626  </td><td>0.6772360  </td><td>...        </td><td>-0.2581806 </td><td> 1.455964  </td><td>-0.1702653 </td><td>-1.444906  </td><td>-0.8638585 </td><td>-1.0098004 </td><td>-0.7868047 </td><td>-0.1792746 </td><td>0.5558014  </td><td>-0.06854306</td></tr>\n",
       "\t<tr><td>0.180723   </td><td>-0.8023368 </td><td>-0.9072433 </td><td>-1.071341  </td><td>-0.1637934 </td><td>0.7037235  </td><td>0.6158746  </td><td>-2.345572  </td><td>0.4780699  </td><td>1.1188121  </td><td>...        </td><td>-0.2581806 </td><td>-1.089633  </td><td> 1.3815278 </td><td>-1.444906  </td><td>-0.8753112 </td><td>-0.9895037 </td><td>-0.7868047 </td><td>-0.1792746 </td><td>0.5385627  </td><td>-0.06854306</td></tr>\n",
       "\t<tr><td>0.180723   </td><td>-0.8023368 </td><td>-0.9072433 </td><td>-1.203764  </td><td>-0.1637934 </td><td>0.2255951  </td><td>0.6158746  </td><td>-2.226817  </td><td>0.4780699  </td><td>0.6634368  </td><td>...        </td><td>-0.2581806 </td><td> 1.467129  </td><td>-0.1538442 </td><td>-1.444906  </td><td>-0.8638585 </td><td>-1.0098004 </td><td>-0.7868047 </td><td>-0.1792746 </td><td>0.5385627  </td><td>-0.05008916</td></tr>\n",
       "\t<tr><td>0.180723   </td><td>-0.8815999 </td><td>-0.4446318 </td><td>-1.071341  </td><td>-0.1637934 </td><td>0.7037235  </td><td>0.3718827  </td><td>-1.355949  </td><td>0.6545626  </td><td>1.1188121  </td><td>...        </td><td>-0.2581806 </td><td>-1.089633  </td><td> 1.3815278 </td><td>-1.444906  </td><td>-0.8753112 </td><td>-1.0098004 </td><td>-0.7868047 </td><td>-0.1792746 </td><td>0.5558014  </td><td>-0.06854306</td></tr>\n",
       "\t<tr><td>0.180723   </td><td>-0.8815999 </td><td>-0.3289789 </td><td>-1.203764  </td><td>-0.1637934 </td><td>0.2147286  </td><td>0.3812670  </td><td>-1.250390  </td><td>0.6545626  </td><td>0.6634368  </td><td>...        </td><td>-0.2581806 </td><td> 1.467129  </td><td>-0.1538442 </td><td> 1.162267  </td><td> 1.0372846 </td><td> 1.3040163 </td><td>-0.8920954 </td><td> 0.2576990 </td><td>0.6937105  </td><td>-0.14235866</td></tr>\n",
       "\t<tr><td>0.180723   </td><td>-0.8023368 </td><td>-0.9072433 </td><td>-1.071341  </td><td>-0.1637934 </td><td>0.7037235  </td><td>0.6158746  </td><td>-2.345572  </td><td>0.4780699  </td><td>1.1326113  </td><td>...        </td><td>-0.2581806 </td><td>-1.067303  </td><td> 1.3897384 </td><td> 1.162267  </td><td> 1.0258320 </td><td> 1.2837197 </td><td>-0.9131535 </td><td> 0.1952742 </td><td>0.6937105  </td><td>-0.14235866</td></tr>\n",
       "</tbody>\n",
       "</table>\n"
      ],
      "text/latex": [
       "\\begin{tabular}{llllllllllllllllllllllllllllllllllllllllllllllllllllllllllllllllllllllllllllllllllllllllllllllllllllllllllllllllllllllllllllllllllllllllllllllllllllllllllllllllllllll}\n",
       " V3 & V4 & V5 & V6 & V7 & V8 & V9 & V10 & V11 & V12 & ... & V159 & V160 & V161 & V162 & V163 & V164 & V165 & V166 & V167 & V168\\\\\n",
       "\\hline\n",
       "\t 0.180723    & -0.8815999  & -0.4301752  & -1.203764   & -0.1637934  & 0.2255951   & 0.3718827   & -1.263585   & 0.6545626   & 0.6772360   & ...         & -0.2581806  &  1.455964   & -0.1702653  & -1.444906   & -0.8638585  & -1.0098004  & -0.7868047  & -0.1792746  & 0.5558014   & -0.06854306\\\\\n",
       "\t 0.180723    & -0.8023368  & -0.9072433  & -1.071341   & -0.1637934  & 0.7037235   & 0.6158746   & -2.345572   & 0.4780699   & 1.1188121   & ...         & -0.2581806  & -1.089633   &  1.3815278  & -1.444906   & -0.8753112  & -0.9895037  & -0.7868047  & -0.1792746  & 0.5385627   & -0.06854306\\\\\n",
       "\t 0.180723    & -0.8023368  & -0.9072433  & -1.203764   & -0.1637934  & 0.2255951   & 0.6158746   & -2.226817   & 0.4780699   & 0.6634368   & ...         & -0.2581806  &  1.467129   & -0.1538442  & -1.444906   & -0.8638585  & -1.0098004  & -0.7868047  & -0.1792746  & 0.5385627   & -0.05008916\\\\\n",
       "\t 0.180723    & -0.8815999  & -0.4446318  & -1.071341   & -0.1637934  & 0.7037235   & 0.3718827   & -1.355949   & 0.6545626   & 1.1188121   & ...         & -0.2581806  & -1.089633   &  1.3815278  & -1.444906   & -0.8753112  & -1.0098004  & -0.7868047  & -0.1792746  & 0.5558014   & -0.06854306\\\\\n",
       "\t 0.180723    & -0.8815999  & -0.3289789  & -1.203764   & -0.1637934  & 0.2147286   & 0.3812670   & -1.250390   & 0.6545626   & 0.6634368   & ...         & -0.2581806  &  1.467129   & -0.1538442  &  1.162267   &  1.0372846  &  1.3040163  & -0.8920954  &  0.2576990  & 0.6937105   & -0.14235866\\\\\n",
       "\t 0.180723    & -0.8023368  & -0.9072433  & -1.071341   & -0.1637934  & 0.7037235   & 0.6158746   & -2.345572   & 0.4780699   & 1.1326113   & ...         & -0.2581806  & -1.067303   &  1.3897384  &  1.162267   &  1.0258320  &  1.2837197  & -0.9131535  &  0.1952742  & 0.6937105   & -0.14235866\\\\\n",
       "\\end{tabular}\n"
      ],
      "text/markdown": [
       "\n",
       "| V3 | V4 | V5 | V6 | V7 | V8 | V9 | V10 | V11 | V12 | ... | V159 | V160 | V161 | V162 | V163 | V164 | V165 | V166 | V167 | V168 |\n",
       "|---|---|---|---|---|---|---|---|---|---|---|---|---|---|---|---|---|---|---|---|---|\n",
       "| 0.180723    | -0.8815999  | -0.4301752  | -1.203764   | -0.1637934  | 0.2255951   | 0.3718827   | -1.263585   | 0.6545626   | 0.6772360   | ...         | -0.2581806  |  1.455964   | -0.1702653  | -1.444906   | -0.8638585  | -1.0098004  | -0.7868047  | -0.1792746  | 0.5558014   | -0.06854306 |\n",
       "| 0.180723    | -0.8023368  | -0.9072433  | -1.071341   | -0.1637934  | 0.7037235   | 0.6158746   | -2.345572   | 0.4780699   | 1.1188121   | ...         | -0.2581806  | -1.089633   |  1.3815278  | -1.444906   | -0.8753112  | -0.9895037  | -0.7868047  | -0.1792746  | 0.5385627   | -0.06854306 |\n",
       "| 0.180723    | -0.8023368  | -0.9072433  | -1.203764   | -0.1637934  | 0.2255951   | 0.6158746   | -2.226817   | 0.4780699   | 0.6634368   | ...         | -0.2581806  |  1.467129   | -0.1538442  | -1.444906   | -0.8638585  | -1.0098004  | -0.7868047  | -0.1792746  | 0.5385627   | -0.05008916 |\n",
       "| 0.180723    | -0.8815999  | -0.4446318  | -1.071341   | -0.1637934  | 0.7037235   | 0.3718827   | -1.355949   | 0.6545626   | 1.1188121   | ...         | -0.2581806  | -1.089633   |  1.3815278  | -1.444906   | -0.8753112  | -1.0098004  | -0.7868047  | -0.1792746  | 0.5558014   | -0.06854306 |\n",
       "| 0.180723    | -0.8815999  | -0.3289789  | -1.203764   | -0.1637934  | 0.2147286   | 0.3812670   | -1.250390   | 0.6545626   | 0.6634368   | ...         | -0.2581806  |  1.467129   | -0.1538442  |  1.162267   |  1.0372846  |  1.3040163  | -0.8920954  |  0.2576990  | 0.6937105   | -0.14235866 |\n",
       "| 0.180723    | -0.8023368  | -0.9072433  | -1.071341   | -0.1637934  | 0.7037235   | 0.6158746   | -2.345572   | 0.4780699   | 1.1326113   | ...         | -0.2581806  | -1.067303   |  1.3897384  |  1.162267   |  1.0258320  |  1.2837197  | -0.9131535  |  0.1952742  | 0.6937105   | -0.14235866 |\n",
       "\n"
      ],
      "text/plain": [
       "     V3       V4         V5         V6        V7         V8        V9       \n",
       "[1,] 0.180723 -0.8815999 -0.4301752 -1.203764 -0.1637934 0.2255951 0.3718827\n",
       "[2,] 0.180723 -0.8023368 -0.9072433 -1.071341 -0.1637934 0.7037235 0.6158746\n",
       "[3,] 0.180723 -0.8023368 -0.9072433 -1.203764 -0.1637934 0.2255951 0.6158746\n",
       "[4,] 0.180723 -0.8815999 -0.4446318 -1.071341 -0.1637934 0.7037235 0.3718827\n",
       "[5,] 0.180723 -0.8815999 -0.3289789 -1.203764 -0.1637934 0.2147286 0.3812670\n",
       "[6,] 0.180723 -0.8023368 -0.9072433 -1.071341 -0.1637934 0.7037235 0.6158746\n",
       "     V10       V11       V12       ... V159       V160      V161      \n",
       "[1,] -1.263585 0.6545626 0.6772360 ... -0.2581806  1.455964 -0.1702653\n",
       "[2,] -2.345572 0.4780699 1.1188121 ... -0.2581806 -1.089633  1.3815278\n",
       "[3,] -2.226817 0.4780699 0.6634368 ... -0.2581806  1.467129 -0.1538442\n",
       "[4,] -1.355949 0.6545626 1.1188121 ... -0.2581806 -1.089633  1.3815278\n",
       "[5,] -1.250390 0.6545626 0.6634368 ... -0.2581806  1.467129 -0.1538442\n",
       "[6,] -2.345572 0.4780699 1.1326113 ... -0.2581806 -1.067303  1.3897384\n",
       "     V162      V163       V164       V165       V166       V167     \n",
       "[1,] -1.444906 -0.8638585 -1.0098004 -0.7868047 -0.1792746 0.5558014\n",
       "[2,] -1.444906 -0.8753112 -0.9895037 -0.7868047 -0.1792746 0.5385627\n",
       "[3,] -1.444906 -0.8638585 -1.0098004 -0.7868047 -0.1792746 0.5385627\n",
       "[4,] -1.444906 -0.8753112 -1.0098004 -0.7868047 -0.1792746 0.5558014\n",
       "[5,]  1.162267  1.0372846  1.3040163 -0.8920954  0.2576990 0.6937105\n",
       "[6,]  1.162267  1.0258320  1.2837197 -0.9131535  0.1952742 0.6937105\n",
       "     V168       \n",
       "[1,] -0.06854306\n",
       "[2,] -0.06854306\n",
       "[3,] -0.05008916\n",
       "[4,] -0.06854306\n",
       "[5,] -0.14235866\n",
       "[6,] -0.14235866"
      ]
     },
     "metadata": {},
     "output_type": "display_data"
    }
   ],
   "source": [
    " #  The features should be scaled \n",
    "\n",
    "sclmusk <- scale(mymusk[,-c(1,2)])\n",
    "head(sclmusk)\n",
    "\n",
    "#the first two columns hold the bag class and ID, no need to be scaled."
   ]
  },
  {
   "cell_type": "code",
   "execution_count": 13,
   "id": "be4fabf0",
   "metadata": {},
   "outputs": [
    {
     "data": {
      "text/html": [
       "<table>\n",
       "<thead><tr><th scope=col>1</th><th scope=col>2</th><th scope=col>3</th><th scope=col>120</th><th scope=col>124</th><th scope=col>146</th></tr></thead>\n",
       "<tbody>\n",
       "\t<tr><td> 0.000000</td><td> 9.747368</td><td>6.420542 </td><td>17.09870 </td><td>18.08329 </td><td>12.153268</td></tr>\n",
       "\t<tr><td> 9.747368</td><td> 0.000000</td><td>7.188194 </td><td>16.63604 </td><td>17.27497 </td><td> 9.706575</td></tr>\n",
       "\t<tr><td> 6.420542</td><td> 7.188194</td><td>0.000000 </td><td>16.49471 </td><td>17.05425 </td><td>11.555865</td></tr>\n",
       "\t<tr><td> 7.203768</td><td> 6.344397</td><td>9.361300 </td><td>17.32626 </td><td>18.37635 </td><td>10.305556</td></tr>\n",
       "\t<tr><td> 6.354020</td><td>11.634693</td><td>9.034539 </td><td>18.18709 </td><td>19.10382 </td><td>10.405445</td></tr>\n",
       "\t<tr><td>11.635096</td><td> 6.350102</td><td>9.575952 </td><td>17.74348 </td><td>18.32997 </td><td> 7.352777</td></tr>\n",
       "</tbody>\n",
       "</table>\n"
      ],
      "text/latex": [
       "\\begin{tabular}{r|llllll}\n",
       " 1 & 2 & 3 & 120 & 124 & 146\\\\\n",
       "\\hline\n",
       "\t  0.000000 &  9.747368 & 6.420542  & 17.09870  & 18.08329  & 12.153268\\\\\n",
       "\t  9.747368 &  0.000000 & 7.188194  & 16.63604  & 17.27497  &  9.706575\\\\\n",
       "\t  6.420542 &  7.188194 & 0.000000  & 16.49471  & 17.05425  & 11.555865\\\\\n",
       "\t  7.203768 &  6.344397 & 9.361300  & 17.32626  & 18.37635  & 10.305556\\\\\n",
       "\t  6.354020 & 11.634693 & 9.034539  & 18.18709  & 19.10382  & 10.405445\\\\\n",
       "\t 11.635096 &  6.350102 & 9.575952  & 17.74348  & 18.32997  &  7.352777\\\\\n",
       "\\end{tabular}\n"
      ],
      "text/markdown": [
       "\n",
       "| 1 | 2 | 3 | 120 | 124 | 146 |\n",
       "|---|---|---|---|---|---|\n",
       "|  0.000000 |  9.747368 | 6.420542  | 17.09870  | 18.08329  | 12.153268 |\n",
       "|  9.747368 |  0.000000 | 7.188194  | 16.63604  | 17.27497  |  9.706575 |\n",
       "|  6.420542 |  7.188194 | 0.000000  | 16.49471  | 17.05425  | 11.555865 |\n",
       "|  7.203768 |  6.344397 | 9.361300  | 17.32626  | 18.37635  | 10.305556 |\n",
       "|  6.354020 | 11.634693 | 9.034539  | 18.18709  | 19.10382  | 10.405445 |\n",
       "| 11.635096 |  6.350102 | 9.575952  | 17.74348  | 18.32997  |  7.352777 |\n",
       "\n"
      ],
      "text/plain": [
       "  1         2         3        120      124      146      \n",
       "1  0.000000  9.747368 6.420542 17.09870 18.08329 12.153268\n",
       "2  9.747368  0.000000 7.188194 16.63604 17.27497  9.706575\n",
       "3  6.420542  7.188194 0.000000 16.49471 17.05425 11.555865\n",
       "4  7.203768  6.344397 9.361300 17.32626 18.37635 10.305556\n",
       "5  6.354020 11.634693 9.034539 18.18709 19.10382 10.405445\n",
       "6 11.635096  6.350102 9.575952 17.74348 18.32997  7.352777"
      ]
     },
     "metadata": {},
     "output_type": "display_data"
    }
   ],
   "source": [
    " #does not have the first two columns\n",
    "euc_dist <- sclmusk %>% dist(\"euclidean\") \n",
    "man_dist <- sclmusk %>% dist(\"manhattan\") \n",
    "\n",
    "\n",
    "euc_dist<-as.data.table(as.matrix(euc_dist))\n",
    "man_dist<-as.data.table(as.matrix(man_dist))\n",
    "#sample for dist matrix\n",
    "euc_dist[1:6, c(1,2,3,120,124,146)]"
   ]
  },
  {
   "cell_type": "markdown",
   "id": "8be92a50",
   "metadata": {},
   "source": [
    "### Finding the Optimal Number of Clusters\n"
   ]
  },
  {
   "cell_type": "markdown",
   "id": "5871df5d",
   "metadata": {},
   "source": [
    "For the applied method please see: https://www.statology.org/k-medoids-in-r/"
   ]
  },
  {
   "cell_type": "markdown",
   "id": "30738906",
   "metadata": {},
   "source": [
    "#### Finding the Optimal Number of Clusters: Euclidean"
   ]
  },
  {
   "cell_type": "markdown",
   "id": "3f84a372",
   "metadata": {},
   "source": [
    "Since, how many clusters is optimal is not known beforehand, a plot willl be created to decide on the number of clusters.\n",
    "For this purpose, the fviz_nbclust() function  is used to create a plot of the number of clusters vs. the total within sum of squares:\n"
   ]
  },
  {
   "cell_type": "code",
   "execution_count": 14,
   "id": "e5a754fc",
   "metadata": {},
   "outputs": [
    {
     "data": {
      "text/html": [
       "<table>\n",
       "<thead><tr><th scope=col>clusters</th><th scope=col>y</th></tr></thead>\n",
       "<tbody>\n",
       "\t<tr><td>1       </td><td>78850.00</td></tr>\n",
       "\t<tr><td>2       </td><td>57232.13</td></tr>\n",
       "\t<tr><td>3       </td><td>54107.40</td></tr>\n",
       "\t<tr><td>4       </td><td>45321.88</td></tr>\n",
       "\t<tr><td>5       </td><td>43768.01</td></tr>\n",
       "\t<tr><td>6       </td><td>41043.48</td></tr>\n",
       "\t<tr><td>7       </td><td>39820.95</td></tr>\n",
       "\t<tr><td>8       </td><td>38655.33</td></tr>\n",
       "\t<tr><td>9       </td><td>37258.15</td></tr>\n",
       "\t<tr><td>10      </td><td>35909.35</td></tr>\n",
       "</tbody>\n",
       "</table>\n"
      ],
      "text/latex": [
       "\\begin{tabular}{r|ll}\n",
       " clusters & y\\\\\n",
       "\\hline\n",
       "\t 1        & 78850.00\\\\\n",
       "\t 2        & 57232.13\\\\\n",
       "\t 3        & 54107.40\\\\\n",
       "\t 4        & 45321.88\\\\\n",
       "\t 5        & 43768.01\\\\\n",
       "\t 6        & 41043.48\\\\\n",
       "\t 7        & 39820.95\\\\\n",
       "\t 8        & 38655.33\\\\\n",
       "\t 9        & 37258.15\\\\\n",
       "\t 10       & 35909.35\\\\\n",
       "\\end{tabular}\n"
      ],
      "text/markdown": [
       "\n",
       "| clusters | y |\n",
       "|---|---|\n",
       "| 1        | 78850.00 |\n",
       "| 2        | 57232.13 |\n",
       "| 3        | 54107.40 |\n",
       "| 4        | 45321.88 |\n",
       "| 5        | 43768.01 |\n",
       "| 6        | 41043.48 |\n",
       "| 7        | 39820.95 |\n",
       "| 8        | 38655.33 |\n",
       "| 9        | 37258.15 |\n",
       "| 10       | 35909.35 |\n",
       "\n"
      ],
      "text/plain": [
       "   clusters y       \n",
       "1  1        78850.00\n",
       "2  2        57232.13\n",
       "3  3        54107.40\n",
       "4  4        45321.88\n",
       "5  5        43768.01\n",
       "6  6        41043.48\n",
       "7  7        39820.95\n",
       "8  8        38655.33\n",
       "9  9        37258.15\n",
       "10 10       35909.35"
      ]
     },
     "metadata": {},
     "output_type": "display_data"
    }
   ],
   "source": [
    "graphE= fviz_nbclust(sclmusk, pam, method = \"wss\")\n",
    "graphE$data"
   ]
  },
  {
   "cell_type": "markdown",
   "id": "c9591946",
   "metadata": {},
   "source": [
    "In order to find the optimal number of clusters (k); for each k value, Within Sum of Squares is represented above. The drop after k=4 becomes less compared to the ones before. The below graph visualize this situation and it can be seen that at k=4 there is an \"elbow\".\n"
   ]
  },
  {
   "cell_type": "code",
   "execution_count": 15,
   "id": "a5818e11",
   "metadata": {},
   "outputs": [
    {
     "data": {
      "image/png": "[encoded data removed]",
      "text/plain": [
       "plot without title"
      ]
     },
     "metadata": {},
     "output_type": "display_data"
    }
   ],
   "source": [
    "fviz_nbclust(sclmusk, pam, method = \"wss\") +\n",
    "  geom_vline(xintercept = 4, linetype = 2)\n",
    "  "
   ]
  },
  {
   "cell_type": "markdown",
   "id": "3b201573",
   "metadata": {},
   "source": [
    "\"The total within sum of squares will typically always increase as we increase the number of clusters, so when we create this type of plot we look for an “elbow” where the sum of squares begins to “bend” or level off.\n",
    "The point where the plot bends is typically the optimal number of clusters. Beyond this number, overfitting is likely to occur.\") (https://www.statology.org/k-medoids-in-r/)"
   ]
  },
  {
   "cell_type": "markdown",
   "id": "0c4b9aa4",
   "metadata": {},
   "source": [
    "For this plot it appear that there is an elbow or “bend” at k = 4 clusters. The number of clusters is set to 4."
   ]
  },
  {
   "cell_type": "markdown",
   "id": "dfc350ad",
   "metadata": {},
   "source": [
    "To perform k-medoids clustering in R, the pam() function is used, it stands for “partitioning around medians” "
   ]
  },
  {
   "cell_type": "code",
   "execution_count": 16,
   "id": "10dbc90e",
   "metadata": {
    "scrolled": true
   },
   "outputs": [
    {
     "data": {
      "text/plain": [
       "Medoids:\n",
       "      ID         V3         V4         V5         V6         V7         V8\n",
       "[1,]  12  0.1254375  0.2847002  0.2637420 -1.2037636 -0.1637934  0.2690613\n",
       "[2,]  90  1.0652899 -0.5871941  0.4805911  0.1601865 -0.1637934 -0.9479927\n",
       "[3,]  69  0.2360084  0.1714671  0.8420063 -0.9389189 -0.1637934  0.8558552\n",
       "[4,] 108 -1.0355565 -0.8249834 -0.9795263  0.2263977 -0.1637934 -0.2959994\n",
       "             V9        V10        V11        V12        V13        V14\n",
       "[1,]  0.4375728 -2.2664022  0.8206733  0.7048345 -1.7800698 -1.6143436\n",
       "[2,]  0.6346433 -0.1552072  0.5611253 -0.6474922  0.5501335  0.3747149\n",
       "[3,] -1.4205197  0.1350821 -1.4841128  0.6634368  0.3605955 -0.1557007\n",
       "[4,]  0.5971060 -0.1156223  0.4469242 -0.7440870  0.5278350  0.2782757\n",
       "            V15         V16         V17        V18        V19        V20\n",
       "[1,] 0.06983363 -2.15451667 -2.32539471 -0.6091391  0.1237210 -0.4516571\n",
       "[2,] 0.23581133 -0.01585169  0.04779095 -0.2333937  0.6940542 -0.2222949\n",
       "[3,] 0.03965586  0.27250764  0.04779095  0.5494093 -1.5181471 -0.1764225\n",
       "[4,] 0.13018915  0.06825312  0.13957161 -0.3586422  0.7372613 -0.2222949\n",
       "            V21        V22        V23        V24         V25        V26\n",
       "[1,] -2.2455061 -2.0181973  0.2854461  0.4063758 -0.05877485  0.6993993\n",
       "[2,]  0.4249924  0.3520588  0.3882240  0.5434664  0.64679287 -0.7493129\n",
       "[3,]  0.3392425  0.7422839 -0.8579577 -1.3758023 -0.52915334  1.1851439\n",
       "[4,]  0.5474923  0.3809644  0.1569738  0.4749211  0.71093540 -0.7407910\n",
       "            V27        V28         V29        V30         V31        V32\n",
       "[1,]  1.3679726  0.8906249 -0.05884362  0.6669441  0.45437224  0.8941058\n",
       "[2,] -0.8712123  0.7340584  0.40671926  0.7139320  0.07556593 -0.8936430\n",
       "[3,]  1.0054379 -1.1894735 -1.61793791 -0.9619671 -0.95754220  1.1228698\n",
       "[4,] -0.8392239  0.4880253  0.59077901  0.8862207 -0.11383723 -0.9190612\n",
       "            V33        V34        V35        V36        V37        V38\n",
       "[1,] -0.3635409 -0.9498061 -0.5922585  1.2310951 -1.0854723 -1.2955757\n",
       "[2,] -0.3635409  0.4343492 -0.3522763 -0.8103452  0.2083752 -0.4393960\n",
       "[3,] -0.3635409 -0.9817481 -0.1762894  1.1411639 -1.3367048  1.5909732\n",
       "[4,] -0.3635409  0.1149287  0.6716475 -0.9002765  1.9167564 -0.7574056\n",
       "            V39        V40        V41        V42        V43        V44\n",
       "[1,] -0.5758105  1.0418909  0.7628985  0.6785875  0.6331575 -0.8625456\n",
       "[2,] -0.5321301  0.9437481  0.5547001  0.1344913  0.5742706  0.5983796\n",
       "[3,] -0.3836168 -1.4852860  0.6657392 -1.4854315  0.5389385 -0.4359037\n",
       "[4,] -0.5758105  0.8088018 -0.9304486  0.2952470 -0.9214557 -1.4960441\n",
       "            V45        V46        V47        V48        V49        V50\n",
       "[1,]  0.6065125 -2.1754006 -2.1285174 -1.5739082 -0.7821863  1.1369453\n",
       "[2,] -0.1560500  0.3670612  0.2734423  0.5846916 -0.4991207  0.3640634\n",
       "[3,]  0.5909500  0.4345602 -0.1038288  0.5172354 -0.9162700 -1.9545823\n",
       "[4,] -0.2805500  0.4233103  0.1476853  0.5059927 -0.1862587  0.3921682\n",
       "              V51        V52         V53        V54        V55        V56\n",
       "[1,] -2.495130996 -0.4548729 -0.60835685  0.6318330  0.3772948 -1.2229112\n",
       "[2,] -0.085902495 -0.3343164 -0.01564609  0.6648211  0.5578429  0.4554969\n",
       "[3,]  0.546688229  0.4794401 -0.36354154 -1.3914372 -1.2370182  1.9890065\n",
       "[4,] -0.005146232 -0.3493859 -0.17026629  0.5878489  0.5897044  0.4554969\n",
       "           V57        V58        V59        V60         V61        V62\n",
       "[1,]  1.309034  0.1857881  0.3244945 -0.3613242  0.45039915  1.2921136\n",
       "[2,] -1.048433  0.1857881  0.6386918 -0.3864948 -0.46714731 -0.8977480\n",
       "[3,]  1.035705 -0.1024307 -1.5427351 -0.6004444  0.13452250  0.7582667\n",
       "[4,] -1.378707  0.1057273  0.6925542 -0.2983979 -0.06102019 -0.9631171\n",
       "             V63        V64        V65        V66        V67        V68\n",
       "[1,] -0.94546059 -0.6718603 0.54132901  0.4429668 -1.2799084 -0.2721335\n",
       "[2,] -0.02933481  1.1702020 0.03904322 -0.9706346  0.3008051  0.8179273\n",
       "[3,] -0.90519133 -0.4461173 0.57720657  1.3527847 -1.0470901  0.8633465\n",
       "[4,] -0.52263331 -0.8795437 0.97185969 -0.9781538  0.1047476 -1.7709671\n",
       "            V69         V70         V71        V72        V73         V74\n",
       "[1,] -0.1456230  1.04731558  0.04469535  0.6045359  0.4698324  0.06119177\n",
       "[2,] -0.1041657  0.13427123  0.22933845 -0.1673242  0.6242001  0.42892179\n",
       "[3,] -0.1456230  0.03090772  0.64991440 -0.1030025  0.6885200  0.73536348\n",
       "[4,] -0.1041657 -0.26195557 -1.03238940 -0.5854151 -0.9452050 -1.01135413\n",
       "              V75         V76          V77         V78        V79        V80\n",
       "[1,] -0.840948522 -1.89728020 -1.984847832 -0.34855712  0.4120934 -1.8552575\n",
       "[2,]  0.471072927  0.06907225 -0.023108722 -0.59930753  0.6230521  0.2200927\n",
       "[3,]  0.008741559 -0.17519514 -0.009096299 -0.01422324 -1.4250055  0.7008236\n",
       "[4,]  0.421091158 -0.10191492 -0.037121144 -0.59930753  0.5351527  0.3021687\n",
       "            V81        V82        V83        V84         V85        V86\n",
       "[1,] -1.9149861 -2.3386424  0.8060048  0.3389769 -0.61980731 -0.9205883\n",
       "[2,]  0.5142212  0.4588116  0.8174498  0.5186220  0.21132921 -0.8898202\n",
       "[3,]  0.0994785  0.5070436 -1.5287692 -1.3940699 -0.07830927  0.7921722\n",
       "[4,]  0.5142212  0.5070436  0.6228853  0.4657852  0.18614326 -1.0539170\n",
       "            V87        V88         V89         V90        V91        V92\n",
       "[1,]  0.8701164  0.6644543  0.13788003  0.80089730 -0.1391664  0.8298269\n",
       "[2,] -0.9036324  0.7307962  0.03694824  0.17564877  0.3621696 -1.0009303\n",
       "[3,]  1.0221520 -1.3826670 -0.29108006 -1.17663293 -1.1084158  1.2366619\n",
       "[4,] -0.9239038  0.6170672 -0.37939537 -0.04246118 -0.3898343 -1.0009303\n",
       "            V93        V94        V95         V96        V97        V98\n",
       "[1,] -0.6217365 -1.2421845 -1.2089691  0.99400255  0.6002521 -0.9088084\n",
       "[2,] -0.5984703 -0.7253692  0.2531516  0.17084114 -0.1664933 -0.8181476\n",
       "[3,] -0.5403047 -0.5746313 -1.0900975 -0.10797160 -1.1785973  1.6196191\n",
       "[4,] -0.6217365 -0.7469031  0.2412644  0.01151957  0.9989598  0.5921306\n",
       "            V99       V100       V101       V102       V103        V104\n",
       "[1,] -1.2202894  0.1387225  0.3440624  0.3035133  0.6353155 -1.00998619\n",
       "[2,] -0.4235164  0.9155683  0.2977812  0.4962587  0.4054540 -0.90420520\n",
       "[3,]  0.4039018 -1.4149692  1.0228531 -1.5082937  0.3945082 -0.05795731\n",
       "[4,] -0.2702908  0.7483989 -0.9055297  0.5829942 -0.9408777 -1.24270435\n",
       "           V105       V106        V107        V108       V109       V110\n",
       "[1,] -2.1550972 -2.3009016 -2.33071302 -1.39937742 -0.5584643  0.9156678\n",
       "[2,]  0.2868897  0.4227962  0.10124468 -0.09018693 -0.7058287  0.3445125\n",
       "[3,] -0.1861654  0.1434426  0.08883673  0.91976001 -0.5093428 -1.7143029\n",
       "[4,]  0.2868897  0.4460757  0.20050826 -0.10265541 -0.6075857  0.2648165\n",
       "            V111       V112        V113       V114       V115       V116\n",
       "[1,] -2.26125542 -2.2295684 -2.34090892  0.1282575  0.5795072  0.3496916\n",
       "[2,] -0.10573549  0.3327950  0.06880289  0.7243668  0.8959022  0.6823069\n",
       "[3,]  0.68635316  0.0108226  0.16464370 -0.6028199 -1.2576251 -1.2094429\n",
       "[4,] -0.06678031  0.2254708  0.08249443  0.6343881  0.8856959  0.8174319\n",
       "           V117      V118       V119       V120       V121       V122\n",
       "[1,]  0.7641419 1.4366072  0.8299913  0.9464249  0.5814791  0.1803677\n",
       "[2,] -0.5743084 0.3736428 -0.8720630  0.9558385  0.7843504  0.5502048\n",
       "[3,]  1.3976069 1.2825544  1.2368238 -1.5199438 -1.5317635 -1.5948503\n",
       "[4,] -0.5743084 0.3890481 -0.8305495  0.8522887  0.7674445  0.6981396\n",
       "           V123       V124       V125       V126        V127       V128\n",
       "[1,]  1.0588815  1.5224896  1.2154585 -1.4743195 -0.84090180 -1.2063552\n",
       "[2,] -0.8759278 -1.0171783 -1.0331675 -1.0320382 -0.43063222 -0.9455677\n",
       "[3,]  1.0197944  0.7366731  1.0642904  0.6818020 -0.88192876  0.8799447\n",
       "[4,] -0.8661560 -1.0855101 -0.9292394  0.1427716  0.03092105 -0.5398983\n",
       "           V129       V130       V131       V132        V133       V134\n",
       "[1,]  1.5567769  1.0145947  1.4703145 -1.2267759  0.07686863 -1.0069711\n",
       "[2,] -0.7182687 -0.8638867 -0.2312081  0.2289062 -0.37765892 -0.7890314\n",
       "[3,]  0.9432815  1.1758378  0.6335001 -1.2267759 -1.89275074 -0.6399147\n",
       "[4,] -0.8844237 -0.9364461 -0.4264647  0.6315417  0.77759860  1.7803631\n",
       "           V135       V136       V137        V138       V139          V140\n",
       "[1,]  0.2246534 -1.0567420 -1.7050708  0.38041751  0.1708341  0.2858613998\n",
       "[2,] -0.1253047 -0.3420899 -0.3973066  0.14030250  1.0051683  0.4026374308\n",
       "[3,] -1.2208257 -0.4479643  0.3391043  0.28437151 -1.5690578 -0.1163671513\n",
       "[4,] -0.1253047 -0.4744329 -0.2830359 -0.00376651  0.9339446  0.0004088797\n",
       "           V141       V142        V143       V144       V145       V146\n",
       "[1,]  0.1584905 -1.1872211 -1.06616558  1.1535853  0.2780752  0.1875755\n",
       "[2,]  0.3546823 -0.1470529 -0.01291668  0.4169458  0.5342565  0.7995644\n",
       "[3,] -0.6608986  0.3883277  0.17140188 -1.4698853 -1.4639580 -1.4336581\n",
       "[4,]  0.4123858 -0.1470529  0.11873943  0.3781753  0.4932675  0.5955681\n",
       "           V147       V148       V149         V150        V151        V152\n",
       "[1,] -0.1143990 -0.2954170 -0.2186821  0.160472571  0.05453127  0.09578258\n",
       "[2,] -0.1546756 -0.3275584 -0.2186821 -0.003124466  0.12195174  0.23520920\n",
       "[3,] -0.1546756 -0.2954170 -0.3619618 -0.003124466 -0.08030968 -1.54248025\n",
       "[4,] -0.1143990 -0.2793463 -0.1470423 -0.717002444 -0.57922120  0.45596802\n",
       "             V153       V154       V155        V156       V157        V158\n",
       "[1,] -0.739694622 -1.1958017 -1.2342749 -0.08168187 -0.7926460 -0.24464965\n",
       "[2,]  0.001407231  0.5721752  0.5832614  0.57517896  0.5067175  1.15558962\n",
       "[3,] -1.067489673 -1.2392765 -1.2192540  0.35156676 -1.0856398 -0.08553155\n",
       "[4,]  1.982429493  0.4417507  0.8536387 -1.18576711 -0.4996523 -1.12510312\n",
       "           V159       V160       V161       V162       V163       V164\n",
       "[1,] -0.3057832  1.4113041 -0.1948970 -0.4386287 -0.7951425 -0.9895037\n",
       "[2,] -0.2423131 -0.2857604 -0.8517406  0.9030741  0.7509679 -0.4211979\n",
       "[3,] -0.2423131  0.6297612  1.4964755  0.1407430  1.2090747  0.7966004\n",
       "[4,] -0.3216507 -0.4643988 -0.8681617 -1.6431119 -1.3677759 -1.9840390\n",
       "           V165        V166       V167        V168\n",
       "[1,] -0.7657465 -0.17927456 0.57304003 -0.03163526\n",
       "[2,] -0.3656419 -0.74109768 0.03864209  0.20826544\n",
       "[3,] -0.6183395 -0.24169935 0.10759666 -1.28650047\n",
       "[4,] -0.9131535  0.07042461 0.90057426 -0.71442956\n",
       "Clustering vector:\n",
       "  [1] 1 1 1 1 1 1 1 1 1 1 1 1 1 1 1 1 1 1 1 1 1 2 2 2 2 3 2 3 3 3 4 4 4 3 3 3 4\n",
       " [38] 3 4 2 3 2 3 2 2 2 3 2 3 2 3 2 3 2 3 3 3 3 3 4 4 3 3 3 4 2 3 2 3 2 3 2 3 2\n",
       " [75] 3 2 3 4 4 4 4 4 4 4 4 2 2 2 2 2 2 2 2 2 2 2 2 2 2 2 2 2 2 2 2 2 2 4 4 4 4\n",
       "[112] 4 4 4 4 4 4 4 4 4 4 4 4 4 4 4 4 4 4 4 4 4 4 4 4 4 4 4 4 1 1 1 1 1 1 1 1 1\n",
       "[149] 1 2 4 4 3 4 3 2 3 2 2 3 3 2 3 2 3 4 4 2 2 2 2 3 3 2 4 3 3 3 4 2 3 2 3 2 3\n",
       "[186] 2 2 3 2 3 2 3 3 2 3 2 3 2 3 2 3 4 4 3 4 4 3 2 3 2 3 1 1 1 1 1 1 1 1 1 1 1\n",
       "[223] 1 2 2 3 2 3 2 3 2 3 2 3 3 4 2 3 3 2 2 2 4 3 3 4 2 2 3 2 2 2 3 2 3 3 3 2 2\n",
       "[260] 2 2 2 3 2 3 3 2 2 3 2 3 3 2 2 2 2 3 2 3 2 3 2 3 2 3 2 3 3 2 1 1 4 4 4 4 4\n",
       "[297] 4 2 2 2 2 2 2 4 4 4 4 1 1 4 4 4 4 3 3 4 4 4 4 4 4 2 2 3 3 3 3 2 3 2 3 2 3\n",
       "[334] 3 2 3 3 3 3 4 4 4 4 4 4 4 4 2 2 2 3 3 3 2 2 3 3 3 2 2 3 3 2 3 2 3 3 3 2 2\n",
       "[371] 3 3 3 2 2 3 3 3 2 2 2 3 3 2 3 3 3 2 2 3 3 2 3 2 3 3 2 3 2 3 2 2 2 2 3 2 2\n",
       "[408] 2 2 3 3 3 4 2 2 2 3 2 2 3 2 2 4 2 2 4 4 3 2 2 3 1 1 3 2 2 3 2 3 2 3 4 4 4\n",
       "[445] 4 4 4 4 4 4 4 4 4 4 4 4 4 1 1 2 1 1 1 1 1 1 1 1 2 3 3 2 2 3 2 3\n",
       "Objective function:\n",
       "  build    swap \n",
       "10.7835 10.7835 \n",
       "\n",
       "Available components:\n",
       " [1] \"medoids\"    \"id.med\"     \"clustering\" \"objective\"  \"isolation\" \n",
       " [6] \"clusinfo\"   \"silinfo\"    \"diss\"       \"call\"       \"data\"      "
      ]
     },
     "metadata": {},
     "output_type": "display_data"
    }
   ],
   "source": [
    "#perform k-medoids clustering with k = 4 clusters\n",
    "kmedoidsE <- pam(sclmusk, k = 4,metric = \"euclidean\")\n",
    "\n",
    "#view results\n",
    "kmedoidsE"
   ]
  },
  {
   "cell_type": "markdown",
   "id": "28ed24b5",
   "metadata": {},
   "source": [
    "The clusters can be visualized on a scatterplot that displays the first two principal components on the axes using the fivz_cluster() function.\n"
   ]
  },
  {
   "cell_type": "code",
   "execution_count": 17,
   "id": "da8ab74f",
   "metadata": {},
   "outputs": [
    {
     "data": {
      "image/png": "[encoded data removed]",
      "text/plain": [
       "plot without title"
      ]
     },
     "metadata": {},
     "output_type": "display_data"
    }
   ],
   "source": [
    "#We can visualize the clusters on a scatterplot that displays the first two principal components on the axes using the fivz_cluster() function:\n",
    "#plot results of final k-medoids model\n",
    "fviz_cluster(kmedoidsE, data = sclmusk)"
   ]
  },
  {
   "cell_type": "markdown",
   "id": "92fb9d04",
   "metadata": {},
   "source": [
    "#### Finding the Optimal Number of Clusters: Manhattan"
   ]
  },
  {
   "cell_type": "markdown",
   "id": "7765975b",
   "metadata": {},
   "source": [
    "The same procedure was performed to finf the optimal number of clusters when manhattan distance is used."
   ]
  },
  {
   "cell_type": "code",
   "execution_count": 18,
   "id": "4728817d",
   "metadata": {},
   "outputs": [
    {
     "data": {
      "image/png": "[encoded data removed]",
      "text/plain": [
       "plot without title"
      ]
     },
     "metadata": {},
     "output_type": "display_data"
    }
   ],
   "source": [
    "graphM=fviz_nbclust(sclmusk, pam, metric = \"manhattan\", method = \"wss\")+\n",
    "  geom_vline(xintercept = 3, linetype = 2)\n",
    "graphM\n"
   ]
  },
  {
   "cell_type": "code",
   "execution_count": 19,
   "id": "9b9cdc94",
   "metadata": {},
   "outputs": [
    {
     "data": {
      "text/html": [
       "<table>\n",
       "<thead><tr><th scope=col>clusters</th><th scope=col>y</th></tr></thead>\n",
       "<tbody>\n",
       "\t<tr><td>1       </td><td>78850.00</td></tr>\n",
       "\t<tr><td>2       </td><td>57477.77</td></tr>\n",
       "\t<tr><td>3       </td><td>48814.96</td></tr>\n",
       "\t<tr><td>4       </td><td>46682.79</td></tr>\n",
       "\t<tr><td>5       </td><td>45159.62</td></tr>\n",
       "\t<tr><td>6       </td><td>42036.02</td></tr>\n",
       "\t<tr><td>7       </td><td>40187.09</td></tr>\n",
       "\t<tr><td>8       </td><td>39032.47</td></tr>\n",
       "\t<tr><td>9       </td><td>37989.93</td></tr>\n",
       "\t<tr><td>10      </td><td>36514.54</td></tr>\n",
       "</tbody>\n",
       "</table>\n"
      ],
      "text/latex": [
       "\\begin{tabular}{r|ll}\n",
       " clusters & y\\\\\n",
       "\\hline\n",
       "\t 1        & 78850.00\\\\\n",
       "\t 2        & 57477.77\\\\\n",
       "\t 3        & 48814.96\\\\\n",
       "\t 4        & 46682.79\\\\\n",
       "\t 5        & 45159.62\\\\\n",
       "\t 6        & 42036.02\\\\\n",
       "\t 7        & 40187.09\\\\\n",
       "\t 8        & 39032.47\\\\\n",
       "\t 9        & 37989.93\\\\\n",
       "\t 10       & 36514.54\\\\\n",
       "\\end{tabular}\n"
      ],
      "text/markdown": [
       "\n",
       "| clusters | y |\n",
       "|---|---|\n",
       "| 1        | 78850.00 |\n",
       "| 2        | 57477.77 |\n",
       "| 3        | 48814.96 |\n",
       "| 4        | 46682.79 |\n",
       "| 5        | 45159.62 |\n",
       "| 6        | 42036.02 |\n",
       "| 7        | 40187.09 |\n",
       "| 8        | 39032.47 |\n",
       "| 9        | 37989.93 |\n",
       "| 10       | 36514.54 |\n",
       "\n"
      ],
      "text/plain": [
       "   clusters y       \n",
       "1  1        78850.00\n",
       "2  2        57477.77\n",
       "3  3        48814.96\n",
       "4  4        46682.79\n",
       "5  5        45159.62\n",
       "6  6        42036.02\n",
       "7  7        40187.09\n",
       "8  8        39032.47\n",
       "9  9        37989.93\n",
       "10 10       36514.54"
      ]
     },
     "metadata": {},
     "output_type": "display_data"
    }
   ],
   "source": [
    "graphM$data\n"
   ]
  },
  {
   "cell_type": "markdown",
   "id": "cfef67ab",
   "metadata": {},
   "source": [
    "Now, k= 3 found to the optimal number of clusters for this metric."
   ]
  },
  {
   "cell_type": "code",
   "execution_count": 20,
   "id": "556b232c",
   "metadata": {},
   "outputs": [],
   "source": [
    "kmedoidsM <- pam(sclmusk, k = 3,metric = \"manhattan\")\n"
   ]
  },
  {
   "cell_type": "code",
   "execution_count": 21,
   "id": "3050b012",
   "metadata": {},
   "outputs": [
    {
     "data": {
      "text/plain": [
       "Medoids:\n",
       "     ID          V3         V4         V5         V6         V7         V8\n",
       "[1,] 12  0.12543753  0.2847002  0.2637420 -1.2037636 -0.1637934  0.2690613\n",
       "[2,] 60  0.78886272 -0.7910135 -0.6614809  0.1866710 -0.1637934 -0.8827933\n",
       "[3,] 58 -0.04041876  0.1148506  0.8275497 -0.7800121 -0.1637934  0.5081255\n",
       "             V9         V10        V11        V12       V13         V14\n",
       "[1,]  0.4375728 -2.26640223  0.8206733 0.70483451 -1.780070 -1.61434360\n",
       "[2,]  0.5971060  0.01632739  0.5507434 0.05626964  0.527835  0.53142862\n",
       "[3,] -1.4017511  0.75524565 -1.3283840 0.62203899 -0.219168 -0.08337128\n",
       "            V15        V16        V17        V18        V19        V20\n",
       "[1,] 0.06983363 -2.1545167 -2.3253947 -0.6091391  0.1237210 -0.4516571\n",
       "[2,] 0.70356666 -0.1480164  0.1395716 -0.4212664  0.8495996  0.2670109\n",
       "[3,] 0.19054468  0.3205675  0.2969099 -0.3899543 -1.5181471  0.7716076\n",
       "            V21        V22         V23        V24         V25        V26\n",
       "[1,] -2.2455061 -2.0181973  0.28544609  0.4063758 -0.05877485  0.6993993\n",
       "[2,]  0.2167425 -0.1682413  0.07989036  0.5091937  0.77507792 -0.8174876\n",
       "[3,] -0.2732572  0.2942477 -0.34406834 -1.3758023 -1.50198157  0.9720980\n",
       "            V27        V28         V29        V30        V31        V32\n",
       "[1,]  1.3679726  0.8906249 -0.05884362  0.6669441  0.4543722  0.8941058\n",
       "[2,] -0.8605495  0.2308088  0.89393623 -0.3041376  0.1100029 -0.8004428\n",
       "[3,]  1.0267635 -1.5473398 -1.66124609 -0.9619671 -1.1469454  1.1906518\n",
       "            V33        V34        V35        V36        V37       V38\n",
       "[1,] -0.3635409 -0.9498061 -0.5922585  1.2310951 -1.0854723 -1.295576\n",
       "[2,] -0.3635409 -0.9178641 -0.1922882 -0.6754482  0.1330055 -1.148802\n",
       "[3,] -0.3635409 -0.9604534 -0.3682751  1.3659921 -1.0729107 -1.393425\n",
       "            V39        V40        V41        V42        V43        V44\n",
       "[1,] -0.5758105  1.0418909  0.7628985  0.6785875  0.6331575 -0.8625456\n",
       "[2,] -0.5321301  0.4407663 -0.9304486  0.9630015 -0.7447951 -0.9659739\n",
       "[3,] -0.4272972 -1.4975539  0.7073789 -1.5225290  0.5036064 -0.6427604\n",
       "           V45         V46         V47        V48         V49         V50\n",
       "[1,] 0.6065125 -2.17540062 -2.12851740 -1.5739082 -0.78218630  1.13694530\n",
       "[2,] 0.4975750  0.18706389  0.28601804  0.3935656  0.06701056  0.02680584\n",
       "[3,] 0.1396375 -0.08293205  0.05965534 -0.6407635 -0.90137183 -0.38071371\n",
       "            V51        V52         V53        V54        V55        V56\n",
       "[1,] -2.4951310 -0.4548729 -0.60835685  0.6318330  0.3772948 -1.2229112\n",
       "[2,] -0.3820088 -0.1082729  0.10031906  0.5658568  0.6321863  0.5037964\n",
       "[3,]  0.3986351  0.8109704 -0.08007117 -1.3804412 -1.5025302 -0.2448461\n",
       "            V57        V58        V59        V60        V61        V62\n",
       "[1,]  1.3090343  0.1857881  0.3244945 -0.3613242  0.4503991  1.2921136\n",
       "[2,] -0.9687122  0.5060313  0.8361872 -0.3487390 -0.4220221 -0.5273237\n",
       "[3,]  1.2065357 -0.8389900 -1.5337580 -0.6885413 -0.5273143  0.9761634\n",
       "             V63        V64       V65        V66        V67        V68\n",
       "[1,] -0.94546059 -0.6718603 0.5413290  0.4429668 -1.2799084 -0.2721335\n",
       "[2,] -0.02933481 -1.0149895 0.5772066 -0.9405580  0.2640443  0.2728969\n",
       "[3,] -0.93539328 -0.4641768 0.6130841  1.2926314 -1.1941332 -0.5446487\n",
       "           V69          V70         V71        V72        V73         V74\n",
       "[1,] -0.145623  1.047315580  0.04469535  0.6045359  0.4698324  0.06119177\n",
       "[2,] -0.145623 -0.055228543 -1.03238940  0.4437317 -0.6879255 -0.99603205\n",
       "[3,] -0.145623 -0.003546787 -0.04762620 -0.1673242  0.6627921  0.73536348\n",
       "            V75        V76        V77         V78        V79        V80\n",
       "[1,] -0.8409485 -1.8972802 -1.9848478 -0.34855712  0.4120934 -1.8552575\n",
       "[2,]  0.6959909  0.3133396  0.4393012 -0.26497365  0.7285315 -0.1902872\n",
       "[3,]  0.1586869  0.3011263  0.7055372 -0.01422324 -1.3898457  0.3373442\n",
       "            V81         V82        V83        V84        V85        V86\n",
       "[1,] -1.9149861 -2.33864240  0.8060048  0.3389769 -0.6198073 -0.9205883\n",
       "[2,]  0.5142212  0.47086964  0.4168758  0.5503240  0.1987362 -0.6949552\n",
       "[3,] -0.3508136 -0.07173998 -0.9794106 -1.3835025 -0.6953652  0.9049888\n",
       "            V87        V88        V89        V90        V91        V92\n",
       "[1,]  0.8701164  0.6644543  0.1378800  0.8008973 -0.1391664  0.8298269\n",
       "[2,] -0.6907825  0.3990867  0.1126471 -0.5223031  0.3955919 -0.9618116\n",
       "[3,]  1.2654090 -1.4490089 -0.3920118 -0.7840350 -0.8410366  1.1427769\n",
       "            V93       V94        V95       V96       V97        V98         V99\n",
       "[1,] -0.6217365 -1.242185 -1.2089691 0.9940025 0.6002521 -0.9088084 -1.22028944\n",
       "[2,] -0.6217365 -1.220651  0.2293772 0.4363771 0.3855634 -0.8584413 -0.41330134\n",
       "[3,] -0.5752041 -1.263718 -1.1851948 0.2106715 0.6309220 -0.9188818 -0.08642009\n",
       "           V100       V101       V102       V103      V104       V105\n",
       "[1,]  0.1387225  0.3440624  0.3035133  0.6353155 -1.009986 -2.1550972\n",
       "[2,]  0.5713961 -0.9363838  0.8721123 -0.8423656 -1.158080  0.5681657\n",
       "[3,] -1.4149692  1.0382802 -1.4986564  0.3616708 -1.009986  0.1973928\n",
       "           V106        V107       V108        V109       V110         V111\n",
       "[1,] -2.3009016 -2.33071302 -1.3993774 -0.55846427  0.9156678 -2.261255420\n",
       "[2,]  0.4809949  0.03920494 -0.5390522 -0.09999727  0.3843606 -0.001855009\n",
       "[3,] -0.3105070  0.03920494  0.4833632 -0.55846427 -0.5188617  0.894114120\n",
       "            V112       V113       V114       V115       V116       V117\n",
       "[1,] -2.22956838 -2.3409089  0.1282575  0.5795072  0.3496916  0.7641419\n",
       "[2,]  0.21205532  0.1235691  0.5893987  0.8448707  0.8797973 -0.9216924\n",
       "[3,] -0.09650152  0.1235691 -1.0189716 -1.2882440 -1.4277217  1.3465210\n",
       "           V118       V119       V120       V121       V122       V123\n",
       "[1,]  1.4366072  0.8299913  0.9464249  0.5814791  0.1803677  1.0588815\n",
       "[2,] -0.5352688 -0.8969711  0.3251259  0.6998207  0.7509735 -0.8466125\n",
       "[3,]  0.7433695  1.2285211 -1.5481846 -1.5148576 -1.6159838  1.0491097\n",
       "           V124       V125       V126       V127       V128        V129\n",
       "[1,]  1.5224896  1.2154585 -1.4743195 -0.8409018 -1.2063552  1.55677692\n",
       "[2,] -0.9602350 -0.9953755 -0.9905743 -0.7998748 -0.7717094 -0.07921094\n",
       "[3,]  0.7594504  0.8658822 -1.4328556 -0.8716720 -1.1484024  0.49594104\n",
       "           V130      V131       V132        V133       V134       V135\n",
       "[1,]  1.0145947 1.4703145 -1.2267759  0.07686863 -1.0069711  0.2246534\n",
       "[2,] -0.7429544 0.2708806  0.1669623 -0.15039514 -0.8119724 -0.1557358\n",
       "[3,]  1.2806458 0.3685089 -1.2267759  0.07686863 -1.0069711  0.3311624\n",
       "            V136       V137       V138       V139        V140       V141\n",
       "[1,] -1.05674202 -1.7050708  0.3804175  0.1708341  0.28586140  0.1584905\n",
       "[2,]  0.09464191 -0.2068555 -0.8521729  0.5880012 -0.60942150  0.6085775\n",
       "[3,]  0.42549937  0.6819163  0.2843715 -1.5792326 -0.06446669 -1.6303166\n",
       "            V142        V143       V144       V145       V146      V147\n",
       "[1,] -1.18722106 -1.06616558  1.1535853  0.2780752  0.1875755 -0.114399\n",
       "[2,] -0.07056998  0.01341454  0.8304978  0.7904378  0.5526215 -0.114399\n",
       "[3,] -0.92717903 -1.00033753 -1.4957323 -1.4537107 -1.4336581 -0.114399\n",
       "          V148       V149       V150        V151        V152        V153\n",
       "[1,] -0.295417 -0.2186821  0.1604726  0.05453127  0.09578258 -0.73969462\n",
       "[2,] -0.295417 -0.5768814  0.2794522  0.14891993  0.96719897  0.02991115\n",
       "[3,] -0.295417 -0.5052415 -0.0626143 -0.16121425 -1.58895579 -0.65418287\n",
       "           V154       V155        V156       V157       V158       V159\n",
       "[1,] -1.1958017 -1.2342749 -0.08168187 -0.7926460 -0.2446496 -0.3057832\n",
       "[2,]  0.5431919  0.5532195 -1.18576711 -0.7671683 -1.2205740 -0.1471080\n",
       "[3,] -1.2537681 -1.2192540  0.33759100 -0.8818180 -0.1067473 -0.2581806\n",
       "           V160       V161       V162       V163       V164       V165\n",
       "[1,]  1.4113041 -0.1948970 -0.4386287 -0.7951425 -0.9895037 -0.7657465\n",
       "[2,] -0.3527498 -0.8106879 -1.3991659 -0.7836898 -1.0503936 -0.6393977\n",
       "[3,]  0.2501547  1.4061595 -0.1032030 -0.8180478 -0.9692071 -0.8289209\n",
       "           V166      V167        V168\n",
       "[1,] -0.1792746 0.5730400 -0.03163526\n",
       "[2,] -0.6162481 0.3661763 -0.01318136\n",
       "[3,] -0.1168498 0.6419946 -0.12390476\n",
       "Clustering vector:\n",
       "  [1] 1 1 1 1 1 1 1 1 1 1 1 1 1 1 1 1 1 1 1 1 1 1 1 2 2 3 2 3 3 3 2 2 2 3 3 3 2\n",
       " [38] 3 2 2 3 2 3 2 2 2 3 2 3 2 3 2 3 2 3 3 3 3 3 2 2 3 3 3 2 2 3 2 3 2 3 2 3 2\n",
       " [75] 3 2 3 2 2 2 2 2 2 2 2 2 2 2 2 2 2 2 2 2 2 2 2 2 2 2 2 2 2 2 2 2 2 2 2 2 2\n",
       "[112] 2 2 2 2 2 2 2 2 2 2 2 2 2 2 2 2 2 2 2 2 2 2 2 2 2 2 2 2 1 1 1 1 1 1 1 1 1\n",
       "[149] 1 2 2 2 3 2 3 2 3 2 2 3 3 2 3 2 3 2 2 2 2 2 2 3 3 2 2 3 3 3 2 2 3 2 3 2 3\n",
       "[186] 2 2 3 2 3 2 3 3 2 3 2 3 2 3 2 3 2 2 3 2 2 3 3 3 2 2 1 1 1 1 1 1 1 1 1 1 1\n",
       "[223] 1 2 2 3 2 3 2 3 2 3 2 3 3 2 2 3 3 2 2 2 2 3 3 2 2 2 3 2 2 2 3 2 3 3 3 2 2\n",
       "[260] 2 2 2 3 2 3 3 2 2 3 2 3 3 2 2 2 2 3 2 3 2 3 2 3 2 3 2 3 3 2 1 1 2 2 2 2 2\n",
       "[297] 2 3 3 3 3 2 2 2 2 2 2 1 1 2 2 2 2 3 3 2 2 2 2 2 2 3 3 3 3 3 3 2 3 2 3 2 3\n",
       "[334] 3 2 3 3 3 3 2 2 2 2 2 2 2 2 2 2 2 3 3 3 2 2 3 3 3 2 2 3 3 2 3 2 3 3 3 2 2\n",
       "[371] 3 3 3 2 2 3 3 3 2 2 2 3 3 2 3 3 3 2 2 3 3 2 3 2 3 3 2 3 2 3 2 2 2 2 3 2 2\n",
       "[408] 2 2 3 3 3 2 2 2 2 3 2 2 3 2 2 2 2 2 2 2 3 2 2 3 3 1 3 2 2 3 2 3 2 3 2 2 2\n",
       "[445] 2 2 2 2 2 2 2 2 2 2 2 2 2 1 1 1 1 1 1 1 1 3 3 3 2 3 3 2 2 3 2 3\n",
       "Objective function:\n",
       "   build     swap \n",
       "94.77122 92.22822 \n",
       "\n",
       "Available components:\n",
       " [1] \"medoids\"    \"id.med\"     \"clustering\" \"objective\"  \"isolation\" \n",
       " [6] \"clusinfo\"   \"silinfo\"    \"diss\"       \"call\"       \"data\"      "
      ]
     },
     "metadata": {},
     "output_type": "display_data"
    }
   ],
   "source": [
    "kmedoidsM\n"
   ]
  },
  {
   "cell_type": "code",
   "execution_count": 22,
   "id": "4e499bb0",
   "metadata": {},
   "outputs": [
    {
     "data": {
      "image/png": "[encoded data removed]",
      "text/plain": [
       "plot without title"
      ]
     },
     "metadata": {},
     "output_type": "display_data"
    }
   ],
   "source": [
    "fviz_cluster(kmedoidsM, data = sclmusk)"
   ]
  },
  {
   "cell_type": "markdown",
   "id": "56bc9f38",
   "metadata": {},
   "source": [
    "The 3 clusters can be visualized on a scatterplot that displays the first two principal components on the axes."
   ]
  },
  {
   "cell_type": "markdown",
   "id": "9de691a3",
   "metadata": {},
   "source": [
    "####  The best set of parameter combination for the proposed representations are given as follows:\n",
    "####  k = 4 for Euclidean and \n",
    "#### k = 3 for Manhattan distance found to be optimal.\n",
    "#### Now, the final reprsentations can be formed."
   ]
  },
  {
   "cell_type": "markdown",
   "id": "bbacc936",
   "metadata": {},
   "source": [
    "### Representation#1: 4-Medoids Euclidean"
   ]
  },
  {
   "cell_type": "code",
   "execution_count": 23,
   "id": "b47abbba",
   "metadata": {},
   "outputs": [
    {
     "data": {
      "text/html": [
       "<ol class=list-inline>\n",
       "\t<li>12</li>\n",
       "\t<li>90</li>\n",
       "\t<li>69</li>\n",
       "\t<li>108</li>\n",
       "</ol>\n"
      ],
      "text/latex": [
       "\\begin{enumerate*}\n",
       "\\item 12\n",
       "\\item 90\n",
       "\\item 69\n",
       "\\item 108\n",
       "\\end{enumerate*}\n"
      ],
      "text/markdown": [
       "1. 12\n",
       "2. 90\n",
       "3. 69\n",
       "4. 108\n",
       "\n",
       "\n"
      ],
      "text/plain": [
       "[1]  12  90  69 108"
      ]
     },
     "metadata": {},
     "output_type": "display_data"
    }
   ],
   "source": [
    "#euclidean\n",
    "# represent the data so that the features show the average distances to the center of the clusters\n",
    "\n",
    "kmedoidsE$id.med\n",
    "\n"
   ]
  },
  {
   "cell_type": "code",
   "execution_count": 24,
   "id": "3e701d73",
   "metadata": {},
   "outputs": [],
   "source": [
    "mdis1 = c() #empty dist \n",
    "#k= 4  #4 clusters for euclidean\n",
    "\n",
    "#generate 4 features with the distance info\n",
    "\n",
    "mdis1<-cbind(euc_dist[,get(as.character(as.numeric(kmedoidsE$id.med[1])))],euc_dist[,get(as.character(as.numeric(kmedoidsE$id.med[2])))],euc_dist[,get(as.character(as.numeric(kmedoidsE$id.med[3])))],euc_dist[,get(as.character(as.numeric(kmedoidsE$id.med[4])))])\n",
    "\n",
    "#mdis1\n",
    "\n",
    "mdis1 <- mdis1 %>% as.data.table(mdis1)\n",
    "setnames(mdis1, old=colnames(mdis1), new=c(\"Cls1\",\"Cls2\",\"Cls3\",\"Cls4\"))\n",
    "bag1 <- cbind(mymusk[,1:2], mdis1) %>% as.data.table()\n",
    "bagmean1 <- bag1 %>% aggregate(., list(bag1$Bag_Id), mean) %>% select(-Group.1) "
   ]
  },
  {
   "cell_type": "code",
   "execution_count": 25,
   "id": "59795bec",
   "metadata": {},
   "outputs": [
    {
     "data": {
      "text/html": [
       "<table>\n",
       "<thead><tr><th scope=col>Bag_Class</th><th scope=col>Bag_Id</th><th scope=col>Cls1</th><th scope=col>Cls2</th><th scope=col>Cls3</th><th scope=col>Cls4</th></tr></thead>\n",
       "<tbody>\n",
       "\t<tr><td>1        </td><td>1        </td><td> 8.171827</td><td>16.66629 </td><td>18.87771 </td><td>16.39061 </td></tr>\n",
       "\t<tr><td>1        </td><td>2        </td><td> 9.674264</td><td>16.13365 </td><td>18.58626 </td><td>17.52873 </td></tr>\n",
       "\t<tr><td>1        </td><td>3        </td><td> 9.719209</td><td>16.44523 </td><td>18.72514 </td><td>18.22199 </td></tr>\n",
       "\t<tr><td>1        </td><td>4        </td><td> 5.867434</td><td>16.74637 </td><td>19.05427 </td><td>17.46591 </td></tr>\n",
       "\t<tr><td>1        </td><td>5        </td><td>15.401786</td><td>20.10263 </td><td>21.89998 </td><td>21.81525 </td></tr>\n",
       "\t<tr><td>1        </td><td>6        </td><td>10.078564</td><td>17.21602 </td><td>19.83173 </td><td>18.81168 </td></tr>\n",
       "</tbody>\n",
       "</table>\n"
      ],
      "text/latex": [
       "\\begin{tabular}{r|llllll}\n",
       " Bag\\_Class & Bag\\_Id & Cls1 & Cls2 & Cls3 & Cls4\\\\\n",
       "\\hline\n",
       "\t 1         & 1         &  8.171827 & 16.66629  & 18.87771  & 16.39061 \\\\\n",
       "\t 1         & 2         &  9.674264 & 16.13365  & 18.58626  & 17.52873 \\\\\n",
       "\t 1         & 3         &  9.719209 & 16.44523  & 18.72514  & 18.22199 \\\\\n",
       "\t 1         & 4         &  5.867434 & 16.74637  & 19.05427  & 17.46591 \\\\\n",
       "\t 1         & 5         & 15.401786 & 20.10263  & 21.89998  & 21.81525 \\\\\n",
       "\t 1         & 6         & 10.078564 & 17.21602  & 19.83173  & 18.81168 \\\\\n",
       "\\end{tabular}\n"
      ],
      "text/markdown": [
       "\n",
       "| Bag_Class | Bag_Id | Cls1 | Cls2 | Cls3 | Cls4 |\n",
       "|---|---|---|---|---|---|\n",
       "| 1         | 1         |  8.171827 | 16.66629  | 18.87771  | 16.39061  |\n",
       "| 1         | 2         |  9.674264 | 16.13365  | 18.58626  | 17.52873  |\n",
       "| 1         | 3         |  9.719209 | 16.44523  | 18.72514  | 18.22199  |\n",
       "| 1         | 4         |  5.867434 | 16.74637  | 19.05427  | 17.46591  |\n",
       "| 1         | 5         | 15.401786 | 20.10263  | 21.89998  | 21.81525  |\n",
       "| 1         | 6         | 10.078564 | 17.21602  | 19.83173  | 18.81168  |\n",
       "\n"
      ],
      "text/plain": [
       "  Bag_Class Bag_Id Cls1      Cls2     Cls3     Cls4    \n",
       "1 1         1       8.171827 16.66629 18.87771 16.39061\n",
       "2 1         2       9.674264 16.13365 18.58626 17.52873\n",
       "3 1         3       9.719209 16.44523 18.72514 18.22199\n",
       "4 1         4       5.867434 16.74637 19.05427 17.46591\n",
       "5 1         5      15.401786 20.10263 21.89998 21.81525\n",
       "6 1         6      10.078564 17.21602 19.83173 18.81168"
      ]
     },
     "metadata": {},
     "output_type": "display_data"
    },
    {
     "data": {
      "text/html": [
       "<table>\n",
       "<thead><tr><th></th><th scope=col>Bag_Class</th><th scope=col>Bag_Id</th><th scope=col>Cls1</th><th scope=col>Cls2</th><th scope=col>Cls3</th><th scope=col>Cls4</th></tr></thead>\n",
       "<tbody>\n",
       "\t<tr><th scope=row>87</th><td>0        </td><td>87       </td><td>24.50219 </td><td>20.55036 </td><td>20.23286 </td><td>22.899532</td></tr>\n",
       "\t<tr><th scope=row>88</th><td>0        </td><td>88       </td><td>19.00961 </td><td>12.47712 </td><td>20.14289 </td><td> 9.099134</td></tr>\n",
       "\t<tr><th scope=row>89</th><td>0        </td><td>89       </td><td>18.70702 </td><td>18.82363 </td><td>25.59508 </td><td>20.699871</td></tr>\n",
       "\t<tr><th scope=row>90</th><td>0        </td><td>90       </td><td>16.07207 </td><td>18.47011 </td><td>23.71070 </td><td>20.357047</td></tr>\n",
       "\t<tr><th scope=row>91</th><td>0        </td><td>91       </td><td>24.28005 </td><td>26.63296 </td><td>24.64077 </td><td>25.926869</td></tr>\n",
       "\t<tr><th scope=row>92</th><td>0        </td><td>92       </td><td>19.30512 </td><td>14.50194 </td><td>15.21473 </td><td>16.515298</td></tr>\n",
       "</tbody>\n",
       "</table>\n"
      ],
      "text/latex": [
       "\\begin{tabular}{r|llllll}\n",
       "  & Bag\\_Class & Bag\\_Id & Cls1 & Cls2 & Cls3 & Cls4\\\\\n",
       "\\hline\n",
       "\t87 & 0         & 87        & 24.50219  & 20.55036  & 20.23286  & 22.899532\\\\\n",
       "\t88 & 0         & 88        & 19.00961  & 12.47712  & 20.14289  &  9.099134\\\\\n",
       "\t89 & 0         & 89        & 18.70702  & 18.82363  & 25.59508  & 20.699871\\\\\n",
       "\t90 & 0         & 90        & 16.07207  & 18.47011  & 23.71070  & 20.357047\\\\\n",
       "\t91 & 0         & 91        & 24.28005  & 26.63296  & 24.64077  & 25.926869\\\\\n",
       "\t92 & 0         & 92        & 19.30512  & 14.50194  & 15.21473  & 16.515298\\\\\n",
       "\\end{tabular}\n"
      ],
      "text/markdown": [
       "\n",
       "| <!--/--> | Bag_Class | Bag_Id | Cls1 | Cls2 | Cls3 | Cls4 |\n",
       "|---|---|---|---|---|---|---|\n",
       "| 87 | 0         | 87        | 24.50219  | 20.55036  | 20.23286  | 22.899532 |\n",
       "| 88 | 0         | 88        | 19.00961  | 12.47712  | 20.14289  |  9.099134 |\n",
       "| 89 | 0         | 89        | 18.70702  | 18.82363  | 25.59508  | 20.699871 |\n",
       "| 90 | 0         | 90        | 16.07207  | 18.47011  | 23.71070  | 20.357047 |\n",
       "| 91 | 0         | 91        | 24.28005  | 26.63296  | 24.64077  | 25.926869 |\n",
       "| 92 | 0         | 92        | 19.30512  | 14.50194  | 15.21473  | 16.515298 |\n",
       "\n"
      ],
      "text/plain": [
       "   Bag_Class Bag_Id Cls1     Cls2     Cls3     Cls4     \n",
       "87 0         87     24.50219 20.55036 20.23286 22.899532\n",
       "88 0         88     19.00961 12.47712 20.14289  9.099134\n",
       "89 0         89     18.70702 18.82363 25.59508 20.699871\n",
       "90 0         90     16.07207 18.47011 23.71070 20.357047\n",
       "91 0         91     24.28005 26.63296 24.64077 25.926869\n",
       "92 0         92     19.30512 14.50194 15.21473 16.515298"
      ]
     },
     "metadata": {},
     "output_type": "display_data"
    }
   ],
   "source": [
    "head(bagmean1)\n",
    "tail(bagmean1)"
   ]
  },
  {
   "cell_type": "markdown",
   "id": "b09c5792",
   "metadata": {},
   "source": [
    "Above, we get the representation#1."
   ]
  },
  {
   "cell_type": "markdown",
   "id": "bf8f5df3",
   "metadata": {},
   "source": [
    "### Representation#2: 3-Medoids Manhattan"
   ]
  },
  {
   "cell_type": "code",
   "execution_count": 26,
   "id": "0762a0a1",
   "metadata": {},
   "outputs": [
    {
     "data": {
      "text/html": [
       "<ol class=list-inline>\n",
       "\t<li>12</li>\n",
       "\t<li>60</li>\n",
       "\t<li>58</li>\n",
       "</ol>\n"
      ],
      "text/latex": [
       "\\begin{enumerate*}\n",
       "\\item 12\n",
       "\\item 60\n",
       "\\item 58\n",
       "\\end{enumerate*}\n"
      ],
      "text/markdown": [
       "1. 12\n",
       "2. 60\n",
       "3. 58\n",
       "\n",
       "\n"
      ],
      "text/plain": [
       "[1] 12 60 58"
      ]
     },
     "metadata": {},
     "output_type": "display_data"
    }
   ],
   "source": [
    "#manhattan\n",
    "\n",
    "# represent the data so that the features show the average distances to the center of the clusters\n",
    "\n",
    "kmedoidsM$id.med\n"
   ]
  },
  {
   "cell_type": "code",
   "execution_count": 27,
   "id": "814a7587",
   "metadata": {},
   "outputs": [
    {
     "data": {
      "text/html": [
       "<table>\n",
       "<thead><tr><th scope=col>Bag_Class</th><th scope=col>Bag_Id</th><th scope=col>Cls1</th><th scope=col>Cls2</th><th scope=col>Cls3</th></tr></thead>\n",
       "<tbody>\n",
       "\t<tr><td>1        </td><td>1        </td><td> 65.33971</td><td>14.97200 </td><td>17.06730 </td></tr>\n",
       "\t<tr><td>1        </td><td>2        </td><td> 79.18382</td><td>16.15621 </td><td>17.67426 </td></tr>\n",
       "\t<tr><td>1        </td><td>3        </td><td> 83.22995</td><td>17.08330 </td><td>18.79550 </td></tr>\n",
       "\t<tr><td>1        </td><td>4        </td><td> 47.90798</td><td>16.23029 </td><td>17.30187 </td></tr>\n",
       "\t<tr><td>1        </td><td>5        </td><td>102.21577</td><td>20.74279 </td><td>22.32305 </td></tr>\n",
       "\t<tr><td>1        </td><td>6        </td><td> 80.56845</td><td>17.81178 </td><td>19.10967 </td></tr>\n",
       "</tbody>\n",
       "</table>\n"
      ],
      "text/latex": [
       "\\begin{tabular}{r|lllll}\n",
       " Bag\\_Class & Bag\\_Id & Cls1 & Cls2 & Cls3\\\\\n",
       "\\hline\n",
       "\t 1         & 1         &  65.33971 & 14.97200  & 17.06730 \\\\\n",
       "\t 1         & 2         &  79.18382 & 16.15621  & 17.67426 \\\\\n",
       "\t 1         & 3         &  83.22995 & 17.08330  & 18.79550 \\\\\n",
       "\t 1         & 4         &  47.90798 & 16.23029  & 17.30187 \\\\\n",
       "\t 1         & 5         & 102.21577 & 20.74279  & 22.32305 \\\\\n",
       "\t 1         & 6         &  80.56845 & 17.81178  & 19.10967 \\\\\n",
       "\\end{tabular}\n"
      ],
      "text/markdown": [
       "\n",
       "| Bag_Class | Bag_Id | Cls1 | Cls2 | Cls3 |\n",
       "|---|---|---|---|---|\n",
       "| 1         | 1         |  65.33971 | 14.97200  | 17.06730  |\n",
       "| 1         | 2         |  79.18382 | 16.15621  | 17.67426  |\n",
       "| 1         | 3         |  83.22995 | 17.08330  | 18.79550  |\n",
       "| 1         | 4         |  47.90798 | 16.23029  | 17.30187  |\n",
       "| 1         | 5         | 102.21577 | 20.74279  | 22.32305  |\n",
       "| 1         | 6         |  80.56845 | 17.81178  | 19.10967  |\n",
       "\n"
      ],
      "text/plain": [
       "  Bag_Class Bag_Id Cls1      Cls2     Cls3    \n",
       "1 1         1       65.33971 14.97200 17.06730\n",
       "2 1         2       79.18382 16.15621 17.67426\n",
       "3 1         3       83.22995 17.08330 18.79550\n",
       "4 1         4       47.90798 16.23029 17.30187\n",
       "5 1         5      102.21577 20.74279 22.32305\n",
       "6 1         6       80.56845 17.81178 19.10967"
      ]
     },
     "metadata": {},
     "output_type": "display_data"
    },
    {
     "data": {
      "text/html": [
       "<table>\n",
       "<thead><tr><th></th><th scope=col>Bag_Class</th><th scope=col>Bag_Id</th><th scope=col>Cls1</th><th scope=col>Cls2</th><th scope=col>Cls3</th></tr></thead>\n",
       "<tbody>\n",
       "\t<tr><th scope=row>87</th><td>0       </td><td>87      </td><td>228.2973</td><td>21.90957</td><td>21.11427</td></tr>\n",
       "\t<tr><th scope=row>88</th><td>0       </td><td>88      </td><td>192.9529</td><td>10.44356</td><td>19.23339</td></tr>\n",
       "\t<tr><th scope=row>89</th><td>0       </td><td>89      </td><td>167.3083</td><td>20.93985</td><td>24.52836</td></tr>\n",
       "\t<tr><th scope=row>90</th><td>0       </td><td>90      </td><td>145.1546</td><td>20.46500</td><td>22.55616</td></tr>\n",
       "\t<tr><th scope=row>91</th><td>0       </td><td>91      </td><td>257.4561</td><td>26.62093</td><td>24.51451</td></tr>\n",
       "\t<tr><th scope=row>92</th><td>0       </td><td>92      </td><td>202.6035</td><td>15.50665</td><td>15.39257</td></tr>\n",
       "</tbody>\n",
       "</table>\n"
      ],
      "text/latex": [
       "\\begin{tabular}{r|lllll}\n",
       "  & Bag\\_Class & Bag\\_Id & Cls1 & Cls2 & Cls3\\\\\n",
       "\\hline\n",
       "\t87 & 0        & 87       & 228.2973 & 21.90957 & 21.11427\\\\\n",
       "\t88 & 0        & 88       & 192.9529 & 10.44356 & 19.23339\\\\\n",
       "\t89 & 0        & 89       & 167.3083 & 20.93985 & 24.52836\\\\\n",
       "\t90 & 0        & 90       & 145.1546 & 20.46500 & 22.55616\\\\\n",
       "\t91 & 0        & 91       & 257.4561 & 26.62093 & 24.51451\\\\\n",
       "\t92 & 0        & 92       & 202.6035 & 15.50665 & 15.39257\\\\\n",
       "\\end{tabular}\n"
      ],
      "text/markdown": [
       "\n",
       "| <!--/--> | Bag_Class | Bag_Id | Cls1 | Cls2 | Cls3 |\n",
       "|---|---|---|---|---|---|\n",
       "| 87 | 0        | 87       | 228.2973 | 21.90957 | 21.11427 |\n",
       "| 88 | 0        | 88       | 192.9529 | 10.44356 | 19.23339 |\n",
       "| 89 | 0        | 89       | 167.3083 | 20.93985 | 24.52836 |\n",
       "| 90 | 0        | 90       | 145.1546 | 20.46500 | 22.55616 |\n",
       "| 91 | 0        | 91       | 257.4561 | 26.62093 | 24.51451 |\n",
       "| 92 | 0        | 92       | 202.6035 | 15.50665 | 15.39257 |\n",
       "\n"
      ],
      "text/plain": [
       "   Bag_Class Bag_Id Cls1     Cls2     Cls3    \n",
       "87 0         87     228.2973 21.90957 21.11427\n",
       "88 0         88     192.9529 10.44356 19.23339\n",
       "89 0         89     167.3083 20.93985 24.52836\n",
       "90 0         90     145.1546 20.46500 22.55616\n",
       "91 0         91     257.4561 26.62093 24.51451\n",
       "92 0         92     202.6035 15.50665 15.39257"
      ]
     },
     "metadata": {},
     "output_type": "display_data"
    }
   ],
   "source": [
    "#k= 3  #3 clusters for manhattan\n",
    "#generate 3 feautures with the distance info\n",
    "mdis2 = c() #empty dist \n",
    "\n",
    "mdis2<-cbind(man_dist[,get(as.character(as.numeric(kmedoidsM$id.med[1])))],euc_dist[,get(as.character(as.numeric(kmedoidsM$id.med[2])))],euc_dist[,get(as.character(as.numeric(kmedoidsM$id.med[3])))])\n",
    "\n",
    "\n",
    "#mdis2\n",
    "\n",
    "mdis2 <- mdis2 %>% as.data.table(mdis2)\n",
    "setnames(mdis2, old=colnames(mdis2), new=c(\"Cls1\",\"Cls2\",\"Cls3\"))\n",
    "bag2 <- cbind(mymusk[,1:2], mdis2) %>% as.data.table()\n",
    "bagmean2 <- bag2 %>% aggregate(., list(bag2$Bag_Id), mean) %>% select(-Group.1) \n",
    "head(bagmean2)\n",
    "tail(bagmean2)\n"
   ]
  },
  {
   "cell_type": "markdown",
   "id": "8439123c",
   "metadata": {},
   "source": [
    "Above, we get the representation#2."
   ]
  },
  {
   "cell_type": "markdown",
   "id": "2c8221bf",
   "metadata": {},
   "source": [
    "#### 3 classifiers were evaluated: Decision trees, Random Forest and Penalized Logistic Regression. \n",
    "\n",
    "#### Accuracy was used to find the optimal model while tuning for each model's parameters.\n",
    "\n",
    "#### The models with the best set of parameters are presented for each case."
   ]
  },
  {
   "cell_type": "markdown",
   "id": "fc9aca56",
   "metadata": {},
   "source": [
    "## Classifier#1: Decision tree "
   ]
  },
  {
   "cell_type": "code",
   "execution_count": 28,
   "id": "378da22b",
   "metadata": {},
   "outputs": [
    {
     "data": {
      "text/html": [
       "<table>\n",
       "<thead><tr><th scope=col>Bag_Class</th><th scope=col>Bag_Id</th><th scope=col>Cls1</th><th scope=col>Cls2</th><th scope=col>Cls3</th><th scope=col>Cls4</th></tr></thead>\n",
       "<tbody>\n",
       "\t<tr><td>onebag   </td><td>1        </td><td> 8.171827</td><td>16.66629 </td><td>18.87771 </td><td>16.39061 </td></tr>\n",
       "\t<tr><td>onebag   </td><td>2        </td><td> 9.674264</td><td>16.13365 </td><td>18.58626 </td><td>17.52873 </td></tr>\n",
       "\t<tr><td>onebag   </td><td>3        </td><td> 9.719209</td><td>16.44523 </td><td>18.72514 </td><td>18.22199 </td></tr>\n",
       "\t<tr><td>onebag   </td><td>4        </td><td> 5.867434</td><td>16.74637 </td><td>19.05427 </td><td>17.46591 </td></tr>\n",
       "\t<tr><td>onebag   </td><td>5        </td><td>15.401786</td><td>20.10263 </td><td>21.89998 </td><td>21.81525 </td></tr>\n",
       "\t<tr><td>onebag   </td><td>6        </td><td>10.078564</td><td>17.21602 </td><td>19.83173 </td><td>18.81168 </td></tr>\n",
       "</tbody>\n",
       "</table>\n"
      ],
      "text/latex": [
       "\\begin{tabular}{r|llllll}\n",
       " Bag\\_Class & Bag\\_Id & Cls1 & Cls2 & Cls3 & Cls4\\\\\n",
       "\\hline\n",
       "\t onebag    & 1         &  8.171827 & 16.66629  & 18.87771  & 16.39061 \\\\\n",
       "\t onebag    & 2         &  9.674264 & 16.13365  & 18.58626  & 17.52873 \\\\\n",
       "\t onebag    & 3         &  9.719209 & 16.44523  & 18.72514  & 18.22199 \\\\\n",
       "\t onebag    & 4         &  5.867434 & 16.74637  & 19.05427  & 17.46591 \\\\\n",
       "\t onebag    & 5         & 15.401786 & 20.10263  & 21.89998  & 21.81525 \\\\\n",
       "\t onebag    & 6         & 10.078564 & 17.21602  & 19.83173  & 18.81168 \\\\\n",
       "\\end{tabular}\n"
      ],
      "text/markdown": [
       "\n",
       "| Bag_Class | Bag_Id | Cls1 | Cls2 | Cls3 | Cls4 |\n",
       "|---|---|---|---|---|---|\n",
       "| onebag    | 1         |  8.171827 | 16.66629  | 18.87771  | 16.39061  |\n",
       "| onebag    | 2         |  9.674264 | 16.13365  | 18.58626  | 17.52873  |\n",
       "| onebag    | 3         |  9.719209 | 16.44523  | 18.72514  | 18.22199  |\n",
       "| onebag    | 4         |  5.867434 | 16.74637  | 19.05427  | 17.46591  |\n",
       "| onebag    | 5         | 15.401786 | 20.10263  | 21.89998  | 21.81525  |\n",
       "| onebag    | 6         | 10.078564 | 17.21602  | 19.83173  | 18.81168  |\n",
       "\n"
      ],
      "text/plain": [
       "  Bag_Class Bag_Id Cls1      Cls2     Cls3     Cls4    \n",
       "1 onebag    1       8.171827 16.66629 18.87771 16.39061\n",
       "2 onebag    2       9.674264 16.13365 18.58626 17.52873\n",
       "3 onebag    3       9.719209 16.44523 18.72514 18.22199\n",
       "4 onebag    4       5.867434 16.74637 19.05427 17.46591\n",
       "5 onebag    5      15.401786 20.10263 21.89998 21.81525\n",
       "6 onebag    6      10.078564 17.21602 19.83173 18.81168"
      ]
     },
     "metadata": {},
     "output_type": "display_data"
    },
    {
     "data": {
      "text/html": [
       "<table>\n",
       "<thead><tr><th scope=col>Bag_Class</th><th scope=col>Bag_Id</th><th scope=col>Cls1</th><th scope=col>Cls2</th><th scope=col>Cls3</th></tr></thead>\n",
       "<tbody>\n",
       "\t<tr><td>onebag   </td><td>1        </td><td> 65.33971</td><td>14.97200 </td><td>17.06730 </td></tr>\n",
       "\t<tr><td>onebag   </td><td>2        </td><td> 79.18382</td><td>16.15621 </td><td>17.67426 </td></tr>\n",
       "\t<tr><td>onebag   </td><td>3        </td><td> 83.22995</td><td>17.08330 </td><td>18.79550 </td></tr>\n",
       "\t<tr><td>onebag   </td><td>4        </td><td> 47.90798</td><td>16.23029 </td><td>17.30187 </td></tr>\n",
       "\t<tr><td>onebag   </td><td>5        </td><td>102.21577</td><td>20.74279 </td><td>22.32305 </td></tr>\n",
       "\t<tr><td>onebag   </td><td>6        </td><td> 80.56845</td><td>17.81178 </td><td>19.10967 </td></tr>\n",
       "</tbody>\n",
       "</table>\n"
      ],
      "text/latex": [
       "\\begin{tabular}{r|lllll}\n",
       " Bag\\_Class & Bag\\_Id & Cls1 & Cls2 & Cls3\\\\\n",
       "\\hline\n",
       "\t onebag    & 1         &  65.33971 & 14.97200  & 17.06730 \\\\\n",
       "\t onebag    & 2         &  79.18382 & 16.15621  & 17.67426 \\\\\n",
       "\t onebag    & 3         &  83.22995 & 17.08330  & 18.79550 \\\\\n",
       "\t onebag    & 4         &  47.90798 & 16.23029  & 17.30187 \\\\\n",
       "\t onebag    & 5         & 102.21577 & 20.74279  & 22.32305 \\\\\n",
       "\t onebag    & 6         &  80.56845 & 17.81178  & 19.10967 \\\\\n",
       "\\end{tabular}\n"
      ],
      "text/markdown": [
       "\n",
       "| Bag_Class | Bag_Id | Cls1 | Cls2 | Cls3 |\n",
       "|---|---|---|---|---|\n",
       "| onebag    | 1         |  65.33971 | 14.97200  | 17.06730  |\n",
       "| onebag    | 2         |  79.18382 | 16.15621  | 17.67426  |\n",
       "| onebag    | 3         |  83.22995 | 17.08330  | 18.79550  |\n",
       "| onebag    | 4         |  47.90798 | 16.23029  | 17.30187  |\n",
       "| onebag    | 5         | 102.21577 | 20.74279  | 22.32305  |\n",
       "| onebag    | 6         |  80.56845 | 17.81178  | 19.10967  |\n",
       "\n"
      ],
      "text/plain": [
       "  Bag_Class Bag_Id Cls1      Cls2     Cls3    \n",
       "1 onebag    1       65.33971 14.97200 17.06730\n",
       "2 onebag    2       79.18382 16.15621 17.67426\n",
       "3 onebag    3       83.22995 17.08330 18.79550\n",
       "4 onebag    4       47.90798 16.23029 17.30187\n",
       "5 onebag    5      102.21577 20.74279 22.32305\n",
       "6 onebag    6       80.56845 17.81178 19.10967"
      ]
     },
     "metadata": {},
     "output_type": "display_data"
    }
   ],
   "source": [
    "#transform 0-1 to factors, for usage in classification in decision trees (it gave errors when 0-1)\n",
    "bagmean1$Bag_Class = ifelse(bagmean1$Bag_Class == 1, \"onebag\", \"zerobag\")\n",
    "head(bagmean1)\n",
    "bagmean2$Bag_Class = ifelse(bagmean2$Bag_Class == 1, \"onebag\", \"zerobag\")\n",
    "head(bagmean2)"
   ]
  },
  {
   "cell_type": "markdown",
   "id": "ebc79a2f",
   "metadata": {},
   "source": [
    "These, above are representation#1 and #2 respectively."
   ]
  },
  {
   "cell_type": "markdown",
   "id": "55487b48",
   "metadata": {},
   "source": [
    "### Classifier #1.1: Decision tree with Representation#1 (Euclidean dist.)"
   ]
  },
  {
   "cell_type": "code",
   "execution_count": 29,
   "id": "6af530f1",
   "metadata": {},
   "outputs": [],
   "source": [
    "library(\"caret\")\n",
    "set.seed(123)\n",
    "#with Euclidean rep\n",
    "Euc_grid <- expand.grid(cp=c(0.005,0.007,0.01,0.03,0.05,0.1))\n",
    "#it would not take minbucket as a grid value, I tried manually\n",
    "Traincontrol_Euc <-trainControl(method=\"cv\", number=10,  allowParallel=TRUE, classProbs = TRUE)"
   ]
  },
  {
   "cell_type": "markdown",
   "id": "5bcfd6cd",
   "metadata": {},
   "source": [
    "Results when cp=c(0.005,0.007,0.01,0.03,0.05,0.1) and minbucket = 5 are below."
   ]
  },
  {
   "cell_type": "code",
   "execution_count": 30,
   "id": "65eee54e",
   "metadata": {},
   "outputs": [
    {
     "data": {
      "text/plain": [
       "CART \n",
       "\n",
       "92 samples\n",
       " 4 predictor\n",
       " 2 classes: 'onebag', 'zerobag' \n",
       "\n",
       "No pre-processing\n",
       "Resampling: Cross-Validated (10 fold) \n",
       "Summary of sample sizes: 82, 82, 83, 84, 83, 83, ... \n",
       "Resampling results across tuning parameters:\n",
       "\n",
       "  cp     Accuracy   Kappa    \n",
       "  0.005  0.6930556  0.3818105\n",
       "  0.007  0.6930556  0.3818105\n",
       "  0.010  0.6930556  0.3818105\n",
       "  0.030  0.7141667  0.4292294\n",
       "  0.050  0.7566667  0.5142294\n",
       "  0.100  0.6958333  0.3888971\n",
       "\n",
       "Accuracy was used to select the optimal model using the largest value.\n",
       "The final value used for the model was cp = 0.05."
      ]
     },
     "metadata": {},
     "output_type": "display_data"
    }
   ],
   "source": [
    "#the decision tree with euclidean rep.\n",
    "#Minbucket = 1 is also tried which will result in a deep tree and probably in overfitting. \n",
    "#therefore mincbucket = 5 and higher were tried.\n",
    "set.seed(123)\n",
    "tree_Euc5 <- train(x=as.matrix(bagmean1[,3:6],with = F ),y=as.matrix(bagmean1$Bag_Class,with = F), method =\"rpart\", tuneGrid = Euc_grid ,trControl=Traincontrol_Euc, control = rpart.control(minbucket=c(5)))\n",
    "tree_Euc5"
   ]
  },
  {
   "cell_type": "markdown",
   "id": "e07a6255",
   "metadata": {},
   "source": [
    "Results when cp=c(0.005,0.007,0.01,0.03,0.05,0.1) and minbucket = 7 are below."
   ]
  },
  {
   "cell_type": "code",
   "execution_count": 31,
   "id": "432f6b42",
   "metadata": {},
   "outputs": [
    {
     "data": {
      "text/plain": [
       "CART \n",
       "\n",
       "92 samples\n",
       " 4 predictor\n",
       " 2 classes: 'onebag', 'zerobag' \n",
       "\n",
       "No pre-processing\n",
       "Resampling: Cross-Validated (10 fold) \n",
       "Summary of sample sizes: 82, 82, 83, 84, 83, 83, ... \n",
       "Resampling results across tuning parameters:\n",
       "\n",
       "  cp     Accuracy   Kappa    \n",
       "  0.005  0.6922222  0.3843621\n",
       "  0.007  0.6922222  0.3843621\n",
       "  0.010  0.6922222  0.3843621\n",
       "  0.030  0.6722222  0.3486478\n",
       "  0.050  0.7058333  0.4110158\n",
       "  0.100  0.7058333  0.4088971\n",
       "\n",
       "Accuracy was used to select the optimal model using the largest value.\n",
       "The final value used for the model was cp = 0.1."
      ]
     },
     "metadata": {},
     "output_type": "display_data"
    }
   ],
   "source": [
    "set.seed(123)\n",
    "tree_Euc7 <- train(x=as.matrix(bagmean1[,3:6],with = F ),y=as.matrix(bagmean1$Bag_Class,with = F), method =\"rpart\", tuneGrid = Euc_grid ,trControl=Traincontrol_Euc, control = rpart.control(minbucket=c(7)))\n",
    "tree_Euc7"
   ]
  },
  {
   "cell_type": "markdown",
   "id": "b7f46ccf",
   "metadata": {},
   "source": [
    "Results when cp=c(0.005,0.007,0.01,0.03,0.05,0.1) and minbucket = 10 are below."
   ]
  },
  {
   "cell_type": "code",
   "execution_count": 32,
   "id": "6ecf4f32",
   "metadata": {},
   "outputs": [
    {
     "data": {
      "text/plain": [
       "CART \n",
       "\n",
       "92 samples\n",
       " 4 predictor\n",
       " 2 classes: 'onebag', 'zerobag' \n",
       "\n",
       "No pre-processing\n",
       "Resampling: Cross-Validated (10 fold) \n",
       "Summary of sample sizes: 82, 82, 83, 84, 83, 83, ... \n",
       "Resampling results across tuning parameters:\n",
       "\n",
       "  cp     Accuracy   Kappa    \n",
       "  0.005  0.6400000  0.2707084\n",
       "  0.007  0.6400000  0.2707084\n",
       "  0.010  0.6400000  0.2707084\n",
       "  0.030  0.6733333  0.3438971\n",
       "  0.050  0.6858333  0.3688971\n",
       "  0.100  0.7169444  0.4319740\n",
       "\n",
       "Accuracy was used to select the optimal model using the largest value.\n",
       "The final value used for the model was cp = 0.1."
      ]
     },
     "metadata": {},
     "output_type": "display_data"
    }
   ],
   "source": [
    "set.seed(123)\n",
    "tree_Euc10 <- train(x=as.matrix(bagmean1[,3:6],with = F ),y=as.matrix(bagmean1$Bag_Class,with = F), method =\"rpart\", tuneGrid = Euc_grid ,trControl=Traincontrol_Euc, control = rpart.control(minbucket=c(10)))\n",
    "tree_Euc10"
   ]
  },
  {
   "cell_type": "markdown",
   "id": "398ea767",
   "metadata": {},
   "source": [
    "#### Resulting model\n",
    "cp=c(0.005,0.007,0.01,0.03,0.05,0.1) and minbucket = c(5,7, 10) were tried. \n",
    "\n",
    "Accuracy was used to select the optimal model using the largest value. (0.7566667)\n",
    "\n",
    "The final value used for the model was cp = 0.05 and minbucket = 5. "
   ]
  },
  {
   "cell_type": "code",
   "execution_count": 33,
   "id": "d3686c5f",
   "metadata": {},
   "outputs": [
    {
     "data": {
      "image/png": "[encoded data removed]",
      "text/plain": [
       "Plot with title \"\""
      ]
     },
     "metadata": {},
     "output_type": "display_data"
    }
   ],
   "source": [
    "##final tree Euc\n",
    "\n",
    "mybag1=as.data.table(bagmean1)\n",
    "my_tree_Euc <- rpart(Bag_Class~Cls1+Cls2+Cls3+Cls4 , mybag1, minbucket = c(5), cp = 0.05)\n",
    "\n",
    "fancyRpartPlot(my_tree_Euc)"
   ]
  },
  {
   "cell_type": "markdown",
   "id": "ed01a53b",
   "metadata": {},
   "source": [
    "This tree was used to predict the training data and accuracy is presented."
   ]
  },
  {
   "cell_type": "code",
   "execution_count": 34,
   "id": "29fc059b",
   "metadata": {},
   "outputs": [
    {
     "data": {
      "text/html": [
       "47"
      ],
      "text/latex": [
       "47"
      ],
      "text/markdown": [
       "47"
      ],
      "text/plain": [
       "[1] 47"
      ]
     },
     "metadata": {},
     "output_type": "display_data"
    },
    {
     "data": {
      "text/html": [
       "45"
      ],
      "text/latex": [
       "45"
      ],
      "text/markdown": [
       "45"
      ],
      "text/plain": [
       "[1] 45"
      ]
     },
     "metadata": {},
     "output_type": "display_data"
    },
    {
     "data": {
      "text/html": [
       "0.510869565217391"
      ],
      "text/latex": [
       "0.510869565217391"
      ],
      "text/markdown": [
       "0.510869565217391"
      ],
      "text/plain": [
       "[1] 0.5108696"
      ]
     },
     "metadata": {},
     "output_type": "display_data"
    },
    {
     "data": {
      "text/html": [
       "<table>\n",
       "<thead><tr><th></th><th scope=col>onebag</th><th scope=col>zerobag</th><th scope=col>Sum</th></tr></thead>\n",
       "<tbody>\n",
       "\t<tr><th scope=row>onebag</th><td>37</td><td>10</td><td>47</td></tr>\n",
       "\t<tr><th scope=row>zerobag</th><td> 6</td><td>39</td><td>45</td></tr>\n",
       "\t<tr><th scope=row>Sum</th><td>43</td><td>49</td><td>92</td></tr>\n",
       "</tbody>\n",
       "</table>\n"
      ],
      "text/latex": [
       "\\begin{tabular}{r|lll}\n",
       "  & onebag & zerobag & Sum\\\\\n",
       "\\hline\n",
       "\tonebag & 37 & 10 & 47\\\\\n",
       "\tzerobag &  6 & 39 & 45\\\\\n",
       "\tSum & 43 & 49 & 92\\\\\n",
       "\\end{tabular}\n"
      ],
      "text/markdown": [
       "\n",
       "| <!--/--> | onebag | zerobag | Sum |\n",
       "|---|---|---|---|\n",
       "| onebag | 37 | 10 | 47 |\n",
       "| zerobag |  6 | 39 | 45 |\n",
       "| Sum | 43 | 49 | 92 |\n",
       "\n"
      ],
      "text/plain": [
       "         predicted_class1\n",
       "          onebag zerobag Sum\n",
       "  onebag  37     10      47 \n",
       "  zerobag  6     39      45 \n",
       "  Sum     43     49      92 "
      ]
     },
     "metadata": {},
     "output_type": "display_data"
    },
    {
     "data": {
      "text/html": [
       "0.173913043478261"
      ],
      "text/latex": [
       "0.173913043478261"
      ],
      "text/markdown": [
       "0.173913043478261"
      ],
      "text/plain": [
       "[1] 0.173913"
      ]
     },
     "metadata": {},
     "output_type": "display_data"
    },
    {
     "data": {
      "text/html": [
       "0.826086956521739"
      ],
      "text/latex": [
       "0.826086956521739"
      ],
      "text/markdown": [
       "0.826086956521739"
      ],
      "text/plain": [
       "[1] 0.826087"
      ]
     },
     "metadata": {},
     "output_type": "display_data"
    }
   ],
   "source": [
    "#now we have onebag-zerobag representation for decisişn tree and RF\n",
    "#tranform and count for log reg\n",
    "#0-1 representation is going to be used for log reg.\n",
    "logbag1= bagmean1\n",
    "logbag1$Bag_Class=ifelse(logbag1$Bag_Class== \"onebag\",1,0)\n",
    "logbag2= bagmean2\n",
    "logbag2$Bag_Class=ifelse(logbag2$Bag_Class== \"onebag\",1,0)\n",
    "\n",
    "k1 =  sum(logbag1$Bag_Class)\n",
    "tot = length(logbag1$Bag_Class)\n",
    "k0 = tot - k1\n",
    "k1\n",
    "k0\n",
    "kratio= k1/tot\n",
    "kratio \n",
    "#classratio is 0.51 not imbalanced, however this ratio can still be used for prediction\n",
    "\n",
    "#use ratio since the set is slightly imbalanced\n",
    "predicted_prob1 <-  predict(my_tree_Euc,bagmean1,type= \"prob\")\n",
    "predicted_class1  <- ifelse(predicted_prob1 [,1] > kratio, \"onebag\", \"zerobag\")\n",
    "confusion_mat1 <- addmargins(table(bagmean1$Bag_Class, predicted_class1 ))\n",
    "confusion_mat1\n",
    "#training accuracy\n",
    "trainerr1 =  1- (sum(diag((confusion_mat1[1:2,1:2]))) /  confusion_mat1[3,3])\n",
    "trainerr1\n",
    "acc_train1= 1- trainerr1\n",
    "acc_train1\n",
    "\n"
   ]
  },
  {
   "cell_type": "markdown",
   "id": "492bfa87",
   "metadata": {},
   "source": [
    "Accuracy is presented above."
   ]
  },
  {
   "cell_type": "markdown",
   "id": "91849a97",
   "metadata": {},
   "source": [
    "### Classifier #1.2: Decision tree with Representation#2 (Manhattan dist.)"
   ]
  },
  {
   "cell_type": "code",
   "execution_count": 35,
   "id": "84a2fdd0",
   "metadata": {},
   "outputs": [],
   "source": [
    "#with Manhattan rep\n",
    "set.seed(123)\n",
    "Man_grid <- expand.grid(cp=c(0.005,0.007,0.01,0.03,0.05,0.1))\n",
    "#it would not take minbucket as a grid value, I tried manually\n",
    "Traincontrol_Man <-trainControl(method=\"cv\", number=10,  allowParallel=TRUE, classProbs = TRUE)"
   ]
  },
  {
   "cell_type": "code",
   "execution_count": 36,
   "id": "f34e8b5a",
   "metadata": {},
   "outputs": [
    {
     "data": {
      "text/plain": [
       "CART \n",
       "\n",
       "92 samples\n",
       " 3 predictor\n",
       " 2 classes: 'onebag', 'zerobag' \n",
       "\n",
       "No pre-processing\n",
       "Resampling: Cross-Validated (10 fold) \n",
       "Summary of sample sizes: 82, 82, 83, 84, 83, 83, ... \n",
       "Resampling results across tuning parameters:\n",
       "\n",
       "  cp     Accuracy   Kappa    \n",
       "  0.005  0.7355556  0.4754945\n",
       "  0.007  0.7355556  0.4754945\n",
       "  0.010  0.7155556  0.4354945\n",
       "  0.030  0.7380556  0.4729121\n",
       "  0.050  0.6755556  0.3478232\n",
       "  0.100  0.6200000  0.2447213\n",
       "\n",
       "Accuracy was used to select the optimal model using the largest value.\n",
       "The final value used for the model was cp = 0.03."
      ]
     },
     "metadata": {},
     "output_type": "display_data"
    },
    {
     "data": {
      "text/plain": [
       "CART \n",
       "\n",
       "92 samples\n",
       " 3 predictor\n",
       " 2 classes: 'onebag', 'zerobag' \n",
       "\n",
       "No pre-processing\n",
       "Resampling: Cross-Validated (10 fold) \n",
       "Summary of sample sizes: 83, 84, 82, 83, 82, 83, ... \n",
       "Resampling results across tuning parameters:\n",
       "\n",
       "  cp     Accuracy   Kappa    \n",
       "  0.005  0.6902778  0.3789208\n",
       "  0.007  0.6902778  0.3789208\n",
       "  0.010  0.6902778  0.3789208\n",
       "  0.030  0.7438889  0.4893380\n",
       "  0.050  0.7638889  0.5269499\n",
       "  0.100  0.6161111  0.2096530\n",
       "\n",
       "Accuracy was used to select the optimal model using the largest value.\n",
       "The final value used for the model was cp = 0.05."
      ]
     },
     "metadata": {},
     "output_type": "display_data"
    },
    {
     "data": {
      "text/plain": [
       "CART \n",
       "\n",
       "92 samples\n",
       " 3 predictor\n",
       " 2 classes: 'onebag', 'zerobag' \n",
       "\n",
       "No pre-processing\n",
       "Resampling: Cross-Validated (10 fold) \n",
       "Summary of sample sizes: 82, 83, 82, 83, 84, 83, ... \n",
       "Resampling results across tuning parameters:\n",
       "\n",
       "  cp     Accuracy   Kappa    \n",
       "  0.005  0.7294444  0.4644148\n",
       "  0.007  0.7294444  0.4644148\n",
       "  0.010  0.7294444  0.4644148\n",
       "  0.030  0.7283333  0.4646587\n",
       "  0.050  0.7186111  0.4446587\n",
       "  0.100  0.6936111  0.3946587\n",
       "\n",
       "Accuracy was used to select the optimal model using the largest value.\n",
       "The final value used for the model was cp = 0.01."
      ]
     },
     "metadata": {},
     "output_type": "display_data"
    },
    {
     "data": {
      "text/plain": [
       "CART \n",
       "\n",
       "92 samples\n",
       " 3 predictor\n",
       " 2 classes: 'onebag', 'zerobag' \n",
       "\n",
       "No pre-processing\n",
       "Resampling: Cross-Validated (10 fold) \n",
       "Summary of sample sizes: 82, 84, 83, 83, 83, 82, ... \n",
       "Resampling results across tuning parameters:\n",
       "\n",
       "  cp     Accuracy   Kappa    \n",
       "  0.005  0.6800000  0.3655749\n",
       "  0.007  0.6800000  0.3655749\n",
       "  0.010  0.6800000  0.3655749\n",
       "  0.030  0.6800000  0.3589208\n",
       "  0.050  0.6563889  0.3130671\n",
       "  0.100  0.6288889  0.2656414\n",
       "\n",
       "Accuracy was used to select the optimal model using the largest value.\n",
       "The final value used for the model was cp = 0.03."
      ]
     },
     "metadata": {},
     "output_type": "display_data"
    }
   ],
   "source": [
    "#the decision tree with manhattan rep\n",
    "set.seed(123)\n",
    "\n",
    "tree_Man1 <- train(x=as.matrix(bagmean2[,3:5],with = F ),y=as.matrix(bagmean2$Bag_Class,with = F), method =\"rpart\", tuneGrid = Man_grid ,trControl=Traincontrol_Man, control = rpart.control(minbucket=c(1)))\n",
    "tree_Man1\n",
    "tree_Man5 <- train(x=as.matrix(bagmean2[,3:5],with = F ),y=as.matrix(bagmean2$Bag_Class,with = F), method =\"rpart\", tuneGrid = Man_grid ,trControl=Traincontrol_Man, control = rpart.control(minbucket=c(5)))\n",
    "tree_Man5\n",
    "tree_Man7 <- train(x=as.matrix(bagmean2[,3:5],with = F ),y=as.matrix(bagmean2$Bag_Class,with = F), method =\"rpart\", tuneGrid = Man_grid ,trControl=Traincontrol_Man, control = rpart.control(minbucket=c(7)))\n",
    "tree_Man7\n",
    "tree_Man10 <- train(x=as.matrix(bagmean2[,3:5],with = F ),y=as.matrix(bagmean2$Bag_Class,with = F), method =\"rpart\", tuneGrid = Man_grid ,trControl=Traincontrol_Man, control = rpart.control(minbucket=c(10)))\n",
    "tree_Man10\n"
   ]
  },
  {
   "cell_type": "markdown",
   "id": "9788cb61",
   "metadata": {},
   "source": [
    "#### Resulting model\n",
    "cp=c(0.005,0.007,0.01,0.03,0.05,0.1) and minbucket = c(1,5,7 10) were tried. \n",
    "\n",
    "Accuracy = 0.7638889  was used to select the optimal model using the largest value. The final value used for the model was cp = 0.05 and minbucket = 5.\n",
    "\n",
    "Therefore mincbucket = 5 and cp = 0.05 was selected."
   ]
  },
  {
   "cell_type": "code",
   "execution_count": 37,
   "id": "255b7b17",
   "metadata": {
    "scrolled": false
   },
   "outputs": [
    {
     "data": {
      "image/png": "[encoded data removed]",
      "text/plain": [
       "Plot with title \"\""
      ]
     },
     "metadata": {},
     "output_type": "display_data"
    }
   ],
   "source": [
    "##final tree manhattan\n",
    "\n",
    "mybag2=as.data.table(bagmean2)\n",
    "my_tree_Man <- rpart(Bag_Class~Cls1+Cls2+Cls3, mybag2, minbucket = c(5), cp = 0.05)\n",
    "\n",
    "fancyRpartPlot(my_tree_Man)\n"
   ]
  },
  {
   "cell_type": "markdown",
   "id": "54de9f31",
   "metadata": {},
   "source": [
    "This tree was used to predict the training data and accuracy is presented below."
   ]
  },
  {
   "cell_type": "code",
   "execution_count": 38,
   "id": "0a59dcc8",
   "metadata": {},
   "outputs": [
    {
     "data": {
      "text/html": [
       "47"
      ],
      "text/latex": [
       "47"
      ],
      "text/markdown": [
       "47"
      ],
      "text/plain": [
       "[1] 47"
      ]
     },
     "metadata": {},
     "output_type": "display_data"
    },
    {
     "data": {
      "text/html": [
       "45"
      ],
      "text/latex": [
       "45"
      ],
      "text/markdown": [
       "45"
      ],
      "text/plain": [
       "[1] 45"
      ]
     },
     "metadata": {},
     "output_type": "display_data"
    },
    {
     "data": {
      "text/html": [
       "0.510869565217391"
      ],
      "text/latex": [
       "0.510869565217391"
      ],
      "text/markdown": [
       "0.510869565217391"
      ],
      "text/plain": [
       "[1] 0.5108696"
      ]
     },
     "metadata": {},
     "output_type": "display_data"
    },
    {
     "data": {
      "text/html": [
       "<table>\n",
       "<thead><tr><th></th><th scope=col>onebag</th><th scope=col>zerobag</th><th scope=col>Sum</th></tr></thead>\n",
       "<tbody>\n",
       "\t<tr><th scope=row>onebag</th><td>33</td><td>14</td><td>47</td></tr>\n",
       "\t<tr><th scope=row>zerobag</th><td> 3</td><td>42</td><td>45</td></tr>\n",
       "\t<tr><th scope=row>Sum</th><td>36</td><td>56</td><td>92</td></tr>\n",
       "</tbody>\n",
       "</table>\n"
      ],
      "text/latex": [
       "\\begin{tabular}{r|lll}\n",
       "  & onebag & zerobag & Sum\\\\\n",
       "\\hline\n",
       "\tonebag & 33 & 14 & 47\\\\\n",
       "\tzerobag &  3 & 42 & 45\\\\\n",
       "\tSum & 36 & 56 & 92\\\\\n",
       "\\end{tabular}\n"
      ],
      "text/markdown": [
       "\n",
       "| <!--/--> | onebag | zerobag | Sum |\n",
       "|---|---|---|---|\n",
       "| onebag | 33 | 14 | 47 |\n",
       "| zerobag |  3 | 42 | 45 |\n",
       "| Sum | 36 | 56 | 92 |\n",
       "\n"
      ],
      "text/plain": [
       "         predicted_class2\n",
       "          onebag zerobag Sum\n",
       "  onebag  33     14      47 \n",
       "  zerobag  3     42      45 \n",
       "  Sum     36     56      92 "
      ]
     },
     "metadata": {},
     "output_type": "display_data"
    },
    {
     "data": {
      "text/html": [
       "0.184782608695652"
      ],
      "text/latex": [
       "0.184782608695652"
      ],
      "text/markdown": [
       "0.184782608695652"
      ],
      "text/plain": [
       "[1] 0.1847826"
      ]
     },
     "metadata": {},
     "output_type": "display_data"
    },
    {
     "data": {
      "text/html": [
       "0.815217391304348"
      ],
      "text/latex": [
       "0.815217391304348"
      ],
      "text/markdown": [
       "0.815217391304348"
      ],
      "text/plain": [
       "[1] 0.8152174"
      ]
     },
     "metadata": {},
     "output_type": "display_data"
    }
   ],
   "source": [
    "k1m =  sum(logbag2$Bag_Class)\n",
    "totm = length(logbag2$Bag_Class)\n",
    "k0m = totm - k1m\n",
    "k1m\n",
    "k0m\n",
    "kratiom= k1m/totm\n",
    "kratiom\n",
    "#classratio is 0.51 not imbalanced, however this ratio can still be used for prediction\n",
    "\n",
    "predicted_prob2<-  predict(my_tree_Man, bagmean2,type= \"prob\")\n",
    "predicted_class2 <- ifelse(predicted_prob2[,1] > kratiom, \"onebag\", \"zerobag\")\n",
    "confusion_mat2 <- addmargins(table(bagmean2$Bag_Class, predicted_class2 ))\n",
    "confusion_mat2\n",
    "#training accuracy\n",
    "trainerr2 =  1- (sum(diag((confusion_mat2[1:2,1:2]))) /  confusion_mat2[3,3])\n",
    "trainerr2\n",
    "acc_train2= 1- trainerr2\n",
    "acc_train2"
   ]
  },
  {
   "cell_type": "markdown",
   "id": "447b3f93",
   "metadata": {},
   "source": [
    "Accuracy is presented above."
   ]
  },
  {
   "cell_type": "markdown",
   "id": "6b4cf76f",
   "metadata": {},
   "source": [
    "## Classifier#2: Random forest"
   ]
  },
  {
   "cell_type": "markdown",
   "id": "329f5edc",
   "metadata": {},
   "source": [
    "### Classifier#2.1: Random forest with Representation#1 (Euclidean dist.)"
   ]
  },
  {
   "cell_type": "code",
   "execution_count": 39,
   "id": "bb63c4d8",
   "metadata": {},
   "outputs": [],
   "source": [
    "set.seed(123)\n",
    "\n",
    "#euclidean\n",
    "\n",
    "Euc_grid_RF <- expand.grid(mtry = c(1:4) ,min.node.size=5, splitrule = \"gini\")\n",
    "Traincontrol_Euc_RF <-trainControl(method=\"cv\", number=10,  allowParallel=TRUE, classProbs = TRUE)\n"
   ]
  },
  {
   "cell_type": "code",
   "execution_count": 40,
   "id": "09f0572d",
   "metadata": {},
   "outputs": [
    {
     "data": {
      "text/plain": [
       "Random Forest \n",
       "\n",
       "92 samples\n",
       " 4 predictor\n",
       " 2 classes: 'onebag', 'zerobag' \n",
       "\n",
       "No pre-processing\n",
       "Resampling: Cross-Validated (10 fold) \n",
       "Summary of sample sizes: 82, 82, 83, 84, 83, 83, ... \n",
       "Resampling results across tuning parameters:\n",
       "\n",
       "  mtry  Accuracy   Kappa    \n",
       "  1     0.7455556  0.4879362\n",
       "  2     0.7555556  0.5079644\n",
       "  3     0.7244444  0.4460131\n",
       "  4     0.7455556  0.4868668\n",
       "\n",
       "Tuning parameter 'splitrule' was held constant at a value of gini\n",
       "\n",
       "Tuning parameter 'min.node.size' was held constant at a value of 5\n",
       "Accuracy was used to select the optimal model using the largest value.\n",
       "The final values used for the model were mtry = 2, splitrule = gini\n",
       " and min.node.size = 5."
      ]
     },
     "metadata": {},
     "output_type": "display_data"
    }
   ],
   "source": [
    "RF_euc <- train(x=as.matrix(bagmean1[,3:6],with = F ),y=as.matrix(bagmean1$Bag_Class), method=\"ranger\", tuneGrid= Euc_grid_RF, trControl= Traincontrol_Euc_RF)\n",
    "RF_euc"
   ]
  },
  {
   "cell_type": "markdown",
   "id": "245a34e3",
   "metadata": {},
   "source": [
    "#### Resulting model\n",
    "mtry = c(1:4) were tried.\n",
    "\n",
    "Accuracy = 0.7555556  was used to select the optimal model using the largest value. \n",
    "The final values used for the model were mtry = 2, splitrule = gini and min.node.size = 5.\n",
    "\n",
    "Therefore mtry = 2 was selected for the model."
   ]
  },
  {
   "cell_type": "markdown",
   "id": "35409b3a",
   "metadata": {},
   "source": [
    "This RF model was used to predict the OOB training data and accuracy is presented."
   ]
  },
  {
   "cell_type": "code",
   "execution_count": 41,
   "id": "b29a2de8",
   "metadata": {},
   "outputs": [
    {
     "name": "stdout",
     "output_type": "stream",
     "text": [
      "\n",
      "Call:\n",
      " randomForest(x = bagmean1[, -c(1, 2)], y = as.factor(bagmean1$Bag_Class),      mtyr = 2, min.node.size = 5, splitrule = \"gini\") \n",
      "               Type of random forest: classification\n",
      "                     Number of trees: 500\n",
      "No. of variables tried at each split: 2\n",
      "\n",
      "        OOB estimate of  error rate: 27.17%\n",
      "Confusion matrix:\n",
      "        onebag zerobag class.error\n",
      "onebag      34      13   0.2765957\n",
      "zerobag     12      33   0.2666667\n"
     ]
    }
   ],
   "source": [
    "#print\n",
    "my_RF_euc =randomForest(bagmean1[,-c(1,2)],as.factor(bagmean1$Bag_Class),mtyr=2, min.node.size = 5, splitrule = \"gini\")\n",
    "print(my_RF_euc)"
   ]
  },
  {
   "cell_type": "code",
   "execution_count": 42,
   "id": "183d7f40",
   "metadata": {},
   "outputs": [
    {
     "data": {
      "text/html": [
       "<table>\n",
       "<thead><tr><th></th><th scope=col>onebag</th><th scope=col>zerobag</th><th scope=col>class.error</th></tr></thead>\n",
       "<tbody>\n",
       "\t<tr><th scope=row>onebag</th><td>34       </td><td>13       </td><td>0.2765957</td></tr>\n",
       "\t<tr><th scope=row>zerobag</th><td>12       </td><td>33       </td><td>0.2666667</td></tr>\n",
       "</tbody>\n",
       "</table>\n"
      ],
      "text/latex": [
       "\\begin{tabular}{r|lll}\n",
       "  & onebag & zerobag & class.error\\\\\n",
       "\\hline\n",
       "\tonebag & 34        & 13        & 0.2765957\\\\\n",
       "\tzerobag & 12        & 33        & 0.2666667\\\\\n",
       "\\end{tabular}\n"
      ],
      "text/markdown": [
       "\n",
       "| <!--/--> | onebag | zerobag | class.error |\n",
       "|---|---|---|---|\n",
       "| onebag | 34        | 13        | 0.2765957 |\n",
       "| zerobag | 12        | 33        | 0.2666667 |\n",
       "\n"
      ],
      "text/plain": [
       "        onebag zerobag class.error\n",
       "onebag  34     13      0.2765957  \n",
       "zerobag 12     33      0.2666667  "
      ]
     },
     "metadata": {},
     "output_type": "display_data"
    }
   ],
   "source": [
    "my_RF_euc$confusion"
   ]
  },
  {
   "cell_type": "code",
   "execution_count": 43,
   "id": "21f1adcb",
   "metadata": {},
   "outputs": [
    {
     "data": {
      "text/html": [
       "0.271739130434783"
      ],
      "text/latex": [
       "0.271739130434783"
      ],
      "text/markdown": [
       "0.271739130434783"
      ],
      "text/plain": [
       "[1] 0.2717391"
      ]
     },
     "metadata": {},
     "output_type": "display_data"
    },
    {
     "data": {
      "text/html": [
       "0.728260869565217"
      ],
      "text/latex": [
       "0.728260869565217"
      ],
      "text/markdown": [
       "0.728260869565217"
      ],
      "text/plain": [
       "[1] 0.7282609"
      ]
     },
     "metadata": {},
     "output_type": "display_data"
    }
   ],
   "source": [
    "err =  1- (sum(diag((my_RF_euc$confusion[1:2,1:2]))) /  sum((my_RF_euc$confusion[1:2,1:2])))\n",
    "err\n",
    "\n",
    "acc= 1- err\n",
    "acc\n"
   ]
  },
  {
   "cell_type": "markdown",
   "id": "4f334b1b",
   "metadata": {},
   "source": [
    "### Classifier#2.2: Random forest with Representation#2 (Manhattan dist.)"
   ]
  },
  {
   "cell_type": "code",
   "execution_count": 44,
   "id": "d04c93a5",
   "metadata": {},
   "outputs": [
    {
     "data": {
      "text/plain": [
       "Random Forest \n",
       "\n",
       "92 samples\n",
       " 3 predictor\n",
       " 2 classes: 'onebag', 'zerobag' \n",
       "\n",
       "No pre-processing\n",
       "Resampling: Cross-Validated (10 fold) \n",
       "Summary of sample sizes: 82, 82, 83, 84, 83, 83, ... \n",
       "Resampling results across tuning parameters:\n",
       "\n",
       "  mtry  Accuracy   Kappa    \n",
       "  1     0.7419444  0.4785277\n",
       "  2     0.7308333  0.4576218\n",
       "  3     0.7183333  0.4326218\n",
       "\n",
       "Tuning parameter 'splitrule' was held constant at a value of gini\n",
       "\n",
       "Tuning parameter 'min.node.size' was held constant at a value of 5\n",
       "Accuracy was used to select the optimal model using the largest value.\n",
       "The final values used for the model were mtry = 1, splitrule = gini\n",
       " and min.node.size = 5."
      ]
     },
     "metadata": {},
     "output_type": "display_data"
    }
   ],
   "source": [
    "#manhattan\n",
    "set.seed(123)\n",
    "Man_grid_RF <- expand.grid(mtry = c(1:3) ,min.node.size=5, splitrule = \"gini\")\n",
    "Traincontrol_Man_RF <-trainControl(method=\"cv\", number=10,  allowParallel=TRUE, classProbs = TRUE)\n",
    "RF_man <- train(x=as.matrix(bagmean2[,3:5],with = F ),y=as.matrix(bagmean2$Bag_Class), method=\"ranger\", tuneGrid= Man_grid_RF, trControl= Traincontrol_Man_RF)\n",
    "RF_man"
   ]
  },
  {
   "cell_type": "markdown",
   "id": "633f4e98",
   "metadata": {},
   "source": [
    "#### Resulting model\n",
    "mtry = c(1:3) were tried.\n",
    "\n",
    "Accuracy = 0.7419444  was used to select the optimal model using the largest value. The final values used for the model were mtry = 1, splitrule = gini and min.node.size = 5.\n",
    "\n",
    "Therefore mtry = 1 was selected for the model."
   ]
  },
  {
   "cell_type": "code",
   "execution_count": 45,
   "id": "ce58f0f4",
   "metadata": {},
   "outputs": [
    {
     "name": "stdout",
     "output_type": "stream",
     "text": [
      "\n",
      "Call:\n",
      " randomForest(x = bagmean2[, -c(1, 2)], y = as.factor(bagmean2$Bag_Class),      mtyr = 1, min.node.size = 5, splitrule = \"gini\") \n",
      "               Type of random forest: classification\n",
      "                     Number of trees: 500\n",
      "No. of variables tried at each split: 1\n",
      "\n",
      "        OOB estimate of  error rate: 26.09%\n",
      "Confusion matrix:\n",
      "        onebag zerobag class.error\n",
      "onebag      34      13   0.2765957\n",
      "zerobag     11      34   0.2444444\n"
     ]
    },
    {
     "data": {
      "text/html": [
       "<table>\n",
       "<thead><tr><th></th><th scope=col>onebag</th><th scope=col>zerobag</th><th scope=col>class.error</th></tr></thead>\n",
       "<tbody>\n",
       "\t<tr><th scope=row>onebag</th><td>34       </td><td>13       </td><td>0.2765957</td></tr>\n",
       "\t<tr><th scope=row>zerobag</th><td>11       </td><td>34       </td><td>0.2444444</td></tr>\n",
       "</tbody>\n",
       "</table>\n"
      ],
      "text/latex": [
       "\\begin{tabular}{r|lll}\n",
       "  & onebag & zerobag & class.error\\\\\n",
       "\\hline\n",
       "\tonebag & 34        & 13        & 0.2765957\\\\\n",
       "\tzerobag & 11        & 34        & 0.2444444\\\\\n",
       "\\end{tabular}\n"
      ],
      "text/markdown": [
       "\n",
       "| <!--/--> | onebag | zerobag | class.error |\n",
       "|---|---|---|---|\n",
       "| onebag | 34        | 13        | 0.2765957 |\n",
       "| zerobag | 11        | 34        | 0.2444444 |\n",
       "\n"
      ],
      "text/plain": [
       "        onebag zerobag class.error\n",
       "onebag  34     13      0.2765957  \n",
       "zerobag 11     34      0.2444444  "
      ]
     },
     "metadata": {},
     "output_type": "display_data"
    }
   ],
   "source": [
    "my_RF_man =randomForest(bagmean2[,-c(1,2)],as.factor(bagmean2$Bag_Class),mtyr=1, min.node.size = 5, splitrule = \"gini\")\n",
    "print(my_RF_man)\n",
    "my_RF_man$confusion"
   ]
  },
  {
   "cell_type": "markdown",
   "id": "37d6dbbe",
   "metadata": {},
   "source": [
    "This RF model was used to predict the OOB training data and accuracy is presented."
   ]
  },
  {
   "cell_type": "code",
   "execution_count": 46,
   "id": "e2c23084",
   "metadata": {
    "scrolled": true
   },
   "outputs": [
    {
     "data": {
      "text/html": [
       "0.260869565217391"
      ],
      "text/latex": [
       "0.260869565217391"
      ],
      "text/markdown": [
       "0.260869565217391"
      ],
      "text/plain": [
       "[1] 0.2608696"
      ]
     },
     "metadata": {},
     "output_type": "display_data"
    },
    {
     "data": {
      "text/html": [
       "0.739130434782609"
      ],
      "text/latex": [
       "0.739130434782609"
      ],
      "text/markdown": [
       "0.739130434782609"
      ],
      "text/plain": [
       "[1] 0.7391304"
      ]
     },
     "metadata": {},
     "output_type": "display_data"
    }
   ],
   "source": [
    "errm =  1- (sum(diag((my_RF_man$confusion[1:2,1:2]))) /  sum((my_RF_man$confusion[1:2,1:2])))\n",
    "errm\n",
    "\n",
    "accm= 1- errm\n",
    "accm"
   ]
  },
  {
   "cell_type": "markdown",
   "id": "3c398a58",
   "metadata": {},
   "source": [
    "## Classifier#3: Logistic Regression"
   ]
  },
  {
   "cell_type": "markdown",
   "id": "f34cbfdc",
   "metadata": {},
   "source": [
    "Additionally, logistic regressions model for both representations were built for comparision."
   ]
  },
  {
   "cell_type": "markdown",
   "id": "129f7505",
   "metadata": {},
   "source": [
    "### Classifier#3.1: Logistic Regression with Representation#1 (Euclidean dist.)"
   ]
  },
  {
   "cell_type": "markdown",
   "id": "87364f56",
   "metadata": {},
   "source": [
    "Several lambda values are tried to find optimal penalty for Lasso penalized model"
   ]
  },
  {
   "cell_type": "code",
   "execution_count": 47,
   "id": "14976641",
   "metadata": {},
   "outputs": [
    {
     "data": {
      "text/plain": [
       "glmnet \n",
       "\n",
       "92 samples\n",
       " 4 predictor\n",
       " 2 classes: 'onebag', 'zerobag' \n",
       "\n",
       "No pre-processing\n",
       "Resampling: Cross-Validated (10 fold) \n",
       "Summary of sample sizes: 82, 82, 83, 84, 83, 83, ... \n",
       "Resampling results across tuning parameters:\n",
       "\n",
       "  lambda  Accuracy   Kappa    \n",
       "  0.0010  0.7805556  0.5621697\n",
       "  0.0011  0.7805556  0.5621697\n",
       "  0.0012  0.7805556  0.5621697\n",
       "  0.0013  0.7805556  0.5621697\n",
       "  0.0014  0.7805556  0.5621697\n",
       "  0.0015  0.7805556  0.5621697\n",
       "  0.0016  0.7805556  0.5621697\n",
       "  0.0017  0.7805556  0.5621697\n",
       "  0.0018  0.7805556  0.5621697\n",
       "  0.0019  0.7805556  0.5621697\n",
       "  0.0020  0.7805556  0.5621697\n",
       "  0.0021  0.7805556  0.5621697\n",
       "  0.0022  0.7805556  0.5621697\n",
       "  0.0023  0.7805556  0.5621697\n",
       "  0.0024  0.7805556  0.5621697\n",
       "  0.0025  0.7805556  0.5621697\n",
       "  0.0026  0.7805556  0.5621697\n",
       "  0.0027  0.7805556  0.5621697\n",
       "  0.0028  0.7805556  0.5621697\n",
       "  0.0029  0.7805556  0.5621697\n",
       "  0.0030  0.7805556  0.5621697\n",
       "  0.0031  0.7916667  0.5830756\n",
       "  0.0032  0.7916667  0.5830756\n",
       "  0.0033  0.7916667  0.5830756\n",
       "  0.0034  0.7916667  0.5830756\n",
       "  0.0035  0.7916667  0.5830756\n",
       "  0.0036  0.7916667  0.5830756\n",
       "  0.0037  0.7916667  0.5830756\n",
       "  0.0038  0.7916667  0.5830756\n",
       "  0.0039  0.7916667  0.5830756\n",
       "  0.0040  0.7916667  0.5830756\n",
       "  0.0041  0.7916667  0.5830756\n",
       "  0.0042  0.7916667  0.5830756\n",
       "  0.0043  0.7916667  0.5830756\n",
       "  0.0044  0.7916667  0.5830756\n",
       "  0.0045  0.7916667  0.5830756\n",
       "  0.0046  0.7916667  0.5830756\n",
       "  0.0047  0.7916667  0.5830756\n",
       "  0.0048  0.7916667  0.5830756\n",
       "  0.0049  0.7916667  0.5830756\n",
       "  0.0050  0.7916667  0.5830756\n",
       "  0.0051  0.7916667  0.5830756\n",
       "  0.0052  0.7916667  0.5830756\n",
       "  0.0053  0.7916667  0.5830756\n",
       "  0.0054  0.7916667  0.5830756\n",
       "  0.0055  0.7916667  0.5830756\n",
       "  0.0056  0.7916667  0.5830756\n",
       "  0.0057  0.7916667  0.5830756\n",
       "  0.0058  0.7916667  0.5830756\n",
       "  0.0059  0.7916667  0.5830756\n",
       "  0.0060  0.7916667  0.5830756\n",
       "  0.0061  0.7916667  0.5830756\n",
       "  0.0062  0.7916667  0.5830756\n",
       "  0.0063  0.7916667  0.5830756\n",
       "  0.0064  0.7916667  0.5830756\n",
       "  0.0065  0.7916667  0.5830756\n",
       "  0.0066  0.7916667  0.5830756\n",
       "  0.0067  0.7916667  0.5830756\n",
       "  0.0068  0.7916667  0.5830756\n",
       "  0.0069  0.7916667  0.5830756\n",
       "  0.0070  0.7916667  0.5830756\n",
       "  0.0071  0.7916667  0.5830756\n",
       "  0.0072  0.7916667  0.5830756\n",
       "  0.0073  0.7916667  0.5830756\n",
       "  0.0074  0.7916667  0.5830756\n",
       "  0.0075  0.7916667  0.5830756\n",
       "  0.0076  0.7916667  0.5830756\n",
       "  0.0077  0.7916667  0.5830756\n",
       "  0.0078  0.7916667  0.5830756\n",
       "  0.0079  0.7916667  0.5830756\n",
       "  0.0080  0.7916667  0.5830756\n",
       "  0.0081  0.7916667  0.5830756\n",
       "  0.0082  0.7916667  0.5830756\n",
       "  0.0083  0.7916667  0.5830756\n",
       "  0.0084  0.7916667  0.5830756\n",
       "  0.0085  0.7916667  0.5830756\n",
       "  0.0086  0.7916667  0.5830756\n",
       "  0.0087  0.7916667  0.5830756\n",
       "  0.0088  0.7916667  0.5830756\n",
       "  0.0089  0.7916667  0.5830756\n",
       "  0.0090  0.7916667  0.5830756\n",
       "  0.0091  0.7916667  0.5830756\n",
       "  0.0092  0.7916667  0.5830756\n",
       "  0.0093  0.7916667  0.5830756\n",
       "  0.0094  0.7916667  0.5830756\n",
       "  0.0095  0.7916667  0.5830756\n",
       "  0.0096  0.7916667  0.5830756\n",
       "  0.0097  0.7916667  0.5830756\n",
       "  0.0098  0.7916667  0.5830756\n",
       "  0.0099  0.7916667  0.5830756\n",
       "  0.0100  0.7916667  0.5830756\n",
       "  0.0101  0.7916667  0.5830756\n",
       "  0.0102  0.7916667  0.5830756\n",
       "  0.0103  0.7916667  0.5830756\n",
       "  0.0104  0.7916667  0.5830756\n",
       "  0.0105  0.7916667  0.5830756\n",
       "  0.0106  0.7916667  0.5830756\n",
       "  0.0107  0.7916667  0.5830756\n",
       "  0.0108  0.7916667  0.5830756\n",
       "  0.0109  0.7916667  0.5830756\n",
       "  0.0110  0.7916667  0.5830756\n",
       "  0.0111  0.7916667  0.5830756\n",
       "  0.0112  0.7916667  0.5830756\n",
       "  0.0113  0.7916667  0.5830756\n",
       "  0.0114  0.7916667  0.5830756\n",
       "  0.0115  0.7916667  0.5830756\n",
       "  0.0116  0.7916667  0.5830756\n",
       "  0.0117  0.7916667  0.5830756\n",
       "  0.0118  0.7916667  0.5830756\n",
       "  0.0119  0.7916667  0.5830756\n",
       "  0.0120  0.7916667  0.5830756\n",
       "  0.0121  0.7916667  0.5830756\n",
       "  0.0122  0.7916667  0.5830756\n",
       "  0.0123  0.7916667  0.5830756\n",
       "  0.0124  0.7916667  0.5830756\n",
       "  0.0125  0.7916667  0.5830756\n",
       "  0.0126  0.7916667  0.5830756\n",
       "  0.0127  0.7916667  0.5830756\n",
       "  0.0128  0.7916667  0.5830756\n",
       "  0.0129  0.7916667  0.5830756\n",
       "  0.0130  0.7916667  0.5830756\n",
       "  0.0131  0.7916667  0.5830756\n",
       "  0.0132  0.7916667  0.5830756\n",
       "  0.0133  0.7916667  0.5830756\n",
       "  0.0134  0.7916667  0.5830756\n",
       "  0.0135  0.7916667  0.5830756\n",
       "  0.0136  0.7916667  0.5830756\n",
       "  0.0137  0.7916667  0.5830756\n",
       "  0.0138  0.7916667  0.5830756\n",
       "  0.0139  0.7916667  0.5830756\n",
       "  0.0140  0.7916667  0.5830756\n",
       "  0.0141  0.7916667  0.5830756\n",
       "  0.0142  0.7916667  0.5830756\n",
       "  0.0143  0.7916667  0.5830756\n",
       "  0.0144  0.7916667  0.5830756\n",
       "  0.0145  0.7916667  0.5830756\n",
       "  0.0146  0.7916667  0.5830756\n",
       "  0.0147  0.7916667  0.5830756\n",
       "  0.0148  0.7916667  0.5830756\n",
       "  0.0149  0.7916667  0.5830756\n",
       "  0.0150  0.7916667  0.5830756\n",
       "  0.0151  0.7916667  0.5830756\n",
       "  0.0152  0.7916667  0.5830756\n",
       "  0.0153  0.7916667  0.5830756\n",
       "  0.0154  0.7916667  0.5830756\n",
       "  0.0155  0.7916667  0.5830756\n",
       "  0.0156  0.7916667  0.5830756\n",
       "  0.0157  0.7916667  0.5830756\n",
       "  0.0158  0.7916667  0.5830756\n",
       "  0.0159  0.7916667  0.5830756\n",
       "  0.0160  0.7916667  0.5830756\n",
       "  0.0161  0.7916667  0.5830756\n",
       "  0.0162  0.7916667  0.5830756\n",
       "  0.0163  0.7916667  0.5830756\n",
       "  0.0164  0.7916667  0.5830756\n",
       "  0.0165  0.7916667  0.5830756\n",
       "  0.0166  0.7916667  0.5830756\n",
       "  0.0167  0.7916667  0.5830756\n",
       "  0.0168  0.7916667  0.5830756\n",
       "  0.0169  0.7916667  0.5830756\n",
       "  0.0170  0.7916667  0.5830756\n",
       "  0.0171  0.7916667  0.5830756\n",
       "  0.0172  0.7916667  0.5830756\n",
       "  0.0173  0.7916667  0.5830756\n",
       "  0.0174  0.7916667  0.5830756\n",
       "  0.0175  0.7916667  0.5830756\n",
       "  0.0176  0.7916667  0.5830756\n",
       "  0.0177  0.7916667  0.5830756\n",
       "  0.0178  0.7916667  0.5830756\n",
       "  0.0179  0.7916667  0.5830756\n",
       "  0.0180  0.7916667  0.5830756\n",
       "  0.0181  0.7916667  0.5830756\n",
       "  0.0182  0.7916667  0.5830756\n",
       "  0.0183  0.7916667  0.5830756\n",
       "  0.0184  0.8027778  0.6061525\n",
       "  0.0185  0.8027778  0.6061525\n",
       "  0.0186  0.8027778  0.6061525\n",
       "  0.0187  0.8027778  0.6061525\n",
       "  0.0188  0.8027778  0.6061525\n",
       "  0.0189  0.8027778  0.6061525\n",
       "  0.0190  0.8027778  0.6061525\n",
       "  0.0191  0.8027778  0.6061525\n",
       "  0.0192  0.8027778  0.6061525\n",
       "  0.0193  0.8027778  0.6061525\n",
       "  0.0194  0.8027778  0.6061525\n",
       "  0.0195  0.8027778  0.6061525\n",
       "  0.0196  0.8027778  0.6061525\n",
       "  0.0197  0.8027778  0.6061525\n",
       "  0.0198  0.8027778  0.6061525\n",
       "  0.0199  0.8027778  0.6061525\n",
       "  0.0200  0.8027778  0.6061525\n",
       "  0.0201  0.8027778  0.6061525\n",
       "  0.0202  0.8027778  0.6061525\n",
       "  0.0203  0.8027778  0.6061525\n",
       "  0.0204  0.8027778  0.6061525\n",
       "  0.0205  0.8027778  0.6061525\n",
       "  0.0206  0.8027778  0.6061525\n",
       "  0.0207  0.8027778  0.6061525\n",
       "  0.0208  0.8027778  0.6061525\n",
       "  0.0209  0.8027778  0.6061525\n",
       "  0.0210  0.8027778  0.6061525\n",
       "  0.0211  0.8027778  0.6061525\n",
       "  0.0212  0.8027778  0.6061525\n",
       "  0.0213  0.8027778  0.6061525\n",
       "  0.0214  0.8027778  0.6061525\n",
       "  0.0215  0.8027778  0.6061525\n",
       "  0.0216  0.8027778  0.6061525\n",
       "  0.0217  0.8027778  0.6061525\n",
       "  0.0218  0.8027778  0.6061525\n",
       "  0.0219  0.8027778  0.6061525\n",
       "  0.0220  0.8027778  0.6061525\n",
       "  0.0221  0.8027778  0.6061525\n",
       "  0.0222  0.8027778  0.6061525\n",
       "  0.0223  0.8027778  0.6061525\n",
       "  0.0224  0.8027778  0.6061525\n",
       "  0.0225  0.8027778  0.6061525\n",
       "  0.0226  0.8027778  0.6061525\n",
       "  0.0227  0.8027778  0.6061525\n",
       "  0.0228  0.8027778  0.6061525\n",
       "  0.0229  0.8027778  0.6061525\n",
       "  0.0230  0.8027778  0.6061525\n",
       "  0.0231  0.8027778  0.6061525\n",
       "  0.0232  0.8027778  0.6061525\n",
       "  0.0233  0.8027778  0.6061525\n",
       "  0.0234  0.8027778  0.6061525\n",
       "  0.0235  0.8027778  0.6061525\n",
       "  0.0236  0.8027778  0.6061525\n",
       "  0.0237  0.8027778  0.6061525\n",
       "  0.0238  0.8027778  0.6061525\n",
       "  0.0239  0.8027778  0.6061525\n",
       "  0.0240  0.8027778  0.6061525\n",
       "  0.0241  0.8027778  0.6061525\n",
       "  0.0242  0.8027778  0.6061525\n",
       "  0.0243  0.8027778  0.6061525\n",
       "  0.0244  0.8027778  0.6061525\n",
       "  0.0245  0.8027778  0.6061525\n",
       "  0.0246  0.8027778  0.6061525\n",
       "  0.0247  0.7927778  0.5861525\n",
       "  0.0248  0.7927778  0.5861525\n",
       "  0.0249  0.7927778  0.5861525\n",
       "  0.0250  0.7927778  0.5861525\n",
       "  0.0251  0.7927778  0.5861525\n",
       "  0.0252  0.7927778  0.5861525\n",
       "  0.0253  0.7927778  0.5861525\n",
       "  0.0254  0.7927778  0.5861525\n",
       "  0.0255  0.7927778  0.5861525\n",
       "  0.0256  0.7927778  0.5861525\n",
       "  0.0257  0.7927778  0.5861525\n",
       "  0.0258  0.7927778  0.5861525\n",
       "  0.0259  0.7927778  0.5861525\n",
       "  0.0260  0.7927778  0.5861525\n",
       "  0.0261  0.7927778  0.5861525\n",
       "  0.0262  0.7927778  0.5861525\n",
       "  0.0263  0.7927778  0.5861525\n",
       "  0.0264  0.7927778  0.5861525\n",
       "  0.0265  0.7927778  0.5861525\n",
       "  0.0266  0.7927778  0.5861525\n",
       "  0.0267  0.7927778  0.5861525\n",
       "  0.0268  0.7927778  0.5861525\n",
       "  0.0269  0.7927778  0.5861525\n",
       "  0.0270  0.7927778  0.5861525\n",
       "  0.0271  0.7927778  0.5861525\n",
       "  0.0272  0.7927778  0.5861525\n",
       "  0.0273  0.7927778  0.5861525\n",
       "  0.0274  0.7927778  0.5861525\n",
       "  0.0275  0.7927778  0.5861525\n",
       "  0.0276  0.7927778  0.5861525\n",
       "  0.0277  0.7927778  0.5861525\n",
       "  0.0278  0.7927778  0.5861525\n",
       "  0.0279  0.7927778  0.5861525\n",
       "  0.0280  0.7927778  0.5861525\n",
       "  0.0281  0.7927778  0.5861525\n",
       "  0.0282  0.7927778  0.5861525\n",
       "  0.0283  0.7927778  0.5861525\n",
       "  0.0284  0.7927778  0.5861525\n",
       "  0.0285  0.7927778  0.5861525\n",
       "  0.0286  0.7927778  0.5861525\n",
       "  0.0287  0.7927778  0.5861525\n",
       "  0.0288  0.7927778  0.5861525\n",
       "  0.0289  0.7927778  0.5861525\n",
       "  0.0290  0.7927778  0.5861525\n",
       "  0.0291  0.7927778  0.5861525\n",
       "  0.0292  0.7927778  0.5861525\n",
       "  0.0293  0.7927778  0.5861525\n",
       "  0.0294  0.7927778  0.5861525\n",
       "  0.0295  0.7927778  0.5861525\n",
       "  0.0296  0.7927778  0.5861525\n",
       "  0.0297  0.7927778  0.5861525\n",
       "  0.0298  0.7927778  0.5861525\n",
       "  0.0299  0.7927778  0.5861525\n",
       "  0.0300  0.7927778  0.5861525\n",
       "  0.0301  0.7927778  0.5861525\n",
       "  0.0302  0.7927778  0.5861525\n",
       "  0.0303  0.7927778  0.5861525\n",
       "  0.0304  0.7927778  0.5861525\n",
       "  0.0305  0.7927778  0.5861525\n",
       "  0.0306  0.7927778  0.5861525\n",
       "  0.0307  0.7927778  0.5861525\n",
       "  0.0308  0.7927778  0.5861525\n",
       "  0.0309  0.7927778  0.5861525\n",
       "  0.0310  0.7927778  0.5861525\n",
       "  0.0311  0.7927778  0.5861525\n",
       "  0.0312  0.7927778  0.5861525\n",
       "  0.0313  0.7927778  0.5861525\n",
       "  0.0314  0.7927778  0.5861525\n",
       "  0.0315  0.7927778  0.5861525\n",
       "  0.0316  0.7927778  0.5861525\n",
       "  0.0317  0.7927778  0.5861525\n",
       "  0.0318  0.7927778  0.5861525\n",
       "  0.0319  0.7927778  0.5861525\n",
       "  0.0320  0.7927778  0.5861525\n",
       "  0.0321  0.7927778  0.5861525\n",
       "  0.0322  0.7927778  0.5861525\n",
       "  0.0323  0.7927778  0.5861525\n",
       "  0.0324  0.7927778  0.5861525\n",
       "  0.0325  0.7927778  0.5861525\n",
       "  0.0326  0.7927778  0.5861525\n",
       "  0.0327  0.7927778  0.5861525\n",
       "  0.0328  0.7927778  0.5861525\n",
       "  0.0329  0.7927778  0.5861525\n",
       "  0.0330  0.7927778  0.5861525\n",
       "  0.0331  0.7927778  0.5861525\n",
       "  0.0332  0.7927778  0.5861525\n",
       "  0.0333  0.7927778  0.5861525\n",
       "  0.0334  0.7927778  0.5861525\n",
       "  0.0335  0.7927778  0.5861525\n",
       "  0.0336  0.7927778  0.5861525\n",
       "  0.0337  0.7927778  0.5861525\n",
       "  0.0338  0.7927778  0.5861525\n",
       "  0.0339  0.7927778  0.5861525\n",
       "  0.0340  0.7927778  0.5861525\n",
       "  0.0341  0.7927778  0.5861525\n",
       "  0.0342  0.7927778  0.5861525\n",
       "  0.0343  0.7927778  0.5861525\n",
       "  0.0344  0.7927778  0.5861525\n",
       "  0.0345  0.7927778  0.5861525\n",
       "  0.0346  0.7927778  0.5861525\n",
       "  0.0347  0.7927778  0.5861525\n",
       "  0.0348  0.7927778  0.5861525\n",
       "  0.0349  0.7927778  0.5861525\n",
       "  0.0350  0.7927778  0.5861525\n",
       "  0.0351  0.7927778  0.5861525\n",
       "  0.0352  0.7927778  0.5861525\n",
       "  0.0353  0.7927778  0.5861525\n",
       "  0.0354  0.7927778  0.5861525\n",
       "  0.0355  0.7927778  0.5861525\n",
       "  0.0356  0.7927778  0.5861525\n",
       "  0.0357  0.7927778  0.5861525\n",
       "  0.0358  0.7927778  0.5861525\n",
       "  0.0359  0.7927778  0.5861525\n",
       "  0.0360  0.7927778  0.5861525\n",
       "  0.0361  0.7927778  0.5861525\n",
       "  0.0362  0.7927778  0.5861525\n",
       "  0.0363  0.7927778  0.5861525\n",
       "  0.0364  0.7927778  0.5861525\n",
       "  0.0365  0.7927778  0.5861525\n",
       "  0.0366  0.7927778  0.5861525\n",
       "  0.0367  0.7927778  0.5861525\n",
       "  0.0368  0.7927778  0.5861525\n",
       "  0.0369  0.7927778  0.5861525\n",
       "  0.0370  0.7927778  0.5861525\n",
       "  0.0371  0.7927778  0.5861525\n",
       "  0.0372  0.7927778  0.5861525\n",
       "  0.0373  0.7927778  0.5861525\n",
       "  0.0374  0.7927778  0.5861525\n",
       "  0.0375  0.7927778  0.5861525\n",
       "  0.0376  0.7927778  0.5861525\n",
       "  0.0377  0.7927778  0.5861525\n",
       "  0.0378  0.7927778  0.5861525\n",
       "  0.0379  0.7927778  0.5861525\n",
       "  0.0380  0.7927778  0.5861525\n",
       "  0.0381  0.7927778  0.5861525\n",
       "  0.0382  0.7927778  0.5861525\n",
       "  0.0383  0.7927778  0.5861525\n",
       "  0.0384  0.7927778  0.5861525\n",
       "  0.0385  0.7927778  0.5861525\n",
       "  0.0386  0.7927778  0.5861525\n",
       "  0.0387  0.7802778  0.5611525\n",
       "  0.0388  0.7802778  0.5611525\n",
       "  0.0389  0.7802778  0.5611525\n",
       "  0.0390  0.7802778  0.5611525\n",
       "  0.0391  0.7802778  0.5611525\n",
       "  0.0392  0.7802778  0.5611525\n",
       "  0.0393  0.7802778  0.5611525\n",
       "  0.0394  0.7802778  0.5611525\n",
       "  0.0395  0.7802778  0.5611525\n",
       "  0.0396  0.7802778  0.5611525\n",
       "  0.0397  0.7802778  0.5611525\n",
       "  0.0398  0.7802778  0.5611525\n",
       "  0.0399  0.7802778  0.5611525\n",
       "  0.0400  0.7802778  0.5611525\n",
       "  0.0401  0.7802778  0.5611525\n",
       "  0.0402  0.7802778  0.5611525\n",
       "  0.0403  0.7802778  0.5611525\n",
       "  0.0404  0.7802778  0.5611525\n",
       "  0.0405  0.7802778  0.5611525\n",
       "  0.0406  0.7802778  0.5611525\n",
       "  0.0407  0.7802778  0.5611525\n",
       "  0.0408  0.7802778  0.5611525\n",
       "  0.0409  0.7802778  0.5611525\n",
       "  0.0410  0.7802778  0.5611525\n",
       "  0.0411  0.7802778  0.5611525\n",
       "  0.0412  0.7802778  0.5611525\n",
       "  0.0413  0.7802778  0.5611525\n",
       "  0.0414  0.7802778  0.5611525\n",
       "  0.0415  0.7802778  0.5611525\n",
       "  0.0416  0.7802778  0.5611525\n",
       "  0.0417  0.7802778  0.5611525\n",
       "  0.0418  0.7802778  0.5611525\n",
       "  0.0419  0.7802778  0.5611525\n",
       "  0.0420  0.7802778  0.5611525\n",
       "  0.0421  0.7802778  0.5611525\n",
       "  0.0422  0.7802778  0.5611525\n",
       "  0.0423  0.7802778  0.5611525\n",
       "  0.0424  0.7802778  0.5611525\n",
       "  0.0425  0.7802778  0.5611525\n",
       "  0.0426  0.7802778  0.5611525\n",
       "  0.0427  0.7802778  0.5611525\n",
       "  0.0428  0.7802778  0.5611525\n",
       "  0.0429  0.7802778  0.5611525\n",
       "  0.0430  0.7802778  0.5611525\n",
       "  0.0431  0.7802778  0.5611525\n",
       "  0.0432  0.7802778  0.5611525\n",
       "  0.0433  0.7802778  0.5611525\n",
       "  0.0434  0.7802778  0.5611525\n",
       "  0.0435  0.7802778  0.5611525\n",
       "  0.0436  0.7802778  0.5611525\n",
       "  0.0437  0.7802778  0.5611525\n",
       "  0.0438  0.7802778  0.5611525\n",
       "  0.0439  0.7802778  0.5611525\n",
       "  0.0440  0.7802778  0.5611525\n",
       "  0.0441  0.7802778  0.5611525\n",
       "  0.0442  0.7802778  0.5611525\n",
       "  0.0443  0.7802778  0.5611525\n",
       "  0.0444  0.7802778  0.5611525\n",
       "  0.0445  0.7802778  0.5611525\n",
       "  0.0446  0.7802778  0.5611525\n",
       "  0.0447  0.7802778  0.5611525\n",
       "  0.0448  0.7802778  0.5611525\n",
       "  0.0449  0.7802778  0.5611525\n",
       "  0.0450  0.7802778  0.5611525\n",
       "  0.0451  0.7802778  0.5611525\n",
       "  0.0452  0.7802778  0.5611525\n",
       "  0.0453  0.7802778  0.5611525\n",
       "  0.0454  0.7802778  0.5611525\n",
       "  0.0455  0.7802778  0.5611525\n",
       "  0.0456  0.7802778  0.5611525\n",
       "  0.0457  0.7802778  0.5611525\n",
       "  0.0458  0.7802778  0.5611525\n",
       "  0.0459  0.7802778  0.5611525\n",
       "  0.0460  0.7802778  0.5611525\n",
       "  0.0461  0.7802778  0.5611525\n",
       "  0.0462  0.7802778  0.5611525\n",
       "  0.0463  0.7802778  0.5611525\n",
       "  0.0464  0.7802778  0.5611525\n",
       "  0.0465  0.7802778  0.5611525\n",
       "  0.0466  0.7802778  0.5611525\n",
       "  0.0467  0.7802778  0.5611525\n",
       "  0.0468  0.7802778  0.5611525\n",
       "  0.0469  0.7802778  0.5611525\n",
       "  0.0470  0.7802778  0.5611525\n",
       "  0.0471  0.7802778  0.5611525\n",
       "  0.0472  0.7802778  0.5611525\n",
       "  0.0473  0.7802778  0.5611525\n",
       "  0.0474  0.7802778  0.5611525\n",
       "  0.0475  0.7802778  0.5611525\n",
       "  0.0476  0.7802778  0.5611525\n",
       "  0.0477  0.7802778  0.5611525\n",
       "  0.0478  0.7802778  0.5611525\n",
       "  0.0479  0.7802778  0.5611525\n",
       "  0.0480  0.7802778  0.5611525\n",
       "  0.0481  0.7802778  0.5611525\n",
       "  0.0482  0.7802778  0.5611525\n",
       "  0.0483  0.7802778  0.5611525\n",
       "  0.0484  0.7802778  0.5611525\n",
       "  0.0485  0.7802778  0.5611525\n",
       "  0.0486  0.7802778  0.5611525\n",
       "  0.0487  0.7802778  0.5611525\n",
       "  0.0488  0.7802778  0.5611525\n",
       "  0.0489  0.7802778  0.5611525\n",
       "  0.0490  0.7802778  0.5611525\n",
       "  0.0491  0.7802778  0.5611525\n",
       "  0.0492  0.7802778  0.5611525\n",
       "  0.0493  0.7802778  0.5611525\n",
       "  0.0494  0.7802778  0.5611525\n",
       "  0.0495  0.7802778  0.5611525\n",
       "  0.0496  0.7802778  0.5611525\n",
       "  0.0497  0.7802778  0.5611525\n",
       "  0.0498  0.7802778  0.5611525\n",
       "  0.0499  0.7802778  0.5611525\n",
       "  0.0500  0.7802778  0.5611525\n",
       "  0.0501  0.7802778  0.5611525\n",
       "  0.0502  0.7802778  0.5611525\n",
       "  0.0503  0.7802778  0.5611525\n",
       "  0.0504  0.7802778  0.5611525\n",
       "  0.0505  0.7802778  0.5611525\n",
       "  0.0506  0.7802778  0.5611525\n",
       "  0.0507  0.7802778  0.5611525\n",
       "  0.0508  0.7802778  0.5611525\n",
       "  0.0509  0.7802778  0.5611525\n",
       "  0.0510  0.7802778  0.5611525\n",
       "  0.0511  0.7802778  0.5611525\n",
       "  0.0512  0.7802778  0.5611525\n",
       "  0.0513  0.7802778  0.5611525\n",
       "  0.0514  0.7802778  0.5611525\n",
       "  0.0515  0.7802778  0.5611525\n",
       "  0.0516  0.7802778  0.5611525\n",
       "  0.0517  0.7802778  0.5611525\n",
       "  0.0518  0.7802778  0.5611525\n",
       "  0.0519  0.7802778  0.5611525\n",
       "  0.0520  0.7802778  0.5611525\n",
       "  0.0521  0.7802778  0.5611525\n",
       "  0.0522  0.7802778  0.5611525\n",
       "  0.0523  0.7802778  0.5611525\n",
       "  0.0524  0.7802778  0.5611525\n",
       "  0.0525  0.7802778  0.5611525\n",
       "  0.0526  0.7802778  0.5611525\n",
       "  0.0527  0.7802778  0.5611525\n",
       "  0.0528  0.7802778  0.5611525\n",
       "  0.0529  0.7802778  0.5611525\n",
       "  0.0530  0.7802778  0.5611525\n",
       "  0.0531  0.7802778  0.5611525\n",
       "  0.0532  0.7802778  0.5611525\n",
       "  0.0533  0.7802778  0.5611525\n",
       "  0.0534  0.7802778  0.5611525\n",
       "  0.0535  0.7802778  0.5611525\n",
       "  0.0536  0.7802778  0.5611525\n",
       "  0.0537  0.7802778  0.5611525\n",
       "  0.0538  0.7802778  0.5611525\n",
       "  0.0539  0.7802778  0.5611525\n",
       "  0.0540  0.7802778  0.5611525\n",
       "  0.0541  0.7802778  0.5611525\n",
       "  0.0542  0.7802778  0.5611525\n",
       "  0.0543  0.7802778  0.5611525\n",
       "  0.0544  0.7802778  0.5611525\n",
       "  0.0545  0.7802778  0.5611525\n",
       "  0.0546  0.7802778  0.5611525\n",
       "  0.0547  0.7802778  0.5611525\n",
       "  0.0548  0.7802778  0.5611525\n",
       "  0.0549  0.7802778  0.5611525\n",
       "  0.0550  0.7802778  0.5611525\n",
       "  0.0551  0.7802778  0.5611525\n",
       "  0.0552  0.7802778  0.5611525\n",
       "  0.0553  0.7802778  0.5611525\n",
       "  0.0554  0.7802778  0.5611525\n",
       "  0.0555  0.7802778  0.5611525\n",
       "  0.0556  0.7802778  0.5611525\n",
       "  0.0557  0.7802778  0.5611525\n",
       "  0.0558  0.7802778  0.5611525\n",
       "  0.0559  0.7802778  0.5611525\n",
       "  0.0560  0.7802778  0.5611525\n",
       "  0.0561  0.7802778  0.5611525\n",
       "  0.0562  0.7802778  0.5611525\n",
       "  0.0563  0.7802778  0.5611525\n",
       "  0.0564  0.7802778  0.5611525\n",
       "  0.0565  0.7802778  0.5611525\n",
       "  0.0566  0.7802778  0.5611525\n",
       "  0.0567  0.7802778  0.5611525\n",
       "  0.0568  0.7802778  0.5611525\n",
       "  0.0569  0.7802778  0.5611525\n",
       "  0.0570  0.7802778  0.5611525\n",
       "  0.0571  0.7802778  0.5611525\n",
       "  0.0572  0.7802778  0.5611525\n",
       "  0.0573  0.7802778  0.5611525\n",
       "  0.0574  0.7802778  0.5611525\n",
       "  0.0575  0.7802778  0.5611525\n",
       "  0.0576  0.7802778  0.5611525\n",
       "  0.0577  0.7802778  0.5611525\n",
       "  0.0578  0.7802778  0.5611525\n",
       "  0.0579  0.7802778  0.5611525\n",
       "  0.0580  0.7802778  0.5611525\n",
       "  0.0581  0.7802778  0.5611525\n",
       "  0.0582  0.7802778  0.5611525\n",
       "  0.0583  0.7802778  0.5611525\n",
       "  0.0584  0.7802778  0.5611525\n",
       "  0.0585  0.7802778  0.5611525\n",
       "  0.0586  0.7802778  0.5611525\n",
       "  0.0587  0.7802778  0.5611525\n",
       "  0.0588  0.7802778  0.5611525\n",
       "  0.0589  0.7802778  0.5611525\n",
       "  0.0590  0.7802778  0.5611525\n",
       "  0.0591  0.7802778  0.5611525\n",
       "  0.0592  0.7802778  0.5611525\n",
       "  0.0593  0.7802778  0.5611525\n",
       "  0.0594  0.7802778  0.5611525\n",
       "  0.0595  0.7802778  0.5611525\n",
       "  0.0596  0.7802778  0.5611525\n",
       "  0.0597  0.7802778  0.5611525\n",
       "  0.0598  0.7802778  0.5611525\n",
       "  0.0599  0.7802778  0.5611525\n",
       "  0.0600  0.7802778  0.5611525\n",
       "  0.0601  0.7802778  0.5611525\n",
       "  0.0602  0.7802778  0.5611525\n",
       "  0.0603  0.7802778  0.5611525\n",
       "  0.0604  0.7802778  0.5611525\n",
       "  0.0605  0.7802778  0.5611525\n",
       "  0.0606  0.7802778  0.5611525\n",
       "  0.0607  0.7802778  0.5611525\n",
       "  0.0608  0.7802778  0.5611525\n",
       "  0.0609  0.7802778  0.5611525\n",
       "  0.0610  0.7802778  0.5611525\n",
       "  0.0611  0.7802778  0.5611525\n",
       "  0.0612  0.7802778  0.5611525\n",
       "  0.0613  0.7802778  0.5611525\n",
       "  0.0614  0.7802778  0.5611525\n",
       "  0.0615  0.7802778  0.5611525\n",
       "  0.0616  0.7802778  0.5611525\n",
       "  0.0617  0.7802778  0.5611525\n",
       "  0.0618  0.7802778  0.5611525\n",
       "  0.0619  0.7802778  0.5611525\n",
       "  0.0620  0.7802778  0.5611525\n",
       "  0.0621  0.7802778  0.5611525\n",
       "  0.0622  0.7802778  0.5611525\n",
       "  0.0623  0.7802778  0.5611525\n",
       "  0.0624  0.7802778  0.5611525\n",
       "  0.0625  0.7802778  0.5611525\n",
       "  0.0626  0.7802778  0.5611525\n",
       "  0.0627  0.7802778  0.5611525\n",
       "  0.0628  0.7802778  0.5611525\n",
       "  0.0629  0.7802778  0.5611525\n",
       "  0.0630  0.7802778  0.5611525\n",
       "  0.0631  0.7802778  0.5611525\n",
       "  0.0632  0.7802778  0.5611525\n",
       "  0.0633  0.7802778  0.5611525\n",
       "  0.0634  0.7802778  0.5611525\n",
       "  0.0635  0.7802778  0.5611525\n",
       "  0.0636  0.7802778  0.5611525\n",
       "  0.0637  0.7802778  0.5611525\n",
       "  0.0638  0.7802778  0.5611525\n",
       "  0.0639  0.7802778  0.5611525\n",
       "  0.0640  0.7802778  0.5611525\n",
       "  0.0641  0.7802778  0.5611525\n",
       "  0.0642  0.7802778  0.5611525\n",
       "  0.0643  0.7802778  0.5611525\n",
       "  0.0644  0.7691667  0.5371107\n",
       "  0.0645  0.7691667  0.5371107\n",
       "  0.0646  0.7691667  0.5371107\n",
       "  0.0647  0.7691667  0.5371107\n",
       "  0.0648  0.7691667  0.5371107\n",
       "  0.0649  0.7691667  0.5371107\n",
       "  0.0650  0.7691667  0.5371107\n",
       "  0.0651  0.7691667  0.5371107\n",
       "  0.0652  0.7691667  0.5371107\n",
       "  0.0653  0.7691667  0.5371107\n",
       "  0.0654  0.7691667  0.5371107\n",
       "  0.0655  0.7691667  0.5371107\n",
       "  0.0656  0.7691667  0.5371107\n",
       "  0.0657  0.7691667  0.5371107\n",
       "  0.0658  0.7691667  0.5371107\n",
       "  0.0659  0.7691667  0.5371107\n",
       "  0.0660  0.7691667  0.5371107\n",
       "  0.0661  0.7691667  0.5371107\n",
       "  0.0662  0.7691667  0.5371107\n",
       "  0.0663  0.7691667  0.5371107\n",
       "  0.0664  0.7691667  0.5371107\n",
       "  0.0665  0.7691667  0.5371107\n",
       "  0.0666  0.7691667  0.5371107\n",
       "  0.0667  0.7691667  0.5371107\n",
       "  0.0668  0.7691667  0.5371107\n",
       "  0.0669  0.7691667  0.5371107\n",
       "  0.0670  0.7691667  0.5371107\n",
       "  0.0671  0.7691667  0.5371107\n",
       "  0.0672  0.7691667  0.5371107\n",
       "  0.0673  0.7691667  0.5371107\n",
       "  0.0674  0.7691667  0.5371107\n",
       "  0.0675  0.7691667  0.5371107\n",
       "  0.0676  0.7691667  0.5371107\n",
       "  0.0677  0.7691667  0.5371107\n",
       "  0.0678  0.7691667  0.5371107\n",
       "  0.0679  0.7691667  0.5371107\n",
       "  0.0680  0.7691667  0.5371107\n",
       "  0.0681  0.7691667  0.5371107\n",
       "  0.0682  0.7691667  0.5371107\n",
       "  0.0683  0.7691667  0.5371107\n",
       "  0.0684  0.7691667  0.5371107\n",
       "  0.0685  0.7691667  0.5371107\n",
       "  0.0686  0.7691667  0.5371107\n",
       "  0.0687  0.7691667  0.5371107\n",
       "  0.0688  0.7691667  0.5371107\n",
       "  0.0689  0.7691667  0.5371107\n",
       "  0.0690  0.7691667  0.5371107\n",
       "  0.0691  0.7691667  0.5371107\n",
       "  0.0692  0.7691667  0.5371107\n",
       "  0.0693  0.7691667  0.5371107\n",
       "  0.0694  0.7691667  0.5371107\n",
       "  0.0695  0.7691667  0.5371107\n",
       "  0.0696  0.7691667  0.5371107\n",
       "  0.0697  0.7691667  0.5371107\n",
       "  0.0698  0.7691667  0.5371107\n",
       "  0.0699  0.7691667  0.5371107\n",
       "  0.0700  0.7691667  0.5371107\n",
       "  0.0701  0.7691667  0.5371107\n",
       "  0.0702  0.7691667  0.5371107\n",
       "  0.0703  0.7691667  0.5371107\n",
       "  0.0704  0.7691667  0.5371107\n",
       "  0.0705  0.7691667  0.5371107\n",
       "  0.0706  0.7691667  0.5371107\n",
       "  0.0707  0.7691667  0.5371107\n",
       "  0.0708  0.7691667  0.5371107\n",
       "  0.0709  0.7691667  0.5371107\n",
       "  0.0710  0.7691667  0.5371107\n",
       "  0.0711  0.7691667  0.5371107\n",
       "  0.0712  0.7691667  0.5371107\n",
       "  0.0713  0.7691667  0.5371107\n",
       "  0.0714  0.7691667  0.5371107\n",
       "  0.0715  0.7691667  0.5371107\n",
       "  0.0716  0.7691667  0.5371107\n",
       "  0.0717  0.7691667  0.5371107\n",
       "  0.0718  0.7691667  0.5371107\n",
       "  0.0719  0.7691667  0.5371107\n",
       "  0.0720  0.7691667  0.5371107\n",
       "  0.0721  0.7691667  0.5371107\n",
       "  0.0722  0.7691667  0.5371107\n",
       "  0.0723  0.7691667  0.5371107\n",
       "  0.0724  0.7691667  0.5371107\n",
       "  0.0725  0.7691667  0.5371107\n",
       "  0.0726  0.7691667  0.5371107\n",
       "  0.0727  0.7691667  0.5371107\n",
       "  0.0728  0.7691667  0.5371107\n",
       "  0.0729  0.7691667  0.5371107\n",
       "  0.0730  0.7691667  0.5371107\n",
       "  0.0731  0.7691667  0.5371107\n",
       "  0.0732  0.7691667  0.5371107\n",
       "  0.0733  0.7691667  0.5371107\n",
       "  0.0734  0.7691667  0.5371107\n",
       "  0.0735  0.7691667  0.5371107\n",
       "  0.0736  0.7691667  0.5371107\n",
       "  0.0737  0.7691667  0.5371107\n",
       "  0.0738  0.7691667  0.5371107\n",
       "  0.0739  0.7691667  0.5371107\n",
       "  0.0740  0.7691667  0.5371107\n",
       "  0.0741  0.7691667  0.5371107\n",
       "  0.0742  0.7691667  0.5371107\n",
       "  0.0743  0.7691667  0.5371107\n",
       "  0.0744  0.7691667  0.5371107\n",
       "  0.0745  0.7691667  0.5371107\n",
       "  0.0746  0.7691667  0.5371107\n",
       "  0.0747  0.7691667  0.5371107\n",
       "  0.0748  0.7691667  0.5371107\n",
       "  0.0749  0.7691667  0.5371107\n",
       "  0.0750  0.7691667  0.5371107\n",
       "  0.0751  0.7691667  0.5371107\n",
       "  0.0752  0.7691667  0.5371107\n",
       "  0.0753  0.7691667  0.5371107\n",
       "  0.0754  0.7691667  0.5371107\n",
       "  0.0755  0.7691667  0.5371107\n",
       "  0.0756  0.7691667  0.5371107\n",
       "  0.0757  0.7691667  0.5371107\n",
       "  0.0758  0.7691667  0.5371107\n",
       "  0.0759  0.7691667  0.5371107\n",
       "  0.0760  0.7691667  0.5371107\n",
       "  0.0761  0.7691667  0.5371107\n",
       "  0.0762  0.7691667  0.5371107\n",
       "  0.0763  0.7691667  0.5371107\n",
       "  0.0764  0.7691667  0.5371107\n",
       "  0.0765  0.7691667  0.5371107\n",
       "  0.0766  0.7691667  0.5371107\n",
       "  0.0767  0.7691667  0.5371107\n",
       "  0.0768  0.7691667  0.5371107\n",
       "  0.0769  0.7691667  0.5371107\n",
       "  0.0770  0.7691667  0.5371107\n",
       "  0.0771  0.7691667  0.5371107\n",
       "  0.0772  0.7691667  0.5371107\n",
       "  0.0773  0.7691667  0.5371107\n",
       "  0.0774  0.7691667  0.5371107\n",
       "  0.0775  0.7691667  0.5371107\n",
       "  0.0776  0.7691667  0.5371107\n",
       "  0.0777  0.7691667  0.5371107\n",
       "  0.0778  0.7691667  0.5371107\n",
       "  0.0779  0.7691667  0.5371107\n",
       "  0.0780  0.7691667  0.5371107\n",
       "  0.0781  0.7691667  0.5371107\n",
       "  0.0782  0.7691667  0.5371107\n",
       "  0.0783  0.7691667  0.5371107\n",
       "  0.0784  0.7691667  0.5371107\n",
       "  0.0785  0.7691667  0.5371107\n",
       "  0.0786  0.7691667  0.5371107\n",
       "  0.0787  0.7691667  0.5371107\n",
       "  0.0788  0.7691667  0.5371107\n",
       "  0.0789  0.7691667  0.5371107\n",
       "  0.0790  0.7591667  0.5171107\n",
       "  0.0791  0.7591667  0.5171107\n",
       "  0.0792  0.7591667  0.5171107\n",
       "  0.0793  0.7591667  0.5171107\n",
       "  0.0794  0.7591667  0.5171107\n",
       "  0.0795  0.7591667  0.5171107\n",
       "  0.0796  0.7591667  0.5171107\n",
       "  0.0797  0.7591667  0.5171107\n",
       "  0.0798  0.7591667  0.5171107\n",
       "  0.0799  0.7591667  0.5171107\n",
       "  0.0800  0.7591667  0.5171107\n",
       "  0.0801  0.7591667  0.5171107\n",
       "  0.0802  0.7591667  0.5171107\n",
       "  0.0803  0.7591667  0.5171107\n",
       "  0.0804  0.7591667  0.5171107\n",
       "  0.0805  0.7591667  0.5171107\n",
       "  0.0806  0.7591667  0.5171107\n",
       "  0.0807  0.7591667  0.5171107\n",
       "  0.0808  0.7591667  0.5171107\n",
       "  0.0809  0.7591667  0.5171107\n",
       "  0.0810  0.7591667  0.5171107\n",
       "  0.0811  0.7591667  0.5171107\n",
       "  0.0812  0.7591667  0.5171107\n",
       "  0.0813  0.7591667  0.5171107\n",
       "  0.0814  0.7591667  0.5171107\n",
       "  0.0815  0.7591667  0.5171107\n",
       "  0.0816  0.7591667  0.5171107\n",
       "  0.0817  0.7591667  0.5171107\n",
       "  0.0818  0.7591667  0.5171107\n",
       "  0.0819  0.7591667  0.5171107\n",
       "  0.0820  0.7591667  0.5171107\n",
       "  0.0821  0.7591667  0.5171107\n",
       "  0.0822  0.7591667  0.5171107\n",
       "  0.0823  0.7591667  0.5171107\n",
       "  0.0824  0.7591667  0.5171107\n",
       "  0.0825  0.7591667  0.5171107\n",
       "  0.0826  0.7591667  0.5171107\n",
       "  0.0827  0.7591667  0.5171107\n",
       "  0.0828  0.7591667  0.5171107\n",
       "  0.0829  0.7591667  0.5171107\n",
       "  0.0830  0.7591667  0.5171107\n",
       "  0.0831  0.7591667  0.5171107\n",
       "  0.0832  0.7591667  0.5171107\n",
       "  0.0833  0.7591667  0.5171107\n",
       "  0.0834  0.7591667  0.5171107\n",
       "  0.0835  0.7591667  0.5171107\n",
       "  0.0836  0.7591667  0.5171107\n",
       "  0.0837  0.7591667  0.5171107\n",
       "  0.0838  0.7591667  0.5171107\n",
       "  0.0839  0.7591667  0.5171107\n",
       "  0.0840  0.7591667  0.5171107\n",
       "  0.0841  0.7591667  0.5171107\n",
       "  0.0842  0.7591667  0.5171107\n",
       "  0.0843  0.7591667  0.5171107\n",
       "  0.0844  0.7591667  0.5171107\n",
       "  0.0845  0.7591667  0.5171107\n",
       "  0.0846  0.7591667  0.5171107\n",
       "  0.0847  0.7591667  0.5171107\n",
       "  0.0848  0.7591667  0.5171107\n",
       "  0.0849  0.7591667  0.5171107\n",
       "  0.0850  0.7591667  0.5171107\n",
       "  0.0851  0.7591667  0.5171107\n",
       "  0.0852  0.7591667  0.5171107\n",
       "  0.0853  0.7591667  0.5171107\n",
       "  0.0854  0.7591667  0.5171107\n",
       "  0.0855  0.7591667  0.5171107\n",
       "  0.0856  0.7591667  0.5171107\n",
       "  0.0857  0.7591667  0.5171107\n",
       "  0.0858  0.7591667  0.5171107\n",
       "  0.0859  0.7591667  0.5171107\n",
       "  0.0860  0.7591667  0.5171107\n",
       "  0.0861  0.7591667  0.5171107\n",
       "  0.0862  0.7591667  0.5171107\n",
       "  0.0863  0.7591667  0.5171107\n",
       "  0.0864  0.7591667  0.5171107\n",
       "  0.0865  0.7591667  0.5171107\n",
       "  0.0866  0.7591667  0.5171107\n",
       "  0.0867  0.7591667  0.5171107\n",
       "  0.0868  0.7591667  0.5171107\n",
       "  0.0869  0.7591667  0.5171107\n",
       "  0.0870  0.7591667  0.5171107\n",
       "  0.0871  0.7591667  0.5171107\n",
       "  0.0872  0.7591667  0.5171107\n",
       "  0.0873  0.7591667  0.5171107\n",
       "  0.0874  0.7591667  0.5171107\n",
       "  0.0875  0.7591667  0.5171107\n",
       "  0.0876  0.7591667  0.5171107\n",
       "  0.0877  0.7591667  0.5171107\n",
       "  0.0878  0.7591667  0.5171107\n",
       "  0.0879  0.7591667  0.5171107\n",
       "  0.0880  0.7591667  0.5171107\n",
       "  0.0881  0.7591667  0.5171107\n",
       "  0.0882  0.7591667  0.5171107\n",
       "  0.0883  0.7591667  0.5171107\n",
       "  0.0884  0.7591667  0.5171107\n",
       "  0.0885  0.7591667  0.5171107\n",
       "  0.0886  0.7591667  0.5171107\n",
       "  0.0887  0.7591667  0.5171107\n",
       "  0.0888  0.7591667  0.5171107\n",
       "  0.0889  0.7591667  0.5171107\n",
       "  0.0890  0.7591667  0.5171107\n",
       "  0.0891  0.7591667  0.5171107\n",
       "  0.0892  0.7591667  0.5171107\n",
       "  0.0893  0.7591667  0.5171107\n",
       "  0.0894  0.7591667  0.5171107\n",
       "  0.0895  0.7591667  0.5171107\n",
       "  0.0896  0.7591667  0.5171107\n",
       "  0.0897  0.7591667  0.5171107\n",
       "  0.0898  0.7591667  0.5171107\n",
       "  0.0899  0.7591667  0.5171107\n",
       "  0.0900  0.7591667  0.5171107\n",
       "  0.0901  0.7591667  0.5171107\n",
       "  0.0902  0.7591667  0.5171107\n",
       "  0.0903  0.7591667  0.5171107\n",
       "  0.0904  0.7591667  0.5171107\n",
       "  0.0905  0.7591667  0.5171107\n",
       "  0.0906  0.7591667  0.5171107\n",
       "  0.0907  0.7591667  0.5171107\n",
       "  0.0908  0.7591667  0.5171107\n",
       "  0.0909  0.7591667  0.5171107\n",
       "  0.0910  0.7591667  0.5171107\n",
       "  0.0911  0.7591667  0.5171107\n",
       "  0.0912  0.7591667  0.5171107\n",
       "  0.0913  0.7591667  0.5171107\n",
       "  0.0914  0.7591667  0.5171107\n",
       "  0.0915  0.7591667  0.5171107\n",
       "  0.0916  0.7591667  0.5171107\n",
       "  0.0917  0.7591667  0.5171107\n",
       "  0.0918  0.7591667  0.5171107\n",
       "  0.0919  0.7591667  0.5171107\n",
       "  0.0920  0.7591667  0.5171107\n",
       "  0.0921  0.7591667  0.5171107\n",
       "  0.0922  0.7591667  0.5171107\n",
       "  0.0923  0.7591667  0.5171107\n",
       "  0.0924  0.7591667  0.5171107\n",
       "  0.0925  0.7591667  0.5171107\n",
       "  0.0926  0.7591667  0.5171107\n",
       "  0.0927  0.7591667  0.5171107\n",
       "  0.0928  0.7591667  0.5171107\n",
       "  0.0929  0.7591667  0.5171107\n",
       "  0.0930  0.7591667  0.5171107\n",
       "  0.0931  0.7591667  0.5171107\n",
       "  0.0932  0.7591667  0.5171107\n",
       "  0.0933  0.7591667  0.5171107\n",
       "  0.0934  0.7591667  0.5171107\n",
       "  0.0935  0.7591667  0.5171107\n",
       "  0.0936  0.7591667  0.5171107\n",
       "  0.0937  0.7591667  0.5171107\n",
       "  0.0938  0.7591667  0.5171107\n",
       "  0.0939  0.7591667  0.5171107\n",
       "  0.0940  0.7591667  0.5171107\n",
       "  0.0941  0.7591667  0.5171107\n",
       "  0.0942  0.7591667  0.5171107\n",
       "  0.0943  0.7591667  0.5171107\n",
       "  0.0944  0.7591667  0.5171107\n",
       "  0.0945  0.7591667  0.5171107\n",
       "  0.0946  0.7591667  0.5171107\n",
       "  0.0947  0.7591667  0.5171107\n",
       "  0.0948  0.7591667  0.5171107\n",
       "  0.0949  0.7591667  0.5171107\n",
       "  0.0950  0.7591667  0.5171107\n",
       "  0.0951  0.7591667  0.5171107\n",
       "  0.0952  0.7591667  0.5171107\n",
       "  0.0953  0.7591667  0.5171107\n",
       "  0.0954  0.7591667  0.5171107\n",
       "  0.0955  0.7591667  0.5171107\n",
       "  0.0956  0.7591667  0.5171107\n",
       "  0.0957  0.7591667  0.5171107\n",
       "  0.0958  0.7591667  0.5171107\n",
       "  0.0959  0.7591667  0.5171107\n",
       "  0.0960  0.7591667  0.5171107\n",
       "  0.0961  0.7591667  0.5171107\n",
       "  0.0962  0.7591667  0.5171107\n",
       "  0.0963  0.7591667  0.5171107\n",
       "  0.0964  0.7591667  0.5171107\n",
       "  0.0965  0.7591667  0.5171107\n",
       "  0.0966  0.7591667  0.5171107\n",
       "  0.0967  0.7591667  0.5171107\n",
       "  0.0968  0.7591667  0.5171107\n",
       "  0.0969  0.7591667  0.5171107\n",
       "  0.0970  0.7591667  0.5171107\n",
       "  0.0971  0.7591667  0.5171107\n",
       "  0.0972  0.7591667  0.5171107\n",
       "  0.0973  0.7591667  0.5171107\n",
       "  0.0974  0.7591667  0.5171107\n",
       "  0.0975  0.7591667  0.5171107\n",
       "  0.0976  0.7591667  0.5171107\n",
       "  0.0977  0.7591667  0.5171107\n",
       "  0.0978  0.7591667  0.5171107\n",
       "  0.0979  0.7591667  0.5171107\n",
       "  0.0980  0.7591667  0.5171107\n",
       "  0.0981  0.7591667  0.5171107\n",
       "  0.0982  0.7591667  0.5171107\n",
       "  0.0983  0.7591667  0.5171107\n",
       "  0.0984  0.7591667  0.5171107\n",
       "  0.0985  0.7591667  0.5171107\n",
       "  0.0986  0.7591667  0.5171107\n",
       "  0.0987  0.7591667  0.5171107\n",
       "  0.0988  0.7591667  0.5171107\n",
       "  0.0989  0.7591667  0.5171107\n",
       "  0.0990  0.7591667  0.5171107\n",
       "  0.0991  0.7591667  0.5171107\n",
       "  0.0992  0.7591667  0.5171107\n",
       "  0.0993  0.7591667  0.5171107\n",
       "  0.0994  0.7591667  0.5171107\n",
       "  0.0995  0.7591667  0.5171107\n",
       "  0.0996  0.7591667  0.5171107\n",
       "  0.0997  0.7591667  0.5171107\n",
       "  0.0998  0.7591667  0.5171107\n",
       "  0.0999  0.7591667  0.5171107\n",
       "  0.1000  0.7591667  0.5171107\n",
       "\n",
       "Tuning parameter 'alpha' was held constant at a value of 1\n",
       "Accuracy was used to select the optimal model using the largest value.\n",
       "The final values used for the model were alpha = 1 and lambda = 0.0246."
      ]
     },
     "metadata": {},
     "output_type": "display_data"
    }
   ],
   "source": [
    "#log reg with caret\n",
    "\n",
    "set.seed(123)\n",
    "log_euc_grid <- expand.grid(alpha = 1, lambda= seq( from = 0.001, to =0.1, by = 0.0001))\n",
    "Traincontrol_euc_log <-trainControl(method=\"cv\", number=10,  allowParallel=TRUE, classProbs = TRUE)\n",
    "log_euclid <- train(x=as.matrix(bagmean1[,3:6],with = F ),y=as.matrix(bagmean1$Bag_Class), method=\"glmnet\",family='binomial',type.measure = \"deviance\",tuneGrid= log_euc_grid , trControl= Traincontrol_euc_log )\n",
    "log_euclid"
   ]
  },
  {
   "cell_type": "markdown",
   "id": "a10b4012",
   "metadata": {},
   "source": [
    "Accuracy was used to select the optimal model using the largest value. (Max Accuracy =  0.8027778)\n",
    "The final values used for the model were alpha = 1 and lambda = 0.0246."
   ]
  },
  {
   "cell_type": "code",
   "execution_count": 48,
   "id": "0aba8744",
   "metadata": {},
   "outputs": [],
   "source": [
    "#use this distance info  to build a logistic regression model with penalty\n",
    "\n",
    "logbag1= bagmean1\n",
    "logbag1$Bag_Class=ifelse(logbag1$Bag_Class== \"onebag\",1,0)\n",
    "logbag2= bagmean2\n",
    "logbag2$Bag_Class=ifelse(logbag2$Bag_Class== \"onebag\",1,0)\n"
   ]
  },
  {
   "cell_type": "markdown",
   "id": "72c71957",
   "metadata": {},
   "source": [
    "Models can be build as follows and the prediction can be made with the minimizer lambda:"
   ]
  },
  {
   "cell_type": "code",
   "execution_count": 49,
   "id": "f2c5c113",
   "metadata": {},
   "outputs": [],
   "source": [
    "#euclidean model\n",
    "set.seed(123)\n",
    " #use deviance as metric, since balanced, the results should be similar (deviance~~accuracy)\n",
    "cvfitds=cv.glmnet(as.matrix(logbag1[,3:6],with = F ),logbag1$Bag_Class,family='binomial',nfolds=10, type.measure = \"deviance\")\n",
    "\n",
    " #use accuracy as metric\n",
    "cvfitdsa=cv.glmnet(as.matrix(logbag1[,3:6],with = F ),logbag1$Bag_Class,family='binomial',nfolds=10, type.measure = \"class\")\n",
    "\n"
   ]
  },
  {
   "cell_type": "code",
   "execution_count": 50,
   "id": "f561b5db",
   "metadata": {},
   "outputs": [
    {
     "data": {
      "text/plain": [
       "\n",
       "Call:  cv.glmnet(x = as.matrix(logbag1[, 3:6], with = F), y = logbag1$Bag_Class,      type.measure = \"class\", nfolds = 10, family = \"binomial\") \n",
       "\n",
       "Measure: Misclassification Error \n",
       "\n",
       "     Lambda Index Measure      SE Nonzero\n",
       "min 0.02291    25  0.2174 0.04376       4\n",
       "1se 0.09249    10  0.2609 0.05634       3"
      ]
     },
     "metadata": {},
     "output_type": "display_data"
    }
   ],
   "source": [
    "cvfitdsa"
   ]
  },
  {
   "cell_type": "markdown",
   "id": "33d1fd81",
   "metadata": {},
   "source": [
    "We get the same accuracy and almost the same lambda value with tuning manually the logistric regresion model and letting glmnet optimize the lambda value. Both lambda values (got by caret tuning manually, and, the one cv.glmnet obtained) have the same accuracy. Since, the same accuracy ( Accuracy = 0.8027778) is achieved by both, we can use the below model with lambda.min."
   ]
  },
  {
   "cell_type": "code",
   "execution_count": 51,
   "id": "71b2452d",
   "metadata": {},
   "outputs": [
    {
     "data": {
      "text/html": [
       "<table>\n",
       "<thead><tr><th></th><th scope=col>0</th><th scope=col>1</th><th scope=col>Sum</th></tr></thead>\n",
       "<tbody>\n",
       "\t<tr><th scope=row>0</th><td>35</td><td>10</td><td>45</td></tr>\n",
       "\t<tr><th scope=row>1</th><td> 8</td><td>39</td><td>47</td></tr>\n",
       "\t<tr><th scope=row>Sum</th><td>43</td><td>49</td><td>92</td></tr>\n",
       "</tbody>\n",
       "</table>\n"
      ],
      "text/latex": [
       "\\begin{tabular}{r|lll}\n",
       "  & 0 & 1 & Sum\\\\\n",
       "\\hline\n",
       "\t0 & 35 & 10 & 45\\\\\n",
       "\t1 &  8 & 39 & 47\\\\\n",
       "\tSum & 43 & 49 & 92\\\\\n",
       "\\end{tabular}\n"
      ],
      "text/markdown": [
       "\n",
       "| <!--/--> | 0 | 1 | Sum |\n",
       "|---|---|---|---|\n",
       "| 0 | 35 | 10 | 45 |\n",
       "| 1 |  8 | 39 | 47 |\n",
       "| Sum | 43 | 49 | 92 |\n",
       "\n"
      ],
      "text/plain": [
       "     pred\n",
       "      0  1  Sum\n",
       "  0   35 10 45 \n",
       "  1    8 39 47 \n",
       "  Sum 43 49 92 "
      ]
     },
     "metadata": {},
     "output_type": "display_data"
    },
    {
     "data": {
      "text/html": [
       "0.195652173913043"
      ],
      "text/latex": [
       "0.195652173913043"
      ],
      "text/markdown": [
       "0.195652173913043"
      ],
      "text/plain": [
       "[1] 0.1956522"
      ]
     },
     "metadata": {},
     "output_type": "display_data"
    },
    {
     "data": {
      "text/html": [
       "0.804347826086957"
      ],
      "text/latex": [
       "0.804347826086957"
      ],
      "text/markdown": [
       "0.804347826086957"
      ],
      "text/plain": [
       "[1] 0.8043478"
      ]
     },
     "metadata": {},
     "output_type": "display_data"
    }
   ],
   "source": [
    "#predict on training data (deviance)\n",
    "prob <-  predict(cvfitds,as.matrix(logbag1[,3:6],with = F ),type='response', s=\"lambda.min\")\n",
    "pred <- as.integer(prob > kratio)\n",
    "euc_confusion_mat <- addmargins(table(logbag1$Bag_Class, pred ))\n",
    "euc_confusion_mat\n",
    "\n",
    "euc_err =  1- (sum(diag((euc_confusion_mat[1:2,1:2]))) /  euc_confusion_mat[3,3])\n",
    "euc_err\n",
    "\n",
    "euc_acc= 1- euc_err\n",
    "euc_acc"
   ]
  },
  {
   "cell_type": "markdown",
   "id": "3a33e99d",
   "metadata": {},
   "source": [
    "Since the data is not imbalanced, using metric \"deviance\" and metric of \"accuracy\" does not cause an important difference while evaluating the models"
   ]
  },
  {
   "cell_type": "code",
   "execution_count": 52,
   "id": "6555d03b",
   "metadata": {},
   "outputs": [
    {
     "data": {
      "text/html": [
       "<table>\n",
       "<thead><tr><th></th><th scope=col>0</th><th scope=col>1</th><th scope=col>Sum</th></tr></thead>\n",
       "<tbody>\n",
       "\t<tr><th scope=row>0</th><td>35</td><td>10</td><td>45</td></tr>\n",
       "\t<tr><th scope=row>1</th><td> 8</td><td>39</td><td>47</td></tr>\n",
       "\t<tr><th scope=row>Sum</th><td>43</td><td>49</td><td>92</td></tr>\n",
       "</tbody>\n",
       "</table>\n"
      ],
      "text/latex": [
       "\\begin{tabular}{r|lll}\n",
       "  & 0 & 1 & Sum\\\\\n",
       "\\hline\n",
       "\t0 & 35 & 10 & 45\\\\\n",
       "\t1 &  8 & 39 & 47\\\\\n",
       "\tSum & 43 & 49 & 92\\\\\n",
       "\\end{tabular}\n"
      ],
      "text/markdown": [
       "\n",
       "| <!--/--> | 0 | 1 | Sum |\n",
       "|---|---|---|---|\n",
       "| 0 | 35 | 10 | 45 |\n",
       "| 1 |  8 | 39 | 47 |\n",
       "| Sum | 43 | 49 | 92 |\n",
       "\n"
      ],
      "text/plain": [
       "     preda\n",
       "      0  1  Sum\n",
       "  0   35 10 45 \n",
       "  1    8 39 47 \n",
       "  Sum 43 49 92 "
      ]
     },
     "metadata": {},
     "output_type": "display_data"
    },
    {
     "data": {
      "text/html": [
       "0.195652173913043"
      ],
      "text/latex": [
       "0.195652173913043"
      ],
      "text/markdown": [
       "0.195652173913043"
      ],
      "text/plain": [
       "[1] 0.1956522"
      ]
     },
     "metadata": {},
     "output_type": "display_data"
    },
    {
     "data": {
      "text/html": [
       "0.804347826086957"
      ],
      "text/latex": [
       "0.804347826086957"
      ],
      "text/markdown": [
       "0.804347826086957"
      ],
      "text/plain": [
       "[1] 0.8043478"
      ]
     },
     "metadata": {},
     "output_type": "display_data"
    }
   ],
   "source": [
    "#predict on training data (accuracy)\n",
    "proba <-  predict(cvfitdsa,as.matrix(logbag1[,3:6],with = F ),type='response', s=\"lambda.min\")\n",
    "preda <- as.integer(proba > kratio)\n",
    "euc_confusion_mata <- addmargins(table(logbag1$Bag_Class, preda ))\n",
    "euc_confusion_mata\n",
    "\n",
    "euc_erra =  1- (sum(diag((euc_confusion_mata[1:2,1:2]))) /  euc_confusion_mata[3,3])\n",
    "euc_erra\n",
    "\n",
    "euc_acca= 1- euc_erra\n",
    "euc_acca\n"
   ]
  },
  {
   "cell_type": "markdown",
   "id": "9d5b1b74",
   "metadata": {},
   "source": [
    "Above the accuracy is presented."
   ]
  },
  {
   "cell_type": "markdown",
   "id": "1664f3b2",
   "metadata": {},
   "source": [
    "### Classifier#3.2: Logistic Regression with Representation#2 (Manhattan dist.)"
   ]
  },
  {
   "cell_type": "code",
   "execution_count": 53,
   "id": "cb598f6e",
   "metadata": {
    "scrolled": true
   },
   "outputs": [
    {
     "data": {
      "text/plain": [
       "glmnet \n",
       "\n",
       "92 samples\n",
       " 3 predictor\n",
       " 2 classes: 'onebag', 'zerobag' \n",
       "\n",
       "No pre-processing\n",
       "Resampling: Cross-Validated (10 fold) \n",
       "Summary of sample sizes: 82, 82, 83, 84, 83, 83, ... \n",
       "Resampling results across tuning parameters:\n",
       "\n",
       "  lambda  Accuracy   Kappa    \n",
       "  0.0010  0.7716667  0.5432645\n",
       "  0.0011  0.7716667  0.5432645\n",
       "  0.0012  0.7716667  0.5432645\n",
       "  0.0013  0.7716667  0.5432645\n",
       "  0.0014  0.7716667  0.5432645\n",
       "  0.0015  0.7716667  0.5432645\n",
       "  0.0016  0.7716667  0.5432645\n",
       "  0.0017  0.7716667  0.5432645\n",
       "  0.0018  0.7716667  0.5432645\n",
       "  0.0019  0.7716667  0.5432645\n",
       "  0.0020  0.7716667  0.5432645\n",
       "  0.0021  0.7716667  0.5432645\n",
       "  0.0022  0.7716667  0.5432645\n",
       "  0.0023  0.7716667  0.5432645\n",
       "  0.0024  0.7716667  0.5432645\n",
       "  0.0025  0.7716667  0.5432645\n",
       "  0.0026  0.7716667  0.5432645\n",
       "  0.0027  0.7716667  0.5432645\n",
       "  0.0028  0.7716667  0.5432645\n",
       "  0.0029  0.7716667  0.5432645\n",
       "  0.0030  0.7716667  0.5432645\n",
       "  0.0031  0.7716667  0.5432645\n",
       "  0.0032  0.7716667  0.5432645\n",
       "  0.0033  0.7716667  0.5432645\n",
       "  0.0034  0.7716667  0.5432645\n",
       "  0.0035  0.7716667  0.5432645\n",
       "  0.0036  0.7716667  0.5432645\n",
       "  0.0037  0.7716667  0.5432645\n",
       "  0.0038  0.7716667  0.5432645\n",
       "  0.0039  0.7716667  0.5432645\n",
       "  0.0040  0.7716667  0.5432645\n",
       "  0.0041  0.7716667  0.5432645\n",
       "  0.0042  0.7716667  0.5432645\n",
       "  0.0043  0.7716667  0.5432645\n",
       "  0.0044  0.7716667  0.5432645\n",
       "  0.0045  0.7716667  0.5432645\n",
       "  0.0046  0.7716667  0.5432645\n",
       "  0.0047  0.7716667  0.5432645\n",
       "  0.0048  0.7716667  0.5432645\n",
       "  0.0049  0.7716667  0.5432645\n",
       "  0.0050  0.7716667  0.5432645\n",
       "  0.0051  0.7716667  0.5432645\n",
       "  0.0052  0.7716667  0.5432645\n",
       "  0.0053  0.7716667  0.5432645\n",
       "  0.0054  0.7716667  0.5432645\n",
       "  0.0055  0.7716667  0.5432645\n",
       "  0.0056  0.7716667  0.5432645\n",
       "  0.0057  0.7716667  0.5432645\n",
       "  0.0058  0.7716667  0.5432645\n",
       "  0.0059  0.7716667  0.5432645\n",
       "  0.0060  0.7716667  0.5432645\n",
       "  0.0061  0.7716667  0.5432645\n",
       "  0.0062  0.7716667  0.5432645\n",
       "  0.0063  0.7716667  0.5432645\n",
       "  0.0064  0.7716667  0.5432645\n",
       "  0.0065  0.7716667  0.5432645\n",
       "  0.0066  0.7716667  0.5432645\n",
       "  0.0067  0.7716667  0.5432645\n",
       "  0.0068  0.7716667  0.5432645\n",
       "  0.0069  0.7716667  0.5432645\n",
       "  0.0070  0.7716667  0.5432645\n",
       "  0.0071  0.7716667  0.5432645\n",
       "  0.0072  0.7716667  0.5432645\n",
       "  0.0073  0.7716667  0.5432645\n",
       "  0.0074  0.7716667  0.5432645\n",
       "  0.0075  0.7716667  0.5432645\n",
       "  0.0076  0.7716667  0.5432645\n",
       "  0.0077  0.7716667  0.5432645\n",
       "  0.0078  0.7716667  0.5432645\n",
       "  0.0079  0.7716667  0.5432645\n",
       "  0.0080  0.7716667  0.5432645\n",
       "  0.0081  0.7716667  0.5432645\n",
       "  0.0082  0.7716667  0.5432645\n",
       "  0.0083  0.7716667  0.5432645\n",
       "  0.0084  0.7716667  0.5432645\n",
       "  0.0085  0.7716667  0.5432645\n",
       "  0.0086  0.7716667  0.5432645\n",
       "  0.0087  0.7716667  0.5432645\n",
       "  0.0088  0.7716667  0.5432645\n",
       "  0.0089  0.7716667  0.5432645\n",
       "  0.0090  0.7716667  0.5432645\n",
       "  0.0091  0.7716667  0.5432645\n",
       "  0.0092  0.7716667  0.5432645\n",
       "  0.0093  0.7716667  0.5432645\n",
       "  0.0094  0.7716667  0.5432645\n",
       "  0.0095  0.7716667  0.5432645\n",
       "  0.0096  0.7716667  0.5432645\n",
       "  0.0097  0.7716667  0.5432645\n",
       "  0.0098  0.7716667  0.5432645\n",
       "  0.0099  0.7716667  0.5432645\n",
       "  0.0100  0.7716667  0.5432645\n",
       "  0.0101  0.7716667  0.5432645\n",
       "  0.0102  0.7716667  0.5432645\n",
       "  0.0103  0.7716667  0.5432645\n",
       "  0.0104  0.7716667  0.5432645\n",
       "  0.0105  0.7716667  0.5432645\n",
       "  0.0106  0.7716667  0.5432645\n",
       "  0.0107  0.7716667  0.5432645\n",
       "  0.0108  0.7716667  0.5432645\n",
       "  0.0109  0.7716667  0.5432645\n",
       "  0.0110  0.7716667  0.5432645\n",
       "  0.0111  0.7716667  0.5432645\n",
       "  0.0112  0.7716667  0.5432645\n",
       "  0.0113  0.7716667  0.5432645\n",
       "  0.0114  0.7716667  0.5432645\n",
       "  0.0115  0.7716667  0.5432645\n",
       "  0.0116  0.7716667  0.5432645\n",
       "  0.0117  0.7716667  0.5432645\n",
       "  0.0118  0.7716667  0.5432645\n",
       "  0.0119  0.7716667  0.5432645\n",
       "  0.0120  0.7716667  0.5432645\n",
       "  0.0121  0.7716667  0.5432645\n",
       "  0.0122  0.7716667  0.5432645\n",
       "  0.0123  0.7716667  0.5432645\n",
       "  0.0124  0.7716667  0.5432645\n",
       "  0.0125  0.7716667  0.5432645\n",
       "  0.0126  0.7716667  0.5432645\n",
       "  0.0127  0.7716667  0.5432645\n",
       "  0.0128  0.7716667  0.5432645\n",
       "  0.0129  0.7716667  0.5432645\n",
       "  0.0130  0.7716667  0.5432645\n",
       "  0.0131  0.7716667  0.5432645\n",
       "  0.0132  0.7716667  0.5432645\n",
       "  0.0133  0.7716667  0.5432645\n",
       "  0.0134  0.7716667  0.5432645\n",
       "  0.0135  0.7716667  0.5432645\n",
       "  0.0136  0.7716667  0.5432645\n",
       "  0.0137  0.7716667  0.5432645\n",
       "  0.0138  0.7716667  0.5432645\n",
       "  0.0139  0.7716667  0.5432645\n",
       "  0.0140  0.7716667  0.5432645\n",
       "  0.0141  0.7716667  0.5432645\n",
       "  0.0142  0.7716667  0.5432645\n",
       "  0.0143  0.7716667  0.5432645\n",
       "  0.0144  0.7716667  0.5432645\n",
       "  0.0145  0.7716667  0.5432645\n",
       "  0.0146  0.7716667  0.5432645\n",
       "  0.0147  0.7716667  0.5432645\n",
       "  0.0148  0.7716667  0.5432645\n",
       "  0.0149  0.7716667  0.5432645\n",
       "  0.0150  0.7716667  0.5432645\n",
       "  0.0151  0.7716667  0.5432645\n",
       "  0.0152  0.7716667  0.5432645\n",
       "  0.0153  0.7716667  0.5432645\n",
       "  0.0154  0.7716667  0.5432645\n",
       "  0.0155  0.7716667  0.5432645\n",
       "  0.0156  0.7716667  0.5432645\n",
       "  0.0157  0.7716667  0.5432645\n",
       "  0.0158  0.7716667  0.5432645\n",
       "  0.0159  0.7716667  0.5432645\n",
       "  0.0160  0.7716667  0.5432645\n",
       "  0.0161  0.7716667  0.5432645\n",
       "  0.0162  0.7716667  0.5432645\n",
       "  0.0163  0.7716667  0.5432645\n",
       "  0.0164  0.7716667  0.5432645\n",
       "  0.0165  0.7716667  0.5432645\n",
       "  0.0166  0.7716667  0.5432645\n",
       "  0.0167  0.7716667  0.5432645\n",
       "  0.0168  0.7716667  0.5432645\n",
       "  0.0169  0.7716667  0.5432645\n",
       "  0.0170  0.7716667  0.5432645\n",
       "  0.0171  0.7716667  0.5432645\n",
       "  0.0172  0.7716667  0.5432645\n",
       "  0.0173  0.7716667  0.5432645\n",
       "  0.0174  0.7716667  0.5432645\n",
       "  0.0175  0.7716667  0.5432645\n",
       "  0.0176  0.7716667  0.5432645\n",
       "  0.0177  0.7716667  0.5432645\n",
       "  0.0178  0.7716667  0.5432645\n",
       "  0.0179  0.7716667  0.5432645\n",
       "  0.0180  0.7716667  0.5432645\n",
       "  0.0181  0.7716667  0.5432645\n",
       "  0.0182  0.7716667  0.5432645\n",
       "  0.0183  0.7716667  0.5432645\n",
       "  0.0184  0.7716667  0.5432645\n",
       "  0.0185  0.7716667  0.5432645\n",
       "  0.0186  0.7716667  0.5432645\n",
       "  0.0187  0.7716667  0.5432645\n",
       "  0.0188  0.7716667  0.5432645\n",
       "  0.0189  0.7716667  0.5432645\n",
       "  0.0190  0.7716667  0.5432645\n",
       "  0.0191  0.7716667  0.5432645\n",
       "  0.0192  0.7716667  0.5432645\n",
       "  0.0193  0.7716667  0.5432645\n",
       "  0.0194  0.7716667  0.5432645\n",
       "  0.0195  0.7716667  0.5432645\n",
       "  0.0196  0.7716667  0.5432645\n",
       "  0.0197  0.7716667  0.5432645\n",
       "  0.0198  0.7716667  0.5432645\n",
       "  0.0199  0.7716667  0.5432645\n",
       "  0.0200  0.7716667  0.5432645\n",
       "  0.0201  0.7716667  0.5432645\n",
       "  0.0202  0.7716667  0.5432645\n",
       "  0.0203  0.7716667  0.5432645\n",
       "  0.0204  0.7716667  0.5432645\n",
       "  0.0205  0.7716667  0.5432645\n",
       "  0.0206  0.7716667  0.5432645\n",
       "  0.0207  0.7716667  0.5432645\n",
       "  0.0208  0.7716667  0.5432645\n",
       "  0.0209  0.7716667  0.5432645\n",
       "  0.0210  0.7716667  0.5432645\n",
       "  0.0211  0.7716667  0.5432645\n",
       "  0.0212  0.7716667  0.5432645\n",
       "  0.0213  0.7716667  0.5432645\n",
       "  0.0214  0.7716667  0.5432645\n",
       "  0.0215  0.7716667  0.5432645\n",
       "  0.0216  0.7716667  0.5432645\n",
       "  0.0217  0.7716667  0.5432645\n",
       "  0.0218  0.7716667  0.5432645\n",
       "  0.0219  0.7716667  0.5432645\n",
       "  0.0220  0.7716667  0.5432645\n",
       "  0.0221  0.7716667  0.5432645\n",
       "  0.0222  0.7716667  0.5432645\n",
       "  0.0223  0.7716667  0.5432645\n",
       "  0.0224  0.7716667  0.5432645\n",
       "  0.0225  0.7716667  0.5432645\n",
       "  0.0226  0.7716667  0.5432645\n",
       "  0.0227  0.7716667  0.5432645\n",
       "  0.0228  0.7716667  0.5432645\n",
       "  0.0229  0.7716667  0.5432645\n",
       "  0.0230  0.7716667  0.5432645\n",
       "  0.0231  0.7716667  0.5432645\n",
       "  0.0232  0.7716667  0.5432645\n",
       "  0.0233  0.7716667  0.5432645\n",
       "  0.0234  0.7716667  0.5432645\n",
       "  0.0235  0.7716667  0.5432645\n",
       "  0.0236  0.7716667  0.5432645\n",
       "  0.0237  0.7716667  0.5432645\n",
       "  0.0238  0.7716667  0.5432645\n",
       "  0.0239  0.7716667  0.5432645\n",
       "  0.0240  0.7716667  0.5432645\n",
       "  0.0241  0.7716667  0.5432645\n",
       "  0.0242  0.7716667  0.5432645\n",
       "  0.0243  0.7716667  0.5432645\n",
       "  0.0244  0.7716667  0.5432645\n",
       "  0.0245  0.7716667  0.5432645\n",
       "  0.0246  0.7716667  0.5432645\n",
       "  0.0247  0.7716667  0.5432645\n",
       "  0.0248  0.7716667  0.5432645\n",
       "  0.0249  0.7716667  0.5432645\n",
       "  0.0250  0.7716667  0.5432645\n",
       "  0.0251  0.7716667  0.5432645\n",
       "  0.0252  0.7716667  0.5432645\n",
       "  0.0253  0.7716667  0.5432645\n",
       "  0.0254  0.7716667  0.5432645\n",
       "  0.0255  0.7716667  0.5432645\n",
       "  0.0256  0.7716667  0.5432645\n",
       "  0.0257  0.7716667  0.5432645\n",
       "  0.0258  0.7716667  0.5432645\n",
       "  0.0259  0.7716667  0.5432645\n",
       "  0.0260  0.7716667  0.5432645\n",
       "  0.0261  0.7716667  0.5432645\n",
       "  0.0262  0.7716667  0.5432645\n",
       "  0.0263  0.7716667  0.5432645\n",
       "  0.0264  0.7716667  0.5432645\n",
       "  0.0265  0.7716667  0.5432645\n",
       "  0.0266  0.7716667  0.5432645\n",
       "  0.0267  0.7716667  0.5432645\n",
       "  0.0268  0.7716667  0.5432645\n",
       "  0.0269  0.7716667  0.5432645\n",
       "  0.0270  0.7716667  0.5432645\n",
       "  0.0271  0.7716667  0.5432645\n",
       "  0.0272  0.7716667  0.5432645\n",
       "  0.0273  0.7716667  0.5432645\n",
       "  0.0274  0.7716667  0.5432645\n",
       "  0.0275  0.7716667  0.5432645\n",
       "  0.0276  0.7716667  0.5432645\n",
       "  0.0277  0.7716667  0.5432645\n",
       "  0.0278  0.7716667  0.5432645\n",
       "  0.0279  0.7716667  0.5432645\n",
       "  0.0280  0.7716667  0.5432645\n",
       "  0.0281  0.7716667  0.5432645\n",
       "  0.0282  0.7716667  0.5432645\n",
       "  0.0283  0.7716667  0.5432645\n",
       "  0.0284  0.7716667  0.5432645\n",
       "  0.0285  0.7716667  0.5432645\n",
       "  0.0286  0.7716667  0.5432645\n",
       "  0.0287  0.7716667  0.5432645\n",
       "  0.0288  0.7716667  0.5432645\n",
       "  0.0289  0.7716667  0.5432645\n",
       "  0.0290  0.7716667  0.5432645\n",
       "  0.0291  0.7716667  0.5432645\n",
       "  0.0292  0.7716667  0.5432645\n",
       "  0.0293  0.7716667  0.5432645\n",
       "  0.0294  0.7716667  0.5432645\n",
       "  0.0295  0.7716667  0.5432645\n",
       "  0.0296  0.7716667  0.5432645\n",
       "  0.0297  0.7716667  0.5432645\n",
       "  0.0298  0.7716667  0.5432645\n",
       "  0.0299  0.7716667  0.5432645\n",
       "  0.0300  0.7716667  0.5432645\n",
       "  0.0301  0.7716667  0.5432645\n",
       "  0.0302  0.7716667  0.5432645\n",
       "  0.0303  0.7716667  0.5432645\n",
       "  0.0304  0.7716667  0.5432645\n",
       "  0.0305  0.7716667  0.5432645\n",
       "  0.0306  0.7716667  0.5432645\n",
       "  0.0307  0.7716667  0.5432645\n",
       "  0.0308  0.7716667  0.5432645\n",
       "  0.0309  0.7716667  0.5432645\n",
       "  0.0310  0.7716667  0.5432645\n",
       "  0.0311  0.7716667  0.5432645\n",
       "  0.0312  0.7716667  0.5432645\n",
       "  0.0313  0.7716667  0.5432645\n",
       "  0.0314  0.7716667  0.5432645\n",
       "  0.0315  0.7716667  0.5432645\n",
       "  0.0316  0.7716667  0.5432645\n",
       "  0.0317  0.7716667  0.5432645\n",
       "  0.0318  0.7716667  0.5432645\n",
       "  0.0319  0.7716667  0.5432645\n",
       "  0.0320  0.7716667  0.5432645\n",
       "  0.0321  0.7716667  0.5432645\n",
       "  0.0322  0.7716667  0.5432645\n",
       "  0.0323  0.7716667  0.5432645\n",
       "  0.0324  0.7716667  0.5432645\n",
       "  0.0325  0.7716667  0.5432645\n",
       "  0.0326  0.7716667  0.5432645\n",
       "  0.0327  0.7716667  0.5432645\n",
       "  0.0328  0.7716667  0.5432645\n",
       "  0.0329  0.7716667  0.5432645\n",
       "  0.0330  0.7716667  0.5432645\n",
       "  0.0331  0.7716667  0.5432645\n",
       "  0.0332  0.7716667  0.5432645\n",
       "  0.0333  0.7716667  0.5432645\n",
       "  0.0334  0.7716667  0.5432645\n",
       "  0.0335  0.7716667  0.5432645\n",
       "  0.0336  0.7716667  0.5432645\n",
       "  0.0337  0.7716667  0.5432645\n",
       "  0.0338  0.7716667  0.5432645\n",
       "  0.0339  0.7716667  0.5432645\n",
       "  0.0340  0.7716667  0.5432645\n",
       "  0.0341  0.7716667  0.5432645\n",
       "  0.0342  0.7716667  0.5432645\n",
       "  0.0343  0.7716667  0.5432645\n",
       "  0.0344  0.7716667  0.5432645\n",
       "  0.0345  0.7716667  0.5432645\n",
       "  0.0346  0.7716667  0.5432645\n",
       "  0.0347  0.7716667  0.5432645\n",
       "  0.0348  0.7716667  0.5432645\n",
       "  0.0349  0.7716667  0.5432645\n",
       "  0.0350  0.7716667  0.5432645\n",
       "  0.0351  0.7716667  0.5432645\n",
       "  0.0352  0.7716667  0.5432645\n",
       "  0.0353  0.7716667  0.5432645\n",
       "  0.0354  0.7716667  0.5432645\n",
       "  0.0355  0.7716667  0.5432645\n",
       "  0.0356  0.7716667  0.5432645\n",
       "  0.0357  0.7716667  0.5432645\n",
       "  0.0358  0.7716667  0.5432645\n",
       "  0.0359  0.7716667  0.5432645\n",
       "  0.0360  0.7716667  0.5432645\n",
       "  0.0361  0.7716667  0.5432645\n",
       "  0.0362  0.7716667  0.5432645\n",
       "  0.0363  0.7716667  0.5432645\n",
       "  0.0364  0.7716667  0.5432645\n",
       "  0.0365  0.7716667  0.5432645\n",
       "  0.0366  0.7716667  0.5432645\n",
       "  0.0367  0.7716667  0.5432645\n",
       "  0.0368  0.7716667  0.5432645\n",
       "  0.0369  0.7716667  0.5432645\n",
       "  0.0370  0.7716667  0.5432645\n",
       "  0.0371  0.7716667  0.5432645\n",
       "  0.0372  0.7716667  0.5432645\n",
       "  0.0373  0.7716667  0.5432645\n",
       "  0.0374  0.7716667  0.5432645\n",
       "  0.0375  0.7716667  0.5432645\n",
       "  0.0376  0.7716667  0.5432645\n",
       "  0.0377  0.7716667  0.5432645\n",
       "  0.0378  0.7716667  0.5432645\n",
       "  0.0379  0.7716667  0.5432645\n",
       "  0.0380  0.7716667  0.5432645\n",
       "  0.0381  0.7716667  0.5432645\n",
       "  0.0382  0.7716667  0.5432645\n",
       "  0.0383  0.7716667  0.5432645\n",
       "  0.0384  0.7716667  0.5432645\n",
       "  0.0385  0.7716667  0.5432645\n",
       "  0.0386  0.7716667  0.5432645\n",
       "  0.0387  0.7716667  0.5432645\n",
       "  0.0388  0.7716667  0.5432645\n",
       "  0.0389  0.7716667  0.5432645\n",
       "  0.0390  0.7716667  0.5432645\n",
       "  0.0391  0.7716667  0.5432645\n",
       "  0.0392  0.7716667  0.5432645\n",
       "  0.0393  0.7716667  0.5432645\n",
       "  0.0394  0.7716667  0.5432645\n",
       "  0.0395  0.7716667  0.5432645\n",
       "  0.0396  0.7716667  0.5432645\n",
       "  0.0397  0.7716667  0.5432645\n",
       "  0.0398  0.7716667  0.5432645\n",
       "  0.0399  0.7716667  0.5432645\n",
       "  0.0400  0.7716667  0.5432645\n",
       "  0.0401  0.7716667  0.5432645\n",
       "  0.0402  0.7716667  0.5432645\n",
       "  0.0403  0.7716667  0.5432645\n",
       "  0.0404  0.7716667  0.5432645\n",
       "  0.0405  0.7716667  0.5432645\n",
       "  0.0406  0.7716667  0.5432645\n",
       "  0.0407  0.7716667  0.5432645\n",
       "  0.0408  0.7716667  0.5432645\n",
       "  0.0409  0.7716667  0.5432645\n",
       "  0.0410  0.7716667  0.5432645\n",
       "  0.0411  0.7716667  0.5432645\n",
       "  0.0412  0.7716667  0.5432645\n",
       "  0.0413  0.7716667  0.5432645\n",
       "  0.0414  0.7716667  0.5432645\n",
       "  0.0415  0.7716667  0.5432645\n",
       "  0.0416  0.7716667  0.5432645\n",
       "  0.0417  0.7716667  0.5432645\n",
       "  0.0418  0.7716667  0.5432645\n",
       "  0.0419  0.7716667  0.5432645\n",
       "  0.0420  0.7716667  0.5432645\n",
       "  0.0421  0.7716667  0.5432645\n",
       "  0.0422  0.7716667  0.5432645\n",
       "  0.0423  0.7716667  0.5432645\n",
       "  0.0424  0.7716667  0.5432645\n",
       "  0.0425  0.7716667  0.5432645\n",
       "  0.0426  0.7716667  0.5432645\n",
       "  0.0427  0.7716667  0.5432645\n",
       "  0.0428  0.7716667  0.5432645\n",
       "  0.0429  0.7716667  0.5432645\n",
       "  0.0430  0.7716667  0.5432645\n",
       "  0.0431  0.7716667  0.5432645\n",
       "  0.0432  0.7716667  0.5432645\n",
       "  0.0433  0.7716667  0.5432645\n",
       "  0.0434  0.7716667  0.5432645\n",
       "  0.0435  0.7716667  0.5432645\n",
       "  0.0436  0.7716667  0.5432645\n",
       "  0.0437  0.7716667  0.5432645\n",
       "  0.0438  0.7716667  0.5432645\n",
       "  0.0439  0.7716667  0.5432645\n",
       "  0.0440  0.7716667  0.5432645\n",
       "  0.0441  0.7716667  0.5432645\n",
       "  0.0442  0.7716667  0.5432645\n",
       "  0.0443  0.7716667  0.5432645\n",
       "  0.0444  0.7716667  0.5432645\n",
       "  0.0445  0.7716667  0.5432645\n",
       "  0.0446  0.7716667  0.5432645\n",
       "  0.0447  0.7716667  0.5432645\n",
       "  0.0448  0.7716667  0.5432645\n",
       "  0.0449  0.7716667  0.5432645\n",
       "  0.0450  0.7716667  0.5432645\n",
       "  0.0451  0.7716667  0.5432645\n",
       "  0.0452  0.7716667  0.5432645\n",
       "  0.0453  0.7716667  0.5432645\n",
       "  0.0454  0.7716667  0.5432645\n",
       "  0.0455  0.7716667  0.5432645\n",
       "  0.0456  0.7716667  0.5432645\n",
       "  0.0457  0.7716667  0.5432645\n",
       "  0.0458  0.7716667  0.5432645\n",
       "  0.0459  0.7716667  0.5432645\n",
       "  0.0460  0.7716667  0.5432645\n",
       "  0.0461  0.7716667  0.5432645\n",
       "  0.0462  0.7716667  0.5432645\n",
       "  0.0463  0.7716667  0.5432645\n",
       "  0.0464  0.7716667  0.5432645\n",
       "  0.0465  0.7716667  0.5432645\n",
       "  0.0466  0.7716667  0.5432645\n",
       "  0.0467  0.7716667  0.5432645\n",
       "  0.0468  0.7716667  0.5432645\n",
       "  0.0469  0.7716667  0.5432645\n",
       "  0.0470  0.7716667  0.5432645\n",
       "  0.0471  0.7716667  0.5432645\n",
       "  0.0472  0.7716667  0.5432645\n",
       "  0.0473  0.7716667  0.5432645\n",
       "  0.0474  0.7716667  0.5432645\n",
       "  0.0475  0.7716667  0.5432645\n",
       "  0.0476  0.7716667  0.5432645\n",
       "  0.0477  0.7716667  0.5432645\n",
       "  0.0478  0.7716667  0.5432645\n",
       "  0.0479  0.7716667  0.5432645\n",
       "  0.0480  0.7716667  0.5432645\n",
       "  0.0481  0.7716667  0.5432645\n",
       "  0.0482  0.7716667  0.5432645\n",
       "  0.0483  0.7716667  0.5432645\n",
       "  0.0484  0.7716667  0.5432645\n",
       "  0.0485  0.7716667  0.5432645\n",
       "  0.0486  0.7716667  0.5432645\n",
       "  0.0487  0.7716667  0.5432645\n",
       "  0.0488  0.7716667  0.5432645\n",
       "  0.0489  0.7716667  0.5432645\n",
       "  0.0490  0.7716667  0.5432645\n",
       "  0.0491  0.7716667  0.5432645\n",
       "  0.0492  0.7716667  0.5432645\n",
       "  0.0493  0.7716667  0.5432645\n",
       "  0.0494  0.7716667  0.5432645\n",
       "  0.0495  0.7716667  0.5432645\n",
       "  0.0496  0.7716667  0.5432645\n",
       "  0.0497  0.7716667  0.5432645\n",
       "  0.0498  0.7827778  0.5652158\n",
       "  0.0499  0.7827778  0.5652158\n",
       "  0.0500  0.7827778  0.5652158\n",
       "  0.0501  0.7827778  0.5652158\n",
       "  0.0502  0.7827778  0.5652158\n",
       "  0.0503  0.7827778  0.5652158\n",
       "  0.0504  0.7827778  0.5652158\n",
       "  0.0505  0.7827778  0.5652158\n",
       "  0.0506  0.7827778  0.5652158\n",
       "  0.0507  0.7827778  0.5652158\n",
       "  0.0508  0.7827778  0.5652158\n",
       "  0.0509  0.7827778  0.5652158\n",
       "  0.0510  0.7827778  0.5652158\n",
       "  0.0511  0.7827778  0.5652158\n",
       "  0.0512  0.7827778  0.5652158\n",
       "  0.0513  0.7827778  0.5652158\n",
       "  0.0514  0.7827778  0.5652158\n",
       "  0.0515  0.7827778  0.5652158\n",
       "  0.0516  0.7827778  0.5652158\n",
       "  0.0517  0.7827778  0.5652158\n",
       "  0.0518  0.7827778  0.5652158\n",
       "  0.0519  0.7827778  0.5652158\n",
       "  0.0520  0.7827778  0.5652158\n",
       "  0.0521  0.7827778  0.5652158\n",
       "  0.0522  0.7827778  0.5652158\n",
       "  0.0523  0.7827778  0.5652158\n",
       "  0.0524  0.7827778  0.5652158\n",
       "  0.0525  0.7827778  0.5652158\n",
       "  0.0526  0.7827778  0.5652158\n",
       "  0.0527  0.7827778  0.5652158\n",
       "  0.0528  0.7827778  0.5652158\n",
       "  0.0529  0.7827778  0.5652158\n",
       "  0.0530  0.7827778  0.5652158\n",
       "  0.0531  0.7827778  0.5652158\n",
       "  0.0532  0.7827778  0.5652158\n",
       "  0.0533  0.7827778  0.5652158\n",
       "  0.0534  0.7827778  0.5652158\n",
       "  0.0535  0.7827778  0.5652158\n",
       "  0.0536  0.7827778  0.5652158\n",
       "  0.0537  0.7827778  0.5652158\n",
       "  0.0538  0.7827778  0.5652158\n",
       "  0.0539  0.7827778  0.5652158\n",
       "  0.0540  0.7716667  0.5421388\n",
       "  0.0541  0.7716667  0.5421388\n",
       "  0.0542  0.7716667  0.5421388\n",
       "  0.0543  0.7716667  0.5421388\n",
       "  0.0544  0.7716667  0.5421388\n",
       "  0.0545  0.7716667  0.5421388\n",
       "  0.0546  0.7716667  0.5421388\n",
       "  0.0547  0.7716667  0.5421388\n",
       "  0.0548  0.7716667  0.5421388\n",
       "  0.0549  0.7716667  0.5421388\n",
       "  0.0550  0.7716667  0.5421388\n",
       "  0.0551  0.7716667  0.5421388\n",
       "  0.0552  0.7716667  0.5421388\n",
       "  0.0553  0.7716667  0.5421388\n",
       "  0.0554  0.7716667  0.5421388\n",
       "  0.0555  0.7716667  0.5421388\n",
       "  0.0556  0.7716667  0.5421388\n",
       "  0.0557  0.7716667  0.5421388\n",
       "  0.0558  0.7716667  0.5421388\n",
       "  0.0559  0.7716667  0.5421388\n",
       "  0.0560  0.7716667  0.5421388\n",
       "  0.0561  0.7716667  0.5421388\n",
       "  0.0562  0.7716667  0.5421388\n",
       "  0.0563  0.7716667  0.5421388\n",
       "  0.0564  0.7716667  0.5421388\n",
       "  0.0565  0.7716667  0.5421388\n",
       "  0.0566  0.7716667  0.5421388\n",
       "  0.0567  0.7716667  0.5421388\n",
       "  0.0568  0.7716667  0.5421388\n",
       "  0.0569  0.7716667  0.5421388\n",
       "  0.0570  0.7716667  0.5421388\n",
       "  0.0571  0.7716667  0.5421388\n",
       "  0.0572  0.7716667  0.5421388\n",
       "  0.0573  0.7716667  0.5421388\n",
       "  0.0574  0.7716667  0.5421388\n",
       "  0.0575  0.7716667  0.5421388\n",
       "  0.0576  0.7716667  0.5421388\n",
       "  0.0577  0.7716667  0.5421388\n",
       "  0.0578  0.7716667  0.5421388\n",
       "  0.0579  0.7716667  0.5421388\n",
       "  0.0580  0.7716667  0.5421388\n",
       "  0.0581  0.7716667  0.5421388\n",
       "  0.0582  0.7716667  0.5421388\n",
       "  0.0583  0.7716667  0.5421388\n",
       "  0.0584  0.7716667  0.5421388\n",
       "  0.0585  0.7716667  0.5421388\n",
       "  0.0586  0.7716667  0.5421388\n",
       "  0.0587  0.7716667  0.5421388\n",
       "  0.0588  0.7716667  0.5421388\n",
       "  0.0589  0.7716667  0.5421388\n",
       "  0.0590  0.7716667  0.5421388\n",
       "  0.0591  0.7716667  0.5421388\n",
       "  0.0592  0.7716667  0.5421388\n",
       "  0.0593  0.7716667  0.5421388\n",
       "  0.0594  0.7716667  0.5421388\n",
       "  0.0595  0.7716667  0.5421388\n",
       "  0.0596  0.7716667  0.5421388\n",
       "  0.0597  0.7716667  0.5421388\n",
       "  0.0598  0.7716667  0.5421388\n",
       "  0.0599  0.7716667  0.5421388\n",
       "  0.0600  0.7716667  0.5421388\n",
       "  0.0601  0.7716667  0.5421388\n",
       "  0.0602  0.7716667  0.5421388\n",
       "  0.0603  0.7716667  0.5421388\n",
       "  0.0604  0.7716667  0.5421388\n",
       "  0.0605  0.7716667  0.5421388\n",
       "  0.0606  0.7716667  0.5421388\n",
       "  0.0607  0.7716667  0.5421388\n",
       "  0.0608  0.7616667  0.5221388\n",
       "  0.0609  0.7616667  0.5221388\n",
       "  0.0610  0.7616667  0.5221388\n",
       "  0.0611  0.7616667  0.5221388\n",
       "  0.0612  0.7616667  0.5221388\n",
       "  0.0613  0.7616667  0.5221388\n",
       "  0.0614  0.7616667  0.5221388\n",
       "  0.0615  0.7616667  0.5221388\n",
       "  0.0616  0.7616667  0.5221388\n",
       "  0.0617  0.7616667  0.5221388\n",
       "  0.0618  0.7616667  0.5221388\n",
       "  0.0619  0.7616667  0.5221388\n",
       "  0.0620  0.7616667  0.5221388\n",
       "  0.0621  0.7616667  0.5221388\n",
       "  0.0622  0.7616667  0.5221388\n",
       "  0.0623  0.7616667  0.5221388\n",
       "  0.0624  0.7616667  0.5221388\n",
       "  0.0625  0.7616667  0.5221388\n",
       "  0.0626  0.7616667  0.5221388\n",
       "  0.0627  0.7616667  0.5221388\n",
       "  0.0628  0.7616667  0.5221388\n",
       "  0.0629  0.7616667  0.5221388\n",
       "  0.0630  0.7616667  0.5221388\n",
       "  0.0631  0.7616667  0.5221388\n",
       "  0.0632  0.7616667  0.5221388\n",
       "  0.0633  0.7616667  0.5221388\n",
       "  0.0634  0.7616667  0.5221388\n",
       "  0.0635  0.7616667  0.5221388\n",
       "  0.0636  0.7616667  0.5221388\n",
       "  0.0637  0.7616667  0.5221388\n",
       "  0.0638  0.7616667  0.5221388\n",
       "  0.0639  0.7616667  0.5221388\n",
       "  0.0640  0.7616667  0.5221388\n",
       "  0.0641  0.7616667  0.5221388\n",
       "  0.0642  0.7616667  0.5221388\n",
       "  0.0643  0.7616667  0.5221388\n",
       "  0.0644  0.7616667  0.5221388\n",
       "  0.0645  0.7616667  0.5221388\n",
       "  0.0646  0.7616667  0.5221388\n",
       "  0.0647  0.7616667  0.5221388\n",
       "  0.0648  0.7616667  0.5221388\n",
       "  0.0649  0.7616667  0.5221388\n",
       "  0.0650  0.7616667  0.5221388\n",
       "  0.0651  0.7616667  0.5221388\n",
       "  0.0652  0.7616667  0.5221388\n",
       "  0.0653  0.7616667  0.5221388\n",
       "  0.0654  0.7616667  0.5221388\n",
       "  0.0655  0.7727778  0.5452158\n",
       "  0.0656  0.7727778  0.5452158\n",
       "  0.0657  0.7727778  0.5452158\n",
       "  0.0658  0.7727778  0.5452158\n",
       "  0.0659  0.7727778  0.5452158\n",
       "  0.0660  0.7727778  0.5452158\n",
       "  0.0661  0.7727778  0.5452158\n",
       "  0.0662  0.7727778  0.5452158\n",
       "  0.0663  0.7727778  0.5452158\n",
       "  0.0664  0.7727778  0.5452158\n",
       "  0.0665  0.7727778  0.5452158\n",
       "  0.0666  0.7727778  0.5452158\n",
       "  0.0667  0.7727778  0.5452158\n",
       "  0.0668  0.7727778  0.5452158\n",
       "  0.0669  0.7727778  0.5452158\n",
       "  0.0670  0.7727778  0.5452158\n",
       "  0.0671  0.7727778  0.5452158\n",
       "  0.0672  0.7727778  0.5452158\n",
       "  0.0673  0.7727778  0.5452158\n",
       "  0.0674  0.7727778  0.5452158\n",
       "  0.0675  0.7727778  0.5452158\n",
       "  0.0676  0.7727778  0.5452158\n",
       "  0.0677  0.7727778  0.5452158\n",
       "  0.0678  0.7727778  0.5452158\n",
       "  0.0679  0.7727778  0.5452158\n",
       "  0.0680  0.7727778  0.5452158\n",
       "  0.0681  0.7727778  0.5452158\n",
       "  0.0682  0.7727778  0.5452158\n",
       "  0.0683  0.7727778  0.5452158\n",
       "  0.0684  0.7727778  0.5452158\n",
       "  0.0685  0.7727778  0.5452158\n",
       "  0.0686  0.7727778  0.5452158\n",
       "  0.0687  0.7727778  0.5452158\n",
       "  0.0688  0.7727778  0.5452158\n",
       "  0.0689  0.7727778  0.5452158\n",
       "  0.0690  0.7727778  0.5452158\n",
       "  0.0691  0.7727778  0.5452158\n",
       "  0.0692  0.7727778  0.5452158\n",
       "  0.0693  0.7727778  0.5452158\n",
       "  0.0694  0.7727778  0.5452158\n",
       "  0.0695  0.7727778  0.5452158\n",
       "  0.0696  0.7727778  0.5452158\n",
       "  0.0697  0.7727778  0.5452158\n",
       "  0.0698  0.7727778  0.5452158\n",
       "  0.0699  0.7727778  0.5452158\n",
       "  0.0700  0.7727778  0.5452158\n",
       "  0.0701  0.7727778  0.5452158\n",
       "  0.0702  0.7727778  0.5452158\n",
       "  0.0703  0.7727778  0.5452158\n",
       "  0.0704  0.7727778  0.5452158\n",
       "  0.0705  0.7727778  0.5452158\n",
       "  0.0706  0.7727778  0.5452158\n",
       "  0.0707  0.7727778  0.5452158\n",
       "  0.0708  0.7727778  0.5452158\n",
       "  0.0709  0.7727778  0.5452158\n",
       "  0.0710  0.7727778  0.5452158\n",
       "  0.0711  0.7727778  0.5452158\n",
       "  0.0712  0.7727778  0.5452158\n",
       "  0.0713  0.7727778  0.5452158\n",
       "  0.0714  0.7727778  0.5452158\n",
       "  0.0715  0.7727778  0.5452158\n",
       "  0.0716  0.7727778  0.5452158\n",
       "  0.0717  0.7727778  0.5452158\n",
       "  0.0718  0.7727778  0.5452158\n",
       "  0.0719  0.7727778  0.5452158\n",
       "  0.0720  0.7727778  0.5452158\n",
       "  0.0721  0.7727778  0.5452158\n",
       "  0.0722  0.7727778  0.5452158\n",
       "  0.0723  0.7727778  0.5452158\n",
       "  0.0724  0.7727778  0.5452158\n",
       "  0.0725  0.7727778  0.5452158\n",
       "  0.0726  0.7727778  0.5452158\n",
       "  0.0727  0.7727778  0.5452158\n",
       "  0.0728  0.7727778  0.5452158\n",
       "  0.0729  0.7727778  0.5452158\n",
       "  0.0730  0.7727778  0.5452158\n",
       "  0.0731  0.7727778  0.5452158\n",
       "  0.0732  0.7727778  0.5452158\n",
       "  0.0733  0.7727778  0.5452158\n",
       "  0.0734  0.7727778  0.5452158\n",
       "  0.0735  0.7727778  0.5452158\n",
       "  0.0736  0.7727778  0.5452158\n",
       "  0.0737  0.7727778  0.5452158\n",
       "  0.0738  0.7727778  0.5452158\n",
       "  0.0739  0.7727778  0.5452158\n",
       "  0.0740  0.7727778  0.5452158\n",
       "  0.0741  0.7727778  0.5452158\n",
       "  0.0742  0.7727778  0.5452158\n",
       "  0.0743  0.7727778  0.5452158\n",
       "  0.0744  0.7727778  0.5452158\n",
       "  0.0745  0.7727778  0.5452158\n",
       "  0.0746  0.7727778  0.5452158\n",
       "  0.0747  0.7727778  0.5452158\n",
       "  0.0748  0.7727778  0.5452158\n",
       "  0.0749  0.7727778  0.5452158\n",
       "  0.0750  0.7727778  0.5452158\n",
       "  0.0751  0.7727778  0.5452158\n",
       "  0.0752  0.7727778  0.5452158\n",
       "  0.0753  0.7727778  0.5452158\n",
       "  0.0754  0.7727778  0.5452158\n",
       "  0.0755  0.7727778  0.5452158\n",
       "  0.0756  0.7727778  0.5452158\n",
       "  0.0757  0.7727778  0.5452158\n",
       "  0.0758  0.7727778  0.5452158\n",
       "  0.0759  0.7727778  0.5452158\n",
       "  0.0760  0.7727778  0.5452158\n",
       "  0.0761  0.7727778  0.5452158\n",
       "  0.0762  0.7727778  0.5452158\n",
       "  0.0763  0.7727778  0.5452158\n",
       "  0.0764  0.7727778  0.5452158\n",
       "  0.0765  0.7727778  0.5452158\n",
       "  0.0766  0.7727778  0.5452158\n",
       "  0.0767  0.7727778  0.5452158\n",
       "  0.0768  0.7727778  0.5452158\n",
       "  0.0769  0.7727778  0.5452158\n",
       "  0.0770  0.7727778  0.5452158\n",
       "  0.0771  0.7727778  0.5452158\n",
       "  0.0772  0.7727778  0.5452158\n",
       "  0.0773  0.7727778  0.5452158\n",
       "  0.0774  0.7727778  0.5452158\n",
       "  0.0775  0.7727778  0.5452158\n",
       "  0.0776  0.7727778  0.5452158\n",
       "  0.0777  0.7727778  0.5452158\n",
       "  0.0778  0.7727778  0.5452158\n",
       "  0.0779  0.7727778  0.5452158\n",
       "  0.0780  0.7727778  0.5452158\n",
       "  0.0781  0.7727778  0.5452158\n",
       "  0.0782  0.7727778  0.5452158\n",
       "  0.0783  0.7727778  0.5452158\n",
       "  0.0784  0.7727778  0.5452158\n",
       "  0.0785  0.7727778  0.5452158\n",
       "  0.0786  0.7727778  0.5452158\n",
       "  0.0787  0.7727778  0.5452158\n",
       "  0.0788  0.7727778  0.5452158\n",
       "  0.0789  0.7727778  0.5452158\n",
       "  0.0790  0.7727778  0.5452158\n",
       "  0.0791  0.7727778  0.5452158\n",
       "  0.0792  0.7727778  0.5452158\n",
       "  0.0793  0.7727778  0.5452158\n",
       "  0.0794  0.7727778  0.5452158\n",
       "  0.0795  0.7727778  0.5452158\n",
       "  0.0796  0.7727778  0.5452158\n",
       "  0.0797  0.7727778  0.5452158\n",
       "  0.0798  0.7727778  0.5452158\n",
       "  0.0799  0.7727778  0.5452158\n",
       "  0.0800  0.7727778  0.5452158\n",
       "  0.0801  0.7727778  0.5452158\n",
       "  0.0802  0.7727778  0.5452158\n",
       "  0.0803  0.7727778  0.5452158\n",
       "  0.0804  0.7727778  0.5452158\n",
       "  0.0805  0.7727778  0.5452158\n",
       "  0.0806  0.7727778  0.5452158\n",
       "  0.0807  0.7727778  0.5452158\n",
       "  0.0808  0.7727778  0.5452158\n",
       "  0.0809  0.7727778  0.5452158\n",
       "  0.0810  0.7727778  0.5452158\n",
       "  0.0811  0.7727778  0.5452158\n",
       "  0.0812  0.7727778  0.5452158\n",
       "  0.0813  0.7727778  0.5452158\n",
       "  0.0814  0.7727778  0.5452158\n",
       "  0.0815  0.7727778  0.5452158\n",
       "  0.0816  0.7727778  0.5452158\n",
       "  0.0817  0.7727778  0.5452158\n",
       "  0.0818  0.7727778  0.5452158\n",
       "  0.0819  0.7727778  0.5452158\n",
       "  0.0820  0.7727778  0.5452158\n",
       "  0.0821  0.7727778  0.5452158\n",
       "  0.0822  0.7727778  0.5452158\n",
       "  0.0823  0.7727778  0.5452158\n",
       "  0.0824  0.7727778  0.5452158\n",
       "  0.0825  0.7727778  0.5452158\n",
       "  0.0826  0.7727778  0.5452158\n",
       "  0.0827  0.7727778  0.5452158\n",
       "  0.0828  0.7727778  0.5452158\n",
       "  0.0829  0.7727778  0.5452158\n",
       "  0.0830  0.7727778  0.5452158\n",
       "  0.0831  0.7727778  0.5452158\n",
       "  0.0832  0.7727778  0.5452158\n",
       "  0.0833  0.7727778  0.5452158\n",
       "  0.0834  0.7727778  0.5452158\n",
       "  0.0835  0.7727778  0.5452158\n",
       "  0.0836  0.7727778  0.5452158\n",
       "  0.0837  0.7727778  0.5452158\n",
       "  0.0838  0.7727778  0.5452158\n",
       "  0.0839  0.7727778  0.5452158\n",
       "  0.0840  0.7727778  0.5452158\n",
       "  0.0841  0.7727778  0.5452158\n",
       "  0.0842  0.7727778  0.5452158\n",
       "  0.0843  0.7727778  0.5452158\n",
       "  0.0844  0.7727778  0.5452158\n",
       "  0.0845  0.7727778  0.5452158\n",
       "  0.0846  0.7727778  0.5452158\n",
       "  0.0847  0.7727778  0.5452158\n",
       "  0.0848  0.7727778  0.5452158\n",
       "  0.0849  0.7727778  0.5452158\n",
       "  0.0850  0.7727778  0.5452158\n",
       "  0.0851  0.7727778  0.5452158\n",
       "  0.0852  0.7727778  0.5452158\n",
       "  0.0853  0.7727778  0.5452158\n",
       "  0.0854  0.7727778  0.5452158\n",
       "  0.0855  0.7727778  0.5452158\n",
       "  0.0856  0.7727778  0.5452158\n",
       "  0.0857  0.7727778  0.5452158\n",
       "  0.0858  0.7727778  0.5452158\n",
       "  0.0859  0.7727778  0.5452158\n",
       "  0.0860  0.7727778  0.5452158\n",
       "  0.0861  0.7727778  0.5452158\n",
       "  0.0862  0.7727778  0.5452158\n",
       "  0.0863  0.7727778  0.5452158\n",
       "  0.0864  0.7727778  0.5452158\n",
       "  0.0865  0.7727778  0.5452158\n",
       "  0.0866  0.7727778  0.5452158\n",
       "  0.0867  0.7727778  0.5452158\n",
       "  0.0868  0.7727778  0.5452158\n",
       "  0.0869  0.7727778  0.5452158\n",
       "  0.0870  0.7727778  0.5452158\n",
       "  0.0871  0.7727778  0.5452158\n",
       "  0.0872  0.7727778  0.5452158\n",
       "  0.0873  0.7727778  0.5452158\n",
       "  0.0874  0.7727778  0.5452158\n",
       "  0.0875  0.7727778  0.5452158\n",
       "  0.0876  0.7727778  0.5452158\n",
       "  0.0877  0.7727778  0.5452158\n",
       "  0.0878  0.7727778  0.5452158\n",
       "  0.0879  0.7727778  0.5452158\n",
       "  0.0880  0.7727778  0.5452158\n",
       "  0.0881  0.7727778  0.5452158\n",
       "  0.0882  0.7727778  0.5452158\n",
       "  0.0883  0.7727778  0.5452158\n",
       "  0.0884  0.7727778  0.5452158\n",
       "  0.0885  0.7727778  0.5452158\n",
       "  0.0886  0.7727778  0.5452158\n",
       "  0.0887  0.7727778  0.5452158\n",
       "  0.0888  0.7727778  0.5452158\n",
       "  0.0889  0.7727778  0.5452158\n",
       "  0.0890  0.7727778  0.5452158\n",
       "  0.0891  0.7727778  0.5452158\n",
       "  0.0892  0.7727778  0.5452158\n",
       "  0.0893  0.7727778  0.5452158\n",
       "  0.0894  0.7727778  0.5452158\n",
       "  0.0895  0.7727778  0.5452158\n",
       "  0.0896  0.7727778  0.5452158\n",
       "  0.0897  0.7727778  0.5452158\n",
       "  0.0898  0.7727778  0.5452158\n",
       "  0.0899  0.7727778  0.5452158\n",
       "  0.0900  0.7727778  0.5452158\n",
       "  0.0901  0.7727778  0.5452158\n",
       "  0.0902  0.7727778  0.5452158\n",
       "  0.0903  0.7727778  0.5452158\n",
       "  0.0904  0.7727778  0.5452158\n",
       "  0.0905  0.7727778  0.5452158\n",
       "  0.0906  0.7727778  0.5452158\n",
       "  0.0907  0.7727778  0.5452158\n",
       "  0.0908  0.7727778  0.5452158\n",
       "  0.0909  0.7727778  0.5452158\n",
       "  0.0910  0.7727778  0.5452158\n",
       "  0.0911  0.7616667  0.5243621\n",
       "  0.0912  0.7616667  0.5243621\n",
       "  0.0913  0.7616667  0.5243621\n",
       "  0.0914  0.7616667  0.5243621\n",
       "  0.0915  0.7616667  0.5243621\n",
       "  0.0916  0.7616667  0.5243621\n",
       "  0.0917  0.7616667  0.5243621\n",
       "  0.0918  0.7616667  0.5243621\n",
       "  0.0919  0.7616667  0.5243621\n",
       "  0.0920  0.7616667  0.5243621\n",
       "  0.0921  0.7616667  0.5243621\n",
       "  0.0922  0.7616667  0.5243621\n",
       "  0.0923  0.7616667  0.5243621\n",
       "  0.0924  0.7616667  0.5243621\n",
       "  0.0925  0.7616667  0.5243621\n",
       "  0.0926  0.7616667  0.5243621\n",
       "  0.0927  0.7616667  0.5243621\n",
       "  0.0928  0.7616667  0.5243621\n",
       "  0.0929  0.7616667  0.5243621\n",
       "  0.0930  0.7616667  0.5243621\n",
       "  0.0931  0.7616667  0.5243621\n",
       "  0.0932  0.7616667  0.5243621\n",
       "  0.0933  0.7616667  0.5243621\n",
       "  0.0934  0.7616667  0.5243621\n",
       "  0.0935  0.7616667  0.5243621\n",
       "  0.0936  0.7616667  0.5243621\n",
       "  0.0937  0.7616667  0.5243621\n",
       "  0.0938  0.7616667  0.5243621\n",
       "  0.0939  0.7616667  0.5243621\n",
       "  0.0940  0.7616667  0.5243621\n",
       "  0.0941  0.7616667  0.5243621\n",
       "  0.0942  0.7616667  0.5243621\n",
       "  0.0943  0.7616667  0.5243621\n",
       "  0.0944  0.7616667  0.5243621\n",
       "  0.0945  0.7616667  0.5243621\n",
       "  0.0946  0.7616667  0.5243621\n",
       "  0.0947  0.7616667  0.5243621\n",
       "  0.0948  0.7616667  0.5243621\n",
       "  0.0949  0.7616667  0.5243621\n",
       "  0.0950  0.7616667  0.5243621\n",
       "  0.0951  0.7616667  0.5243621\n",
       "  0.0952  0.7616667  0.5243621\n",
       "  0.0953  0.7616667  0.5243621\n",
       "  0.0954  0.7616667  0.5243621\n",
       "  0.0955  0.7616667  0.5243621\n",
       "  0.0956  0.7616667  0.5243621\n",
       "  0.0957  0.7616667  0.5243621\n",
       "  0.0958  0.7616667  0.5243621\n",
       "  0.0959  0.7616667  0.5243621\n",
       "  0.0960  0.7616667  0.5243621\n",
       "  0.0961  0.7616667  0.5243621\n",
       "  0.0962  0.7616667  0.5243621\n",
       "  0.0963  0.7616667  0.5243621\n",
       "  0.0964  0.7616667  0.5243621\n",
       "  0.0965  0.7616667  0.5243621\n",
       "  0.0966  0.7491667  0.4993621\n",
       "  0.0967  0.7491667  0.4993621\n",
       "  0.0968  0.7491667  0.4993621\n",
       "  0.0969  0.7491667  0.4993621\n",
       "  0.0970  0.7491667  0.4993621\n",
       "  0.0971  0.7491667  0.4993621\n",
       "  0.0972  0.7491667  0.4993621\n",
       "  0.0973  0.7491667  0.4993621\n",
       "  0.0974  0.7491667  0.4993621\n",
       "  0.0975  0.7491667  0.4993621\n",
       "  0.0976  0.7491667  0.4993621\n",
       "  0.0977  0.7491667  0.4993621\n",
       "  0.0978  0.7491667  0.4993621\n",
       "  0.0979  0.7491667  0.4993621\n",
       "  0.0980  0.7491667  0.4993621\n",
       "  0.0981  0.7491667  0.4993621\n",
       "  0.0982  0.7491667  0.4993621\n",
       "  0.0983  0.7491667  0.4993621\n",
       "  0.0984  0.7491667  0.4993621\n",
       "  0.0985  0.7491667  0.4993621\n",
       "  0.0986  0.7491667  0.4993621\n",
       "  0.0987  0.7491667  0.4993621\n",
       "  0.0988  0.7491667  0.4993621\n",
       "  0.0989  0.7491667  0.4993621\n",
       "  0.0990  0.7491667  0.4993621\n",
       "  0.0991  0.7491667  0.4993621\n",
       "  0.0992  0.7491667  0.4993621\n",
       "  0.0993  0.7491667  0.4993621\n",
       "  0.0994  0.7491667  0.4993621\n",
       "  0.0995  0.7491667  0.4993621\n",
       "  0.0996  0.7491667  0.4993621\n",
       "  0.0997  0.7491667  0.4993621\n",
       "  0.0998  0.7491667  0.4993621\n",
       "  0.0999  0.7491667  0.4993621\n",
       "  0.1000  0.7491667  0.4993621\n",
       "\n",
       "Tuning parameter 'alpha' was held constant at a value of 1\n",
       "Accuracy was used to select the optimal model using the largest value.\n",
       "The final values used for the model were alpha = 1 and lambda = 0.0539."
      ]
     },
     "metadata": {},
     "output_type": "display_data"
    }
   ],
   "source": [
    "set.seed(123)\n",
    "log_man_grid <- expand.grid(alpha = 1, lambda= seq( from = 0.001, to =0.1, by = 0.0001))\n",
    "Traincontrol_Man_log <-trainControl(method=\"cv\", number=10,  allowParallel=TRUE, classProbs = TRUE)\n",
    "log_manha <- train(x=as.matrix(bagmean2[,3:5],with = F ),y=as.matrix(bagmean2$Bag_Class), method=\"glmnet\",family='binomial',type.measure = \"deviance\", tuneGrid= log_man_grid , trControl= Traincontrol_Man_log )\n",
    "log_manha\n"
   ]
  },
  {
   "cell_type": "markdown",
   "id": "681065c5",
   "metadata": {},
   "source": [
    "Accuracy was used to select the optimal model using the largest value. (Accuracy = 0.7827778)\n",
    "The final values used for the model were alpha = 1 and lambda = 0.0539."
   ]
  },
  {
   "cell_type": "markdown",
   "id": "963b2651",
   "metadata": {},
   "source": [
    "Models can be build as follows and the prediction can be made with the minimizer lambda:"
   ]
  },
  {
   "cell_type": "code",
   "execution_count": 54,
   "id": "d5ada66d",
   "metadata": {},
   "outputs": [
    {
     "data": {
      "text/plain": [
       "\n",
       "Call:  cv.glmnet(x = as.matrix(logbag2[, 3:5], with = F), y = logbag2$Bag_Class,      type.measure = \"class\", nfolds = 10, family = \"binomial\") \n",
       "\n",
       "Measure: Misclassification Error \n",
       "\n",
       "     Lambda Index Measure      SE Nonzero\n",
       "min 0.00727    38  0.2174 0.04629       3\n",
       "1se 0.11855     8  0.2500 0.06047       2"
      ]
     },
     "metadata": {},
     "output_type": "display_data"
    }
   ],
   "source": [
    "#manhattan\n",
    "set.seed(123)\n",
    "#metric=deviance\n",
    "cvfitdsman=cv.glmnet(as.matrix(logbag2[,3:5],with = F ),logbag2$Bag_Class,family='binomial',nfolds=10, type.measure = \"deviance\")\n",
    "#metric=accurACY\n",
    "cvfitdsmana=cv.glmnet(as.matrix(logbag2[,3:5],with = F ),logbag2$Bag_Class,family='binomial',nfolds=10, type.measure = \"class\")\n",
    "cvfitdsmana"
   ]
  },
  {
   "cell_type": "markdown",
   "id": "8e2c1add",
   "metadata": {},
   "source": [
    "We get the same accuracy and almost the same result with tuning manually the logistric regresion model and letting glmnet optimaze the lambda value. Both lambda values (got by caret tuning manually: 0.0539 , and, the one cv.glmnet obtained) have the same accuracy. Since, the same accuracy ( Accuracy = 0.7827778) is achieved by we can use the model with lambda.min."
   ]
  },
  {
   "cell_type": "code",
   "execution_count": 55,
   "id": "2223f5a0",
   "metadata": {},
   "outputs": [
    {
     "data": {
      "text/html": [
       "<table>\n",
       "<thead><tr><th></th><th scope=col>0</th><th scope=col>1</th><th scope=col>Sum</th></tr></thead>\n",
       "<tbody>\n",
       "\t<tr><th scope=row>0</th><td>36</td><td> 9</td><td>45</td></tr>\n",
       "\t<tr><th scope=row>1</th><td> 9</td><td>38</td><td>47</td></tr>\n",
       "\t<tr><th scope=row>Sum</th><td>45</td><td>47</td><td>92</td></tr>\n",
       "</tbody>\n",
       "</table>\n"
      ],
      "text/latex": [
       "\\begin{tabular}{r|lll}\n",
       "  & 0 & 1 & Sum\\\\\n",
       "\\hline\n",
       "\t0 & 36 &  9 & 45\\\\\n",
       "\t1 &  9 & 38 & 47\\\\\n",
       "\tSum & 45 & 47 & 92\\\\\n",
       "\\end{tabular}\n"
      ],
      "text/markdown": [
       "\n",
       "| <!--/--> | 0 | 1 | Sum |\n",
       "|---|---|---|---|\n",
       "| 0 | 36 |  9 | 45 |\n",
       "| 1 |  9 | 38 | 47 |\n",
       "| Sum | 45 | 47 | 92 |\n",
       "\n"
      ],
      "text/plain": [
       "     predman\n",
       "      0  1  Sum\n",
       "  0   36  9 45 \n",
       "  1    9 38 47 \n",
       "  Sum 45 47 92 "
      ]
     },
     "metadata": {},
     "output_type": "display_data"
    },
    {
     "data": {
      "text/html": [
       "0.195652173913043"
      ],
      "text/latex": [
       "0.195652173913043"
      ],
      "text/markdown": [
       "0.195652173913043"
      ],
      "text/plain": [
       "[1] 0.1956522"
      ]
     },
     "metadata": {},
     "output_type": "display_data"
    },
    {
     "data": {
      "text/html": [
       "0.804347826086957"
      ],
      "text/latex": [
       "0.804347826086957"
      ],
      "text/markdown": [
       "0.804347826086957"
      ],
      "text/plain": [
       "[1] 0.8043478"
      ]
     },
     "metadata": {},
     "output_type": "display_data"
    }
   ],
   "source": [
    "#predict on training data(metric=deviance)\n",
    "probman <-  predict(cvfitdsman,as.matrix(logbag2[,3:5],with = F ),type='response', s=\"lambda.min\")\n",
    "predman <- as.integer(probman > kratiom)\n",
    "man_confusion_mat <- addmargins(table(logbag2$Bag_Class, predman ))\n",
    "man_confusion_mat\n",
    "\n",
    "man_err =  1- (sum(diag((man_confusion_mat[1:2,1:2]))) / man_confusion_mat[3,3])\n",
    "man_err\n",
    "\n",
    "man_acc= 1- man_err\n",
    "man_acc"
   ]
  },
  {
   "cell_type": "markdown",
   "id": "40c28292",
   "metadata": {},
   "source": [
    "Since the data is not imbalanced, using metric \"deviance\" and metric of \"accuracy\" does not cause an important difference while evaluating the models"
   ]
  },
  {
   "cell_type": "code",
   "execution_count": 56,
   "id": "7d698a82",
   "metadata": {},
   "outputs": [
    {
     "data": {
      "text/html": [
       "<table>\n",
       "<thead><tr><th></th><th scope=col>0</th><th scope=col>1</th><th scope=col>Sum</th></tr></thead>\n",
       "<tbody>\n",
       "\t<tr><th scope=row>0</th><td>36</td><td> 9</td><td>45</td></tr>\n",
       "\t<tr><th scope=row>1</th><td> 9</td><td>38</td><td>47</td></tr>\n",
       "\t<tr><th scope=row>Sum</th><td>45</td><td>47</td><td>92</td></tr>\n",
       "</tbody>\n",
       "</table>\n"
      ],
      "text/latex": [
       "\\begin{tabular}{r|lll}\n",
       "  & 0 & 1 & Sum\\\\\n",
       "\\hline\n",
       "\t0 & 36 &  9 & 45\\\\\n",
       "\t1 &  9 & 38 & 47\\\\\n",
       "\tSum & 45 & 47 & 92\\\\\n",
       "\\end{tabular}\n"
      ],
      "text/markdown": [
       "\n",
       "| <!--/--> | 0 | 1 | Sum |\n",
       "|---|---|---|---|\n",
       "| 0 | 36 |  9 | 45 |\n",
       "| 1 |  9 | 38 | 47 |\n",
       "| Sum | 45 | 47 | 92 |\n",
       "\n"
      ],
      "text/plain": [
       "     predmana\n",
       "      0  1  Sum\n",
       "  0   36  9 45 \n",
       "  1    9 38 47 \n",
       "  Sum 45 47 92 "
      ]
     },
     "metadata": {},
     "output_type": "display_data"
    },
    {
     "data": {
      "text/html": [
       "0.195652173913043"
      ],
      "text/latex": [
       "0.195652173913043"
      ],
      "text/markdown": [
       "0.195652173913043"
      ],
      "text/plain": [
       "[1] 0.1956522"
      ]
     },
     "metadata": {},
     "output_type": "display_data"
    },
    {
     "data": {
      "text/html": [
       "0.804347826086957"
      ],
      "text/latex": [
       "0.804347826086957"
      ],
      "text/markdown": [
       "0.804347826086957"
      ],
      "text/plain": [
       "[1] 0.8043478"
      ]
     },
     "metadata": {},
     "output_type": "display_data"
    }
   ],
   "source": [
    "#predict on training data (metric=accuracy)\n",
    "probmana <-  predict(cvfitdsmana,as.matrix(logbag2[,3:5],with = F ),type='response', s=\"lambda.min\")\n",
    "predmana <- as.integer(probmana > kratiom)\n",
    "man_confusion_mata <- addmargins(table(logbag2$Bag_Class, predmana ))\n",
    "man_confusion_mata\n",
    "\n",
    "man_erra =  1- (sum(diag((man_confusion_mata[1:2,1:2]))) / man_confusion_mata[3,3])\n",
    "man_erra\n",
    "\n",
    "man_acca= 1- man_erra\n",
    "man_acca\n"
   ]
  },
  {
   "cell_type": "markdown",
   "id": "ddf95fdc",
   "metadata": {},
   "source": [
    "Above the accuracy is presented."
   ]
  },
  {
   "cell_type": "markdown",
   "id": "aee6ded7",
   "metadata": {},
   "source": [
    "## Comparision of models based on accuracy"
   ]
  },
  {
   "cell_type": "markdown",
   "id": "5284e714",
   "metadata": {},
   "source": [
    "A comparsion of the 6 models with the best parameters was done in the following way."
   ]
  },
  {
   "cell_type": "code",
   "execution_count": 57,
   "id": "bf09a8c8",
   "metadata": {},
   "outputs": [
    {
     "data": {
      "text/plain": [
       "\n",
       "Call:\n",
       "resamples.default(x = list(DecTree_Euc = tree_Euc5, DecTree_Man =\n",
       " tree_Man5, RF_Euc = RF_euc, RF_Man = RF_man, Log_Man = log_manha, Log_Euc\n",
       " = log_euclid))\n",
       "\n",
       "Models: DecTree_Euc, DecTree_Man, RF_Euc, RF_Man, Log_Man, Log_Euc \n",
       "Number of resamples: 10 \n",
       "Performance metrics: Accuracy, Kappa \n",
       "Time estimates for: everything, final model fit "
      ]
     },
     "metadata": {},
     "output_type": "display_data"
    },
    {
     "data": {
      "text/html": [
       "<table>\n",
       "<thead><tr><th scope=col>Resample</th><th scope=col>DecTree_Euc~Accuracy</th><th scope=col>DecTree_Euc~Kappa</th><th scope=col>DecTree_Man~Accuracy</th><th scope=col>DecTree_Man~Kappa</th><th scope=col>RF_Euc~Accuracy</th><th scope=col>RF_Euc~Kappa</th><th scope=col>RF_Man~Accuracy</th><th scope=col>RF_Man~Kappa</th><th scope=col>Log_Man~Accuracy</th><th scope=col>Log_Man~Kappa</th><th scope=col>Log_Euc~Accuracy</th><th scope=col>Log_Euc~Kappa</th></tr></thead>\n",
       "<tbody>\n",
       "\t<tr><td>Fold01     </td><td>0.8000000  </td><td>0.6000000  </td><td>0.4444444  </td><td>-0.1538462 </td><td>0.9000000  </td><td>0.8000000  </td><td>0.7000000  </td><td> 0.40000000</td><td>0.8000000  </td><td> 0.60000000</td><td>0.8000000  </td><td>0.6000000  </td></tr>\n",
       "\t<tr><td>Fold02     </td><td>0.9000000  </td><td>0.8000000  </td><td>0.8750000  </td><td> 0.7500000 </td><td>0.9000000  </td><td>0.8000000  </td><td>0.7000000  </td><td> 0.40000000</td><td>0.9000000  </td><td> 0.80000000</td><td>1.0000000  </td><td>1.0000000  </td></tr>\n",
       "\t<tr><td>Fold03     </td><td>0.8888889  </td><td>0.7804878  </td><td>0.7000000  </td><td> 0.4000000 </td><td>0.8888889  </td><td>0.7804878  </td><td>0.8888889  </td><td> 0.78048780</td><td>1.0000000  </td><td> 1.00000000</td><td>0.8888889  </td><td>0.7804878  </td></tr>\n",
       "\t<tr><td>Fold04     </td><td>0.5000000  </td><td>0.0000000  </td><td>0.7777778  </td><td> 0.5714286 </td><td>0.5000000  </td><td>0.0000000  </td><td>0.8750000  </td><td> 0.75000000</td><td>0.7500000  </td><td> 0.50000000</td><td>0.7500000  </td><td>0.5000000  </td></tr>\n",
       "\t<tr><td>Fold05     </td><td>0.8888889  </td><td>0.7804878  </td><td>0.8000000  </td><td> 0.6000000 </td><td>0.7777778  </td><td>0.5500000  </td><td>0.8888889  </td><td> 0.78048780</td><td>0.8888889  </td><td> 0.78048780</td><td>0.8888889  </td><td>0.7804878  </td></tr>\n",
       "\t<tr><td>Fold06     </td><td>0.5555556  </td><td>0.1000000  </td><td>0.7777778  </td><td> 0.5714286 </td><td>0.5555556  </td><td>0.1000000  </td><td>0.4444444  </td><td>-0.09756098</td><td>0.4444444  </td><td>-0.09756098</td><td>0.5555556  </td><td>0.1428571  </td></tr>\n",
       "\t<tr><td>Fold07     </td><td>0.7000000  </td><td>0.4000000  </td><td>0.9000000  </td><td> 0.8000000 </td><td>0.7000000  </td><td>0.4000000  </td><td>0.7000000  </td><td> 0.40000000</td><td>0.6000000  </td><td> 0.20000000</td><td>0.7000000  </td><td>0.4000000  </td></tr>\n",
       "\t<tr><td>Fold08     </td><td>0.5555556  </td><td>0.1428571  </td><td>0.6000000  </td><td> 0.2000000 </td><td>0.6666667  </td><td>0.3076923  </td><td>0.7777778  </td><td> 0.55000000</td><td>0.7777778  </td><td> 0.55000000</td><td>0.6666667  </td><td>0.3076923  </td></tr>\n",
       "\t<tr><td>Fold09     </td><td>0.8888889  </td><td>0.7692308  </td><td>0.8888889  </td><td> 0.7804878 </td><td>0.6666667  </td><td>0.3414634  </td><td>0.5555556  </td><td> 0.05263158</td><td>0.7777778  </td><td> 0.55000000</td><td>0.7777778  </td><td>0.5500000  </td></tr>\n",
       "\t<tr><td>Fold10     </td><td>0.8888889  </td><td>0.7692308  </td><td>0.8750000  </td><td> 0.7500000 </td><td>1.0000000  </td><td>1.0000000  </td><td>0.8888889  </td><td> 0.76923077</td><td>0.8888889  </td><td> 0.76923077</td><td>1.0000000  </td><td>1.0000000  </td></tr>\n",
       "</tbody>\n",
       "</table>\n"
      ],
      "text/latex": [
       "\\begin{tabular}{r|lllllllllllll}\n",
       " Resample & DecTree\\_Euc\\textasciitilde{}Accuracy & DecTree\\_Euc\\textasciitilde{}Kappa & DecTree\\_Man\\textasciitilde{}Accuracy & DecTree\\_Man\\textasciitilde{}Kappa & RF\\_Euc\\textasciitilde{}Accuracy & RF\\_Euc\\textasciitilde{}Kappa & RF\\_Man\\textasciitilde{}Accuracy & RF\\_Man\\textasciitilde{}Kappa & Log\\_Man\\textasciitilde{}Accuracy & Log\\_Man\\textasciitilde{}Kappa & Log\\_Euc\\textasciitilde{}Accuracy & Log\\_Euc\\textasciitilde{}Kappa\\\\\n",
       "\\hline\n",
       "\t Fold01      & 0.8000000   & 0.6000000   & 0.4444444   & -0.1538462  & 0.9000000   & 0.8000000   & 0.7000000   &  0.40000000 & 0.8000000   &  0.60000000 & 0.8000000   & 0.6000000  \\\\\n",
       "\t Fold02      & 0.9000000   & 0.8000000   & 0.8750000   &  0.7500000  & 0.9000000   & 0.8000000   & 0.7000000   &  0.40000000 & 0.9000000   &  0.80000000 & 1.0000000   & 1.0000000  \\\\\n",
       "\t Fold03      & 0.8888889   & 0.7804878   & 0.7000000   &  0.4000000  & 0.8888889   & 0.7804878   & 0.8888889   &  0.78048780 & 1.0000000   &  1.00000000 & 0.8888889   & 0.7804878  \\\\\n",
       "\t Fold04      & 0.5000000   & 0.0000000   & 0.7777778   &  0.5714286  & 0.5000000   & 0.0000000   & 0.8750000   &  0.75000000 & 0.7500000   &  0.50000000 & 0.7500000   & 0.5000000  \\\\\n",
       "\t Fold05      & 0.8888889   & 0.7804878   & 0.8000000   &  0.6000000  & 0.7777778   & 0.5500000   & 0.8888889   &  0.78048780 & 0.8888889   &  0.78048780 & 0.8888889   & 0.7804878  \\\\\n",
       "\t Fold06      & 0.5555556   & 0.1000000   & 0.7777778   &  0.5714286  & 0.5555556   & 0.1000000   & 0.4444444   & -0.09756098 & 0.4444444   & -0.09756098 & 0.5555556   & 0.1428571  \\\\\n",
       "\t Fold07      & 0.7000000   & 0.4000000   & 0.9000000   &  0.8000000  & 0.7000000   & 0.4000000   & 0.7000000   &  0.40000000 & 0.6000000   &  0.20000000 & 0.7000000   & 0.4000000  \\\\\n",
       "\t Fold08      & 0.5555556   & 0.1428571   & 0.6000000   &  0.2000000  & 0.6666667   & 0.3076923   & 0.7777778   &  0.55000000 & 0.7777778   &  0.55000000 & 0.6666667   & 0.3076923  \\\\\n",
       "\t Fold09      & 0.8888889   & 0.7692308   & 0.8888889   &  0.7804878  & 0.6666667   & 0.3414634   & 0.5555556   &  0.05263158 & 0.7777778   &  0.55000000 & 0.7777778   & 0.5500000  \\\\\n",
       "\t Fold10      & 0.8888889   & 0.7692308   & 0.8750000   &  0.7500000  & 1.0000000   & 1.0000000   & 0.8888889   &  0.76923077 & 0.8888889   &  0.76923077 & 1.0000000   & 1.0000000  \\\\\n",
       "\\end{tabular}\n"
      ],
      "text/markdown": [
       "\n",
       "| Resample | DecTree_Euc~Accuracy | DecTree_Euc~Kappa | DecTree_Man~Accuracy | DecTree_Man~Kappa | RF_Euc~Accuracy | RF_Euc~Kappa | RF_Man~Accuracy | RF_Man~Kappa | Log_Man~Accuracy | Log_Man~Kappa | Log_Euc~Accuracy | Log_Euc~Kappa |\n",
       "|---|---|---|---|---|---|---|---|---|---|---|---|---|\n",
       "| Fold01      | 0.8000000   | 0.6000000   | 0.4444444   | -0.1538462  | 0.9000000   | 0.8000000   | 0.7000000   |  0.40000000 | 0.8000000   |  0.60000000 | 0.8000000   | 0.6000000   |\n",
       "| Fold02      | 0.9000000   | 0.8000000   | 0.8750000   |  0.7500000  | 0.9000000   | 0.8000000   | 0.7000000   |  0.40000000 | 0.9000000   |  0.80000000 | 1.0000000   | 1.0000000   |\n",
       "| Fold03      | 0.8888889   | 0.7804878   | 0.7000000   |  0.4000000  | 0.8888889   | 0.7804878   | 0.8888889   |  0.78048780 | 1.0000000   |  1.00000000 | 0.8888889   | 0.7804878   |\n",
       "| Fold04      | 0.5000000   | 0.0000000   | 0.7777778   |  0.5714286  | 0.5000000   | 0.0000000   | 0.8750000   |  0.75000000 | 0.7500000   |  0.50000000 | 0.7500000   | 0.5000000   |\n",
       "| Fold05      | 0.8888889   | 0.7804878   | 0.8000000   |  0.6000000  | 0.7777778   | 0.5500000   | 0.8888889   |  0.78048780 | 0.8888889   |  0.78048780 | 0.8888889   | 0.7804878   |\n",
       "| Fold06      | 0.5555556   | 0.1000000   | 0.7777778   |  0.5714286  | 0.5555556   | 0.1000000   | 0.4444444   | -0.09756098 | 0.4444444   | -0.09756098 | 0.5555556   | 0.1428571   |\n",
       "| Fold07      | 0.7000000   | 0.4000000   | 0.9000000   |  0.8000000  | 0.7000000   | 0.4000000   | 0.7000000   |  0.40000000 | 0.6000000   |  0.20000000 | 0.7000000   | 0.4000000   |\n",
       "| Fold08      | 0.5555556   | 0.1428571   | 0.6000000   |  0.2000000  | 0.6666667   | 0.3076923   | 0.7777778   |  0.55000000 | 0.7777778   |  0.55000000 | 0.6666667   | 0.3076923   |\n",
       "| Fold09      | 0.8888889   | 0.7692308   | 0.8888889   |  0.7804878  | 0.6666667   | 0.3414634   | 0.5555556   |  0.05263158 | 0.7777778   |  0.55000000 | 0.7777778   | 0.5500000   |\n",
       "| Fold10      | 0.8888889   | 0.7692308   | 0.8750000   |  0.7500000  | 1.0000000   | 1.0000000   | 0.8888889   |  0.76923077 | 0.8888889   |  0.76923077 | 1.0000000   | 1.0000000   |\n",
       "\n"
      ],
      "text/plain": [
       "   Resample DecTree_Euc~Accuracy DecTree_Euc~Kappa DecTree_Man~Accuracy\n",
       "1  Fold01   0.8000000            0.6000000         0.4444444           \n",
       "2  Fold02   0.9000000            0.8000000         0.8750000           \n",
       "3  Fold03   0.8888889            0.7804878         0.7000000           \n",
       "4  Fold04   0.5000000            0.0000000         0.7777778           \n",
       "5  Fold05   0.8888889            0.7804878         0.8000000           \n",
       "6  Fold06   0.5555556            0.1000000         0.7777778           \n",
       "7  Fold07   0.7000000            0.4000000         0.9000000           \n",
       "8  Fold08   0.5555556            0.1428571         0.6000000           \n",
       "9  Fold09   0.8888889            0.7692308         0.8888889           \n",
       "10 Fold10   0.8888889            0.7692308         0.8750000           \n",
       "   DecTree_Man~Kappa RF_Euc~Accuracy RF_Euc~Kappa RF_Man~Accuracy RF_Man~Kappa\n",
       "1  -0.1538462        0.9000000       0.8000000    0.7000000        0.40000000 \n",
       "2   0.7500000        0.9000000       0.8000000    0.7000000        0.40000000 \n",
       "3   0.4000000        0.8888889       0.7804878    0.8888889        0.78048780 \n",
       "4   0.5714286        0.5000000       0.0000000    0.8750000        0.75000000 \n",
       "5   0.6000000        0.7777778       0.5500000    0.8888889        0.78048780 \n",
       "6   0.5714286        0.5555556       0.1000000    0.4444444       -0.09756098 \n",
       "7   0.8000000        0.7000000       0.4000000    0.7000000        0.40000000 \n",
       "8   0.2000000        0.6666667       0.3076923    0.7777778        0.55000000 \n",
       "9   0.7804878        0.6666667       0.3414634    0.5555556        0.05263158 \n",
       "10  0.7500000        1.0000000       1.0000000    0.8888889        0.76923077 \n",
       "   Log_Man~Accuracy Log_Man~Kappa Log_Euc~Accuracy Log_Euc~Kappa\n",
       "1  0.8000000         0.60000000   0.8000000        0.6000000    \n",
       "2  0.9000000         0.80000000   1.0000000        1.0000000    \n",
       "3  1.0000000         1.00000000   0.8888889        0.7804878    \n",
       "4  0.7500000         0.50000000   0.7500000        0.5000000    \n",
       "5  0.8888889         0.78048780   0.8888889        0.7804878    \n",
       "6  0.4444444        -0.09756098   0.5555556        0.1428571    \n",
       "7  0.6000000         0.20000000   0.7000000        0.4000000    \n",
       "8  0.7777778         0.55000000   0.6666667        0.3076923    \n",
       "9  0.7777778         0.55000000   0.7777778        0.5500000    \n",
       "10 0.8888889         0.76923077   1.0000000        1.0000000    "
      ]
     },
     "metadata": {},
     "output_type": "display_data"
    }
   ],
   "source": [
    "set.seed(123)\n",
    "myreport2 = resamples(list(DecTree_Euc=tree_Euc5, DecTree_Man=tree_Man5,RF_Euc =RF_euc,    RF_Man =RF_man, Log_Man =log_manha , Log_Euc =log_euclid))\n",
    "myreport2\n",
    "myreport2$values\n"
   ]
  },
  {
   "cell_type": "code",
   "execution_count": 58,
   "id": "2e00659d",
   "metadata": {
    "scrolled": true
   },
   "outputs": [
    {
     "data": {
      "text/plain": [
       "\n",
       "Call:\n",
       "summary.resamples(object = myreport2)\n",
       "\n",
       "Models: DecTree_Euc, DecTree_Man, RF_Euc, RF_Man, Log_Man, Log_Euc \n",
       "Number of resamples: 10 \n",
       "\n",
       "Accuracy \n",
       "                 Min.   1st Qu.    Median      Mean   3rd Qu.      Max. NA's\n",
       "DecTree_Euc 0.5000000 0.5916667 0.8444444 0.7566667 0.8888889 0.9000000    0\n",
       "DecTree_Man 0.4444444 0.7194444 0.7888889 0.7638889 0.8750000 0.9000000    0\n",
       "RF_Euc      0.5000000 0.6666667 0.7388889 0.7555556 0.8972222 1.0000000    0\n",
       "RF_Man      0.4444444 0.7000000 0.7388889 0.7419444 0.8854167 0.8888889    0\n",
       "Log_Man     0.4444444 0.7569444 0.7888889 0.7827778 0.8888889 1.0000000    0\n",
       "Log_Euc     0.5555556 0.7125000 0.7888889 0.8027778 0.8888889 1.0000000    0\n",
       "\n",
       "Kappa \n",
       "                   Min.   1st Qu.    Median      Mean   3rd Qu.      Max. NA's\n",
       "DecTree_Euc  0.00000000 0.2071429 0.6846154 0.5142294 0.7776735 0.8000000    0\n",
       "DecTree_Man -0.15384615 0.4428571 0.5857143 0.5269499 0.7500000 0.8000000    0\n",
       "RF_Euc       0.00000000 0.3161351 0.4750000 0.5079644 0.7951220 1.0000000    0\n",
       "RF_Man      -0.09756098 0.4000000 0.4750000 0.4785277 0.7644231 0.7804878    0\n",
       "Log_Man     -0.09756098 0.5125000 0.5750000 0.5652158 0.7776735 1.0000000    0\n",
       "Log_Euc      0.14285714 0.4250000 0.5750000 0.6061525 0.7804878 1.0000000    0\n"
      ]
     },
     "metadata": {},
     "output_type": "display_data"
    }
   ],
   "source": [
    "summary(myreport2)\n"
   ]
  },
  {
   "cell_type": "markdown",
   "id": "c9fb8104",
   "metadata": {},
   "source": [
    "#### Based on descending mean accuracy the models are listed as follows: \n",
    "\n",
    "\n",
    "Log_Euc (80.27778 %) \n",
    "\n",
    "Log_Man (78.27778%)\n",
    "\n",
    "DecTree_Man (76.38889 %)\n",
    "\n",
    "DecTree_Euc (75.66667 %) \n",
    "\n",
    "RF_Euc (75.55556 %) \n",
    "\n",
    "RF_Man  (74.19444 %)\n",
    "\n",
    "#### Considering the mean accuracy, all of the models are quite close to each other but Log_Euc: Logistic regression model using Euclidean representation tops all.\n",
    "\n",
    "Log_Euc is the model with Penalized (Lasso) Logistic Regression using Euclidean distance representation where the values used for the model were alpha = 1 and lambda = 0.0246. [Model named log_euclid in section Classifier#3.1: Logistic Regression with Representation#1 (Euclidean dist.)]"
   ]
  },
  {
   "cell_type": "markdown",
   "id": "51b99731",
   "metadata": {},
   "source": [
    "#### For the presented 6 models the following boxplot is obtained. The plot represents the comparision in  terms of accuracy."
   ]
  },
  {
   "cell_type": "code",
   "execution_count": 59,
   "id": "67eb2382",
   "metadata": {},
   "outputs": [
    {
     "data": {
      "image/png": "[encoded data removed]",
      "text/plain": [
       "plot without title"
      ]
     },
     "metadata": {},
     "output_type": "display_data"
    }
   ],
   "source": [
    "bwplot(myreport2 , metric = \"Accuracy\", horizontal = T)"
   ]
  },
  {
   "cell_type": "markdown",
   "id": "5c8795a8",
   "metadata": {},
   "source": [
    " #### The above plot shows the accuracy of the models with the best set of parameters.\n",
    " \n",
    " #### Considering the mean accuracy, all of the models are quite close to each other.\n",
    " \n",
    " #### A better reprsentation of this comparision can be observed on the plot above, which shows not only the mean values but distribution characteristics of each model's accuracy. \n",
    " \n",
    "\n",
    "   *The mean accuracy was the highest for Log_Euc: Logistic regression model using Euclidean representation. Its first and third quartile values do not spread too far, the model may qualify as reliable. It should be noted that its accuracy has a spread ranged from min= 0.56  to max=1, among the samples. \n",
    "   \n",
    "   *The mean accuracy of Log_Man: Logistic regression model using Manhattan representation is still quite good. Its first and third quartile values are even tighter. The model may qualify as reliable.\n",
    "   \n",
    "   *DecTree_Euc as the highest median in terms of accuracy value among these models. But, it spreads to a very wide range, its result may not be robust and reliable.\n",
    "   \n",
    "   The above plot enables to make such comparisions. \n",
    " \n",
    "It should be noted that, accuracy is only checked on traing data (cross-validated), however none of the models were tested on a test data and a comparison of models on unseen data could not be done."
   ]
  },
  {
   "cell_type": "markdown",
   "id": "ae323416",
   "metadata": {},
   "source": [
    "#### References:\n",
    "\n",
    "Küçükaşcı, Emel Şeyma,and Mustafa Gökçe Baydoğan. \"Bag encoding strategies in multiple instance learning problems.\"\n",
    "Information Sciences 467 (2018): 559-578. (https://doi.org/10.1016/j.ins.2018.08.020)\n",
    "\n",
    "K-medoids: (https://en.wikipedia.org/wiki/K-medoids)\n",
    "\n",
    "K-Medoids in R: Step-by-Step:(https://www.statology.org/k-medoids-in-r/)"
   ]
  }
 ],
 "metadata": {
  "kernelspec": {
   "display_name": "R",
   "language": "R",
   "name": "ir"
  },
  "language_info": {
   "codemirror_mode": "r",
   "file_extension": ".r",
   "mimetype": "text/x-r-source",
   "name": "R",
   "pygments_lexer": "r",
   "version": "3.6.1"
  }
 },
 "nbformat": 4,
 "nbformat_minor": 5
}
