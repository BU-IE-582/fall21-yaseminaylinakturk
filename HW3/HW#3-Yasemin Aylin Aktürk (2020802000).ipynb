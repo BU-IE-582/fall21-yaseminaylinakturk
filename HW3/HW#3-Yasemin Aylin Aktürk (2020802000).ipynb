{
 "cells": [
  {
   "cell_type": "markdown",
   "id": "afb454d1",
   "metadata": {},
   "source": [
    "# IE582 HW3-Yasemin Aylin Akturk"
   ]
  },
  {
   "cell_type": "markdown",
   "id": "55b13551",
   "metadata": {},
   "source": [
    "For the codes and R-files please check: https://github.com/BU-IE-582/fall21-yaseminaylinakturk/tree/gh-pages/HW3"
   ]
  },
  {
   "cell_type": "markdown",
   "id": "4d8ad1a8",
   "metadata": {},
   "source": [
    "# Task 1 – On the use of distance information for UwaveGesture Recognition Task"
   ]
  },
  {
   "cell_type": "code",
   "execution_count": 3,
   "id": "1de68050",
   "metadata": {},
   "outputs": [],
   "source": [
    "klasor =  \"C:/Users/y.akturk/Documents/\"\n",
    "setwd(klasor)\n",
    "library(\"caret\")\n",
    "library(\"kknn\")\n",
    "library(\"class\")"
   ]
  },
  {
   "cell_type": "code",
   "execution_count": 4,
   "id": "ae26e2cc",
   "metadata": {},
   "outputs": [],
   "source": [
    "x_acc <- read.csv2(\"uWaveGestureLibrary_X_TRAIN.csv\", header = F, fileEncoding = 'UTF-8-BOM')\n",
    "y_acc <- read.csv2(\"uWaveGestureLibrary_Y_TRAIN.csv\", header = F, fileEncoding = 'UTF-8-BOM')\n",
    "z_acc <- read.csv2(\"uWaveGestureLibrary_Z_TRAIN.csv\", header = F, fileEncoding = 'UTF-8-BOM')\n",
    "\n",
    "test_x_acc <- read.csv2(\"uWaveGestureLibrary_X_TEST.csv\", header = F, fileEncoding = 'UTF-8-BOM')\n",
    "test_y_acc <- read.csv2(\"uWaveGestureLibrary_Y_TEST.csv\", header = F, fileEncoding = 'UTF-8-BOM')\n",
    "test_z_acc <- read.csv2(\"uWaveGestureLibrary_Z_TEST.csv\", header = F, fileEncoding = 'UTF-8-BOM')\n"
   ]
  },
  {
   "cell_type": "code",
   "execution_count": 5,
   "id": "0c240db8",
   "metadata": {},
   "outputs": [],
   "source": [
    "#rename col names\n",
    "\n",
    "colnames (x_acc)[1] = c(\"Ges_Class\")\n",
    "colnames (y_acc)[1] = c(\"Ges_Class\")\n",
    "colnames (z_acc)[1] = c(\"Ges_Class\")\n",
    "\n",
    "\n",
    "colnames (test_x_acc)[1] = c(\"Ges_Class\")\n",
    "colnames (test_y_acc)[1] = c(\"Ges_Class\")\n",
    "colnames (test_z_acc)[1] = c(\"Ges_Class\")\n"
   ]
  },
  {
   "cell_type": "code",
   "execution_count": 6,
   "id": "feeecb75",
   "metadata": {
    "scrolled": true
   },
   "outputs": [
    {
     "data": {
      "text/html": [
       "<table>\n",
       "<thead><tr><th scope=col>Ges_Class</th><th scope=col>V2</th><th scope=col>V3</th></tr></thead>\n",
       "<tbody>\n",
       "\t<tr><td>6    </td><td>-0.30</td><td>-0.30</td></tr>\n",
       "\t<tr><td>5    </td><td> 1.63</td><td> 1.63</td></tr>\n",
       "\t<tr><td>5    </td><td> 0.66</td><td> 0.66</td></tr>\n",
       "\t<tr><td>3    </td><td> 0.01</td><td> 0.01</td></tr>\n",
       "\t<tr><td>4    </td><td> 1.29</td><td> 1.29</td></tr>\n",
       "\t<tr><td>8    </td><td>-0.48</td><td>-0.48</td></tr>\n",
       "\t<tr><td>7    </td><td> 1.47</td><td> 1.47</td></tr>\n",
       "\t<tr><td>4    </td><td> 0.31</td><td> 0.31</td></tr>\n",
       "</tbody>\n",
       "</table>\n"
      ],
      "text/latex": [
       "\\begin{tabular}{r|lll}\n",
       " Ges\\_Class & V2 & V3\\\\\n",
       "\\hline\n",
       "\t 6     & -0.30 & -0.30\\\\\n",
       "\t 5     &  1.63 &  1.63\\\\\n",
       "\t 5     &  0.66 &  0.66\\\\\n",
       "\t 3     &  0.01 &  0.01\\\\\n",
       "\t 4     &  1.29 &  1.29\\\\\n",
       "\t 8     & -0.48 & -0.48\\\\\n",
       "\t 7     &  1.47 &  1.47\\\\\n",
       "\t 4     &  0.31 &  0.31\\\\\n",
       "\\end{tabular}\n"
      ],
      "text/markdown": [
       "\n",
       "| Ges_Class | V2 | V3 |\n",
       "|---|---|---|\n",
       "| 6     | -0.30 | -0.30 |\n",
       "| 5     |  1.63 |  1.63 |\n",
       "| 5     |  0.66 |  0.66 |\n",
       "| 3     |  0.01 |  0.01 |\n",
       "| 4     |  1.29 |  1.29 |\n",
       "| 8     | -0.48 | -0.48 |\n",
       "| 7     |  1.47 |  1.47 |\n",
       "| 4     |  0.31 |  0.31 |\n",
       "\n"
      ],
      "text/plain": [
       "  Ges_Class V2    V3   \n",
       "1 6         -0.30 -0.30\n",
       "2 5          1.63  1.63\n",
       "3 5          0.66  0.66\n",
       "4 3          0.01  0.01\n",
       "5 4          1.29  1.29\n",
       "6 8         -0.48 -0.48\n",
       "7 7          1.47  1.47\n",
       "8 4          0.31  0.31"
      ]
     },
     "metadata": {},
     "output_type": "display_data"
    },
    {
     "data": {
      "text/html": [
       "<table>\n",
       "<thead><tr><th scope=col>Ges_Class</th><th scope=col>V2</th><th scope=col>V3</th></tr></thead>\n",
       "<tbody>\n",
       "\t<tr><td>6    </td><td>-2.12</td><td>-2.12</td></tr>\n",
       "\t<tr><td>5    </td><td> 0.67</td><td> 0.67</td></tr>\n",
       "\t<tr><td>5    </td><td>-0.19</td><td>-0.19</td></tr>\n",
       "\t<tr><td>3    </td><td> 0.37</td><td> 0.37</td></tr>\n",
       "\t<tr><td>4    </td><td>-0.40</td><td>-0.40</td></tr>\n",
       "\t<tr><td>8    </td><td>-1.08</td><td>-1.08</td></tr>\n",
       "\t<tr><td>7    </td><td> 1.26</td><td> 1.26</td></tr>\n",
       "\t<tr><td>4    </td><td>-0.33</td><td>-0.33</td></tr>\n",
       "</tbody>\n",
       "</table>\n"
      ],
      "text/latex": [
       "\\begin{tabular}{r|lll}\n",
       " Ges\\_Class & V2 & V3\\\\\n",
       "\\hline\n",
       "\t 6     & -2.12 & -2.12\\\\\n",
       "\t 5     &  0.67 &  0.67\\\\\n",
       "\t 5     & -0.19 & -0.19\\\\\n",
       "\t 3     &  0.37 &  0.37\\\\\n",
       "\t 4     & -0.40 & -0.40\\\\\n",
       "\t 8     & -1.08 & -1.08\\\\\n",
       "\t 7     &  1.26 &  1.26\\\\\n",
       "\t 4     & -0.33 & -0.33\\\\\n",
       "\\end{tabular}\n"
      ],
      "text/markdown": [
       "\n",
       "| Ges_Class | V2 | V3 |\n",
       "|---|---|---|\n",
       "| 6     | -2.12 | -2.12 |\n",
       "| 5     |  0.67 |  0.67 |\n",
       "| 5     | -0.19 | -0.19 |\n",
       "| 3     |  0.37 |  0.37 |\n",
       "| 4     | -0.40 | -0.40 |\n",
       "| 8     | -1.08 | -1.08 |\n",
       "| 7     |  1.26 |  1.26 |\n",
       "| 4     | -0.33 | -0.33 |\n",
       "\n"
      ],
      "text/plain": [
       "  Ges_Class V2    V3   \n",
       "1 6         -2.12 -2.12\n",
       "2 5          0.67  0.67\n",
       "3 5         -0.19 -0.19\n",
       "4 3          0.37  0.37\n",
       "5 4         -0.40 -0.40\n",
       "6 8         -1.08 -1.08\n",
       "7 7          1.26  1.26\n",
       "8 4         -0.33 -0.33"
      ]
     },
     "metadata": {},
     "output_type": "display_data"
    },
    {
     "data": {
      "text/html": [
       "<table>\n",
       "<thead><tr><th scope=col>Ges_Class</th><th scope=col>V2</th><th scope=col>V3</th></tr></thead>\n",
       "<tbody>\n",
       "\t<tr><td>6    </td><td>-1.53</td><td>-1.53</td></tr>\n",
       "\t<tr><td>5    </td><td> 1.79</td><td> 1.79</td></tr>\n",
       "\t<tr><td>5    </td><td> 0.52</td><td> 0.52</td></tr>\n",
       "\t<tr><td>3    </td><td> 0.31</td><td> 0.31</td></tr>\n",
       "\t<tr><td>4    </td><td>-0.47</td><td>-0.47</td></tr>\n",
       "\t<tr><td>8    </td><td> 0.66</td><td> 0.66</td></tr>\n",
       "\t<tr><td>7    </td><td> 1.24</td><td> 1.24</td></tr>\n",
       "\t<tr><td>4    </td><td>-1.30</td><td>-1.30</td></tr>\n",
       "</tbody>\n",
       "</table>\n"
      ],
      "text/latex": [
       "\\begin{tabular}{r|lll}\n",
       " Ges\\_Class & V2 & V3\\\\\n",
       "\\hline\n",
       "\t 6     & -1.53 & -1.53\\\\\n",
       "\t 5     &  1.79 &  1.79\\\\\n",
       "\t 5     &  0.52 &  0.52\\\\\n",
       "\t 3     &  0.31 &  0.31\\\\\n",
       "\t 4     & -0.47 & -0.47\\\\\n",
       "\t 8     &  0.66 &  0.66\\\\\n",
       "\t 7     &  1.24 &  1.24\\\\\n",
       "\t 4     & -1.30 & -1.30\\\\\n",
       "\\end{tabular}\n"
      ],
      "text/markdown": [
       "\n",
       "| Ges_Class | V2 | V3 |\n",
       "|---|---|---|\n",
       "| 6     | -1.53 | -1.53 |\n",
       "| 5     |  1.79 |  1.79 |\n",
       "| 5     |  0.52 |  0.52 |\n",
       "| 3     |  0.31 |  0.31 |\n",
       "| 4     | -0.47 | -0.47 |\n",
       "| 8     |  0.66 |  0.66 |\n",
       "| 7     |  1.24 |  1.24 |\n",
       "| 4     | -1.30 | -1.30 |\n",
       "\n"
      ],
      "text/plain": [
       "  Ges_Class V2    V3   \n",
       "1 6         -1.53 -1.53\n",
       "2 5          1.79  1.79\n",
       "3 5          0.52  0.52\n",
       "4 3          0.31  0.31\n",
       "5 4         -0.47 -0.47\n",
       "6 8          0.66  0.66\n",
       "7 7          1.24  1.24\n",
       "8 4         -1.30 -1.30"
      ]
     },
     "metadata": {},
     "output_type": "display_data"
    }
   ],
   "source": [
    "#sample data\n",
    "\n",
    "x_acc[1:8,1:3]\n",
    "y_acc[1:8,1:3]\n",
    "z_acc[1:8,1:3]"
   ]
  },
  {
   "cell_type": "code",
   "execution_count": 7,
   "id": "e540c8de",
   "metadata": {},
   "outputs": [],
   "source": [
    "#concatenate train set and test set\n",
    "\n",
    "cop_x_acc = x_acc\n",
    "cop_y_acc = y_acc[,-1]\n",
    "cop_z_acc = z_acc[,-1]\n",
    "\n",
    "test_cop_x_acc = test_x_acc\n",
    "test_cop_y_acc = test_y_acc[,-1]\n",
    "test_cop_z_acc = test_z_acc[,-1]\n",
    "\n",
    "#rename columns\n",
    "\n",
    "colnames(cop_x_acc)[2:316] <-paste(\"X.\", 1:315)\n",
    "colnames(cop_y_acc)[1:315] <-paste(\"Y.\", 1:315)\n",
    "colnames(cop_z_acc)[1:315] <-paste(\"Z.\", 1:315)\n",
    "\n",
    "colnames(test_cop_x_acc)[2:316] <-paste(\"X.\", 1:315)\n",
    "colnames(test_cop_y_acc)[1:315] <-paste(\"Y.\", 1:315)\n",
    "colnames(test_cop_z_acc)[1:315] <-paste(\"Z.\", 1:315)"
   ]
  },
  {
   "cell_type": "code",
   "execution_count": 8,
   "id": "2ffe952c",
   "metadata": {},
   "outputs": [],
   "source": [
    "#combine data\n",
    "train_Data_Conc <-as.data.frame(cbind(cop_x_acc[,],cop_y_acc[,],cop_z_acc[,]))\n",
    "test_Data_Conc <-as.data.frame(cbind(test_cop_x_acc[,],test_cop_y_acc[,],test_cop_z_acc[,]))\n"
   ]
  },
  {
   "cell_type": "code",
   "execution_count": 9,
   "id": "86c55635",
   "metadata": {},
   "outputs": [
    {
     "data": {
      "text/html": [
       "<table>\n",
       "<thead><tr><th scope=col>Ges_Class</th><th scope=col>X. 1</th><th scope=col>Y. 4</th><th scope=col>Z. 219</th></tr></thead>\n",
       "<tbody>\n",
       "\t<tr><td>6    </td><td>-0.30</td><td>-2.12</td><td> 0.75</td></tr>\n",
       "\t<tr><td>5    </td><td> 1.63</td><td> 0.67</td><td>-0.69</td></tr>\n",
       "\t<tr><td>5    </td><td> 0.66</td><td>-0.19</td><td>-1.44</td></tr>\n",
       "</tbody>\n",
       "</table>\n"
      ],
      "text/latex": [
       "\\begin{tabular}{r|llll}\n",
       " Ges\\_Class & X. 1 & Y. 4 & Z. 219\\\\\n",
       "\\hline\n",
       "\t 6     & -0.30 & -2.12 &  0.75\\\\\n",
       "\t 5     &  1.63 &  0.67 & -0.69\\\\\n",
       "\t 5     &  0.66 & -0.19 & -1.44\\\\\n",
       "\\end{tabular}\n"
      ],
      "text/markdown": [
       "\n",
       "| Ges_Class | X. 1 | Y. 4 | Z. 219 |\n",
       "|---|---|---|---|\n",
       "| 6     | -0.30 | -2.12 |  0.75 |\n",
       "| 5     |  1.63 |  0.67 | -0.69 |\n",
       "| 5     |  0.66 | -0.19 | -1.44 |\n",
       "\n"
      ],
      "text/plain": [
       "  Ges_Class X. 1  Y. 4  Z. 219\n",
       "1 6         -0.30 -2.12  0.75 \n",
       "2 5          1.63  0.67 -0.69 \n",
       "3 5          0.66 -0.19 -1.44 "
      ]
     },
     "metadata": {},
     "output_type": "display_data"
    },
    {
     "data": {
      "text/html": [
       "<table>\n",
       "<thead><tr><th scope=col>Ges_Class</th><th scope=col>X. 1</th><th scope=col>Y. 4</th><th scope=col>Z. 219</th></tr></thead>\n",
       "<tbody>\n",
       "\t<tr><td>6    </td><td>-0.30</td><td>-2.12</td><td> 0.75</td></tr>\n",
       "\t<tr><td>5    </td><td> 1.63</td><td> 0.67</td><td>-0.69</td></tr>\n",
       "\t<tr><td>5    </td><td> 0.66</td><td>-0.19</td><td>-1.44</td></tr>\n",
       "</tbody>\n",
       "</table>\n"
      ],
      "text/latex": [
       "\\begin{tabular}{r|llll}\n",
       " Ges\\_Class & X. 1 & Y. 4 & Z. 219\\\\\n",
       "\\hline\n",
       "\t 6     & -0.30 & -2.12 &  0.75\\\\\n",
       "\t 5     &  1.63 &  0.67 & -0.69\\\\\n",
       "\t 5     &  0.66 & -0.19 & -1.44\\\\\n",
       "\\end{tabular}\n"
      ],
      "text/markdown": [
       "\n",
       "| Ges_Class | X. 1 | Y. 4 | Z. 219 |\n",
       "|---|---|---|---|\n",
       "| 6     | -0.30 | -2.12 |  0.75 |\n",
       "| 5     |  1.63 |  0.67 | -0.69 |\n",
       "| 5     |  0.66 | -0.19 | -1.44 |\n",
       "\n"
      ],
      "text/plain": [
       "  Ges_Class X. 1  Y. 4  Z. 219\n",
       "1 6         -0.30 -2.12  0.75 \n",
       "2 5          1.63  0.67 -0.69 \n",
       "3 5          0.66 -0.19 -1.44 "
      ]
     },
     "metadata": {},
     "output_type": "display_data"
    }
   ],
   "source": [
    "#sample train\n",
    "train_Data_Conc[1:3, c(1,2,320,850)]\n",
    "train_Data_Conc[,1] = as.factor(train_Data_Conc[,1])\n",
    "train_Data_Conc[1:3, c(1,2,320,850)]"
   ]
  },
  {
   "cell_type": "code",
   "execution_count": 10,
   "id": "be3d7fa5",
   "metadata": {},
   "outputs": [
    {
     "data": {
      "text/html": [
       "<table>\n",
       "<thead><tr><th scope=col>Ges_Class</th><th scope=col>X. 1</th><th scope=col>Y. 4</th><th scope=col>Z. 219</th></tr></thead>\n",
       "<tbody>\n",
       "\t<tr><td>5    </td><td> 1.56</td><td> 1.17</td><td>-1.16</td></tr>\n",
       "\t<tr><td>1    </td><td>-0.08</td><td>-1.11</td><td>-0.70</td></tr>\n",
       "\t<tr><td>4    </td><td> 1.51</td><td>-0.89</td><td> 0.50</td></tr>\n",
       "</tbody>\n",
       "</table>\n"
      ],
      "text/latex": [
       "\\begin{tabular}{r|llll}\n",
       " Ges\\_Class & X. 1 & Y. 4 & Z. 219\\\\\n",
       "\\hline\n",
       "\t 5     &  1.56 &  1.17 & -1.16\\\\\n",
       "\t 1     & -0.08 & -1.11 & -0.70\\\\\n",
       "\t 4     &  1.51 & -0.89 &  0.50\\\\\n",
       "\\end{tabular}\n"
      ],
      "text/markdown": [
       "\n",
       "| Ges_Class | X. 1 | Y. 4 | Z. 219 |\n",
       "|---|---|---|---|\n",
       "| 5     |  1.56 |  1.17 | -1.16 |\n",
       "| 1     | -0.08 | -1.11 | -0.70 |\n",
       "| 4     |  1.51 | -0.89 |  0.50 |\n",
       "\n"
      ],
      "text/plain": [
       "  Ges_Class X. 1  Y. 4  Z. 219\n",
       "1 5          1.56  1.17 -1.16 \n",
       "2 1         -0.08 -1.11 -0.70 \n",
       "3 4          1.51 -0.89  0.50 "
      ]
     },
     "metadata": {},
     "output_type": "display_data"
    },
    {
     "data": {
      "text/html": [
       "<table>\n",
       "<thead><tr><th scope=col>Ges_Class</th><th scope=col>X. 1</th><th scope=col>Y. 4</th><th scope=col>Z. 219</th></tr></thead>\n",
       "<tbody>\n",
       "\t<tr><td>5    </td><td> 1.56</td><td> 1.17</td><td>-1.16</td></tr>\n",
       "\t<tr><td>1    </td><td>-0.08</td><td>-1.11</td><td>-0.70</td></tr>\n",
       "\t<tr><td>4    </td><td> 1.51</td><td>-0.89</td><td> 0.50</td></tr>\n",
       "</tbody>\n",
       "</table>\n"
      ],
      "text/latex": [
       "\\begin{tabular}{r|llll}\n",
       " Ges\\_Class & X. 1 & Y. 4 & Z. 219\\\\\n",
       "\\hline\n",
       "\t 5     &  1.56 &  1.17 & -1.16\\\\\n",
       "\t 1     & -0.08 & -1.11 & -0.70\\\\\n",
       "\t 4     &  1.51 & -0.89 &  0.50\\\\\n",
       "\\end{tabular}\n"
      ],
      "text/markdown": [
       "\n",
       "| Ges_Class | X. 1 | Y. 4 | Z. 219 |\n",
       "|---|---|---|---|\n",
       "| 5     |  1.56 |  1.17 | -1.16 |\n",
       "| 1     | -0.08 | -1.11 | -0.70 |\n",
       "| 4     |  1.51 | -0.89 |  0.50 |\n",
       "\n"
      ],
      "text/plain": [
       "  Ges_Class X. 1  Y. 4  Z. 219\n",
       "1 5          1.56  1.17 -1.16 \n",
       "2 1         -0.08 -1.11 -0.70 \n",
       "3 4          1.51 -0.89  0.50 "
      ]
     },
     "metadata": {},
     "output_type": "display_data"
    }
   ],
   "source": [
    "#sample test\n",
    "test_Data_Conc[1:3, c(1,2,320,850)]\n",
    "test_Data_Conc[,1] = as.factor (test_Data_Conc[,1])\n",
    "test_Data_Conc[1:3, c(1,2,320,850)]"
   ]
  },
  {
   "cell_type": "code",
   "execution_count": 9,
   "id": "420cb555",
   "metadata": {},
   "outputs": [
    {
     "data": {
      "text/html": [
       "<ol class=list-inline>\n",
       "\t<li>896</li>\n",
       "\t<li>946</li>\n",
       "</ol>\n"
      ],
      "text/latex": [
       "\\begin{enumerate*}\n",
       "\\item 896\n",
       "\\item 946\n",
       "\\end{enumerate*}\n"
      ],
      "text/markdown": [
       "1. 896\n",
       "2. 946\n",
       "\n",
       "\n"
      ],
      "text/plain": [
       "[1] 896 946"
      ]
     },
     "metadata": {},
     "output_type": "display_data"
    },
    {
     "data": {
      "text/html": [
       "<ol class=list-inline>\n",
       "\t<li>3582</li>\n",
       "\t<li>946</li>\n",
       "</ol>\n"
      ],
      "text/latex": [
       "\\begin{enumerate*}\n",
       "\\item 3582\n",
       "\\item 946\n",
       "\\end{enumerate*}\n"
      ],
      "text/markdown": [
       "1. 3582\n",
       "2. 946\n",
       "\n",
       "\n"
      ],
      "text/plain": [
       "[1] 3582  946"
      ]
     },
     "metadata": {},
     "output_type": "display_data"
    }
   ],
   "source": [
    "#show dimension\n",
    "dim(train_Data_Conc)\n",
    "dim(test_Data_Conc)"
   ]
  },
  {
   "cell_type": "code",
   "execution_count": 11,
   "id": "ef94efaa",
   "metadata": {},
   "outputs": [],
   "source": [
    "#scale\n",
    "#doing something distance based then scaled data should be used\n",
    "Scaled_Train_Data_Conc <- train_Data_Conc\n",
    "Scaled_Train_Data_Conc[,-1] <- scale(train_Data_Conc[,-1])"
   ]
  },
  {
   "cell_type": "code",
   "execution_count": 12,
   "id": "dd229055",
   "metadata": {},
   "outputs": [],
   "source": [
    "Scaled_Test_Data_Conc <- test_Data_Conc\n",
    "Scaled_Test_Data_Conc[,-1] <- scale(test_Data_Conc[,-1])"
   ]
  },
  {
   "cell_type": "markdown",
   "id": "b55a693a",
   "metadata": {},
   "source": [
    "In the first column we have the class ID, the stadandardized x1-x2---y1-y2--z1-z2-- in the rest of the columns\n",
    "\n"
   ]
  },
  {
   "cell_type": "markdown",
   "id": "bde584df",
   "metadata": {},
   "source": [
    "### 1a)Suppose we decided to apply a nearest-neighbor (NN) classifier to find the labels of test instances. You can use the strategy you employed when you apply PCA to this data in Homework 2 (i.e. concatenation of the axes). Propose two distance measures for computing similarity between two time series. The distance calculation on the concatenated time series implicitly weights the distances of each axis in an equal way. For each distance measure alternative, use the training data to identify the ideal value of k which minimizes the error of a10-fold cross-validation."
   ]
  },
  {
   "cell_type": "markdown",
   "id": "2de27f5b",
   "metadata": {},
   "source": [
    "### Train"
   ]
  },
  {
   "cell_type": "code",
   "execution_count": 12,
   "id": "720bb31d",
   "metadata": {},
   "outputs": [],
   "source": [
    "#train with 10 fold cross - validation\n",
    "\n",
    "trControl <- caret:::trainControl(method  = \"cv\", number  = 10)\n"
   ]
  },
  {
   "cell_type": "markdown",
   "id": "4ff30f52",
   "metadata": {},
   "source": [
    "Training the models from now on.\n",
    "\n",
    "Kernel is selected as \"rectangular\" (which is standard unweighted knn)\n",
    "\n",
    "Trying k: 1 to 5\n",
    "\n",
    "Try distance euclidean  (minkowski parameter = 2)\n",
    "\n",
    "Try distance manhattan  (minkowski parameter = 1)\n",
    "\n",
    "Using the Manhattan metric, a distance between two time series is the ~ area between them."
   ]
  },
  {
   "cell_type": "markdown",
   "id": "e1e761d6",
   "metadata": {},
   "source": [
    "#### For Manhattan distance"
   ]
  },
  {
   "cell_type": "code",
   "execution_count": 19,
   "id": "3ff6a3d9",
   "metadata": {},
   "outputs": [],
   "source": [
    "fit1 <- caret:::train(Ges_Class ~ .,\n",
    "             method     = \"kknn\",\n",
    "             tuneGrid   = expand.grid(kmax = 1:5, distance = 1 , kernel= \"rectangular\"),\n",
    "             trControl  = trControl,\n",
    "             metric     = \"Accuracy\",\n",
    "             data       = Scaled_Train_Data_Conc)\n",
    "\n",
    "#trconrol -> 10 fold cv is done"
   ]
  },
  {
   "cell_type": "markdown",
   "id": "d12c8ff9",
   "metadata": {},
   "source": [
    "The results are below for Manhattan distance:"
   ]
  },
  {
   "cell_type": "code",
   "execution_count": 38,
   "id": "2826380d",
   "metadata": {},
   "outputs": [],
   "source": [
    "k-Nearest Neighbors \n",
    "\n",
    "896 samples\n",
    "945 predictors\n",
    "  8 classes: '1', '2', '3', '4', '5', '6', '7', '8' \n",
    "\n",
    "No pre-processing\n",
    "Resampling: Cross-Validated (10 fold) \n",
    "Summary of sample sizes: 805, 806, 806, 805, 808, 805, ... \n",
    "Resampling results across tuning parameters:\n",
    "\n",
    "  kmax  Accuracy   Kappa    \n",
    "  1     0.9576593  0.9515512\n",
    "  2     0.9576593  0.9515512\n",
    "  3     0.9587829  0.9528373\n",
    "  4     0.9587829  0.9528373\n",
    "  5     0.9587829  0.9528373\n",
    "\n",
    "Tuning parameter 'distance' was held constant at a value of 1\n",
    "Tuning parameter 'kernel' was held constant at a value of rectangular\n",
    "Accuracy was used to select the optimal model using the largest value.\n",
    "The final values used for the model were kmax = 5, distance = 1 and kernel = rectangular."
   ]
  },
  {
   "cell_type": "markdown",
   "id": "39fba52b",
   "metadata": {},
   "source": [
    "\n",
    "\n",
    "Best K=3, when dist=1, Manhattan\n",
    "\n",
    "When distance was manhattan, the k value is selected as 3. Although it is given as 5 above output (last line), overcomplicating the model was the same level of accuracy is not reasonable. Over 95 % accuracy is noted."
   ]
  },
  {
   "cell_type": "markdown",
   "id": "cc6cfab9",
   "metadata": {},
   "source": [
    "#### For Euclidean distance"
   ]
  },
  {
   "cell_type": "code",
   "execution_count": 15,
   "id": "58e5a5f8",
   "metadata": {},
   "outputs": [],
   "source": [
    "fit2 <- train(Ges_Class ~ .,\n",
    "              method     = \"kknn\",\n",
    "              tuneGrid   = expand.grid(kmax = 1:5, distance = 2 , kernel= \"rectangular\"),\n",
    "              trControl  = trControl,\n",
    "              metric     = \"Accuracy\",\n",
    "              data       = Scaled_Train_Data_Conc)\n",
    "\n"
   ]
  },
  {
   "cell_type": "markdown",
   "id": "7dab67c5",
   "metadata": {},
   "source": [
    "The results are below for Euclidean distance:"
   ]
  },
  {
   "cell_type": "code",
   "execution_count": 39,
   "id": "86a0865e",
   "metadata": {},
   "outputs": [],
   "source": [
    "k-Nearest Neighbors \n",
    "\n",
    "896 samples\n",
    "945 predictors\n",
    "  8 classes: '1', '2', '3', '4', '5', '6', '7', '8' \n",
    "\n",
    "No pre-processing\n",
    "Resampling: Cross-Validated (10 fold) \n",
    "Summary of sample sizes: 807, 807, 807, 806, 804, 805, ... \n",
    "Resampling results across tuning parameters:\n",
    "\n",
    "  kmax  Accuracy   Kappa    \n",
    "  1     0.9497179  0.9424687\n",
    "  2     0.9497179  0.9424687\n",
    "  3     0.9442490  0.9361971\n",
    "  4     0.9442490  0.9361971\n",
    "  5     0.9442490  0.9361971\n",
    "\n",
    "Tuning parameter 'distance' was held constant at a value of 2\n",
    "Tuning parameter 'kernel' was held constant at a value of rectangular\n",
    "Accuracy was used to select the optimal model using the largest value.\n",
    "The final values used for the model were kmax = 2, distance = 2 and kernel = rectangular."
   ]
  },
  {
   "cell_type": "markdown",
   "id": "5766d263",
   "metadata": {},
   "source": [
    "When distance was euclidean, the k value is selected as 2, as suggested by the output. Almost 95% acurracy is noted."
   ]
  },
  {
   "cell_type": "markdown",
   "id": "7e40d6b7",
   "metadata": {},
   "source": [
    "### 1b) Using the value of k (identified for each distance measure) in part (a) and evaluate your final performance on the test data and present your results in a (8-by-8) confusion matrix, showing the counts for actual and predicted labels. In addition, quote the runtime and accuracy for your results."
   ]
  },
  {
   "cell_type": "markdown",
   "id": "66467a25",
   "metadata": {},
   "source": [
    "### Test"
   ]
  },
  {
   "cell_type": "markdown",
   "id": "e2adba3b",
   "metadata": {},
   "source": [
    "#### For Manhattan distance, with K = 3, train on the training data and test it on the test data. The confusion matrix printed out.  The misclassification error and the accuracy is also printed."
   ]
  },
  {
   "cell_type": "code",
   "execution_count": 28,
   "id": "54fb3c99",
   "metadata": {},
   "outputs": [
    {
     "data": {
      "text/plain": [
       "   \n",
       "      1   2   3   4   5   6   7   8\n",
       "  1 432   0   0   2   0   3   0   0\n",
       "  2   1 451   0   0   0   0   0   0\n",
       "  3   2   0 415   0  12  20   5   0\n",
       "  4   3   0   0 384  48   8   0   7\n",
       "  5   3   0   4   2 422   2   0   0\n",
       "  6   6   0   4  12  27 400   0   0\n",
       "  7   1   0   2   0   0   0 444   0\n",
       "  8   0   0   0   1   1   0   0 458"
      ]
     },
     "metadata": {},
     "output_type": "display_data"
    },
    {
     "data": {
      "text/html": [
       "0.0491345616973757"
      ],
      "text/latex": [
       "0.0491345616973757"
      ],
      "text/markdown": [
       "0.0491345616973757"
      ],
      "text/plain": [
       "[1] 0.04913456"
      ]
     },
     "metadata": {},
     "output_type": "display_data"
    },
    {
     "data": {
      "text/html": [
       "0.950865438302624"
      ],
      "text/latex": [
       "0.950865438302624"
      ],
      "text/markdown": [
       "0.950865438302624"
      ],
      "text/plain": [
       "[1] 0.9508654"
      ]
     },
     "metadata": {},
     "output_type": "display_data"
    },
    {
     "data": {
      "text/plain": [
       "Time difference of 26.51121 secs"
      ]
     },
     "metadata": {},
     "output_type": "display_data"
    }
   ],
   "source": [
    "library(\"kknn\")\n",
    "####manhattan\n",
    "start.time <- Sys.time()\n",
    "\n",
    "Gesture.kknn1 <- kknn(Ges_Class ~ ., Scaled_Train_Data_Conc, Scaled_Test_Data_Conc,distance = 1, k=3, kernel =\"rectangular\")\n",
    "\n",
    "table(Scaled_Test_Data_Conc$Ges_Class, Gesture.kknn1$fit)\n",
    "\n",
    "error_man = 1 - sum (Scaled_Test_Data_Conc$Ges_Class ==  Gesture.kknn1$fit)/nrow(Scaled_Test_Data_Conc)\n",
    "error_man\n",
    "acc_man= 1- error_man\n",
    "acc_man\n",
    "end.time <- Sys.time()\n",
    "time.taken <- end.time - start.time\n",
    "time.taken\n"
   ]
  },
  {
   "cell_type": "markdown",
   "id": "07d93ad6",
   "metadata": {},
   "source": [
    "To interpret the confusion matrix:\n",
    "\n",
    "For instance 432 of the class1 test instances were classified correctly,\n",
    "whereas 2 of those were misclassified as class4 and 3 of them are misclassified as class6.\n",
    "\n",
    "The accuracy is over 95 %.\n",
    "\n",
    "Less than 5 % misclassification is observed.\n",
    "\n",
    "It took less then 30 seconds to obtain the results."
   ]
  },
  {
   "cell_type": "markdown",
   "id": "85ab1efa",
   "metadata": {},
   "source": [
    "#### For Euclidean distance, with K = 2, train on the training data and test it on the test data. The confusion matrix printed out. The misclassification error and the accuracy is also printed."
   ]
  },
  {
   "cell_type": "code",
   "execution_count": 27,
   "id": "b0442865",
   "metadata": {},
   "outputs": [
    {
     "data": {
      "text/plain": [
       "   \n",
       "      1   2   3   4   5   6   7   8\n",
       "  1 429   0   0   2   0   5   1   0\n",
       "  2   1 450   0   0   0   0   1   0\n",
       "  3   2   0 416   1  14  15   6   0\n",
       "  4   6   0   0 380  51  10   0   3\n",
       "  5   2   0   9   3 416   3   0   0\n",
       "  6   7   0   3  12  19 407   1   0\n",
       "  7   0   0   3   0   0   0 444   0\n",
       "  8   0   0   0   4   2   0   0 454"
      ]
     },
     "metadata": {},
     "output_type": "display_data"
    },
    {
     "data": {
      "text/html": [
       "0.051926298157454"
      ],
      "text/latex": [
       "0.051926298157454"
      ],
      "text/markdown": [
       "0.051926298157454"
      ],
      "text/plain": [
       "[1] 0.0519263"
      ]
     },
     "metadata": {},
     "output_type": "display_data"
    },
    {
     "data": {
      "text/html": [
       "0.948073701842546"
      ],
      "text/latex": [
       "0.948073701842546"
      ],
      "text/markdown": [
       "0.948073701842546"
      ],
      "text/plain": [
       "[1] 0.9480737"
      ]
     },
     "metadata": {},
     "output_type": "display_data"
    },
    {
     "data": {
      "text/plain": [
       "Time difference of 4.274762 secs"
      ]
     },
     "metadata": {},
     "output_type": "display_data"
    }
   ],
   "source": [
    "####euclidean\n",
    "start.time <- Sys.time()\n",
    "\n",
    "Gesture.kknn2 <- kknn(Ges_Class ~ ., Scaled_Train_Data_Conc, Scaled_Test_Data_Conc,distance = 2, k=2, kernel =\"rectangular\")\n",
    "\n",
    "table(Scaled_Test_Data_Conc$Ges_Class, Gesture.kknn2$fit)\n",
    "\n",
    "error_euc = 1 - sum (Scaled_Test_Data_Conc$Ges_Class ==  Gesture.kknn2$fit)/nrow(Scaled_Test_Data_Conc)\n",
    "error_euc\n",
    "end.time <- Sys.time()\n",
    "\n",
    "acc_euc= 1- error_euc\n",
    "acc_euc\n",
    "\n",
    "time.taken <- end.time - start.time\n",
    "time.taken\n"
   ]
  },
  {
   "cell_type": "markdown",
   "id": "68686a86",
   "metadata": {},
   "source": [
    "To interpret the confusion matrix:\n",
    "\n",
    "For instance 450 of the class2 test instances were classified correctly, whereas 1 of them was misclassified as class1 and 1 of them are misclassified as class7.\n",
    "\n",
    "The accuracy is about 95 %.\n",
    "\n",
    "About 5 % misclassification is observed.\n",
    "\n",
    "It took about 4 seconds to obtain the results, it was much faster then the first model."
   ]
  },
  {
   "cell_type": "markdown",
   "id": "0b03a98d",
   "metadata": {},
   "source": [
    "#### These parts below are just for re-checking the steps done so far. The same process was performed in a different manner. Further, if we were to compare Manhattan distance with 5 different k values vs Euclidean distance with 5 different k values:"
   ]
  },
  {
   "cell_type": "code",
   "execution_count": 25,
   "id": "e471774d",
   "metadata": {},
   "outputs": [],
   "source": [
    "###overall\n",
    "fit <- train(Ges_Class ~ .,\n",
    "             method     = \"kknn\",\n",
    "             tuneGrid   = expand.grid(kmax = 1:5, distance = 1:2 , kernel= \"rectangular\"),\n",
    "             trControl  = trControl,\n",
    "             metric     = \"Accuracy\",\n",
    "             data       = Scaled_Train_Data_Conc)\n",
    "\n",
    "###overall end"
   ]
  },
  {
   "cell_type": "markdown",
   "id": "c7d80b1e",
   "metadata": {},
   "source": [
    "The below result were obtained comparing  5 different levels of k across 2 different distance measures (dist = 1 Manhattan and dist = 2, Euclidean).\n",
    "\n",
    "The results suggest k = 5 and distance = 1 with the highest accuracy, however it is clear that we can get the same level of accuracy with  k=3 with distance = 1, which was implemented above. And, we got a little bit higher accuracy with this model (manhattan, K =3), than the other (Euclidean K =2) which confirms our results."
   ]
  },
  {
   "cell_type": "code",
   "execution_count": 40,
   "id": "444f6379",
   "metadata": {},
   "outputs": [],
   "source": [
    "k-Nearest Neighbors \n",
    "\n",
    "896 samples\n",
    "945 predictors\n",
    "  8 classes: '1', '2', '3', '4', '5', '6', '7', '8' \n",
    "\n",
    "No pre-processing\n",
    "Resampling: Cross-Validated (10 fold) \n",
    "Summary of sample sizes: 805, 807, 806, 806, 806, 807, ... \n",
    "Resampling results across tuning parameters:\n",
    "\n",
    "  kmax  distance  Accuracy   Kappa    \n",
    "  1     1         0.9586736  0.9527245\n",
    "  1     2         0.9398066  0.9311277\n",
    "  2     1         0.9586736  0.9527245\n",
    "  2     2         0.9398066  0.9311277\n",
    "  3     1         0.9586736  0.9527245\n",
    "  3     2         0.9442019  0.9361512\n",
    "  4     1         0.9586736  0.9527245\n",
    "  4     2         0.9419545  0.9335789\n",
    "  5     1         0.9586736  0.9527245\n",
    "  5     2         0.9419545  0.9335789\n",
    "\n",
    "Tuning parameter 'kernel' was held constant at a value of rectangular\n",
    "Accuracy was used to select the optimal model using the largest value.\n",
    "The final values used for the model were kmax = 5, distance = 1 and kernel = rectangular."
   ]
  },
  {
   "cell_type": "code",
   "execution_count": 29,
   "id": "77e178b6",
   "metadata": {},
   "outputs": [
    {
     "data": {
      "text/plain": [
       "\n",
       "Call:\n",
       "train.kknn(formula = Ges_Class ~ ., data = Scaled_Train_Data_Conc,     kmax = 5, distance = 1, kernel = \"rectangular\")\n",
       "\n",
       "Type of response variable: nominal\n",
       "Minimal misclassification: 0.0390625\n",
       "Best kernel: rectangular\n",
       "Best k: 1"
      ]
     },
     "metadata": {},
     "output_type": "display_data"
    },
    {
     "data": {
      "text/plain": [
       "   \n",
       "      1   2   3   4   5   6   7   8\n",
       "  1 433   1   2   4   3   6   0   0\n",
       "  2   0 451   0   0   0   0   0   0\n",
       "  3   0   0 415   0   9   5   3   0\n",
       "  4   1   0   0 396   4  11   0   3\n",
       "  5   0   0  16  39 414  17   0   1\n",
       "  6   3   0  16   8   3 410   0   0\n",
       "  7   0   0   5   0   0   0 444   0\n",
       "  8   0   0   0   3   0   0   0 456"
      ]
     },
     "metadata": {},
     "output_type": "display_data"
    }
   ],
   "source": [
    "#####try in another way,with a different fucntion.It has the same results in terms of misclassification error (~accuracy)\n",
    "#we get similar accuracy\n",
    "#train with possible K = 1:5 values in manhattan distance\n",
    "#test on test data\n",
    "#print confusion matrix \n",
    "(fit.train1 <- train.kknn(Ges_Class ~ ., Scaled_Train_Data_Conc, kmax = 5, distance = 1, kernel =\"rectangular\"))\n",
    "\n",
    "table(predict(fit.train1, Scaled_Test_Data_Conc), Scaled_Test_Data_Conc$Ges_Class)\n",
    "###\n",
    "#we get similar accuracy for K=1 and K = 3"
   ]
  },
  {
   "cell_type": "code",
   "execution_count": 30,
   "id": "14d4ffcf",
   "metadata": {},
   "outputs": [
    {
     "data": {
      "text/plain": [
       "\n",
       "Call:\n",
       "train.kknn(formula = Ges_Class ~ ., data = Scaled_Train_Data_Conc,     kmax = 5, distance = 2, kernel = \"rectangular\")\n",
       "\n",
       "Type of response variable: nominal\n",
       "Minimal misclassification: 0.05245536\n",
       "Best kernel: rectangular\n",
       "Best k: 3"
      ]
     },
     "metadata": {},
     "output_type": "display_data"
    },
    {
     "data": {
      "text/plain": [
       "   \n",
       "      1   2   3   4   5   6   7   8\n",
       "  1 429   1   1   5   3   5   0   0\n",
       "  2   0 449   0   0   0   0   0   0\n",
       "  3   0   0 414   0   5   5   2   0\n",
       "  4   3   0   0 372   1  14   0   1\n",
       "  5   0   0  14  59 422  29   0   1\n",
       "  6   4   0  21   8   2 395   0   0\n",
       "  7   1   2   4   0   0   1 445   0\n",
       "  8   0   0   0   6   0   0   0 458"
      ]
     },
     "metadata": {},
     "output_type": "display_data"
    }
   ],
   "source": [
    "#####try in another way,with a different fucntion. It has the same results in terms of misclassification error (~accuracy)\n",
    "\n",
    "#train with possible K = 1:5 values in eucl. distance\n",
    "#test on test data\n",
    "#print confusion matrix \n",
    "\n",
    "(fit.train2 <- train.kknn(Ges_Class ~ ., Scaled_Train_Data_Conc, kmax = 5, distance = 2,kernel =\"rectangular\"))\n",
    "\n",
    "table(predict(fit.train2, Scaled_Test_Data_Conc), Scaled_Test_Data_Conc$Ges_Class)\n",
    "\n",
    "#we get similar accuracy for K=2 and K = 3"
   ]
  },
  {
   "cell_type": "markdown",
   "id": "08a76542",
   "metadata": {},
   "source": [
    "#### Overall results:\n",
    "For Manhattan distance, with K = 3\n",
    "\n",
    "The accuracy is over 95 %.\n",
    "Less than 5 % misclassification is observed.\n",
    "It took less than 30 seconds to obtain the results.\n",
    "\n",
    "For Euclidean distance, with K = 2\n",
    "\n",
    "About 5 % misclassification is observed.\n",
    "It took about 4 seconds to obtain the results, it was much faster then the first model."
   ]
  },
  {
   "cell_type": "markdown",
   "id": "e171d0c2",
   "metadata": {},
   "source": [
    "### 1c)The observations from different axes are weighted equally if we compute the distance over each axis and sum them to obtain a final similarity measure. Is this reasonable? For example, we can ompute the distance as below:(w.distx+w*disty+w*distz) where DistX is the distance based on the acceleration only on X axis, DistY is for Y axis and so on. Do you think weighting the distances over different axes to obtain a final similarity measure makes sense for classification? Why?"
   ]
  },
  {
   "cell_type": "markdown",
   "id": "2b4cb894",
   "metadata": {},
   "source": [
    "Yes, weighting some distances more than the others make sense in this setting.\n",
    "We may interpret this kind of unequal weights as eliminating the noise in the z-axis.\n",
    "Since the actual data could be presented in a 2D figure schematically, we may infer that the z axis do not provide as much as the x and y axes (assuming the motion takes place mostly on xy plane). A similarity heavily based on these two axes may be a more accurate metric compared to computing a distance where the observations from different axes are weighted equally."
   ]
  },
  {
   "cell_type": "markdown",
   "id": "cb57e61e",
   "metadata": {},
   "source": [
    "## Task 2 – Linear models on alternative representations of the data"
   ]
  },
  {
   "cell_type": "markdown",
   "id": "43af30ac",
   "metadata": {},
   "source": [
    "### 2a) Train a logistic regression model on the training data and use the model to make a prediction on the test data. Note that you will obtain probabilistic predictions (i.e. probability of a time series being from Class 3 if you encoded Class 3 as 1 in binary classification setting). This will require you to select a threshold since 0.5 as a threshold may not work well under this imbalanced class setting. To make things easier, use the ratio of Class 3 instances in the training data as threshold. Use the learned model to predict the class for test data. Present your results in a (2-by-2) confusion matrix."
   ]
  },
  {
   "cell_type": "code",
   "execution_count": 13,
   "id": "9ed439d9",
   "metadata": {
    "scrolled": true
   },
   "outputs": [
    {
     "data": {
      "text/html": [
       "<table>\n",
       "<thead><tr><th scope=col>Ges_Class</th><th scope=col>X. 1</th></tr></thead>\n",
       "<tbody>\n",
       "\t<tr><td>6          </td><td>-0.42019517</td></tr>\n",
       "\t<tr><td>5          </td><td> 1.78273070</td></tr>\n",
       "\t<tr><td>5          </td><td> 0.67556070</td></tr>\n",
       "\t<tr><td>3          </td><td>-0.06635733</td></tr>\n",
       "\t<tr><td>4          </td><td> 1.39465049</td></tr>\n",
       "\t<tr><td>8          </td><td>-0.62564939</td></tr>\n",
       "\t<tr><td>7          </td><td> 1.60010472</td></tr>\n",
       "\t<tr><td>4          </td><td> 0.27606638</td></tr>\n",
       "\t<tr><td>4          </td><td> 1.04081266</td></tr>\n",
       "\t<tr><td>6          </td><td>-1.42463805</td></tr>\n",
       "</tbody>\n",
       "</table>\n"
      ],
      "text/latex": [
       "\\begin{tabular}{r|ll}\n",
       " Ges\\_Class & X. 1\\\\\n",
       "\\hline\n",
       "\t 6           & -0.42019517\\\\\n",
       "\t 5           &  1.78273070\\\\\n",
       "\t 5           &  0.67556070\\\\\n",
       "\t 3           & -0.06635733\\\\\n",
       "\t 4           &  1.39465049\\\\\n",
       "\t 8           & -0.62564939\\\\\n",
       "\t 7           &  1.60010472\\\\\n",
       "\t 4           &  0.27606638\\\\\n",
       "\t 4           &  1.04081266\\\\\n",
       "\t 6           & -1.42463805\\\\\n",
       "\\end{tabular}\n"
      ],
      "text/markdown": [
       "\n",
       "| Ges_Class | X. 1 |\n",
       "|---|---|\n",
       "| 6           | -0.42019517 |\n",
       "| 5           |  1.78273070 |\n",
       "| 5           |  0.67556070 |\n",
       "| 3           | -0.06635733 |\n",
       "| 4           |  1.39465049 |\n",
       "| 8           | -0.62564939 |\n",
       "| 7           |  1.60010472 |\n",
       "| 4           |  0.27606638 |\n",
       "| 4           |  1.04081266 |\n",
       "| 6           | -1.42463805 |\n",
       "\n"
      ],
      "text/plain": [
       "   Ges_Class X. 1       \n",
       "1  6         -0.42019517\n",
       "2  5          1.78273070\n",
       "3  5          0.67556070\n",
       "4  3         -0.06635733\n",
       "5  4          1.39465049\n",
       "6  8         -0.62564939\n",
       "7  7          1.60010472\n",
       "8  4          0.27606638\n",
       "9  4          1.04081266\n",
       "10 6         -1.42463805"
      ]
     },
     "metadata": {},
     "output_type": "display_data"
    },
    {
     "data": {
      "text/html": [
       "<table>\n",
       "<thead><tr><th scope=col>Ges_Class</th><th scope=col>X. 1</th></tr></thead>\n",
       "<tbody>\n",
       "\t<tr><td>0          </td><td>-0.42019517</td></tr>\n",
       "\t<tr><td>0          </td><td> 1.78273070</td></tr>\n",
       "\t<tr><td>0          </td><td> 0.67556070</td></tr>\n",
       "\t<tr><td>1          </td><td>-0.06635733</td></tr>\n",
       "\t<tr><td>0          </td><td> 1.39465049</td></tr>\n",
       "\t<tr><td>0          </td><td>-0.62564939</td></tr>\n",
       "\t<tr><td>0          </td><td> 1.60010472</td></tr>\n",
       "\t<tr><td>0          </td><td> 0.27606638</td></tr>\n",
       "\t<tr><td>0          </td><td> 1.04081266</td></tr>\n",
       "\t<tr><td>0          </td><td>-1.42463805</td></tr>\n",
       "</tbody>\n",
       "</table>\n"
      ],
      "text/latex": [
       "\\begin{tabular}{r|ll}\n",
       " Ges\\_Class & X. 1\\\\\n",
       "\\hline\n",
       "\t 0           & -0.42019517\\\\\n",
       "\t 0           &  1.78273070\\\\\n",
       "\t 0           &  0.67556070\\\\\n",
       "\t 1           & -0.06635733\\\\\n",
       "\t 0           &  1.39465049\\\\\n",
       "\t 0           & -0.62564939\\\\\n",
       "\t 0           &  1.60010472\\\\\n",
       "\t 0           &  0.27606638\\\\\n",
       "\t 0           &  1.04081266\\\\\n",
       "\t 0           & -1.42463805\\\\\n",
       "\\end{tabular}\n"
      ],
      "text/markdown": [
       "\n",
       "| Ges_Class | X. 1 |\n",
       "|---|---|\n",
       "| 0           | -0.42019517 |\n",
       "| 0           |  1.78273070 |\n",
       "| 0           |  0.67556070 |\n",
       "| 1           | -0.06635733 |\n",
       "| 0           |  1.39465049 |\n",
       "| 0           | -0.62564939 |\n",
       "| 0           |  1.60010472 |\n",
       "| 0           |  0.27606638 |\n",
       "| 0           |  1.04081266 |\n",
       "| 0           | -1.42463805 |\n",
       "\n"
      ],
      "text/plain": [
       "   Ges_Class X. 1       \n",
       "1  0         -0.42019517\n",
       "2  0          1.78273070\n",
       "3  0          0.67556070\n",
       "4  1         -0.06635733\n",
       "5  0          1.39465049\n",
       "6  0         -0.62564939\n",
       "7  0          1.60010472\n",
       "8  0          0.27606638\n",
       "9  0          1.04081266\n",
       "10 0         -1.42463805"
      ]
     },
     "metadata": {},
     "output_type": "display_data"
    },
    {
     "data": {
      "text/html": [
       "<table>\n",
       "<thead><tr><th></th><th scope=col>Ges_Class</th><th scope=col>X. 1</th></tr></thead>\n",
       "<tbody>\n",
       "\t<tr><th scope=row>10</th><td>1           </td><td>-0.074001045</td></tr>\n",
       "\t<tr><th scope=row>11</th><td>2           </td><td>-0.918031281</td></tr>\n",
       "\t<tr><th scope=row>12</th><td>4           </td><td> 0.145678058</td></tr>\n",
       "\t<tr><th scope=row>13</th><td>3           </td><td> 0.006933361</td></tr>\n",
       "\t<tr><th scope=row>14</th><td>4           </td><td> 0.596598321</td></tr>\n",
       "\t<tr><th scope=row>15</th><td>4           </td><td> 1.879986763</td></tr>\n",
       "\t<tr><th scope=row>16</th><td>1           </td><td>-1.738937402</td></tr>\n",
       "\t<tr><th scope=row>17</th><td>5           </td><td> 0.099429826</td></tr>\n",
       "\t<tr><th scope=row>18</th><td>6           </td><td>-1.623316822</td></tr>\n",
       "\t<tr><th scope=row>19</th><td>4           </td><td> 0.319108928</td></tr>\n",
       "\t<tr><th scope=row>20</th><td>3           </td><td>-1.738937402</td></tr>\n",
       "</tbody>\n",
       "</table>\n"
      ],
      "text/latex": [
       "\\begin{tabular}{r|ll}\n",
       "  & Ges\\_Class & X. 1\\\\\n",
       "\\hline\n",
       "\t10 & 1            & -0.074001045\\\\\n",
       "\t11 & 2            & -0.918031281\\\\\n",
       "\t12 & 4            &  0.145678058\\\\\n",
       "\t13 & 3            &  0.006933361\\\\\n",
       "\t14 & 4            &  0.596598321\\\\\n",
       "\t15 & 4            &  1.879986763\\\\\n",
       "\t16 & 1            & -1.738937402\\\\\n",
       "\t17 & 5            &  0.099429826\\\\\n",
       "\t18 & 6            & -1.623316822\\\\\n",
       "\t19 & 4            &  0.319108928\\\\\n",
       "\t20 & 3            & -1.738937402\\\\\n",
       "\\end{tabular}\n"
      ],
      "text/markdown": [
       "\n",
       "| <!--/--> | Ges_Class | X. 1 |\n",
       "|---|---|---|\n",
       "| 10 | 1            | -0.074001045 |\n",
       "| 11 | 2            | -0.918031281 |\n",
       "| 12 | 4            |  0.145678058 |\n",
       "| 13 | 3            |  0.006933361 |\n",
       "| 14 | 4            |  0.596598321 |\n",
       "| 15 | 4            |  1.879986763 |\n",
       "| 16 | 1            | -1.738937402 |\n",
       "| 17 | 5            |  0.099429826 |\n",
       "| 18 | 6            | -1.623316822 |\n",
       "| 19 | 4            |  0.319108928 |\n",
       "| 20 | 3            | -1.738937402 |\n",
       "\n"
      ],
      "text/plain": [
       "   Ges_Class X. 1        \n",
       "10 1         -0.074001045\n",
       "11 2         -0.918031281\n",
       "12 4          0.145678058\n",
       "13 3          0.006933361\n",
       "14 4          0.596598321\n",
       "15 4          1.879986763\n",
       "16 1         -1.738937402\n",
       "17 5          0.099429826\n",
       "18 6         -1.623316822\n",
       "19 4          0.319108928\n",
       "20 3         -1.738937402"
      ]
     },
     "metadata": {},
     "output_type": "display_data"
    },
    {
     "data": {
      "text/html": [
       "<table>\n",
       "<thead><tr><th></th><th scope=col>Ges_Class</th><th scope=col>X. 1</th></tr></thead>\n",
       "<tbody>\n",
       "\t<tr><th scope=row>10</th><td>0           </td><td>-0.074001045</td></tr>\n",
       "\t<tr><th scope=row>11</th><td>0           </td><td>-0.918031281</td></tr>\n",
       "\t<tr><th scope=row>12</th><td>0           </td><td> 0.145678058</td></tr>\n",
       "\t<tr><th scope=row>13</th><td>1           </td><td> 0.006933361</td></tr>\n",
       "\t<tr><th scope=row>14</th><td>0           </td><td> 0.596598321</td></tr>\n",
       "\t<tr><th scope=row>15</th><td>0           </td><td> 1.879986763</td></tr>\n",
       "\t<tr><th scope=row>16</th><td>0           </td><td>-1.738937402</td></tr>\n",
       "\t<tr><th scope=row>17</th><td>0           </td><td> 0.099429826</td></tr>\n",
       "\t<tr><th scope=row>18</th><td>0           </td><td>-1.623316822</td></tr>\n",
       "\t<tr><th scope=row>19</th><td>0           </td><td> 0.319108928</td></tr>\n",
       "\t<tr><th scope=row>20</th><td>1           </td><td>-1.738937402</td></tr>\n",
       "</tbody>\n",
       "</table>\n"
      ],
      "text/latex": [
       "\\begin{tabular}{r|ll}\n",
       "  & Ges\\_Class & X. 1\\\\\n",
       "\\hline\n",
       "\t10 & 0            & -0.074001045\\\\\n",
       "\t11 & 0            & -0.918031281\\\\\n",
       "\t12 & 0            &  0.145678058\\\\\n",
       "\t13 & 1            &  0.006933361\\\\\n",
       "\t14 & 0            &  0.596598321\\\\\n",
       "\t15 & 0            &  1.879986763\\\\\n",
       "\t16 & 0            & -1.738937402\\\\\n",
       "\t17 & 0            &  0.099429826\\\\\n",
       "\t18 & 0            & -1.623316822\\\\\n",
       "\t19 & 0            &  0.319108928\\\\\n",
       "\t20 & 1            & -1.738937402\\\\\n",
       "\\end{tabular}\n"
      ],
      "text/markdown": [
       "\n",
       "| <!--/--> | Ges_Class | X. 1 |\n",
       "|---|---|---|\n",
       "| 10 | 0            | -0.074001045 |\n",
       "| 11 | 0            | -0.918031281 |\n",
       "| 12 | 0            |  0.145678058 |\n",
       "| 13 | 1            |  0.006933361 |\n",
       "| 14 | 0            |  0.596598321 |\n",
       "| 15 | 0            |  1.879986763 |\n",
       "| 16 | 0            | -1.738937402 |\n",
       "| 17 | 0            |  0.099429826 |\n",
       "| 18 | 0            | -1.623316822 |\n",
       "| 19 | 0            |  0.319108928 |\n",
       "| 20 | 1            | -1.738937402 |\n",
       "\n"
      ],
      "text/plain": [
       "   Ges_Class X. 1        \n",
       "10 0         -0.074001045\n",
       "11 0         -0.918031281\n",
       "12 0          0.145678058\n",
       "13 1          0.006933361\n",
       "14 0          0.596598321\n",
       "15 0          1.879986763\n",
       "16 0         -1.738937402\n",
       "17 0          0.099429826\n",
       "18 0         -1.623316822\n",
       "19 0          0.319108928\n",
       "20 1         -1.738937402"
      ]
     },
     "metadata": {},
     "output_type": "display_data"
    }
   ],
   "source": [
    "#install.packages(\"glmnet\")\n",
    "library(\"glmnet\")\n",
    "\n",
    "#make the class info binary\n",
    "#put 1 if class3 else put 0\n",
    "#transform both training and test data\n",
    "\n",
    "#training\n",
    "c_train=Scaled_Train_Data_Conc\n",
    "c_train[1:10,1:2] #now we have 1,2,3,4,5,6\n",
    "\n",
    "c_train$Ges_Class=ifelse(c_train$Ges_Class==3,1,0)\n",
    "c_train[1:10,1:2] #now we have 0-1\n",
    "\n",
    "#for test set\n",
    "c_test=Scaled_Test_Data_Conc\n",
    "c_test[10:20,1:2]\n",
    "c_test$Ges_Class=ifelse(c_test$Ges_Class==3,1,0)\n",
    "c_test[10:20,1:2]"
   ]
  },
  {
   "cell_type": "markdown",
   "id": "4c8268f5",
   "metadata": {},
   "source": [
    "#### Perform logistic regression. Create the model using training data"
   ]
  },
  {
   "cell_type": "code",
   "execution_count": 14,
   "id": "0a37949f",
   "metadata": {},
   "outputs": [
    {
     "name": "stderr",
     "output_type": "stream",
     "text": [
      "Warning message:\n",
      "\"glm.fit: algorithm did not converge\""
     ]
    }
   ],
   "source": [
    "##logistic regression\n",
    "\n",
    "log_reg=glm(Ges_Class~.,c_train,family='binomial')\n",
    "#summary(log_reg)\n",
    "\n"
   ]
  },
  {
   "cell_type": "code",
   "execution_count": 15,
   "id": "8cf0c7c9",
   "metadata": {},
   "outputs": [
    {
     "name": "stderr",
     "output_type": "stream",
     "text": [
      "Warning message in predict.lm(object, newdata, se.fit, scale = 1, type = if (type == :\n",
      "\"prediction from a rank-deficient fit may be misleading\""
     ]
    },
    {
     "data": {
      "text/html": [
       "<dl class=dl-horizontal>\n",
       "\t<dt>1</dt>\n",
       "\t\t<dd>-26.5660685322671</dd>\n",
       "\t<dt>2</dt>\n",
       "\t\t<dd>-26.5660685260373</dd>\n",
       "\t<dt>3</dt>\n",
       "\t\t<dd>-26.5660685240637</dd>\n",
       "\t<dt>4</dt>\n",
       "\t\t<dd>26.5660638737218</dd>\n",
       "\t<dt>5</dt>\n",
       "\t\t<dd>-26.5660685213725</dd>\n",
       "\t<dt>6</dt>\n",
       "\t\t<dd>-26.5660685206876</dd>\n",
       "</dl>\n"
      ],
      "text/latex": [
       "\\begin{description*}\n",
       "\\item[1] -26.5660685322671\n",
       "\\item[2] -26.5660685260373\n",
       "\\item[3] -26.5660685240637\n",
       "\\item[4] 26.5660638737218\n",
       "\\item[5] -26.5660685213725\n",
       "\\item[6] -26.5660685206876\n",
       "\\end{description*}\n"
      ],
      "text/markdown": [
       "1\n",
       ":   -26.56606853226712\n",
       ":   -26.56606852603733\n",
       ":   -26.56606852406374\n",
       ":   26.56606387372185\n",
       ":   -26.56606852137256\n",
       ":   -26.5660685206876\n",
       "\n"
      ],
      "text/plain": [
       "        1         2         3         4         5         6 \n",
       "-26.56607 -26.56607 -26.56607  26.56606 -26.56607 -26.56607 "
      ]
     },
     "metadata": {},
     "output_type": "display_data"
    }
   ],
   "source": [
    "predicted=predict(log_reg,c_train)\n",
    "head(predicted)"
   ]
  },
  {
   "cell_type": "markdown",
   "id": "bb490d15",
   "metadata": {},
   "source": [
    "This warning checks if the rank of the data matrix is at least equal to the number of parameters/features."
   ]
  },
  {
   "cell_type": "code",
   "execution_count": 16,
   "id": "594af4a8",
   "metadata": {},
   "outputs": [
    {
     "name": "stderr",
     "output_type": "stream",
     "text": [
      "Warning message in predict.lm(object, newdata, se.fit, scale = 1, type = if (type == :\n",
      "\"prediction from a rank-deficient fit may be misleading\""
     ]
    },
    {
     "data": {
      "text/html": [
       "<dl class=dl-horizontal>\n",
       "\t<dt>1</dt>\n",
       "\t\t<dd>2.90070144014886e-12</dd>\n",
       "\t<dt>2</dt>\n",
       "\t\t<dd>2.90070145821968e-12</dd>\n",
       "\t<dt>3</dt>\n",
       "\t\t<dd>2.90070146394452e-12</dd>\n",
       "\t<dt>4</dt>\n",
       "\t\t<dd>0.999999999997099</dd>\n",
       "\t<dt>5</dt>\n",
       "\t\t<dd>2.90070147175087e-12</dd>\n",
       "\t<dt>6</dt>\n",
       "\t\t<dd>2.90070147373741e-12</dd>\n",
       "</dl>\n"
      ],
      "text/latex": [
       "\\begin{description*}\n",
       "\\item[1] 2.90070144014886e-12\n",
       "\\item[2] 2.90070145821968e-12\n",
       "\\item[3] 2.90070146394452e-12\n",
       "\\item[4] 0.999999999997099\n",
       "\\item[5] 2.90070147175087e-12\n",
       "\\item[6] 2.90070147373741e-12\n",
       "\\end{description*}\n"
      ],
      "text/markdown": [
       "1\n",
       ":   2.90070144014886e-122\n",
       ":   2.90070145821968e-123\n",
       ":   2.90070146394452e-124\n",
       ":   0.9999999999970995\n",
       ":   2.90070147175087e-126\n",
       ":   2.90070147373741e-12\n",
       "\n"
      ],
      "text/plain": [
       "           1            2            3            4            5            6 \n",
       "2.900701e-12 2.900701e-12 2.900701e-12 1.000000e+00 2.900701e-12 2.900701e-12 "
      ]
     },
     "metadata": {},
     "output_type": "display_data"
    }
   ],
   "source": [
    "predicted=predict(log_reg,c_train,type='response')\n",
    "head(predicted)"
   ]
  },
  {
   "cell_type": "markdown",
   "id": "03054703",
   "metadata": {},
   "source": [
    "The above are the probabilities."
   ]
  },
  {
   "cell_type": "markdown",
   "id": "a51e8c55",
   "metadata": {},
   "source": [
    "#### Check the model on training data"
   ]
  },
  {
   "cell_type": "code",
   "execution_count": 17,
   "id": "46a56692",
   "metadata": {},
   "outputs": [
    {
     "name": "stderr",
     "output_type": "stream",
     "text": [
      "Warning message in predict.lm(object, newdata, se.fit, scale = 1, type = if (type == :\n",
      "\"prediction from a rank-deficient fit may be misleading\""
     ]
    },
    {
     "data": {
      "text/html": [
       "<table>\n",
       "<thead><tr><th></th><th scope=col>0</th><th scope=col>1</th><th scope=col>Sum</th></tr></thead>\n",
       "<tbody>\n",
       "\t<tr><th scope=row>0</th><td>790</td><td>  0</td><td>790</td></tr>\n",
       "\t<tr><th scope=row>1</th><td>  0</td><td>106</td><td>106</td></tr>\n",
       "\t<tr><th scope=row>Sum</th><td>790</td><td>106</td><td>896</td></tr>\n",
       "</tbody>\n",
       "</table>\n"
      ],
      "text/latex": [
       "\\begin{tabular}{r|lll}\n",
       "  & 0 & 1 & Sum\\\\\n",
       "\\hline\n",
       "\t0 & 790 &   0 & 790\\\\\n",
       "\t1 &   0 & 106 & 106\\\\\n",
       "\tSum & 790 & 106 & 896\\\\\n",
       "\\end{tabular}\n"
      ],
      "text/markdown": [
       "\n",
       "| <!--/--> | 0 | 1 | Sum |\n",
       "|---|---|---|---|\n",
       "| 0 | 790 |   0 | 790 |\n",
       "| 1 |   0 | 106 | 106 |\n",
       "| Sum | 790 | 106 | 896 |\n",
       "\n"
      ],
      "text/plain": [
       "     prediction\n",
       "      0   1   Sum\n",
       "  0   790   0 790\n",
       "  1     0 106 106\n",
       "  Sum 790 106 896"
      ]
     },
     "metadata": {},
     "output_type": "display_data"
    }
   ],
   "source": [
    "#check training data\n",
    "predicted_prob <-  predict(log_reg,c_train,type='response')\n",
    "##ratio calculation\n",
    "ratio= sum(c_train[,1])/ length(c_train[,1])\n",
    "\n",
    "prediction <- as.integer(predicted_prob > ratio)\n",
    "\n",
    "confusion_mat <- addmargins(table(c_train$Ges_Class, prediction))\n",
    "\n",
    "confusion_mat"
   ]
  },
  {
   "cell_type": "markdown",
   "id": "53f2e48e",
   "metadata": {},
   "source": [
    "It gets all correctly."
   ]
  },
  {
   "cell_type": "code",
   "execution_count": 18,
   "id": "be665713",
   "metadata": {},
   "outputs": [
    {
     "data": {
      "text/html": [
       "0"
      ],
      "text/latex": [
       "0"
      ],
      "text/markdown": [
       "0"
      ],
      "text/plain": [
       "[1] 0"
      ]
     },
     "metadata": {},
     "output_type": "display_data"
    },
    {
     "data": {
      "text/html": [
       "1"
      ],
      "text/latex": [
       "1"
      ],
      "text/markdown": [
       "1"
      ],
      "text/plain": [
       "[1] 1"
      ]
     },
     "metadata": {},
     "output_type": "display_data"
    }
   ],
   "source": [
    "#training accuracy\n",
    "trainerr =  1- (sum(diag((confusion_mat[1:2,1:2]))) /  confusion_mat[3,3])\n",
    "trainerr\n",
    "\n",
    "acc_train= 1- trainerr\n",
    "acc_train"
   ]
  },
  {
   "cell_type": "markdown",
   "id": "690d7f2e",
   "metadata": {},
   "source": [
    "Error is 0. Accuracy is 1.  Overfitting is suspectible. It probably picks up many variables to build a \"good\" model."
   ]
  },
  {
   "cell_type": "markdown",
   "id": "25aff8b5",
   "metadata": {},
   "source": [
    "#### Check on test data"
   ]
  },
  {
   "cell_type": "code",
   "execution_count": 19,
   "id": "2ff10b23",
   "metadata": {},
   "outputs": [
    {
     "name": "stderr",
     "output_type": "stream",
     "text": [
      "Warning message in predict.lm(object, newdata, se.fit, scale = 1, type = if (type == :\n",
      "\"prediction from a rank-deficient fit may be misleading\""
     ]
    },
    {
     "data": {
      "text/plain": [
       "Time difference of 0.13376 secs"
      ]
     },
     "metadata": {},
     "output_type": "display_data"
    },
    {
     "data": {
      "text/html": [
       "<table>\n",
       "<thead><tr><th></th><th scope=col>0</th><th scope=col>1</th><th scope=col>Sum</th></tr></thead>\n",
       "<tbody>\n",
       "\t<tr><th scope=row>0</th><td>1586</td><td>1542</td><td>3128</td></tr>\n",
       "\t<tr><th scope=row>1</th><td> 249</td><td> 205</td><td> 454</td></tr>\n",
       "\t<tr><th scope=row>Sum</th><td>1835</td><td>1747</td><td>3582</td></tr>\n",
       "</tbody>\n",
       "</table>\n"
      ],
      "text/latex": [
       "\\begin{tabular}{r|lll}\n",
       "  & 0 & 1 & Sum\\\\\n",
       "\\hline\n",
       "\t0 & 1586 & 1542 & 3128\\\\\n",
       "\t1 &  249 &  205 &  454\\\\\n",
       "\tSum & 1835 & 1747 & 3582\\\\\n",
       "\\end{tabular}\n"
      ],
      "text/markdown": [
       "\n",
       "| <!--/--> | 0 | 1 | Sum |\n",
       "|---|---|---|---|\n",
       "| 0 | 1586 | 1542 | 3128 |\n",
       "| 1 |  249 |  205 |  454 |\n",
       "| Sum | 1835 | 1747 | 3582 |\n",
       "\n"
      ],
      "text/plain": [
       "     prediction_test\n",
       "      0    1    Sum \n",
       "  0   1586 1542 3128\n",
       "  1    249  205  454\n",
       "  Sum 1835 1747 3582"
      ]
     },
     "metadata": {},
     "output_type": "display_data"
    }
   ],
   "source": [
    "#on test data\n",
    "start.time <- Sys.time()\n",
    "\n",
    "predicted_prob_test <-  predict(log_reg,c_test,type='response')\n",
    "#predicted_prob_test\n",
    "prediction_test <- as.integer(predicted_prob_test > ratio)\n",
    "\n",
    "end.time <- Sys.time()\n",
    "time.taken <- end.time - start.time\n",
    "time.taken\n",
    "\n",
    "confusion_mat_test <- addmargins(table(c_test$Ges_Class, prediction_test))\n",
    "\n",
    "confusion_mat_test"
   ]
  },
  {
   "cell_type": "markdown",
   "id": "6dd317e2",
   "metadata": {},
   "source": [
    "About half of the class#3 classification was done correctly."
   ]
  },
  {
   "cell_type": "code",
   "execution_count": 22,
   "id": "ea2afaf1",
   "metadata": {},
   "outputs": [
    {
     "data": {
      "text/html": [
       "0.5"
      ],
      "text/latex": [
       "0.5"
      ],
      "text/markdown": [
       "0.5"
      ],
      "text/plain": [
       "[1] 0.5"
      ]
     },
     "metadata": {},
     "output_type": "display_data"
    },
    {
     "data": {
      "text/html": [
       "0.5"
      ],
      "text/latex": [
       "0.5"
      ],
      "text/markdown": [
       "0.5"
      ],
      "text/plain": [
       "[1] 0.5"
      ]
     },
     "metadata": {},
     "output_type": "display_data"
    }
   ],
   "source": [
    "#testing accuracy\n",
    "testerr =  1- (sum(diag((confusion_mat_test[1:2,1:2]))) /  confusion_mat_test[3,3])\n",
    "testerr\n",
    "\n",
    "acc_test= 1- testerr\n",
    "acc_test"
   ]
  },
  {
   "cell_type": "markdown",
   "id": "871726db",
   "metadata": {},
   "source": [
    "Error=Accuracy= 50%. Accuracy is not sufficiently good. The model performed poorly on the test data.\n",
    "It was not a good choice to employ classic logistic regression when we have a data set with less number of instances than features. Some of the features could not be employed while estimating the model, therefore the results may be misleading. It has got NA for the features when p>N."
   ]
  },
  {
   "cell_type": "code",
   "execution_count": 21,
   "id": "037a68f9",
   "metadata": {},
   "outputs": [
    {
     "data": {
      "text/html": [
       "<dl class=dl-horizontal>\n",
       "\t<dt>(Intercept)</dt>\n",
       "\t\t<dd>-20.2803473677753</dd>\n",
       "\t<dt>`X. 1`</dt>\n",
       "\t\t<dd>-19663.516434797</dd>\n",
       "\t<dt>`X. 2`</dt>\n",
       "\t\t<dd>-6486.09495029657</dd>\n",
       "\t<dt>`X. 3`</dt>\n",
       "\t\t<dd>87934.0117269021</dd>\n",
       "\t<dt>`X. 4`</dt>\n",
       "\t\t<dd>-70383.6462543929</dd>\n",
       "\t<dt>`X. 5`</dt>\n",
       "\t\t<dd>14669.4097678722</dd>\n",
       "</dl>\n"
      ],
      "text/latex": [
       "\\begin{description*}\n",
       "\\item[(Intercept)] -20.2803473677753\n",
       "\\item[`X. 1`] -19663.516434797\n",
       "\\item[`X. 2`] -6486.09495029657\n",
       "\\item[`X. 3`] 87934.0117269021\n",
       "\\item[`X. 4`] -70383.6462543929\n",
       "\\item[`X. 5`] 14669.4097678722\n",
       "\\end{description*}\n"
      ],
      "text/markdown": [
       "(Intercept)\n",
       ":   -20.2803473677753`X. 1`\n",
       ":   -19663.516434797`X. 2`\n",
       ":   -6486.09495029657`X. 3`\n",
       ":   87934.0117269021`X. 4`\n",
       ":   -70383.6462543929`X. 5`\n",
       ":   14669.4097678722\n",
       "\n"
      ],
      "text/plain": [
       " (Intercept)       `X. 1`       `X. 2`       `X. 3`       `X. 4`       `X. 5` \n",
       "   -20.28035 -19663.51643  -6486.09495  87934.01173 -70383.64625  14669.40977 "
      ]
     },
     "metadata": {},
     "output_type": "display_data"
    },
    {
     "data": {
      "text/html": [
       "<dl class=dl-horizontal>\n",
       "\t<dt>`Z. 310`</dt>\n",
       "\t\t<dd>&lt;NA&gt;</dd>\n",
       "\t<dt>`Z. 311`</dt>\n",
       "\t\t<dd>&lt;NA&gt;</dd>\n",
       "\t<dt>`Z. 312`</dt>\n",
       "\t\t<dd>&lt;NA&gt;</dd>\n",
       "\t<dt>`Z. 313`</dt>\n",
       "\t\t<dd>&lt;NA&gt;</dd>\n",
       "\t<dt>`Z. 314`</dt>\n",
       "\t\t<dd>&lt;NA&gt;</dd>\n",
       "\t<dt>`Z. 315`</dt>\n",
       "\t\t<dd>&lt;NA&gt;</dd>\n",
       "</dl>\n"
      ],
      "text/latex": [
       "\\begin{description*}\n",
       "\\item[`Z. 310`] <NA>\n",
       "\\item[`Z. 311`] <NA>\n",
       "\\item[`Z. 312`] <NA>\n",
       "\\item[`Z. 313`] <NA>\n",
       "\\item[`Z. 314`] <NA>\n",
       "\\item[`Z. 315`] <NA>\n",
       "\\end{description*}\n"
      ],
      "text/markdown": [
       "`Z. 310`\n",
       ":   &lt;NA&gt;`Z. 311`\n",
       ":   &lt;NA&gt;`Z. 312`\n",
       ":   &lt;NA&gt;`Z. 313`\n",
       ":   &lt;NA&gt;`Z. 314`\n",
       ":   &lt;NA&gt;`Z. 315`\n",
       ":   &lt;NA&gt;\n",
       "\n"
      ],
      "text/plain": [
       "`Z. 310` `Z. 311` `Z. 312` `Z. 313` `Z. 314` `Z. 315` \n",
       "      NA       NA       NA       NA       NA       NA "
      ]
     },
     "metadata": {},
     "output_type": "display_data"
    }
   ],
   "source": [
    "head(coef(log_reg))\n",
    "tail(coef(log_reg))"
   ]
  },
  {
   "cell_type": "markdown",
   "id": "883e7439",
   "metadata": {},
   "source": [
    "#### Use glmnet without lamdba (penalities) s=0"
   ]
  },
  {
   "cell_type": "code",
   "execution_count": 25,
   "id": "afcfd6bb",
   "metadata": {},
   "outputs": [],
   "source": [
    "#use glmnet without lamdba (penalities) s=0\n",
    "#train on trainng data\n",
    "library(\"glmnet\")\n",
    "library(\"dplyr\")\n",
    "log_reg1=glmnet(as.matrix(c_train[,-1]),c_train$Ges_Class,family='binomial')\n"
   ]
  },
  {
   "cell_type": "code",
   "execution_count": 33,
   "id": "72e28d3e",
   "metadata": {},
   "outputs": [
    {
     "data": {
      "text/plain": [
       "Time difference of 0.3740809 secs"
      ]
     },
     "metadata": {},
     "output_type": "display_data"
    }
   ],
   "source": [
    "#use the model to predict test data\n",
    "#set lambda specificily to \"0\"\n",
    "start.time <- Sys.time()\n",
    "predicted_prob_test1 <-  predict(log_reg1,as.matrix(c_test[,-1]),type='response', s= 0)\n",
    "prediction_test1 <- as.integer(predicted_prob_test1 > ratio)\n",
    "end.time <- Sys.time()\n",
    "time.taken <- end.time - start.time\n",
    "time.taken\n"
   ]
  },
  {
   "cell_type": "code",
   "execution_count": 31,
   "id": "4fce3c89",
   "metadata": {},
   "outputs": [
    {
     "data": {
      "text/html": [
       "<table>\n",
       "<thead><tr><th></th><th scope=col>0</th><th scope=col>1</th><th scope=col>Sum</th></tr></thead>\n",
       "<tbody>\n",
       "\t<tr><th scope=row>0</th><td>2923</td><td>205 </td><td>3128</td></tr>\n",
       "\t<tr><th scope=row>1</th><td>  58</td><td>396 </td><td> 454</td></tr>\n",
       "\t<tr><th scope=row>Sum</th><td>2981</td><td>601 </td><td>3582</td></tr>\n",
       "</tbody>\n",
       "</table>\n"
      ],
      "text/latex": [
       "\\begin{tabular}{r|lll}\n",
       "  & 0 & 1 & Sum\\\\\n",
       "\\hline\n",
       "\t0 & 2923 & 205  & 3128\\\\\n",
       "\t1 &   58 & 396  &  454\\\\\n",
       "\tSum & 2981 & 601  & 3582\\\\\n",
       "\\end{tabular}\n"
      ],
      "text/markdown": [
       "\n",
       "| <!--/--> | 0 | 1 | Sum |\n",
       "|---|---|---|---|\n",
       "| 0 | 2923 | 205  | 3128 |\n",
       "| 1 |   58 | 396  |  454 |\n",
       "| Sum | 2981 | 601  | 3582 |\n",
       "\n"
      ],
      "text/plain": [
       "     prediction_test1\n",
       "      0    1   Sum \n",
       "  0   2923 205 3128\n",
       "  1     58 396  454\n",
       "  Sum 2981 601 3582"
      ]
     },
     "metadata": {},
     "output_type": "display_data"
    }
   ],
   "source": [
    "conf_mat_test1 <- addmargins(table(c_test$Ges_Class, prediction_test1))\n",
    "\n",
    "conf_mat_test1"
   ]
  },
  {
   "cell_type": "markdown",
   "id": "57786564",
   "metadata": {},
   "source": [
    "396 of the total 454 class3 instances are predicted correctly."
   ]
  },
  {
   "cell_type": "code",
   "execution_count": 32,
   "id": "d0fc8999",
   "metadata": {},
   "outputs": [
    {
     "data": {
      "text/html": [
       "0.0734226689000559"
      ],
      "text/latex": [
       "0.0734226689000559"
      ],
      "text/markdown": [
       "0.0734226689000559"
      ],
      "text/plain": [
       "[1] 0.07342267"
      ]
     },
     "metadata": {},
     "output_type": "display_data"
    },
    {
     "data": {
      "text/html": [
       "0.926577331099944"
      ],
      "text/latex": [
       "0.926577331099944"
      ],
      "text/markdown": [
       "0.926577331099944"
      ],
      "text/plain": [
       "[1] 0.9265773"
      ]
     },
     "metadata": {},
     "output_type": "display_data"
    }
   ],
   "source": [
    "testerr1 =  1- (sum(diag((conf_mat_test1[1:2,1:2]))) /  conf_mat_test1[3,3])\n",
    "testerr1\n",
    "acc1 = 1- testerr1\n",
    "acc1"
   ]
  },
  {
   "cell_type": "markdown",
   "id": "85f54165",
   "metadata": {},
   "source": [
    "The accuracy is 92%. It took 0.3740809 seconds."
   ]
  },
  {
   "cell_type": "code",
   "execution_count": 30,
   "id": "b7376db2",
   "metadata": {},
   "outputs": [
    {
     "data": {
      "text/plain": [
       "6 x 1 sparse Matrix of class \"dgCMatrix\"\n",
       "                    1\n",
       "(Intercept) -6.550843\n",
       "X. 1         .       \n",
       "X. 2         .       \n",
       "X. 3         .       \n",
       "X. 4         .       \n",
       "X. 5         .       "
      ]
     },
     "metadata": {},
     "output_type": "display_data"
    },
    {
     "data": {
      "text/plain": [
       "6 x 1 sparse Matrix of class \"dgCMatrix\"\n",
       "               1\n",
       "Z. 310 .        \n",
       "Z. 311 .        \n",
       "Z. 312 .        \n",
       "Z. 313 .        \n",
       "Z. 314 .        \n",
       "Z. 315 0.1848655"
      ]
     },
     "metadata": {},
     "output_type": "display_data"
    }
   ],
   "source": [
    "head(coef(log_reg1, s=0))\n",
    "tail(coef(log_reg1, s=0))\n",
    "#even the last feature got evaluated."
   ]
  },
  {
   "cell_type": "code",
   "execution_count": 37,
   "id": "87dbba00",
   "metadata": {},
   "outputs": [
    {
     "data": {
      "text/html": [
       "57"
      ],
      "text/latex": [
       "57"
      ],
      "text/markdown": [
       "57"
      ],
      "text/plain": [
       "[1] 57"
      ]
     },
     "metadata": {},
     "output_type": "display_data"
    }
   ],
   "source": [
    "#total non zero coeff + 1 intercept\n",
    "howmanylog= sum(ifelse(coef(log_reg1,s=0) != 0 , 1,0))\n",
    "howmanylog"
   ]
  },
  {
   "cell_type": "markdown",
   "id": "fb41b42b",
   "metadata": {},
   "source": [
    "56 features + 1 intercept were employed."
   ]
  },
  {
   "cell_type": "markdown",
   "id": "88df24a5",
   "metadata": {},
   "source": [
    "### 2b) An advantage of logistic regression is related to the interpretability however when we have large number of features together with a method without penalization, it is harder to interpret the results. Therefore, an alternative way is to train a logistic regression model with lasso penalties. This will require you setting of penalization term (namely lambda). Use 10-fold cross-validation to determine your ideal lambda level based on binomial deviance. This is also referred to as logistic loss. If you are using “glmnet” package in R, “type.measure” can be set to “deviance” which is the default value. Once you determine your best lambda value using 10-fold cross-validation, perform classification on test data similar to part a and compare your results. Comment on the regression coefficients. Is there any interesting information? Try to interpret the model."
   ]
  },
  {
   "cell_type": "code",
   "execution_count": 54,
   "id": "8624e293",
   "metadata": {},
   "outputs": [
    {
     "data": {
      "text/html": [
       "'data.frame'"
      ],
      "text/latex": [
       "'data.frame'"
      ],
      "text/markdown": [
       "'data.frame'"
      ],
      "text/plain": [
       "[1] \"data.frame\""
      ]
     },
     "metadata": {},
     "output_type": "display_data"
    },
    {
     "data": {
      "text/html": [
       "'matrix'"
      ],
      "text/latex": [
       "'matrix'"
      ],
      "text/markdown": [
       "'matrix'"
      ],
      "text/plain": [
       "[1] \"matrix\""
      ]
     },
     "metadata": {},
     "output_type": "display_data"
    }
   ],
   "source": [
    "#######penalize###########\n",
    "#α=1 is lasso regression (default in glmnet)\n",
    "library(\"glmnet\")\n",
    "library(\"dplyr\")\n",
    "class(c_train)\n",
    "#make matrix\n",
    "class_mat_train = as.matrix(c_train[,-1])\n",
    "class(class_mat_train)"
   ]
  },
  {
   "cell_type": "markdown",
   "id": "de84d557",
   "metadata": {},
   "source": [
    "10 fold cross validation is used.\n",
    "The used measure is \"deviance\"\n",
    "Get the lambda values:"
   ]
  },
  {
   "cell_type": "code",
   "execution_count": 101,
   "id": "6351421d",
   "metadata": {},
   "outputs": [
    {
     "data": {
      "text/plain": [
       "\n",
       "Call:  cv.glmnet(x = class_mat_train, y = c_train$Ges_Class, type.measure = \"deviance\",      nfolds = 10, family = \"binomial\") \n",
       "\n",
       "Measure: Binomial Deviance \n",
       "\n",
       "      Lambda Index Measure      SE Nonzero\n",
       "min 0.003889    79  0.1970 0.02438      37\n",
       "1se 0.011877    55  0.2199 0.02116      29"
      ]
     },
     "metadata": {},
     "output_type": "display_data"
    }
   ],
   "source": [
    "cvlogfit=cv.glmnet(class_mat_train,c_train$Ges_Class,family='binomial',nfolds=10, type.measure = \"deviance\")\n",
    "cvlogfit"
   ]
  },
  {
   "cell_type": "code",
   "execution_count": 56,
   "id": "b07e0659",
   "metadata": {
    "scrolled": false
   },
   "outputs": [
    {
     "data": {
      "image/png": "[encoded data removed]",
      "text/plain": [
       "plot without title"
      ]
     },
     "metadata": {},
     "output_type": "display_data"
    }
   ],
   "source": [
    "plot(cvlogfit)"
   ]
  },
  {
   "cell_type": "markdown",
   "id": "043e7c87",
   "metadata": {},
   "source": [
    "The argmin lambda would give about ~ 36 ~ 38 non-zero coffieicents with miminal binomial deviance. The argmin labmda is given below as lambda min."
   ]
  },
  {
   "cell_type": "code",
   "execution_count": 100,
   "id": "05e4a77b",
   "metadata": {},
   "outputs": [
    {
     "data": {
      "text/plain": [
       "\n",
       "Call:  cv.glmnet(x = class_mat_train, y = c_train$Ges_Class, type.measure = \"deviance\",      nfolds = 10, family = \"binomial\") \n",
       "\n",
       "Measure: Binomial Deviance \n",
       "\n",
       "      Lambda Index Measure      SE Nonzero\n",
       "min 0.003712    80  0.2002 0.02463      37\n",
       "1se 0.011877    55  0.2238 0.02238      29"
      ]
     },
     "metadata": {},
     "output_type": "display_data"
    }
   ],
   "source": [
    "cvlogfit"
   ]
  },
  {
   "cell_type": "markdown",
   "id": "d57967a4",
   "metadata": {},
   "source": [
    "#### 2b) Comment on the regression coefficients. Is there any interesting information? Try to interpret the model."
   ]
  },
  {
   "cell_type": "markdown",
   "id": "a23fdf19",
   "metadata": {},
   "source": [
    "Before, we had 3*315 = 945 features, we reduced them. \n",
    "Now we have 37 nonzero coefficients.\n",
    "Now let's see, in which indexes the non-zero coefficients occur.\n",
    "Plot one instance from each class as time series, and try to catch where class#3 is distinct the most.\n",
    "In terms of distance from one the other, we may see the part (in index) where the class#3 is the most distinct from the others."
   ]
  },
  {
   "cell_type": "code",
   "execution_count": 59,
   "id": "3f46eaf0",
   "metadata": {},
   "outputs": [
    {
     "data": {
      "text/html": [
       "<dl class=dl-horizontal>\n",
       "\t<dt>(Intercept)</dt>\n",
       "\t\t<dd>-5.34675761649471</dd>\n",
       "\t<dt>X. 14</dt>\n",
       "\t\t<dd>0</dd>\n",
       "\t<dt>X. 15</dt>\n",
       "\t\t<dd>0</dd>\n",
       "\t<dt>X. 17</dt>\n",
       "\t\t<dd>-0.0823919490841221</dd>\n",
       "\t<dt>Y. 11</dt>\n",
       "\t\t<dd>0</dd>\n",
       "\t<dt>Y. 12</dt>\n",
       "\t\t<dd>-0.293850556016789</dd>\n",
       "\t<dt>Y. 24</dt>\n",
       "\t\t<dd>0</dd>\n",
       "\t<dt>Z. 1</dt>\n",
       "\t\t<dd>0</dd>\n",
       "\t<dt>Z. 249</dt>\n",
       "\t\t<dd>0</dd>\n",
       "\t<dt>Z. 257</dt>\n",
       "\t\t<dd>-0.128888843561992</dd>\n",
       "</dl>\n"
      ],
      "text/latex": [
       "\\begin{description*}\n",
       "\\item[(Intercept)] -5.34675761649471\n",
       "\\item[X. 14] 0\n",
       "\\item[X. 15] 0\n",
       "\\item[X. 17] -0.0823919490841221\n",
       "\\item[Y. 11] 0\n",
       "\\item[Y. 12] -0.293850556016789\n",
       "\\item[Y. 24] 0\n",
       "\\item[Z. 1] 0\n",
       "\\item[Z. 249] 0\n",
       "\\item[Z. 257] -0.128888843561992\n",
       "\\end{description*}\n"
      ],
      "text/markdown": [
       "(Intercept)\n",
       ":   -5.34675761649471X. 14\n",
       ":   0X. 15\n",
       ":   0X. 17\n",
       ":   -0.0823919490841221Y. 11\n",
       ":   0Y. 12\n",
       ":   -0.293850556016789Y. 24\n",
       ":   0Z. 1\n",
       ":   0Z. 249\n",
       ":   0Z. 257\n",
       ":   -0.128888843561992\n",
       "\n"
      ],
      "text/plain": [
       "(Intercept)       X. 14       X. 15       X. 17       Y. 11       Y. 12 \n",
       "-5.34675762  0.00000000  0.00000000 -0.08239195  0.00000000 -0.29385056 \n",
       "      Y. 24        Z. 1      Z. 249      Z. 257 \n",
       " 0.00000000  0.00000000  0.00000000 -0.12888884 "
      ]
     },
     "metadata": {},
     "output_type": "display_data"
    }
   ],
   "source": [
    "#show several coefficients for labbda.min\n",
    "coef(cvlogfit,s=\"lambda.min\")[c(1,15,16,18,327,328,340,632,880,888),1]"
   ]
  },
  {
   "cell_type": "code",
   "execution_count": 60,
   "id": "69c820cc",
   "metadata": {},
   "outputs": [
    {
     "data": {
      "text/html": [
       "<ol class=list-inline>\n",
       "\t<li>946</li>\n",
       "\t<li>1</li>\n",
       "</ol>\n"
      ],
      "text/latex": [
       "\\begin{enumerate*}\n",
       "\\item 946\n",
       "\\item 1\n",
       "\\end{enumerate*}\n"
      ],
      "text/markdown": [
       "1. 946\n",
       "2. 1\n",
       "\n",
       "\n"
      ],
      "text/plain": [
       "[1] 946   1"
      ]
     },
     "metadata": {},
     "output_type": "display_data"
    }
   ],
   "source": [
    "dim(coef(cvlogfit,s=\"lambda.min\"))\n",
    "#945 features + 1 intercept"
   ]
  },
  {
   "cell_type": "code",
   "execution_count": 104,
   "id": "842b575e",
   "metadata": {},
   "outputs": [
    {
     "data": {
      "text/html": [
       "20"
      ],
      "text/latex": [
       "20"
      ],
      "text/markdown": [
       "20"
      ],
      "text/plain": [
       "[1] 20"
      ]
     },
     "metadata": {},
     "output_type": "display_data"
    },
    {
     "data": {
      "text/html": [
       "10"
      ],
      "text/latex": [
       "10"
      ],
      "text/markdown": [
       "10"
      ],
      "text/plain": [
       "[1] 10"
      ]
     },
     "metadata": {},
     "output_type": "display_data"
    },
    {
     "data": {
      "text/html": [
       "7"
      ],
      "text/latex": [
       "7"
      ],
      "text/markdown": [
       "7"
      ],
      "text/plain": [
       "[1] 7"
      ]
     },
     "metadata": {},
     "output_type": "display_data"
    }
   ],
   "source": [
    "#Now let's see, in which indexes the non-zero coefficients occur.\n",
    "howmanyx= sum(ifelse(coef(cvlogfit,s=\"lambda.min\")[2:316,] != 0 , 1,0))\n",
    "howmanyy= sum(ifelse(coef(cvlogfit,s=\"lambda.min\")[317:631,] != 0 , 1,0))\n",
    "howmanyz= sum(ifelse(coef(cvlogfit,s=\"lambda.min\")[632:946,] != 0 , 1,0))\n",
    "howmanyx\n",
    "howmanyy\n",
    "howmanyz"
   ]
  },
  {
   "cell_type": "markdown",
   "id": "04358047",
   "metadata": {},
   "source": [
    "20 x features, 10 y features, 7 z features have non-zero coefficients. The others were eliminated ( penalized and got 0 coeff.)"
   ]
  },
  {
   "cell_type": "code",
   "execution_count": 105,
   "id": "3cd59772",
   "metadata": {
    "scrolled": true
   },
   "outputs": [
    {
     "data": {
      "text/html": [
       "38"
      ],
      "text/latex": [
       "38"
      ],
      "text/markdown": [
       "38"
      ],
      "text/plain": [
       "[1] 38"
      ]
     },
     "metadata": {},
     "output_type": "display_data"
    }
   ],
   "source": [
    "#total non zero coeff + 1 intercept\n",
    "howmany = howmanyx +howmanyy + howmanyz +1 \n",
    "howmany\n"
   ]
  },
  {
   "cell_type": "code",
   "execution_count": 63,
   "id": "d3153a8d",
   "metadata": {},
   "outputs": [
    {
     "data": {
      "text/html": [
       "<table>\n",
       "<thead><tr><th></th><th scope=col>Ges_Class</th><th scope=col>X. 1</th></tr></thead>\n",
       "<tbody>\n",
       "\t<tr><th scope=row>1</th><td>6          </td><td>-0.42019517</td></tr>\n",
       "\t<tr><th scope=row>2</th><td>5          </td><td> 1.78273070</td></tr>\n",
       "\t<tr><th scope=row>4</th><td>3          </td><td>-0.06635733</td></tr>\n",
       "\t<tr><th scope=row>7</th><td>7          </td><td> 1.60010472</td></tr>\n",
       "\t<tr><th scope=row>8</th><td>4          </td><td> 0.27606638</td></tr>\n",
       "\t<tr><th scope=row>11</th><td>1          </td><td>-0.97948722</td></tr>\n",
       "\t<tr><th scope=row>20</th><td>2          </td><td> 0.08202627</td></tr>\n",
       "\t<tr><th scope=row>21</th><td>8          </td><td>-0.64847764</td></tr>\n",
       "</tbody>\n",
       "</table>\n"
      ],
      "text/latex": [
       "\\begin{tabular}{r|ll}\n",
       "  & Ges\\_Class & X. 1\\\\\n",
       "\\hline\n",
       "\t1 & 6           & -0.42019517\\\\\n",
       "\t2 & 5           &  1.78273070\\\\\n",
       "\t4 & 3           & -0.06635733\\\\\n",
       "\t7 & 7           &  1.60010472\\\\\n",
       "\t8 & 4           &  0.27606638\\\\\n",
       "\t11 & 1           & -0.97948722\\\\\n",
       "\t20 & 2           &  0.08202627\\\\\n",
       "\t21 & 8           & -0.64847764\\\\\n",
       "\\end{tabular}\n"
      ],
      "text/markdown": [
       "\n",
       "| <!--/--> | Ges_Class | X. 1 |\n",
       "|---|---|---|\n",
       "| 1 | 6           | -0.42019517 |\n",
       "| 2 | 5           |  1.78273070 |\n",
       "| 4 | 3           | -0.06635733 |\n",
       "| 7 | 7           |  1.60010472 |\n",
       "| 8 | 4           |  0.27606638 |\n",
       "| 11 | 1           | -0.97948722 |\n",
       "| 20 | 2           |  0.08202627 |\n",
       "| 21 | 8           | -0.64847764 |\n",
       "\n"
      ],
      "text/plain": [
       "   Ges_Class X. 1       \n",
       "1  6         -0.42019517\n",
       "2  5          1.78273070\n",
       "4  3         -0.06635733\n",
       "7  7          1.60010472\n",
       "8  4          0.27606638\n",
       "11 1         -0.97948722\n",
       "20 2          0.08202627\n",
       "21 8         -0.64847764"
      ]
     },
     "metadata": {},
     "output_type": "display_data"
    }
   ],
   "source": [
    "#########plot\n",
    "#Plot one instance from each class as time series, and try to catch where class#3 is distinct the most.\n",
    "#In terms of distance from one the other, we may see the part (in index) where \n",
    "#the class#3 is the most distinct from the others.\n",
    "\n",
    "#the acceleration data for classes in x1-x2----y1-y2----z1-z2 format\n",
    "#get a random instance of ech class\n",
    "#use Scaled_Train_Data_Conc data\n",
    "Scaled_Train_Data_Conc[c(1,2,4,7,8,11,20,21),1:2]\n",
    "#index 1-gesture6\n",
    "#index 2-gesture5\n",
    "#index 4-gesture3##\n",
    "#index 7-gesture7\n",
    "#index 8-gesture4\n",
    "#index 11-gesture1\n",
    "#index 20-gesture2\n",
    "#index 21-gesture8"
   ]
  },
  {
   "cell_type": "code",
   "execution_count": 69,
   "id": "41b6a744",
   "metadata": {},
   "outputs": [
    {
     "data": {
      "text/html": [
       "<dl class=dl-horizontal>\n",
       "\t<dt>(Intercept)</dt>\n",
       "\t\t<dd>-5.34675761649471</dd>\n",
       "\t<dt>X. 14</dt>\n",
       "\t\t<dd>0</dd>\n",
       "\t<dt>X. 15</dt>\n",
       "\t\t<dd>0</dd>\n",
       "\t<dt>X. 17</dt>\n",
       "\t\t<dd>-0.0823919490841221</dd>\n",
       "\t<dt>Y. 11</dt>\n",
       "\t\t<dd>0</dd>\n",
       "\t<dt>Y. 12</dt>\n",
       "\t\t<dd>-0.293850556016789</dd>\n",
       "\t<dt>Y. 24</dt>\n",
       "\t\t<dd>0</dd>\n",
       "\t<dt>Z. 1</dt>\n",
       "\t\t<dd>0</dd>\n",
       "\t<dt>Z. 249</dt>\n",
       "\t\t<dd>0</dd>\n",
       "\t<dt>Z. 257</dt>\n",
       "\t\t<dd>-0.128888843561992</dd>\n",
       "</dl>\n"
      ],
      "text/latex": [
       "\\begin{description*}\n",
       "\\item[(Intercept)] -5.34675761649471\n",
       "\\item[X. 14] 0\n",
       "\\item[X. 15] 0\n",
       "\\item[X. 17] -0.0823919490841221\n",
       "\\item[Y. 11] 0\n",
       "\\item[Y. 12] -0.293850556016789\n",
       "\\item[Y. 24] 0\n",
       "\\item[Z. 1] 0\n",
       "\\item[Z. 249] 0\n",
       "\\item[Z. 257] -0.128888843561992\n",
       "\\end{description*}\n"
      ],
      "text/markdown": [
       "(Intercept)\n",
       ":   -5.34675761649471X. 14\n",
       ":   0X. 15\n",
       ":   0X. 17\n",
       ":   -0.0823919490841221Y. 11\n",
       ":   0Y. 12\n",
       ":   -0.293850556016789Y. 24\n",
       ":   0Z. 1\n",
       ":   0Z. 249\n",
       ":   0Z. 257\n",
       ":   -0.128888843561992\n",
       "\n"
      ],
      "text/plain": [
       "(Intercept)       X. 14       X. 15       X. 17       Y. 11       Y. 12 \n",
       "-5.34675762  0.00000000  0.00000000 -0.08239195  0.00000000 -0.29385056 \n",
       "      Y. 24        Z. 1      Z. 249      Z. 257 \n",
       " 0.00000000  0.00000000  0.00000000 -0.12888884 "
      ]
     },
     "metadata": {},
     "output_type": "display_data"
    },
    {
     "data": {
      "image/png": "[encoded data removed]",
      "text/plain": [
       "Plot with title \"Training data in timeseries\""
      ]
     },
     "metadata": {},
     "output_type": "display_data"
    }
   ],
   "source": [
    "#now plot\n",
    "#this is class#3\n",
    "plot( c(1:945),Scaled_Train_Data_Conc[4,-1],type=\"l\", xlab=\"Index\", col=\"red\",ylab=\"\", main =\"Training data in timeseries\")\n",
    "#plot the others\n",
    "for (i in c(1,2,7,8,11,20,21))   \n",
    "{\n",
    "  points ( c(1:945),Scaled_Train_Data_Conc[i,-1],type=\"l\", xlab=\"Index\", col=\"beige\") \n",
    " \n",
    "}\n",
    "\n",
    "#add a vertical line for which the coeffieicients a nonzero, for instance add a line to x=17 y=12 z= 257 ..\n",
    "coef(cvlogfit,s=\"lambda.min\")[c(1,15,16,18,327,328,340,632,880,888),1]\n",
    "\n",
    "no=0\n",
    "for (i in 2:946) {\n",
    "if (coef(cvlogfit,s=\"lambda.min\")[i,1] != 0) \n",
    "{#print ( coef(cvlogfit,s=\"lambda.min\")[i,1]) #show which\n",
    " #print(i)\n",
    "  no = no+1\n",
    "  abline ( v  =  i-1 , col = \"black\")} \n",
    "  # minus 1st index intercept,indexofcoord=i-1, where intercept(i=1),x1... x(index)=i-1,...x315, y1,...z1,...z315\n",
    "}\n"
   ]
  },
  {
   "cell_type": "code",
   "execution_count": 70,
   "id": "94e80c75",
   "metadata": {},
   "outputs": [
    {
     "data": {
      "text/html": [
       "37"
      ],
      "text/latex": [
       "37"
      ],
      "text/markdown": [
       "37"
      ],
      "text/plain": [
       "[1] 37"
      ]
     },
     "metadata": {},
     "output_type": "display_data"
    }
   ],
   "source": [
    "#index: first 315 for x, next 315 for y, the last 315 for z\n",
    "# no= number of nonzero coeff (excluding intercept, only for x1,x2,,z314,z315)\n",
    "no"
   ]
  },
  {
   "cell_type": "markdown",
   "id": "e9b2501c",
   "metadata": {},
   "source": [
    "The number effective features reduced to 37 (+1 intercept).\n",
    "\n",
    "On the plot, we can see that nonzero coefficents are in between x235-x336 mostly, there is a few nonzero for y and z has even less effective coordinate values.\n",
    "\n",
    "Xcoordinates have the most affect on the results. This result is in-line with our previous assumption on weighting the distances on each x-y-x coordinate seperately. For instance, here, x should have gotten more weight. It makes sense since class#3 is a straight line lying on the x axis.\n",
    "\n",
    "On the plot we can compare the behavior of  class#3  to the others. It is quite hard to capture the difference, but, Class#3 behavior seem to differ from the other classes in terms of the xcord values the most, in between ~ x235-x336. "
   ]
  },
  {
   "cell_type": "markdown",
   "id": "74f29622",
   "metadata": {},
   "source": [
    "#### Test on test data"
   ]
  },
  {
   "cell_type": "code",
   "execution_count": 111,
   "id": "33426ba5",
   "metadata": {},
   "outputs": [
    {
     "data": {
      "text/plain": [
       "Time difference of 0.05702496 secs"
      ]
     },
     "metadata": {},
     "output_type": "display_data"
    },
    {
     "data": {
      "text/html": [
       "<table>\n",
       "<thead><tr><th></th><th scope=col>0</th><th scope=col>1</th><th scope=col>Sum</th></tr></thead>\n",
       "<tbody>\n",
       "\t<tr><th scope=row>0</th><td>2897</td><td>231 </td><td>3128</td></tr>\n",
       "\t<tr><th scope=row>1</th><td>  42</td><td>412 </td><td> 454</td></tr>\n",
       "\t<tr><th scope=row>Sum</th><td>2939</td><td>643 </td><td>3582</td></tr>\n",
       "</tbody>\n",
       "</table>\n"
      ],
      "text/latex": [
       "\\begin{tabular}{r|lll}\n",
       "  & 0 & 1 & Sum\\\\\n",
       "\\hline\n",
       "\t0 & 2897 & 231  & 3128\\\\\n",
       "\t1 &   42 & 412  &  454\\\\\n",
       "\tSum & 2939 & 643  & 3582\\\\\n",
       "\\end{tabular}\n"
      ],
      "text/markdown": [
       "\n",
       "| <!--/--> | 0 | 1 | Sum |\n",
       "|---|---|---|---|\n",
       "| 0 | 2897 | 231  | 3128 |\n",
       "| 1 |   42 | 412  |  454 |\n",
       "| Sum | 2939 | 643  | 3582 |\n",
       "\n"
      ],
      "text/plain": [
       "     pen_pred_test\n",
       "      0    1   Sum \n",
       "  0   2897 231 3128\n",
       "  1     42 412  454\n",
       "  Sum 2939 643 3582"
      ]
     },
     "metadata": {},
     "output_type": "display_data"
    }
   ],
   "source": [
    "#test on test data\n",
    "class_mat_test = as.matrix(c_test[,-1])\n",
    "#on test data\n",
    "start.time <- Sys.time()\n",
    "\n",
    "pen_prob_test <-  predict(cvlogfit,class_mat_test,type='response',s='lambda.min')\n",
    "#pen_prob_test\n",
    "pen_pred_test <- as.integer(pen_prob_test > ratio)\n",
    "\n",
    "end.time <- Sys.time()\n",
    "time.taken <- end.time - start.time\n",
    "time.taken\n",
    "\n",
    "pen_confusion_mat_test <- addmargins(table(c_test$Ges_Class, pen_pred_test))\n",
    "\n",
    "pen_confusion_mat_test"
   ]
  },
  {
   "cell_type": "markdown",
   "id": "e02c602e",
   "metadata": {},
   "source": [
    "The  model predicted 412 of the 454 class#3 correctly."
   ]
  },
  {
   "cell_type": "code",
   "execution_count": 112,
   "id": "bd0a6852",
   "metadata": {},
   "outputs": [
    {
     "data": {
      "text/plain": [
       "       1            \n",
       " Min.   :0.0000014  \n",
       " 1st Qu.:0.0004345  \n",
       " Median :0.0026884  \n",
       " Mean   :0.1162499  \n",
       " 3rd Qu.:0.0274760  \n",
       " Max.   :0.9966285  "
      ]
     },
     "metadata": {},
     "output_type": "display_data"
    }
   ],
   "source": [
    "summary(pen_prob_test)"
   ]
  },
  {
   "cell_type": "code",
   "execution_count": 113,
   "id": "2f7c5879",
   "metadata": {},
   "outputs": [
    {
     "data": {
      "text/html": [
       "0.076214405360134"
      ],
      "text/latex": [
       "0.076214405360134"
      ],
      "text/markdown": [
       "0.076214405360134"
      ],
      "text/plain": [
       "[1] 0.07621441"
      ]
     },
     "metadata": {},
     "output_type": "display_data"
    },
    {
     "data": {
      "text/html": [
       "0.923785594639866"
      ],
      "text/latex": [
       "0.923785594639866"
      ],
      "text/markdown": [
       "0.923785594639866"
      ],
      "text/plain": [
       "[1] 0.9237856"
      ]
     },
     "metadata": {},
     "output_type": "display_data"
    }
   ],
   "source": [
    "#testing error & accuracy\n",
    "pentesterr =  1- (sum(diag((pen_confusion_mat_test[1:2,1:2]))) /  pen_confusion_mat_test[3,3])\n",
    "pentesterr \n",
    "\n",
    "pen_acc_test= 1- pentesterr\n",
    "pen_acc_test\n"
   ]
  },
  {
   "cell_type": "markdown",
   "id": "fce169b9",
   "metadata": {},
   "source": [
    "Accuracy = 92.4 %. It is significantly increased compared to the first model without penalties. \n",
    "Overfitting is prevented since not all of the features were employed in the model now, some were penalized. Model complexity is significantly reduced."
   ]
  },
  {
   "cell_type": "markdown",
   "id": "9b2883c5",
   "metadata": {},
   "source": [
    "### 2c) You are expected to transform your training data to distance information (i.e. Nby N matrix). Note that you need to perform a similar transformation to your test data. In other words, you need to calculate the distance of each test instance to training instance to obtain a distance based representation for your test data. This will be an Ntest by N matrix (Ntest refers to the number of test instances) where each entry (i,j) refers to the distance of test time series i to the training time series j. You can use Euclidean distance as your distance measure. Perform the same training and test strategy as in part b but use the distances as your new feature matrices. Comment on the regression coefficients. What do they imply under this new representation setting?"
   ]
  },
  {
   "cell_type": "code",
   "execution_count": 82,
   "id": "f5dcb2b9",
   "metadata": {
    "scrolled": true
   },
   "outputs": [
    {
     "data": {
      "text/html": [
       "<table>\n",
       "<thead><tr><th scope=col>X. 1</th><th scope=col>X. 2</th><th scope=col>X. 3</th><th scope=col>X. 4</th><th scope=col>X. 5</th></tr></thead>\n",
       "<tbody>\n",
       "\t<tr><td>-0.42019517</td><td>-0.42002489</td><td>-0.41967767</td><td>-0.41931952</td><td>-0.41912939</td></tr>\n",
       "\t<tr><td> 1.78273070</td><td> 1.78260929</td><td> 1.78213720</td><td> 1.78148436</td><td> 1.78034280</td></tr>\n",
       "\t<tr><td> 0.67556070</td><td> 0.67558589</td><td> 0.67552558</td><td> 0.67538086</td><td> 0.67490859</td></tr>\n",
       "\t<tr><td>-0.06635733</td><td>-0.06623391</td><td>-0.06601829</td><td>-0.06582253</td><td>-0.06584629</td></tr>\n",
       "\t<tr><td> 1.39465049</td><td> 1.39458047</td><td> 1.39425271</td><td> 1.39377798</td><td> 1.39287102</td></tr>\n",
       "</tbody>\n",
       "</table>\n"
      ],
      "text/latex": [
       "\\begin{tabular}{lllll}\n",
       " X. 1 & X. 2 & X. 3 & X. 4 & X. 5\\\\\n",
       "\\hline\n",
       "\t -0.42019517 & -0.42002489 & -0.41967767 & -0.41931952 & -0.41912939\\\\\n",
       "\t  1.78273070 &  1.78260929 &  1.78213720 &  1.78148436 &  1.78034280\\\\\n",
       "\t  0.67556070 &  0.67558589 &  0.67552558 &  0.67538086 &  0.67490859\\\\\n",
       "\t -0.06635733 & -0.06623391 & -0.06601829 & -0.06582253 & -0.06584629\\\\\n",
       "\t  1.39465049 &  1.39458047 &  1.39425271 &  1.39377798 &  1.39287102\\\\\n",
       "\\end{tabular}\n"
      ],
      "text/markdown": [
       "\n",
       "| X. 1 | X. 2 | X. 3 | X. 4 | X. 5 |\n",
       "|---|---|---|---|---|\n",
       "| -0.42019517 | -0.42002489 | -0.41967767 | -0.41931952 | -0.41912939 |\n",
       "|  1.78273070 |  1.78260929 |  1.78213720 |  1.78148436 |  1.78034280 |\n",
       "|  0.67556070 |  0.67558589 |  0.67552558 |  0.67538086 |  0.67490859 |\n",
       "| -0.06635733 | -0.06623391 | -0.06601829 | -0.06582253 | -0.06584629 |\n",
       "|  1.39465049 |  1.39458047 |  1.39425271 |  1.39377798 |  1.39287102 |\n",
       "\n"
      ],
      "text/plain": [
       "     X. 1        X. 2        X. 3        X. 4        X. 5       \n",
       "[1,] -0.42019517 -0.42002489 -0.41967767 -0.41931952 -0.41912939\n",
       "[2,]  1.78273070  1.78260929  1.78213720  1.78148436  1.78034280\n",
       "[3,]  0.67556070  0.67558589  0.67552558  0.67538086  0.67490859\n",
       "[4,] -0.06635733 -0.06623391 -0.06601829 -0.06582253 -0.06584629\n",
       "[5,]  1.39465049  1.39458047  1.39425271  1.39377798  1.39287102"
      ]
     },
     "metadata": {},
     "output_type": "display_data"
    },
    {
     "data": {
      "text/html": [
       "<table>\n",
       "<thead><tr><th scope=col>X. 1</th><th scope=col>X. 2</th><th scope=col>X. 3</th><th scope=col>X. 4</th><th scope=col>X. 5</th></tr></thead>\n",
       "<tbody>\n",
       "\t<tr><td> 1.7528041</td><td> 1.7534430</td><td> 1.7538109</td><td> 1.7542993</td><td> 1.7548017</td></tr>\n",
       "\t<tr><td>-0.1433734</td><td>-0.1438205</td><td>-0.1440569</td><td>-0.1439606</td><td>-0.1436661</td></tr>\n",
       "\t<tr><td> 1.6949938</td><td> 1.7187370</td><td> 1.7306662</td><td> 1.7542993</td><td> 1.7663777</td></tr>\n",
       "\t<tr><td> 1.4521906</td><td> 1.4526574</td><td> 1.4529294</td><td> 1.4533557</td><td> 1.4538250</td></tr>\n",
       "\t<tr><td> 1.4521906</td><td> 1.4526574</td><td> 1.4529294</td><td> 1.4533557</td><td> 1.4538250</td></tr>\n",
       "</tbody>\n",
       "</table>\n"
      ],
      "text/latex": [
       "\\begin{tabular}{lllll}\n",
       " X. 1 & X. 2 & X. 3 & X. 4 & X. 5\\\\\n",
       "\\hline\n",
       "\t  1.7528041 &  1.7534430 &  1.7538109 &  1.7542993 &  1.7548017\\\\\n",
       "\t -0.1433734 & -0.1438205 & -0.1440569 & -0.1439606 & -0.1436661\\\\\n",
       "\t  1.6949938 &  1.7187370 &  1.7306662 &  1.7542993 &  1.7663777\\\\\n",
       "\t  1.4521906 &  1.4526574 &  1.4529294 &  1.4533557 &  1.4538250\\\\\n",
       "\t  1.4521906 &  1.4526574 &  1.4529294 &  1.4533557 &  1.4538250\\\\\n",
       "\\end{tabular}\n"
      ],
      "text/markdown": [
       "\n",
       "| X. 1 | X. 2 | X. 3 | X. 4 | X. 5 |\n",
       "|---|---|---|---|---|\n",
       "|  1.7528041 |  1.7534430 |  1.7538109 |  1.7542993 |  1.7548017 |\n",
       "| -0.1433734 | -0.1438205 | -0.1440569 | -0.1439606 | -0.1436661 |\n",
       "|  1.6949938 |  1.7187370 |  1.7306662 |  1.7542993 |  1.7663777 |\n",
       "|  1.4521906 |  1.4526574 |  1.4529294 |  1.4533557 |  1.4538250 |\n",
       "|  1.4521906 |  1.4526574 |  1.4529294 |  1.4533557 |  1.4538250 |\n",
       "\n"
      ],
      "text/plain": [
       "     X. 1       X. 2       X. 3       X. 4       X. 5      \n",
       "[1,]  1.7528041  1.7534430  1.7538109  1.7542993  1.7548017\n",
       "[2,] -0.1433734 -0.1438205 -0.1440569 -0.1439606 -0.1436661\n",
       "[3,]  1.6949938  1.7187370  1.7306662  1.7542993  1.7663777\n",
       "[4,]  1.4521906  1.4526574  1.4529294  1.4533557  1.4538250\n",
       "[5,]  1.4521906  1.4526574  1.4529294  1.4533557  1.4538250"
      ]
     },
     "metadata": {},
     "output_type": "display_data"
    },
    {
     "data": {
      "text/html": [
       "<table>\n",
       "<tbody>\n",
       "\t<tr><th scope=row>X. 1</th><td>-0.4201952 </td><td>1.782731   </td><td>0.6755607  </td><td>-0.06635733</td><td>1.394650   </td></tr>\n",
       "\t<tr><th scope=row>X. 2</th><td>-0.4200249 </td><td>1.782609   </td><td>0.6755859  </td><td>-0.06623391</td><td>1.394580   </td></tr>\n",
       "\t<tr><th scope=row>X. 3</th><td>-0.4196777 </td><td>1.782137   </td><td>0.6755256  </td><td>-0.06601829</td><td>1.394253   </td></tr>\n",
       "\t<tr><th scope=row>X. 4</th><td>-0.4193195 </td><td>1.781484   </td><td>0.6753809  </td><td>-0.06582253</td><td>1.393778   </td></tr>\n",
       "\t<tr><th scope=row>X. 5</th><td>-0.4191294 </td><td>1.780343   </td><td>0.6749086  </td><td>-0.06584629</td><td>1.392871   </td></tr>\n",
       "</tbody>\n",
       "</table>\n"
      ],
      "text/latex": [
       "\\begin{tabular}{r|lllll}\n",
       "\tX. 1 & -0.4201952  & 1.782731    & 0.6755607   & -0.06635733 & 1.394650   \\\\\n",
       "\tX. 2 & -0.4200249  & 1.782609    & 0.6755859   & -0.06623391 & 1.394580   \\\\\n",
       "\tX. 3 & -0.4196777  & 1.782137    & 0.6755256   & -0.06601829 & 1.394253   \\\\\n",
       "\tX. 4 & -0.4193195  & 1.781484    & 0.6753809   & -0.06582253 & 1.393778   \\\\\n",
       "\tX. 5 & -0.4191294  & 1.780343    & 0.6749086   & -0.06584629 & 1.392871   \\\\\n",
       "\\end{tabular}\n"
      ],
      "text/markdown": [
       "\n",
       "| X. 1 | -0.4201952  | 1.782731    | 0.6755607   | -0.06635733 | 1.394650    |\n",
       "| X. 2 | -0.4200249  | 1.782609    | 0.6755859   | -0.06623391 | 1.394580    |\n",
       "| X. 3 | -0.4196777  | 1.782137    | 0.6755256   | -0.06601829 | 1.394253    |\n",
       "| X. 4 | -0.4193195  | 1.781484    | 0.6753809   | -0.06582253 | 1.393778    |\n",
       "| X. 5 | -0.4191294  | 1.780343    | 0.6749086   | -0.06584629 | 1.392871    |\n",
       "\n"
      ],
      "text/plain": [
       "     [,1]       [,2]     [,3]      [,4]        [,5]    \n",
       "X. 1 -0.4201952 1.782731 0.6755607 -0.06635733 1.394650\n",
       "X. 2 -0.4200249 1.782609 0.6755859 -0.06623391 1.394580\n",
       "X. 3 -0.4196777 1.782137 0.6755256 -0.06601829 1.394253\n",
       "X. 4 -0.4193195 1.781484 0.6753809 -0.06582253 1.393778\n",
       "X. 5 -0.4191294 1.780343 0.6749086 -0.06584629 1.392871"
      ]
     },
     "metadata": {},
     "output_type": "display_data"
    },
    {
     "data": {
      "text/html": [
       "<table>\n",
       "<tbody>\n",
       "\t<tr><th scope=row>X. 1</th><td>1.752804  </td><td>-0.1433734</td><td>1.694994  </td><td>1.452191  </td><td>1.452191  </td></tr>\n",
       "\t<tr><th scope=row>X. 2</th><td>1.753443  </td><td>-0.1438205</td><td>1.718737  </td><td>1.452657  </td><td>1.452657  </td></tr>\n",
       "\t<tr><th scope=row>X. 3</th><td>1.753811  </td><td>-0.1440569</td><td>1.730666  </td><td>1.452929  </td><td>1.452929  </td></tr>\n",
       "\t<tr><th scope=row>X. 4</th><td>1.754299  </td><td>-0.1439606</td><td>1.754299  </td><td>1.453356  </td><td>1.453356  </td></tr>\n",
       "\t<tr><th scope=row>X. 5</th><td>1.754802  </td><td>-0.1436661</td><td>1.766378  </td><td>1.453825  </td><td>1.453825  </td></tr>\n",
       "</tbody>\n",
       "</table>\n"
      ],
      "text/latex": [
       "\\begin{tabular}{r|lllll}\n",
       "\tX. 1 & 1.752804   & -0.1433734 & 1.694994   & 1.452191   & 1.452191  \\\\\n",
       "\tX. 2 & 1.753443   & -0.1438205 & 1.718737   & 1.452657   & 1.452657  \\\\\n",
       "\tX. 3 & 1.753811   & -0.1440569 & 1.730666   & 1.452929   & 1.452929  \\\\\n",
       "\tX. 4 & 1.754299   & -0.1439606 & 1.754299   & 1.453356   & 1.453356  \\\\\n",
       "\tX. 5 & 1.754802   & -0.1436661 & 1.766378   & 1.453825   & 1.453825  \\\\\n",
       "\\end{tabular}\n"
      ],
      "text/markdown": [
       "\n",
       "| X. 1 | 1.752804   | -0.1433734 | 1.694994   | 1.452191   | 1.452191   |\n",
       "| X. 2 | 1.753443   | -0.1438205 | 1.718737   | 1.452657   | 1.452657   |\n",
       "| X. 3 | 1.753811   | -0.1440569 | 1.730666   | 1.452929   | 1.452929   |\n",
       "| X. 4 | 1.754299   | -0.1439606 | 1.754299   | 1.453356   | 1.453356   |\n",
       "| X. 5 | 1.754802   | -0.1436661 | 1.766378   | 1.453825   | 1.453825   |\n",
       "\n"
      ],
      "text/plain": [
       "     [,1]     [,2]       [,3]     [,4]     [,5]    \n",
       "X. 1 1.752804 -0.1433734 1.694994 1.452191 1.452191\n",
       "X. 2 1.753443 -0.1438205 1.718737 1.452657 1.452657\n",
       "X. 3 1.753811 -0.1440569 1.730666 1.452929 1.452929\n",
       "X. 4 1.754299 -0.1439606 1.754299 1.453356 1.453356\n",
       "X. 5 1.754802 -0.1436661 1.766378 1.453825 1.453825"
      ]
     },
     "metadata": {},
     "output_type": "display_data"
    }
   ],
   "source": [
    "###distance matrix based approach\n",
    "#we already have\n",
    "class_mat_train[1:5,1:5]\n",
    "class_mat_test [1:5,1:5]\n",
    "#get the transpose, put each the instances in vector from (without class info)\n",
    "tr_train = t(class_mat_train)\n",
    "tr_test = t(class_mat_test)\n",
    "#sample\n",
    "tr_train [1:5,1:5]\n",
    "tr_test [1:5,1:5]"
   ]
  },
  {
   "cell_type": "code",
   "execution_count": 83,
   "id": "cf4f7634",
   "metadata": {},
   "outputs": [
    {
     "data": {
      "text/html": [
       "<ol class=list-inline>\n",
       "\t<li>945</li>\n",
       "\t<li>896</li>\n",
       "</ol>\n"
      ],
      "text/latex": [
       "\\begin{enumerate*}\n",
       "\\item 945\n",
       "\\item 896\n",
       "\\end{enumerate*}\n"
      ],
      "text/markdown": [
       "1. 945\n",
       "2. 896\n",
       "\n",
       "\n"
      ],
      "text/plain": [
       "[1] 945 896"
      ]
     },
     "metadata": {},
     "output_type": "display_data"
    },
    {
     "data": {
      "text/html": [
       "<ol class=list-inline>\n",
       "\t<li>945</li>\n",
       "\t<li>3582</li>\n",
       "</ol>\n"
      ],
      "text/latex": [
       "\\begin{enumerate*}\n",
       "\\item 945\n",
       "\\item 3582\n",
       "\\end{enumerate*}\n"
      ],
      "text/markdown": [
       "1. 945\n",
       "2. 3582\n",
       "\n",
       "\n"
      ],
      "text/plain": [
       "[1]  945 3582"
      ]
     },
     "metadata": {},
     "output_type": "display_data"
    }
   ],
   "source": [
    "#check dim\n",
    "dim(tr_train)\n",
    "dim(tr_test)"
   ]
  },
  {
   "cell_type": "markdown",
   "id": "40732eb7",
   "metadata": {},
   "source": [
    "tr_train has N=896 instances each has a lenght of 945. 945*896 matrix\n",
    "\n",
    "tr_testhas Ntest=3582 instances each has a lenght of 945. 945*3582 matrix"
   ]
  },
  {
   "cell_type": "code",
   "execution_count": 84,
   "id": "bc1490de",
   "metadata": {},
   "outputs": [],
   "source": [
    "#calculate distance between training of each instance training/test and each instance of trainig\n",
    "\n",
    "dismat_train = matrix( nrow = ncol(tr_train), ncol = ncol(tr_train))\n",
    "dismat_tt = matrix( nrow = ncol(tr_test), ncol = ncol(tr_train))"
   ]
  },
  {
   "cell_type": "code",
   "execution_count": 85,
   "id": "a14ae0d0",
   "metadata": {},
   "outputs": [
    {
     "data": {
      "text/html": [
       "<table>\n",
       "<tbody>\n",
       "\t<tr><td> 0.00000</td><td>51.55262</td><td>46.83241</td><td>50.69513</td><td>41.05373</td></tr>\n",
       "\t<tr><td>51.55262</td><td> 0.00000</td><td>26.51161</td><td>37.89787</td><td>34.45132</td></tr>\n",
       "\t<tr><td>46.83241</td><td>26.51161</td><td> 0.00000</td><td>44.05189</td><td>37.55521</td></tr>\n",
       "\t<tr><td>50.69513</td><td>37.89787</td><td>44.05189</td><td> 0.00000</td><td>46.61585</td></tr>\n",
       "\t<tr><td>41.05373</td><td>34.45132</td><td>37.55521</td><td>46.61585</td><td> 0.00000</td></tr>\n",
       "</tbody>\n",
       "</table>\n"
      ],
      "text/latex": [
       "\\begin{tabular}{lllll}\n",
       "\t  0.00000 & 51.55262 & 46.83241 & 50.69513 & 41.05373\\\\\n",
       "\t 51.55262 &  0.00000 & 26.51161 & 37.89787 & 34.45132\\\\\n",
       "\t 46.83241 & 26.51161 &  0.00000 & 44.05189 & 37.55521\\\\\n",
       "\t 50.69513 & 37.89787 & 44.05189 &  0.00000 & 46.61585\\\\\n",
       "\t 41.05373 & 34.45132 & 37.55521 & 46.61585 &  0.00000\\\\\n",
       "\\end{tabular}\n"
      ],
      "text/markdown": [
       "\n",
       "|  0.00000 | 51.55262 | 46.83241 | 50.69513 | 41.05373 |\n",
       "| 51.55262 |  0.00000 | 26.51161 | 37.89787 | 34.45132 |\n",
       "| 46.83241 | 26.51161 |  0.00000 | 44.05189 | 37.55521 |\n",
       "| 50.69513 | 37.89787 | 44.05189 |  0.00000 | 46.61585 |\n",
       "| 41.05373 | 34.45132 | 37.55521 | 46.61585 |  0.00000 |\n",
       "\n"
      ],
      "text/plain": [
       "     [,1]     [,2]     [,3]     [,4]     [,5]    \n",
       "[1,]  0.00000 51.55262 46.83241 50.69513 41.05373\n",
       "[2,] 51.55262  0.00000 26.51161 37.89787 34.45132\n",
       "[3,] 46.83241 26.51161  0.00000 44.05189 37.55521\n",
       "[4,] 50.69513 37.89787 44.05189  0.00000 46.61585\n",
       "[5,] 41.05373 34.45132 37.55521 46.61585  0.00000"
      ]
     },
     "metadata": {},
     "output_type": "display_data"
    }
   ],
   "source": [
    "#compute on train data. dist: train to train\n",
    "\n",
    "for (i in 1:ncol(tr_train))\n",
    "{\n",
    "for (j in 1:ncol(tr_train))\n",
    "  {\n",
    "    \n",
    "dismat_train [i,j]  = sqrt(sum( (tr_train[,i] -  tr_train[,j])^2 ) )\n",
    "\n",
    "  } #end j\n",
    "} #end i\n",
    "\n",
    "\n",
    "dismat_train [1:5,1:5]"
   ]
  },
  {
   "cell_type": "code",
   "execution_count": 86,
   "id": "d75749aa",
   "metadata": {},
   "outputs": [
    {
     "data": {
      "text/html": [
       "<ol class=list-inline>\n",
       "\t<li>896</li>\n",
       "\t<li>896</li>\n",
       "</ol>\n"
      ],
      "text/latex": [
       "\\begin{enumerate*}\n",
       "\\item 896\n",
       "\\item 896\n",
       "\\end{enumerate*}\n"
      ],
      "text/markdown": [
       "1. 896\n",
       "2. 896\n",
       "\n",
       "\n"
      ],
      "text/plain": [
       "[1] 896 896"
      ]
     },
     "metadata": {},
     "output_type": "display_data"
    }
   ],
   "source": [
    "#distance between 1st instance and 4th is 50.69\n",
    "dim(dismat_train)\n",
    "#it is 896*896 N*N"
   ]
  },
  {
   "cell_type": "code",
   "execution_count": 88,
   "id": "97c028c3",
   "metadata": {},
   "outputs": [
    {
     "data": {
      "text/html": [
       "<table>\n",
       "<tbody>\n",
       "\t<tr><td>51.95028</td><td>14.07490</td><td>28.94035</td><td>41.30975</td><td>35.94806</td></tr>\n",
       "\t<tr><td>35.19561</td><td>55.46713</td><td>55.68959</td><td>47.95484</td><td>46.19773</td></tr>\n",
       "\t<tr><td>42.20911</td><td>25.98261</td><td>36.41021</td><td>43.44508</td><td>29.70895</td></tr>\n",
       "\t<tr><td>42.99393</td><td>35.47328</td><td>44.19846</td><td>46.06910</td><td>26.01566</td></tr>\n",
       "\t<tr><td>50.10720</td><td>15.31215</td><td>16.65211</td><td>43.26090</td><td>35.28094</td></tr>\n",
       "</tbody>\n",
       "</table>\n"
      ],
      "text/latex": [
       "\\begin{tabular}{lllll}\n",
       "\t 51.95028 & 14.07490 & 28.94035 & 41.30975 & 35.94806\\\\\n",
       "\t 35.19561 & 55.46713 & 55.68959 & 47.95484 & 46.19773\\\\\n",
       "\t 42.20911 & 25.98261 & 36.41021 & 43.44508 & 29.70895\\\\\n",
       "\t 42.99393 & 35.47328 & 44.19846 & 46.06910 & 26.01566\\\\\n",
       "\t 50.10720 & 15.31215 & 16.65211 & 43.26090 & 35.28094\\\\\n",
       "\\end{tabular}\n"
      ],
      "text/markdown": [
       "\n",
       "| 51.95028 | 14.07490 | 28.94035 | 41.30975 | 35.94806 |\n",
       "| 35.19561 | 55.46713 | 55.68959 | 47.95484 | 46.19773 |\n",
       "| 42.20911 | 25.98261 | 36.41021 | 43.44508 | 29.70895 |\n",
       "| 42.99393 | 35.47328 | 44.19846 | 46.06910 | 26.01566 |\n",
       "| 50.10720 | 15.31215 | 16.65211 | 43.26090 | 35.28094 |\n",
       "\n"
      ],
      "text/plain": [
       "     [,1]     [,2]     [,3]     [,4]     [,5]    \n",
       "[1,] 51.95028 14.07490 28.94035 41.30975 35.94806\n",
       "[2,] 35.19561 55.46713 55.68959 47.95484 46.19773\n",
       "[3,] 42.20911 25.98261 36.41021 43.44508 29.70895\n",
       "[4,] 42.99393 35.47328 44.19846 46.06910 26.01566\n",
       "[5,] 50.10720 15.31215 16.65211 43.26090 35.28094"
      ]
     },
     "metadata": {},
     "output_type": "display_data"
    }
   ],
   "source": [
    "#calculate distance between  each instance of test and each instance of training \n",
    "\n",
    "for (i in 1:ncol(tr_test))\n",
    "{\n",
    "  for (j in 1:ncol(tr_train))\n",
    "  {\n",
    "    \n",
    "    dismat_tt [i,j]  = sqrt(sum( (tr_train[,j] -  tr_test[,i])^2 ) )\n",
    "    \n",
    "  } #end j\n",
    "} #end \n",
    "\n",
    "#sample train & test distance matrix\n",
    "dismat_tt [1:5,1:5]\n",
    "\n"
   ]
  },
  {
   "cell_type": "code",
   "execution_count": 89,
   "id": "01f759f3",
   "metadata": {},
   "outputs": [
    {
     "data": {
      "text/html": [
       "<ol class=list-inline>\n",
       "\t<li>3582</li>\n",
       "\t<li>896</li>\n",
       "</ol>\n"
      ],
      "text/latex": [
       "\\begin{enumerate*}\n",
       "\\item 3582\n",
       "\\item 896\n",
       "\\end{enumerate*}\n"
      ],
      "text/markdown": [
       "1. 3582\n",
       "2. 896\n",
       "\n",
       "\n"
      ],
      "text/plain": [
       "[1] 3582  896"
      ]
     },
     "metadata": {},
     "output_type": "display_data"
    }
   ],
   "source": [
    "#distance between 1st test instance and 4th training instance is 41.30\n",
    "dim(dismat_tt)\n",
    "#it is 3582*896 Ntest*N"
   ]
  },
  {
   "cell_type": "code",
   "execution_count": 90,
   "id": "b11a754b",
   "metadata": {},
   "outputs": [
    {
     "data": {
      "text/plain": [
       "\n",
       "Call:  cv.glmnet(x = dismat_train, y = c_train$Ges_Class, type.measure = \"deviance\",      nfolds = 10, family = \"binomial\") \n",
       "\n",
       "Measure: Binomial Deviance \n",
       "\n",
       "      Lambda Index Measure      SE Nonzero\n",
       "min 0.002228    51  0.1213 0.02970      36\n",
       "1se 0.004273    44  0.1457 0.02979      24"
      ]
     },
     "metadata": {},
     "output_type": "display_data"
    }
   ],
   "source": [
    "#use this distance info to build a model \n",
    "#use training distance matrix to build model with 10 folds\n",
    "\n",
    "cvfitds=cv.glmnet(dismat_train,c_train$Ges_Class,family='binomial',nfolds=10, type.measure = \"deviance\")\n",
    "cvfitds"
   ]
  },
  {
   "cell_type": "code",
   "execution_count": 91,
   "id": "ec557b13",
   "metadata": {},
   "outputs": [
    {
     "data": {
      "image/png": "[encoded data removed]",
      "text/plain": [
       "plot without title"
      ]
     },
     "metadata": {},
     "output_type": "display_data"
    }
   ],
   "source": [
    "plot(cvfitds)"
   ]
  },
  {
   "cell_type": "markdown",
   "id": "f2ae5ec8",
   "metadata": {},
   "source": [
    "The minimizer lambda would give about ~ 36 non-zero cofficeints with miminal binomial deviance. The minimizer lambda is given below as lambda min."
   ]
  },
  {
   "cell_type": "code",
   "execution_count": 93,
   "id": "21249d14",
   "metadata": {},
   "outputs": [
    {
     "data": {
      "text/plain": [
       "\n",
       "Call:  cv.glmnet(x = dismat_train, y = c_train$Ges_Class, type.measure = \"deviance\",      nfolds = 10, family = \"binomial\") \n",
       "\n",
       "Measure: Binomial Deviance \n",
       "\n",
       "      Lambda Index Measure      SE Nonzero\n",
       "min 0.002228    51  0.1213 0.02970      36\n",
       "1se 0.004273    44  0.1457 0.02979      24"
      ]
     },
     "metadata": {},
     "output_type": "display_data"
    }
   ],
   "source": [
    "cvfitds"
   ]
  },
  {
   "cell_type": "code",
   "execution_count": 94,
   "id": "40806bb8",
   "metadata": {},
   "outputs": [
    {
     "data": {
      "text/html": [
       "<dl class=dl-horizontal>\n",
       "\t<dt>(Intercept)</dt>\n",
       "\t\t<dd>44.4459470129566</dd>\n",
       "\t<dt>V4</dt>\n",
       "\t\t<dd>-0.0535707675870164</dd>\n",
       "\t<dt>V5</dt>\n",
       "\t\t<dd>0</dd>\n",
       "\t<dt>V112</dt>\n",
       "\t\t<dd>-0.0731223906632038</dd>\n",
       "\t<dt>V189</dt>\n",
       "\t\t<dd>-0.0810398027305592</dd>\n",
       "\t<dt>V199</dt>\n",
       "\t\t<dd>0</dd>\n",
       "</dl>\n"
      ],
      "text/latex": [
       "\\begin{description*}\n",
       "\\item[(Intercept)] 44.4459470129566\n",
       "\\item[V4] -0.0535707675870164\n",
       "\\item[V5] 0\n",
       "\\item[V112] -0.0731223906632038\n",
       "\\item[V189] -0.0810398027305592\n",
       "\\item[V199] 0\n",
       "\\end{description*}\n"
      ],
      "text/markdown": [
       "(Intercept)\n",
       ":   44.4459470129566V4\n",
       ":   -0.0535707675870164V5\n",
       ":   0V112\n",
       ":   -0.0731223906632038V189\n",
       ":   -0.0810398027305592V199\n",
       ":   0\n",
       "\n"
      ],
      "text/plain": [
       "(Intercept)          V4          V5        V112        V189        V199 \n",
       "44.44594701 -0.05357077  0.00000000 -0.07312239 -0.08103980  0.00000000 "
      ]
     },
     "metadata": {},
     "output_type": "display_data"
    }
   ],
   "source": [
    "#show sample coefficients\n",
    "coef(cvfitds,s=\"lambda.min\")[c(1,5,6,113,190,200),1]"
   ]
  },
  {
   "cell_type": "code",
   "execution_count": 106,
   "id": "87dad99f",
   "metadata": {},
   "outputs": [
    {
     "data": {
      "text/html": [
       "<ol class=list-inline>\n",
       "\t<li>897</li>\n",
       "\t<li>1</li>\n",
       "</ol>\n"
      ],
      "text/latex": [
       "\\begin{enumerate*}\n",
       "\\item 897\n",
       "\\item 1\n",
       "\\end{enumerate*}\n"
      ],
      "text/markdown": [
       "1. 897\n",
       "2. 1\n",
       "\n",
       "\n"
      ],
      "text/plain": [
       "[1] 897   1"
      ]
     },
     "metadata": {},
     "output_type": "display_data"
    },
    {
     "data": {
      "text/html": [
       "37"
      ],
      "text/latex": [
       "37"
      ],
      "text/markdown": [
       "37"
      ],
      "text/plain": [
       "[1] 37"
      ]
     },
     "metadata": {},
     "output_type": "display_data"
    }
   ],
   "source": [
    "dim(coef(cvfitds,s=\"lambda.min\"))\n",
    "howmanyds= sum(ifelse(coef(cvfitds,s=\"lambda.min\") != 0 , 1,0))\n",
    "\n",
    "#total non zero coeff + 1 intercept\n",
    "\n",
    "howmanyds"
   ]
  },
  {
   "cell_type": "markdown",
   "id": "842f1bfb",
   "metadata": {},
   "source": [
    "37 (36 feature +1 intercept) coefficients are non-zero as shown on the results of \"cvfitds\" as well."
   ]
  },
  {
   "cell_type": "markdown",
   "id": "ef6eb597",
   "metadata": {},
   "source": [
    "#### Predict on test data"
   ]
  },
  {
   "cell_type": "code",
   "execution_count": 114,
   "id": "8f153f86",
   "metadata": {},
   "outputs": [
    {
     "data": {
      "text/plain": [
       "Time difference of 0.1050341 secs"
      ]
     },
     "metadata": {},
     "output_type": "display_data"
    },
    {
     "data": {
      "text/html": [
       "<table>\n",
       "<thead><tr><th></th><th scope=col>0</th><th scope=col>1</th><th scope=col>Sum</th></tr></thead>\n",
       "<tbody>\n",
       "\t<tr><th scope=row>0</th><td>3006</td><td>122 </td><td>3128</td></tr>\n",
       "\t<tr><th scope=row>1</th><td>  23</td><td>431 </td><td> 454</td></tr>\n",
       "\t<tr><th scope=row>Sum</th><td>3029</td><td>553 </td><td>3582</td></tr>\n",
       "</tbody>\n",
       "</table>\n"
      ],
      "text/latex": [
       "\\begin{tabular}{r|lll}\n",
       "  & 0 & 1 & Sum\\\\\n",
       "\\hline\n",
       "\t0 & 3006 & 122  & 3128\\\\\n",
       "\t1 &   23 & 431  &  454\\\\\n",
       "\tSum & 3029 & 553  & 3582\\\\\n",
       "\\end{tabular}\n"
      ],
      "text/markdown": [
       "\n",
       "| <!--/--> | 0 | 1 | Sum |\n",
       "|---|---|---|---|\n",
       "| 0 | 3006 | 122  | 3128 |\n",
       "| 1 |   23 | 431  |  454 |\n",
       "| Sum | 3029 | 553  | 3582 |\n",
       "\n"
      ],
      "text/plain": [
       "     ds_pred\n",
       "      0    1   Sum \n",
       "  0   3006 122 3128\n",
       "  1     23 431  454\n",
       "  Sum 3029 553 3582"
      ]
     },
     "metadata": {},
     "output_type": "display_data"
    }
   ],
   "source": [
    "# predict on test\n",
    "start.time <- Sys.time()\n",
    "\n",
    "ds_prob <-  predict(cvfitds,dismat_tt,type='response', s=\"lambda.min\")\n",
    "ds_pred <- as.integer(ds_prob > ratio)\n",
    "\n",
    "end.time <- Sys.time()\n",
    "time.taken <- end.time - start.time\n",
    "time.taken\n",
    "\n",
    "ds_confusion_mat <- addmargins(table(c_test$Ges_Class, ds_pred ))\n",
    "\n",
    "ds_confusion_mat\n"
   ]
  },
  {
   "cell_type": "code",
   "execution_count": 108,
   "id": "2615e94a",
   "metadata": {},
   "outputs": [
    {
     "data": {
      "text/html": [
       "0.0404801786711334"
      ],
      "text/latex": [
       "0.0404801786711334"
      ],
      "text/markdown": [
       "0.0404801786711334"
      ],
      "text/plain": [
       "[1] 0.04048018"
      ]
     },
     "metadata": {},
     "output_type": "display_data"
    },
    {
     "data": {
      "text/html": [
       "0.959519821328867"
      ],
      "text/latex": [
       "0.959519821328867"
      ],
      "text/markdown": [
       "0.959519821328867"
      ],
      "text/plain": [
       "[1] 0.9595198"
      ]
     },
     "metadata": {},
     "output_type": "display_data"
    }
   ],
   "source": [
    "#testing accuracy\n",
    "dserr =  1- (sum(diag((ds_confusion_mat[1:2,1:2]))) /  ds_confusion_mat[3,3])\n",
    "dserr\n",
    "\n",
    "dsacc= 1- dserr\n",
    "dsacc"
   ]
  },
  {
   "cell_type": "markdown",
   "id": "ffffdc7b",
   "metadata": {},
   "source": [
    "Almost 96 % accuracy is establihed. The accuracy is even better now, compared to the last two models. Inroduction of the nonlinear relationship information via Euclidean distances increased the accuracy."
   ]
  },
  {
   "cell_type": "markdown",
   "id": "4a78e153",
   "metadata": {},
   "source": [
    "### 2c)Comment on the regression coefficients. What do they imply under this new representation setting?"
   ]
  },
  {
   "cell_type": "markdown",
   "id": "9048333c",
   "metadata": {},
   "source": [
    "The distances were treated as a feature matrix.Each feature held distance information, some sort of similarility of the time series.\n",
    "\n",
    "The model was build on the distance info between training instance i and training instance j. This was used as a similarity measure in order to capture the classification. The model provided regression coefficient for these new distance based features. \n",
    "\n",
    "It captured the time series relationship between ith and jth instance, based on how similar(~distant) they were. \n",
    "\n",
    "Then the model was used to predict the test instance's classes. It classified the instances in a way that it checked if the distance between test instance i and training instance j was \"similar\" to  the distance between the time series of the training data i and the time series of the training data j. This distance information established a classification model in the form of a logistic regression model."
   ]
  },
  {
   "cell_type": "markdown",
   "id": "bf35ce55",
   "metadata": {},
   "source": [
    "### 2d) Provide an overall comparison on the results you obtain for each part (over all tasks). You can compare test accuracy of each alternative method you developed."
   ]
  },
  {
   "cell_type": "markdown",
   "id": "8639db16",
   "metadata": {},
   "source": [
    "#### Task1\n",
    "KNN was used to classify instances which is a non-parametric model.\n",
    "There is not much difference in terms of accuracy between the utilized distances.  \n",
    "\n",
    "#### Manhattan distance\n",
    "When the distance between instances (time series) was set to Manhattan, the k value is selected as 3.  Over 95 % accuracy is noted. The prediction took 26.51121 secs.\n",
    "#### Euclidean distance\n",
    "When distance was set to Euclidean, the k value is selected as 2.\n",
    "Almost 95 % acurracy is noted.\n",
    "We got a little bit higher accuracy with the model \"manhattan, K =3\"  than the other \"Euclidean K =2\".\n",
    "It took about 4 seconds to obtain the prediction results.\n",
    "\n",
    "#### Task2\n",
    "#### Logistic regression without penalties: \n",
    "Number of parameters were larger then the number of data points, which is not desirable. \n",
    "Training accuracy: 100 %.\n",
    "Accuracy on test data: 50 %.\n",
    "It overfits to the training data.\n",
    "Too many coefficients are utilized whereas the class#3 is a simple line of x-axis, we would expect the some of the info on the y-z axis to be not effective. Also, it was not a good choice to employ classic logistic regression when we have a data set with less number of instances than features. Some of the features could not be employed while estimating the model, therefore the results may be misleading. In 0.13376 seconds the prediction results were computed. When glmnet was used with lambda= 0 (penalty = 0), then  92% accuracy was noted. 56 features (with nonzero coefficients) + 1 intercept were employed.  It took 0.3740809 seconds.\n",
    "\n",
    "#### Lasso Regression, penalization is used:\n",
    "Before, we had 3*315 = 945 features, we reduced the number of non-zero coefficients with this approach.\n",
    "Now, we have 37 nonzero coefficients +1 intercept.This makes the model less complex and more interpretable.\n",
    "Most information comes from the x-coordinate indexes, which is reasonable consireing the shape of class#3. Many  of the features (coordinate information of the time series) were penalized and got 0 coefficients.\n",
    "Accuracy, in this case, is 92.4 %. It is significantly  increased compared to the first model without penalties.\n",
    "Overfitting is prevented since not all of the features were employed in the model now, some features were penalized and got 0 coefficients. Therefore, the model became less complex (which reduced the risk of overfitting) and it is easier to interpret.\n",
    "In 0.05702496 seconds the prediction results were computed, which is very fast, especially compared to knn.\n",
    "\n",
    "#### Using distance matrices as feature matrices:\n",
    "This model was created using the information about the distance between training instances i and j. Then, the distance between test instance i and training instance j was checked for \"similarity\" to establish a classification model in the form of a logistic regression model. For these new distance-based characteristics which could handle nonlinear relations, regression coefficients were extablished. Model had only 36+1 nonzero coefficient which is far less complicated than the first model in part a. Almost 96 % accuracy is establihed which is the best one we got. \n",
    "It took 0.1050341 seconds to obtain the prediction results.\n",
    "\n",
    "#### KNN is slow to predict. It has to keep track of all training data and find the neighbors in terms of distances which is a computational burden, whereas logistic regression can easily predict once the coefficients are tuned.\n",
    "#### KNN handled nonlinearity better by nature compared to the logistic regression model. Knn had higher accuracy without any extra modification. \n",
    "#### Logistic regression can be tuned to perform better with the introduction of penalties and the use of distance information which could keep nonlinear relations. The accuracy can be increased via these approaches."
   ]
  }
 ],
 "metadata": {
  "kernelspec": {
   "display_name": "R",
   "language": "R",
   "name": "ir"
  },
  "language_info": {
   "codemirror_mode": "r",
   "file_extension": ".r",
   "mimetype": "text/x-r-source",
   "name": "R",
   "pygments_lexer": "r",
   "version": "3.6.1"
  }
 },
 "nbformat": 4,
 "nbformat_minor": 5
}
